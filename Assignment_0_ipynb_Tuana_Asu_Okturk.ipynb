{
  "cells": [
    {
      "cell_type": "markdown",
      "metadata": {
        "id": "view-in-github",
        "colab_type": "text"
      },
      "source": [
        "<a href=\"https://colab.research.google.com/github/tuanaasuokturk/MBC_data_analysis/blob/main/Assignment_0_ipynb_Tuana_Asu_Okturk.ipynb\" target=\"_parent\"><img src=\"https://colab.research.google.com/assets/colab-badge.svg\" alt=\"Open In Colab\"/></a>"
      ]
    },
    {
      "cell_type": "markdown",
      "metadata": {
        "id": "YioJdUgDvB_A"
      },
      "source": [
        "<h1 style=\"font-size: 2.5em; font-weight: bold; margin-top: 0.5em; margin-bottom: 0.5em;\">\n",
        "First steps into Python\n",
        "</h1>"
      ]
    },
    {
      "cell_type": "markdown",
      "metadata": {
        "id": "YKmNcAmzvntI"
      },
      "source": [
        "<div class=\"alert alert-block alert-warning\">\n",
        "<b>Preparing for this assignment:</b>\n",
        "\n",
        "The following resources will help you to get ready to complete this assignment. If you are comfortable programming Python, you can skip this.\n",
        "<ul>\n",
        "    <li>If you do not have experience programming in Python, here is a good tutorial to get you quickly on track: <a href=\"https://cogs18.github.io/intro.html\" target=\"_blank\">Introduction to Python</a> </li>\n",
        "    <li>If you already know other languages and need a technical view of what is special about Python syntax, try <a href=\"https://en.wikipedia.org/wiki/Python_syntax_and_semantics#Indentation\" target=\"_blank\">this</a></li>\n",
        "</ul>\n",
        "</div>"
      ]
    },
    {
      "cell_type": "markdown",
      "metadata": {
        "id": "bYrPLyirvB_K"
      },
      "source": [
        "There are two ways to run Python: either on the cloud (using Google Colab) or locally on your computer using Notebook. Either way if you are reading this, you are probably set to go. Just in case:\n",
        "- To run code on **Google Colab**, you don't need to install anything on your machine since all the computations take place in the cloud.\n",
        "- To run **Python Notebooks** locally, you either need to install Python 3 using Anaconda following [these](https://jupyter.readthedocs.io/en/latest/install.html) instructions or else use [myapps.upf.edu](https://myapps.upf.edu). You will find more detailed instructions in the [course site](https://github.com/wimmerlab/MBC_data_analysis) in GitHub.\n",
        "\n"
      ]
    },
    {
      "cell_type": "markdown",
      "metadata": {
        "id": "NMgb__W0vB_L"
      },
      "source": [
        "# Getting started\n",
        "## Importing libraries\n",
        "The actions you can do with Python code are limitless, so you do not need all the tools at the same time. If you loaded all Python tools at once you would be taking up all your computer resources! That is why Python works with **libraries**.  \n",
        "\n",
        "One library is a collection of functions that allows you to perform many actions.   \n",
        "In other words, they have snippets of code created and tested by other people that you can quickly reuse, so you do not need to work as much.\n",
        "\n",
        "Every time you start a new project, you will have to **import** the libraries you will use.  \n",
        "The ones we will need for this assignment are:\n",
        "\n",
        "[Numpy](https://en.wikipedia.org/wiki/NumPy) for manipulating numerical data.   \n",
        "[Matplotlib](https://en.wikipedia.org/wiki/Matplotlib) for plotting graphics.\n",
        "\n",
        "These are the default two libraries you will use on basicalle ALL your notebooks. Explore the links if you want to know more about them! :)\n",
        "\n",
        "Let's start importing!\n",
        "\n",
        "PS: remember to **execute** each of the cells with code below by clicking in the cell and press \"Shift + Enter\""
      ]
    },
    {
      "cell_type": "code",
      "execution_count": null,
      "metadata": {
        "ExecuteTime": {
          "end_time": "2022-01-17T22:28:18.888712Z",
          "start_time": "2022-01-17T22:28:18.630790Z"
        },
        "id": "NA2nT_F-vB_O"
      },
      "outputs": [],
      "source": [
        "import numpy as np  # everytime we want to use a function from numpy, we will put np. before, e.g.: np.array()\n",
        "import matplotlib.pyplot as plt  # same for function from matplotlib.pyplot, we will address them with plt. , e.g.: plt.plot()"
      ]
    },
    {
      "cell_type": "markdown",
      "metadata": {
        "id": "f8KChA8y-x6z"
      },
      "source": [
        "We imported these two libraries, and we gave them shorter names to simplify our code. From now on, we can use the code contained in the library **numpy** by prefixing it with `np.` (for instance `np.pi` will give us the numerical value of the number $\\pi$), and the code of the library **matplotlib.pyplot** with `plt` (for example: `plt.plot`)"
      ]
    },
    {
      "cell_type": "markdown",
      "metadata": {
        "id": "efSDOve8vB_P"
      },
      "source": [
        "Note that, in the first line of the code, there is some text after a `#`?   \n",
        "This is a **comment**. Comments are really useful if someone else has to read your code. In a Python Notebook comments can come either after `#` in *code cells* or directly in a *markdown cell* which is entirely text (see all cells before this first *code cell*)\n",
        "\n",
        "It will be much easier for other readers (and for you after some time) to understand your code if you comment your codes.\n",
        "**Do not be lazy and comment!**.  \n",
        "\n",
        "[Here](https://stackabuse.com/commenting-python-code/) you have some advice to do it wisely.\n"
      ]
    },
    {
      "cell_type": "markdown",
      "metadata": {
        "id": "Gk18S48qvB_R"
      },
      "source": [
        "## Loading the data"
      ]
    },
    {
      "cell_type": "markdown",
      "metadata": {
        "id": "4h_yjenXvB_S"
      },
      "source": [
        "When running data analyses, one of the first things to do is to load the data into our programming environment so we can manipulate it. Data will come in a specific format depending on how it was generated and saved. You will generally need to obtain this information from the person who generated the data.\n",
        "\n",
        "One common format you might get the data in is in a tabular format, with measurements organized in a fixed number of rows and columns (a *matrix*). Let's load one of these datasets.\n",
        "\n",
        "Now, you need to have the file: \"Task_Perceptual_simple.csv\" in the same directory as this file, or else know the exact path to this file. Below, we read the file from the online GitHub repository (using an URL). The line that is commented out shows how to read the file from a local directory.  \n",
        "  \n",
        "**One first question, what is in this file? (Hint: open it in a text editor or in GitHub)**"
      ]
    },
    {
      "cell_type": "code",
      "execution_count": null,
      "metadata": {
        "ExecuteTime": {
          "end_time": "2022-01-17T22:28:28.542602Z",
          "start_time": "2022-01-17T22:28:28.519042Z"
        },
        "id": "p4QYIVfFvB_S"
      },
      "outputs": [],
      "source": [
        "#data = np.genfromtxt(\"Task_Perceptual_simple.csv\", delimiter=',', skip_header=1) #use the function genfromtxt from numpy to load the contents of the local file\n",
        "data = np.genfromtxt(\"https://raw.githubusercontent.com/wimmerlab/MBC_data_analysis/main/A0_PythonBasics/Task_Perceptual_simple.csv\", delimiter=',', skip_header=1) #load the file from github"
      ]
    },
    {
      "cell_type": "markdown",
      "metadata": {
        "id": "gtcmnyGzvB_S"
      },
      "source": [
        "If there are no errors.... congratulations! You have imported the data. Let's take a look!\n",
        "### Inspecting arrays"
      ]
    },
    {
      "cell_type": "code",
      "execution_count": null,
      "metadata": {
        "ExecuteTime": {
          "end_time": "2022-01-17T22:28:29.826144Z",
          "start_time": "2022-01-17T22:28:29.814946Z"
        },
        "id": "NHAhpYh7vB_T",
        "colab": {
          "base_uri": "https://localhost:8080/"
        },
        "outputId": "d98083ad-1773-4663-9c6d-a9b0f784e379"
      },
      "outputs": [
        {
          "output_type": "execute_result",
          "data": {
            "text/plain": [
              "array([[-10.      ,   0.      ,  -5.      ,  -5.2122  ,   1.      ],\n",
              "       [-10.      , -10.      , -10.      ,  -8.21768 ,   1.      ],\n",
              "       [ 20.      ,  10.      ,  15.      , -17.93416 ,   1.      ],\n",
              "       ...,\n",
              "       [ 10.      , -10.      ,   0.      ,  12.234593,  14.      ],\n",
              "       [  0.      ,  10.      ,   5.      ,   8.8409  ,  14.      ],\n",
              "       [-20.      ,   0.      , -10.      ,   9.943002,  14.      ]])"
            ]
          },
          "metadata": {},
          "execution_count": 136
        }
      ],
      "source": [
        "data"
      ]
    },
    {
      "cell_type": "markdown",
      "metadata": {
        "id": "FZxw7LyPvB_T"
      },
      "source": [
        "`data` is a matrix, how could you tell its dimensions (number of rows and colums)?\n",
        "(Note: if you edit your code in environments such as Spyder instead of Notebook, you will find tools to explore directly all the variables created in a session)"
      ]
    },
    {
      "cell_type": "markdown",
      "metadata": {
        "id": "3TakLxKWvB_V"
      },
      "source": [
        "Don't worry if you don't know right away... A really important thing you will learn as you are coding is to do \"efficient\" Google searches and to ask ChatGPT for help.\n",
        "Everyone -- including your teachers when creating these templates -- have to search online from time to time when coding.  \n",
        "***Do not get stressed about it!***  \n",
        "At the beginning, it will take a long time to find simple stuff but as you keep coding, you will get used to\n",
        "the language and you will learn what are the keywords you need to use for every search.\n",
        "\n",
        "What if you start by searching: **\"dimensions numpy matrix\"** in Google or ask ChatGPT?\n",
        "\n",
        "Write the command that results from your search in the next cell:"
      ]
    },
    {
      "cell_type": "code",
      "execution_count": null,
      "metadata": {
        "ExecuteTime": {
          "end_time": "2022-01-17T22:28:31.557408Z",
          "start_time": "2022-01-17T22:28:31.551090Z"
        },
        "id": "NTAMI1gkvB_V",
        "colab": {
          "base_uri": "https://localhost:8080/"
        },
        "outputId": "33d39786-8cce-4892-e9e9-968d9dc9d73a"
      },
      "outputs": [
        {
          "output_type": "stream",
          "name": "stdout",
          "text": [
            "(13503, 5)\n"
          ]
        }
      ],
      "source": [
        "print(data.shape)"
      ]
    },
    {
      "cell_type": "markdown",
      "metadata": {
        "id": "0f-NnGEgB6pR"
      },
      "source": [
        "Now let's see if you did it right. The first number should tell you the number of rows, while the second number should tell you the number of columns.\n",
        "\n",
        "Here is a little check that we can have our program do on our data using the command `assert`. This is useful to **debug** our code, when we want to check that things are as we want them to be in the process of developing the code. In our course, we will use this also to give you feedback as to whether you are generating reasonable code or if there is some error to correct. Try it now by replacing the placeholder `???` in the cell below with your answer for getting the matrix dimensions (cell above). Then execute the cell with *Shift + Enter*"
      ]
    },
    {
      "cell_type": "code",
      "execution_count": null,
      "metadata": {
        "ExecuteTime": {
          "end_time": "2022-01-17T22:28:33.362398Z",
          "start_time": "2022-01-17T22:28:33.357673Z"
        },
        "id": "oxdMgVM7BuL8"
      },
      "outputs": [],
      "source": [
        "assert data.shape[0] == 13503"
      ]
    },
    {
      "cell_type": "markdown",
      "metadata": {
        "id": "s8zvDVUYC4iv"
      },
      "source": [
        "If you did not get any output back, then you are good. If you did get a warning, then your code has some problem."
      ]
    },
    {
      "cell_type": "markdown",
      "metadata": {
        "id": "EFD8NyYhMrBd"
      },
      "source": [
        "Ok, so now is the good time to tell you about the data! This is the behavioral data from one experiment in an influential paper studying the **confirmation bias in perceptual decisions**, by Talluri and colleagues ([link here](https://www.sciencedirect.com/science/article/pii/S0960982218309825)). The paradigm is illustrated in this [figure](https://ars.els-cdn.com/content/image/1-s2.0-S0960982218309825-gr1_lrg.jpg):\n",
        "Each row of the array correspond to one trial in the dataset (the array concatenantes data from all participants). Each column represents a different variable in the task, respectively: the orientation of the first stimulus, the orientation of the second stimulus, the average orientation over both stimuli, the orientation provided by the subject at the end of the trial and the subject id. Note that the data here corresponds to the subset of trials where an intermediate judgment is provided and the subject was requested to provided the orientation at the end of the trial."
      ]
    },
    {
      "cell_type": "markdown",
      "metadata": {
        "id": "wQj_3D_5vB_V"
      },
      "source": [
        "## Subsetting"
      ]
    },
    {
      "cell_type": "markdown",
      "metadata": {
        "id": "5JqPZPPPDFYU"
      },
      "source": [
        "A fundamental operation we will need to do on our data is to select parts of the data, some rows or some columns, to operate specifically on them. This selection of a subset of our data is what we call *subsetting*."
      ]
    },
    {
      "cell_type": "markdown",
      "metadata": {
        "id": "3Rlwxp8WvB_V"
      },
      "source": [
        "Just to get used to it, ***extract the first 10 rows of the 1st and 2nd column*** of your array **data**.   \n",
        "Be careful, in Python the numbers start at 0, so the first row has the index 0.  \n",
        "You can google by yourself how to do it or use [this](https://jakevdp.github.io/PythonDataScienceHandbook/02.02-the-basics-of-numpy-arrays.html) online handbook.   \n",
        "Write the solution in the next cell.  "
      ]
    },
    {
      "cell_type": "code",
      "execution_count": null,
      "metadata": {
        "ExecuteTime": {
          "end_time": "2022-01-17T22:28:35.692122Z",
          "start_time": "2022-01-17T22:28:35.682108Z"
        },
        "id": "MiA52d7ZvB_W",
        "colab": {
          "base_uri": "https://localhost:8080/"
        },
        "outputId": "a424e5be-0d5f-4dde-d293-ae4e4c697cb6"
      },
      "outputs": [
        {
          "output_type": "stream",
          "name": "stdout",
          "text": [
            "[[-10.   0.]\n",
            " [-10. -10.]\n",
            " [ 20.  10.]\n",
            " [-20.  10.]\n",
            " [ 20. -10.]\n",
            " [-20.   0.]\n",
            " [-20. -20.]\n",
            " [  0.  10.]\n",
            " [-20.  10.]\n",
            " [-10. -20.]]\n"
          ]
        }
      ],
      "source": [
        "subset = data[:10, :2]\n",
        "print(subset)"
      ]
    },
    {
      "cell_type": "markdown",
      "metadata": {
        "id": "pEMvi9xuvB_W"
      },
      "source": [
        "But, what are these numbers? Well, you will explore them in depth in the next assignments.   \n",
        "For now, we are just practicing basic skills, so it is enough to know that this is a psychophysics dataset of a perceptual decision making task where subjects have to estimate the average motion direction of two subsequent stimuli.   \n",
        "Each row is one ***trial***, the first column contains the motion direction of the first stimulus ***x1*** and the second column the motion direction of stimulus ***x2***.  \n",
        "Their units are degrees.\n",
        "***What is the range of these values?***  \n",
        "Hint: google for minimum and maximum values\n"
      ]
    },
    {
      "cell_type": "code",
      "execution_count": null,
      "metadata": {
        "ExecuteTime": {
          "end_time": "2022-01-17T22:28:36.667153Z",
          "start_time": "2022-01-17T22:28:36.660580Z"
        },
        "id": "rs5mqzvVvB_W",
        "colab": {
          "base_uri": "https://localhost:8080/"
        },
        "outputId": "51942430-4fe8-4c29-93b0-5275c24cc871"
      },
      "outputs": [
        {
          "output_type": "stream",
          "name": "stdout",
          "text": [
            "20.0\n",
            "-20.0\n",
            "40.0\n"
          ]
        }
      ],
      "source": [
        "max_value = np.max(subset)\n",
        "min_value = np.min(subset)\n",
        "print(max_value)\n",
        "print(min_value)\n",
        "range = max_value - min_value\n",
        "print(range)"
      ]
    },
    {
      "cell_type": "markdown",
      "metadata": {
        "id": "1xHeCgWJMrBj"
      },
      "source": [
        "The third column of the data is the average of x1 and x2, ***xavg***. Check is this is actually true by recomputing the avearage and comparing it to the third column."
      ]
    },
    {
      "cell_type": "code",
      "execution_count": null,
      "metadata": {
        "colab": {
          "base_uri": "https://localhost:8080/"
        },
        "id": "FdvC4KffMrBk",
        "outputId": "6c969246-77d9-45ef-a825-b298e363444e"
      },
      "outputs": [
        {
          "output_type": "stream",
          "name": "stdout",
          "text": [
            "[0. 0. 0. ... 0. 0. 0.]\n",
            "0.0\n"
          ]
        }
      ],
      "source": [
        "# create vector as average of first two columns\n",
        "xavg_recomputed = (data[:, 0] + data[:, 1]) / 2\n",
        "\n",
        "# difference with third column\n",
        "diff = xavg_recomputed - data[:, 2]\n",
        "print(diff)\n",
        "\n",
        "# maximum absolute difference (should be 0 IF AND ONLY IF all differences are zero) - NOTE: we could also use boolean arrays which are introduced below\n",
        "max_abs_diff = np.abs(diff).max()\n",
        "print(max_abs_diff)"
      ]
    },
    {
      "cell_type": "markdown",
      "metadata": {
        "id": "yuCnWIATvB_X"
      },
      "source": [
        "## Subsetting with booleans"
      ]
    },
    {
      "cell_type": "markdown",
      "metadata": {
        "id": "xzCi8nVUvB_X"
      },
      "source": [
        "Sometimes it is convenient to use [booleans]().\n",
        "This is typically just another Python array but, instead of containing numbers, it contains `True` and `False`. If you use a boolean to index another array you just get the values of this array that correspond to `True` values in the boolean.  \n",
        "For example:\n",
        "\n",
        "```\n",
        "matrix = np.array([1, 2, 3, 4])\n",
        "boolean = np.array([True, False, True, True])\n",
        "```\n",
        "\n",
        "If you apply the boolean to index the matrix this way\n",
        "```\n",
        "matrix[boolean]\n",
        "```\n",
        "you get a subset of the original array `matrix` only with corresponding `True` values in `boolean`:\n",
        "```\n",
        "array([1, 3, 4])\n",
        "```\n",
        "\n",
        "A boolean is something really simple to create, you just need to specify a [condition](https://www.w3schools.com/python/python_conditions.asp), for instance:\n",
        "\n",
        "```\n",
        "matrix = np.array([1, 1, 2, 2])\n",
        "boolean = matrix==2\n",
        "```\n",
        "(notice the difference between `=`, an assignment, and `==`, a condition)\n",
        "\n",
        "The boolean then will be:\n",
        "\n",
        "```\n",
        "array([False, False,  True,  True])\n",
        "```\n",
        "which indicates in what positions of array **matrix** the condition `==2` is satisfied"
      ]
    },
    {
      "cell_type": "markdown",
      "metadata": {
        "id": "W_qd39GivB_X"
      },
      "source": [
        "Let's now try this hands-on!\n",
        "\n",
        "The 5th column of the matrix contains an integer number that identifies each specific subject that participated in the study. Let's now create a few new [variables](https://realpython.com/python-variables/) :\n",
        "\n",
        "1.   Create the variable `nSubject` with the number of subjects that performed this task (Hint: Google **\"python unique\"**)\n",
        "2.   Create the boolean `bool7` to mark the rows obtained from Subject #7\n",
        "3.   Using `bool7` create the variable `subj7` that includes only the specific data of Subject #7\n"
      ]
    },
    {
      "cell_type": "code",
      "execution_count": null,
      "metadata": {
        "ExecuteTime": {
          "end_time": "2022-01-17T22:28:39.101299Z",
          "start_time": "2022-01-17T22:28:39.087732Z"
        },
        "id": "hfPeEFKTvB_X",
        "colab": {
          "base_uri": "https://localhost:8080/"
        },
        "outputId": "291246a1-6401-4528-80f1-fc3ef6b7a647"
      },
      "outputs": [
        {
          "output_type": "stream",
          "name": "stdout",
          "text": [
            "number of subjects:  14\n"
          ]
        }
      ],
      "source": [
        "# 5th column = subject IDs\n",
        "subject_list = data[:, 4].astype(int)\n",
        "\n",
        "# number of elements in that list (corresponds to the number of subjects)\n",
        "nSubject = np.unique(subject_list).size\n",
        "\n",
        "print(\"number of subjects: \", nSubject)"
      ]
    },
    {
      "cell_type": "code",
      "execution_count": null,
      "metadata": {
        "id": "_KPS36qbMrBl"
      },
      "outputs": [],
      "source": [
        "# create boolean array that is true for rows corresponding to subject 7\n",
        "bool7 = (subject_list == 7)\n",
        "\n",
        "# select data for subject 7 (i.e corresponding rows)\n",
        "subj7 = data[bool7, :]"
      ]
    },
    {
      "cell_type": "code",
      "execution_count": null,
      "metadata": {
        "ExecuteTime": {
          "end_time": "2022-01-17T22:28:40.053043Z",
          "start_time": "2022-01-17T22:28:40.044544Z"
        },
        "colab": {
          "base_uri": "https://localhost:8080/"
        },
        "id": "R0sPRDvEMrBm",
        "outputId": "1eea1694-62c0-492d-fd71-b9919fad356a"
      },
      "outputs": [
        {
          "output_type": "execute_result",
          "data": {
            "text/plain": [
              "(1000, 5)"
            ]
          },
          "metadata": {},
          "execution_count": 144
        }
      ],
      "source": [
        "subj7.shape"
      ]
    },
    {
      "cell_type": "code",
      "execution_count": null,
      "metadata": {
        "ExecuteTime": {
          "end_time": "2022-01-17T22:28:40.854177Z",
          "start_time": "2022-01-17T22:28:40.844388Z"
        },
        "id": "KLRDlnxMEser",
        "colab": {
          "base_uri": "https://localhost:8080/"
        },
        "outputId": "e452c72e-3056-4b76-b59f-13cbac9ba0ec"
      },
      "outputs": [
        {
          "output_type": "stream",
          "name": "stdout",
          "text": [
            "1000\n"
          ]
        }
      ],
      "source": [
        "assert nSubject == 14, \"nSubject is incorrect\"\n",
        "assert np.sum(bool7) == 1000\n",
        "assert np.shape(subj7)[0] == sum(bool7)\n",
        "assert np.shape(subj7)[1] == 5\n",
        "print(np.sum(bool7))"
      ]
    },
    {
      "cell_type": "markdown",
      "metadata": {
        "id": "fikWivJPGpGX"
      },
      "source": [
        "If you ran the previous cell and it did not complain, you did a great job! If not, try running the different ```assert``` commands separately to debug more specifically your problem. **Remember that by preceding a whole sentence with a # you turn it into a comment and it is not executed as code!**"
      ]
    },
    {
      "cell_type": "markdown",
      "metadata": {
        "id": "QyXVjvdCH7fi"
      },
      "source": [
        "By the way, what is ```np.sum(bool7)```?\n",
        "\n"
      ]
    },
    {
      "cell_type": "markdown",
      "metadata": {
        "id": "kpBdZJd7MrBm"
      },
      "source": [
        "<u>Answer</u>: 1000"
      ]
    },
    {
      "cell_type": "markdown",
      "metadata": {
        "id": "RHBuyA_JvB_X"
      },
      "source": [
        "# Functions"
      ]
    },
    {
      "cell_type": "markdown",
      "metadata": {
        "id": "3HeDtvLovB_Y"
      },
      "source": [
        "Sometimes, in the libraries that we are using we do not have the specific function that we need.  \n",
        "When that is the case, we have to create it by ourselves.  \n",
        "Suppose, for instance, that we want to calculate the distance between the stimulus average (the third column of our data) and the response of the participant (stored in the forth column of our data) to get a measure of error. Distances can often be calculated as a mere difference, but here we are dealing with angles on a circle so that we have to take into account that the circle wraps around. We need a specific function to deal with this.\n",
        "The function will be called ***circdist***.  "
      ]
    },
    {
      "cell_type": "code",
      "execution_count": null,
      "metadata": {
        "ExecuteTime": {
          "end_time": "2022-01-17T22:28:43.825927Z",
          "start_time": "2022-01-17T22:28:43.820702Z"
        },
        "id": "1FBwZTEEvB_Z"
      },
      "outputs": [],
      "source": [
        "def circdist(angles1, angles2): # define the name and set the arguments between parentheses\n",
        "    \"\"\"\n",
        "    Calculate the circular distance between two angles.\n",
        "\n",
        "    Parameters:\n",
        "        angles1 (float): First angle. Scalar or array.\n",
        "        angles2 (float): First angle. Scalar or array.\n",
        "\n",
        "    Returns:\n",
        "        float: Angle difference(s).\n",
        "    \"\"\"\n",
        "    angle_diff = angles2 - angles1    # angle difference\n",
        "    angle_diff = angle_diff  / 180 * np.pi # convert to radian\n",
        "    output = np.angle(np.exp(1j * angle_diff))  # mathematical operation to get the circular distance\n",
        "    output = output / np.pi * 180   # convert back to degrees\n",
        "    return output  # return the circular distance in radians"
      ]
    },
    {
      "cell_type": "markdown",
      "metadata": {
        "id": "DsmyFLvLvB_Z"
      },
      "source": [
        "In this case, the operation we are performing in the function is quite complex but the structure of the code is very simple. Check it up carefully: the command **def**, the name of the function with arguments within parenthesis, the colon at the end of the line, the indentation for all commands that define the function and finally the **return** command with the result that the function returns. You can learn [here](https://www.tutorialspoint.com/python/python_functions.htm) more about functions in Python.\n",
        "\n",
        "**Now use the circdist function to get the circular distance between the stimulus average and the response of the subject**. We will call this **error** as participants were supposed to respond the exact value of the target so any deviation from target is an \"error\".\n",
        "Hint: use the link above and apply the \"calling a function\" to this specific case."
      ]
    },
    {
      "cell_type": "code",
      "execution_count": null,
      "metadata": {
        "colab": {
          "base_uri": "https://localhost:8080/"
        },
        "id": "top5-I07MrBr",
        "outputId": "70065dd6-5007-4893-9929-eb02cf338fd9"
      },
      "outputs": [
        {
          "output_type": "stream",
          "name": "stdout",
          "text": [
            "-0.2122000000000002\n"
          ]
        }
      ],
      "source": [
        "# distance between stimulus average and response for the first trial\n",
        "print(err[0])"
      ]
    },
    {
      "cell_type": "code",
      "execution_count": null,
      "metadata": {
        "ExecuteTime": {
          "end_time": "2022-01-17T22:28:44.715661Z",
          "start_time": "2022-01-17T22:28:44.694283Z"
        },
        "id": "naypCp2DvB_a",
        "colab": {
          "base_uri": "https://localhost:8080/"
        },
        "outputId": "ed7a1da4-138d-4f2e-b888-758f2870a41f"
      },
      "outputs": [
        {
          "output_type": "stream",
          "name": "stdout",
          "text": [
            "[ -0.2122     1.78232  -32.93416  ...  12.234593   3.8409    19.943002]\n"
          ]
        }
      ],
      "source": [
        "# array representing the distance between stimulus average and response for all trials\n",
        "err = circdist(data[:, 2], data[:, 3])\n",
        "print(err)"
      ]
    },
    {
      "cell_type": "markdown",
      "metadata": {
        "id": "LyxsN_yIvB_a"
      },
      "source": [
        "The circular distance between the target and the response (error) could be a really useful measure to add to our matrix, right? That way we do not need to calculate it everytime.  \n",
        "\n",
        "**Now try to add it as an extra column to the matrix**  *data* using the command `np.column_stack`.\n",
        "You already have the tools to start flying alone (copilot, chatgpt, google, matrix subsetting, intuition...)!   \n",
        "Do not be afraid! Try things!  \n",
        "Let the \"I am going to mess it up fear\" go away! If, by any weird chance, you \"destroy\" your matrix, you just have to go to the top of this page and run everyting again, it will just take 1 second! Try it now."
      ]
    },
    {
      "cell_type": "code",
      "execution_count": null,
      "metadata": {
        "ExecuteTime": {
          "end_time": "2022-01-17T22:28:46.531503Z",
          "start_time": "2022-01-17T22:28:46.525933Z"
        },
        "id": "7fyFSs88vB_b"
      },
      "outputs": [],
      "source": [
        "data = np.column_stack((data, err))"
      ]
    },
    {
      "cell_type": "code",
      "execution_count": null,
      "metadata": {
        "ExecuteTime": {
          "end_time": "2022-01-17T22:28:47.196004Z",
          "start_time": "2022-01-17T22:28:47.190695Z"
        },
        "id": "iLbTrFi7KXgX"
      },
      "outputs": [],
      "source": [
        "assert data.shape[1] == 6"
      ]
    },
    {
      "cell_type": "markdown",
      "metadata": {
        "id": "1PROUGyuvB_b"
      },
      "source": [
        "Great! Now you have one more column in your data array, which contains the angular error of responses in each trial. This is the last column of your array, and you can address that with the index \"-1\" in Python, so now `data[:,-1]` contains the values in **error**"
      ]
    },
    {
      "cell_type": "markdown",
      "metadata": {
        "id": "Okm4wLQdvB_b"
      },
      "source": [
        "# Plotting"
      ]
    },
    {
      "cell_type": "markdown",
      "metadata": {
        "id": "EeIatp-BvB_b"
      },
      "source": [
        "Let's see how the errors look like!  \n",
        "According to the literature they should follow a [Gaussian](https://en.wikipedia.org/wiki/Normal_distribution) distribution around 0.  \n",
        "The visualization tool that best fits what we need is a [histogram](https://en.wikipedia.org/wiki/Histogram).  \n",
        "Use matplotlib to plot a [histogram](https://matplotlib.org/3.3.3/api/_as_gen/matplotlib.pyplot.hist.html) of the new column of your matrix.\n",
        "It would be nice if you could also plot a red vertical line at the mean value of errors and see if the results are in line with the assumption.  \n",
        "\n"
      ]
    },
    {
      "cell_type": "code",
      "execution_count": null,
      "metadata": {
        "ExecuteTime": {
          "end_time": "2022-01-17T22:28:50.223890Z",
          "start_time": "2022-01-17T22:28:49.943220Z"
        },
        "id": "dXzDQOelvB_b",
        "scrolled": true,
        "colab": {
          "base_uri": "https://localhost:8080/",
          "height": 449
        },
        "outputId": "483130b2-0a0e-40a4-f694-75c7d0e68c43"
      },
      "outputs": [
        {
          "output_type": "display_data",
          "data": {
            "text/plain": [
              "<Figure size 640x480 with 1 Axes>"
            ],
            "image/png": "[encoded data removed]"
          },
          "metadata": {}
        }
      ],
      "source": [
        "import matplotlib.pyplot as plt\n",
        "import numpy as np\n",
        "\n",
        "# plot histogram with 100 bin counts\n",
        "err = circdist(data[:,2], data[:,3])   # use full dataset\n",
        "plt.hist(err, bins=100)\n",
        "# add a red vertical line at the mean error (null error)\n",
        "mean_error = np.mean(err)\n",
        "plt.axvline(mean_error, color='red');\n",
        "\n",
        "# add axis labels\n",
        "plt.xlabel('behavioral error');\n",
        "plt.ylabel('trial count');"
      ]
    },
    {
      "cell_type": "markdown",
      "metadata": {
        "id": "FSE3w4qZvB_b"
      },
      "source": [
        "# For loop"
      ]
    },
    {
      "cell_type": "markdown",
      "metadata": {
        "id": "DttBppekvB_c"
      },
      "source": [
        "Now you will learn a really powerful tool: the ***for loop***.   \n",
        "This tool allows you to make iterations, so you can run the same commands, over and over again without\n",
        "having to write new code for each iteration.  \n",
        "\n",
        "Check out the next two cells to understand why this is so useful:"
      ]
    },
    {
      "cell_type": "code",
      "execution_count": null,
      "metadata": {
        "ExecuteTime": {
          "end_time": "2022-01-17T22:29:10.998292Z",
          "start_time": "2022-01-17T22:29:10.989789Z"
        },
        "id": "zCLZsWkfvB_d",
        "colab": {
          "base_uri": "https://localhost:8080/"
        },
        "outputId": "3708922b-5753-4cc1-906b-7ab20be4eae2"
      },
      "outputs": [
        {
          "output_type": "stream",
          "name": "stdout",
          "text": [
            "orange\n",
            "apple\n",
            "banana\n",
            "tomato\n",
            "lime\n",
            "lemon\n"
          ]
        }
      ],
      "source": [
        "# print all the values in a list without using a for loop\n",
        "fruits=['orange', 'apple', 'banana', 'tomato', 'lime', 'lemon']\n",
        "print(fruits[0])\n",
        "print(fruits[1])\n",
        "print(fruits[2])\n",
        "print(fruits[3])\n",
        "print(fruits[4])\n",
        "print(fruits[5])"
      ]
    },
    {
      "cell_type": "code",
      "execution_count": null,
      "metadata": {
        "ExecuteTime": {
          "end_time": "2022-01-17T22:29:11.918130Z",
          "start_time": "2022-01-17T22:29:11.911799Z"
        },
        "id": "9eX6eSnGvB_d",
        "colab": {
          "base_uri": "https://localhost:8080/"
        },
        "outputId": "a16dc0b7-1f2a-42c7-a49a-7e5325353c59"
      },
      "outputs": [
        {
          "output_type": "stream",
          "name": "stdout",
          "text": [
            "orange\n",
            "apple\n",
            "banana\n",
            "tomato\n",
            "lime\n",
            "lemon\n"
          ]
        }
      ],
      "source": [
        "# print all the values in a list using a for loop\n",
        "for f in fruits:\n",
        "    print(f)"
      ]
    },
    {
      "cell_type": "markdown",
      "metadata": {
        "id": "-BjPdVHzvB_f"
      },
      "source": [
        "You can easily see that **the second cell is a much more efficient way to code**. It is not only shorter, but it is less error-prone. Errors in the code (**bugs**) are the worst nightmare of a data analyst. Again, note the **indentation** of the line containing `print(f)`. Try removing the indenting spaces. Can you then run that cell?\n",
        "\n",
        "In this case one only needs to write 6 lines of code for the first cell to get all the fruits, but what if we had 1,000 fruits?... Then we would have had to write 1,000 lines!.\n",
        "On the other hand, in the second cell we just needed two lines of code, both for 6 and 1,000 fruits.\n",
        "Everytime you see yourself repeating the same code just to change a small detail, remember you can use [for loops](https://www.w3schools.com/python/python_for_loops.asp)\n"
      ]
    },
    {
      "cell_type": "markdown",
      "metadata": {
        "id": "VfdtkB30vB_f"
      },
      "source": [
        "Let's use the foor loop in our dataset!\n",
        "***Make the error histogram for each subject***  \n",
        "\n",
        "Hint 1: Take advantage of the code you used before to get the data of Subject #7, and now generalize to all other subjects.  \n",
        "\n",
        "Hint 2: To iterate through subjects you need to get the list of indexes for the subjects. To get that list you can use [`np.unique()`](https://docs.scipy.org/doc/numpy/reference/generated/numpy.unique.html) if you are not sure about how many subjects there are, or else use [`np.arange()`](https://docs.scipy.org/doc/numpy/reference/generated/numpy.arange.html) to get a range of values. Now you are ready to start your for loop.\n",
        "\n",
        "Hint 3: write: `plt.figure()` at the beginning of every iteration so you generate one histogram for each subject.\n",
        "\n",
        "Hint 4: Remember to enter 4 indenting spaces in front of the commands within the for loop!\n"
      ]
    },
    {
      "cell_type": "code",
      "execution_count": null,
      "metadata": {
        "ExecuteTime": {
          "end_time": "2022-01-17T22:29:20.328831Z",
          "start_time": "2022-01-17T22:29:19.476080Z"
        },
        "id": "ndyDfBR2vB_f",
        "colab": {
          "base_uri": "https://localhost:8080/",
          "height": 1000
        },
        "outputId": "66050dbe-ecfc-4cb6-de39-243e3bbdce51"
      },
      "outputs": [
        {
          "output_type": "display_data",
          "data": {
            "text/plain": [
              "<Figure size 1400x1600 with 15 Axes>"
            ],
            "image/png": "[encoded data removed]"
          },
          "metadata": {}
        }
      ],
      "source": [
        "# create plot with one subplot per subject\n",
        "nColumns = 3\n",
        "nRows = int(np.ceil(nSubject / nColumns))\n",
        "fig, ax = plt.subplots(nRows, nColumns, figsize=(14, 16))\n",
        "\n",
        "# Loop through subjects\n",
        "for sb in subject_ids:   # <<< fill in\n",
        "\n",
        "    # define boolean array that is true for rows corresponding to this subject\n",
        "    trials = (subject_list == sb)   # <<< fill in\n",
        "\n",
        "    # subplot counter (integer starting at 0)\n",
        "    i = int(sb-1)\n",
        "    iCol = i % nColumns   # corresponding column\n",
        "    iRow = i // nColumns  # corresponding row\n",
        "\n",
        "    # compute error for this subject\n",
        "    err = circdist(data[trials, 2], data[trials, 3])\n",
        "\n",
        "    # add histogram for this subject\n",
        "    ax[iRow, iCol].hist(err, bins=40)   # <<< fill in\n",
        "\n",
        "    # add vertical line (circular mean)\n",
        "    mean_error = np.angle(np.mean(np.exp(1j * err * np.pi/180))) * 180/np.pi  # <<< fill in\n",
        "    ax[iRow, iCol].axvline(mean_error, color='red')\n",
        "\n",
        "    # add label and title\n",
        "    ax[iRow, iCol].set_xlim((-100, 100))\n",
        "    ax[iRow, iCol].set_ylim((0, 120))\n",
        "    ax[iRow, iCol].set_xticks([-100, -50, 0, 50, 100])\n",
        "    ax[iRow, iCol].set_ylabel('trial count')\n",
        "    ax[iRow, iCol].set_title(f'Subject: {int(sb)}')\n",
        "\n",
        "plt.tight_layout()\n",
        "plt.show()\n"
      ]
    },
    {
      "cell_type": "markdown",
      "metadata": {
        "id": "phqVma93MnvJ"
      },
      "source": [
        "# Panda DataFrames"
      ]
    },
    {
      "cell_type": "markdown",
      "metadata": {
        "id": "rwI2fbUxMria"
      },
      "source": [
        "You are now ready to do manipulations and graphical representations on your data, using the basic features of the **numpy** and **matplotplib** packages.\n",
        "\n",
        "However, in modern data analyses with Python it is common to use another library to organize better the data and provide more robust and intuitive subsetting and manipulation of the data. This is the [pandas](https://pandas.pydata.org/docs/getting_started/index.html#getting-started) library, and it introduces the concept of **DataFrame**.\n",
        "\n",
        "Dataframes also organize the data in rows and columns, but they naturally index them with names, rather than index numbers. Each row will generally correspond to one observation (here, on trial), and each column corresponds to one variable (stimulus, response, subject identity, etc.). This way, we can write our code referring to column `'error'` instead of column `5` and this makes debugging much easier. In addition, they come equipped with many in-built functions for compact data manipulation that make it a very powerful tool - we will only scratch the surfance of all the possibilities offered by dataframes."
      ]
    },
    {
      "cell_type": "markdown",
      "metadata": {
        "id": "2dfK4elXOzFb"
      },
      "source": [
        "So, to start using Pandas, we need to import the library:"
      ]
    },
    {
      "cell_type": "code",
      "execution_count": null,
      "metadata": {
        "ExecuteTime": {
          "end_time": "2022-01-17T22:30:04.596385Z",
          "start_time": "2022-01-17T22:30:04.277586Z"
        },
        "id": "ErTN1TOcvB_f"
      },
      "outputs": [],
      "source": [
        "import pandas as pd"
      ]
    },
    {
      "cell_type": "markdown",
      "metadata": {
        "id": "E5UnVvYtO6Sa"
      },
      "source": [
        "and now we need to build our DataFrame. Since we already have a matrix with our data, we can just generate the DataFrame from this matrix by specifying the names of each column:"
      ]
    },
    {
      "cell_type": "code",
      "execution_count": null,
      "metadata": {
        "ExecuteTime": {
          "end_time": "2022-01-17T22:30:12.909131Z",
          "start_time": "2022-01-17T22:30:12.901490Z"
        },
        "id": "61r0lvudO4UW"
      },
      "outputs": [],
      "source": [
        "df = pd.DataFrame(data, columns=['x1', 'x2', 'xavg', 'estim', 'subject', 'error'])"
      ]
    },
    {
      "cell_type": "markdown",
      "metadata": {
        "id": "rWoaOryOPw3a"
      },
      "source": [
        "Note that we could also directly load the data in a DataFrame from a CSV file, using the command below.\n",
        "The benefits of importing directly is that we also direct get the columns names from the CSV, we do have to specify them.\n",
        "(Of course we would also need to add the Error column)"
      ]
    },
    {
      "cell_type": "code",
      "execution_count": null,
      "metadata": {
        "id": "Iam2m1WnMrBv"
      },
      "outputs": [],
      "source": [
        "#df = pd.read_csv(\"Task_Perceptual_simple.csv\",sep=',')"
      ]
    },
    {
      "cell_type": "markdown",
      "metadata": {
        "id": "Et4nCDkmMrBw"
      },
      "source": [
        "You can now see the first rows of this dataframe using the command `head`:"
      ]
    },
    {
      "cell_type": "code",
      "execution_count": null,
      "metadata": {
        "ExecuteTime": {
          "end_time": "2022-01-17T22:30:19.498145Z",
          "start_time": "2022-01-17T22:30:19.473335Z"
        },
        "id": "HtGLWR4gP1GQ",
        "colab": {
          "base_uri": "https://localhost:8080/",
          "height": 206
        },
        "outputId": "089733df-bf27-4f73-fcbe-27df8f95230d"
      },
      "outputs": [
        {
          "output_type": "execute_result",
          "data": {
            "text/plain": [
              "     x1    x2  xavg     estim  subject     error\n",
              "0 -10.0   0.0  -5.0  -5.21220      1.0  -0.21220\n",
              "1 -10.0 -10.0 -10.0  -8.21768      1.0   1.78232\n",
              "2  20.0  10.0  15.0 -17.93416      1.0 -32.93416\n",
              "3 -20.0  10.0  -5.0 -13.42634      1.0  -8.42634\n",
              "4  20.0 -10.0   5.0   9.88556      1.0   4.88556"
            ],
            "text/html": [
              "\n",
              "  <div id=\"df-b4571a0a-8fad-4285-8801-549a4cffc9c9\" class=\"colab-df-container\">\n",
              "    <div>\n",
              "<style scoped>\n",
              "    .dataframe tbody tr th:only-of-type {\n",
              "        vertical-align: middle;\n",
              "    }\n",
              "\n",
              "    .dataframe tbody tr th {\n",
              "        vertical-align: top;\n",
              "    }\n",
              "\n",
              "    .dataframe thead th {\n",
              "        text-align: right;\n",
              "    }\n",
              "</style>\n",
              "<table border=\"1\" class=\"dataframe\">\n",
              "  <thead>\n",
              "    <tr style=\"text-align: right;\">\n",
              "      <th></th>\n",
              "      <th>x1</th>\n",
              "      <th>x2</th>\n",
              "      <th>xavg</th>\n",
              "      <th>estim</th>\n",
              "      <th>subject</th>\n",
              "      <th>error</th>\n",
              "    </tr>\n",
              "  </thead>\n",
              "  <tbody>\n",
              "    <tr>\n",
              "      <th>0</th>\n",
              "      <td>-10.0</td>\n",
              "      <td>0.0</td>\n",
              "      <td>-5.0</td>\n",
              "      <td>-5.21220</td>\n",
              "      <td>1.0</td>\n",
              "      <td>-0.21220</td>\n",
              "    </tr>\n",
              "    <tr>\n",
              "      <th>1</th>\n",
              "      <td>-10.0</td>\n",
              "      <td>-10.0</td>\n",
              "      <td>-10.0</td>\n",
              "      <td>-8.21768</td>\n",
              "      <td>1.0</td>\n",
              "      <td>1.78232</td>\n",
              "    </tr>\n",
              "    <tr>\n",
              "      <th>2</th>\n",
              "      <td>20.0</td>\n",
              "      <td>10.0</td>\n",
              "      <td>15.0</td>\n",
              "      <td>-17.93416</td>\n",
              "      <td>1.0</td>\n",
              "      <td>-32.93416</td>\n",
              "    </tr>\n",
              "    <tr>\n",
              "      <th>3</th>\n",
              "      <td>-20.0</td>\n",
              "      <td>10.0</td>\n",
              "      <td>-5.0</td>\n",
              "      <td>-13.42634</td>\n",
              "      <td>1.0</td>\n",
              "      <td>-8.42634</td>\n",
              "    </tr>\n",
              "    <tr>\n",
              "      <th>4</th>\n",
              "      <td>20.0</td>\n",
              "      <td>-10.0</td>\n",
              "      <td>5.0</td>\n",
              "      <td>9.88556</td>\n",
              "      <td>1.0</td>\n",
              "      <td>4.88556</td>\n",
              "    </tr>\n",
              "  </tbody>\n",
              "</table>\n",
              "</div>\n",
              "    <div class=\"colab-df-buttons\">\n",
              "\n",
              "  <div class=\"colab-df-container\">\n",
              "    <button class=\"colab-df-convert\" onclick=\"convertToInteractive('df-b4571a0a-8fad-4285-8801-549a4cffc9c9')\"\n",
              "            title=\"Convert this dataframe to an interactive table.\"\n",
              "            style=\"display:none;\">\n",
              "\n",
              "  <svg xmlns=\"http://www.w3.org/2000/svg\" height=\"24px\" viewBox=\"0 -960 960 960\">\n",
              "    <path d=\"M120-120v-720h720v720H120Zm60-500h600v-160H180v160Zm220 220h160v-160H400v160Zm0 220h160v-160H400v160ZM180-400h160v-160H180v160Zm440 0h160v-160H620v160ZM180-180h160v-160H180v160Zm440 0h160v-160H620v160Z\"/>\n",
              "  </svg>\n",
              "    </button>\n",
              "\n",
              "  <style>\n",
              "    .colab-df-container {\n",
              "      display:flex;\n",
              "      gap: 12px;\n",
              "    }\n",
              "\n",
              "    .colab-df-convert {\n",
              "      background-color: #E8F0FE;\n",
              "      border: none;\n",
              "      border-radius: 50%;\n",
              "      cursor: pointer;\n",
              "      display: none;\n",
              "      fill: #1967D2;\n",
              "      height: 32px;\n",
              "      padding: 0 0 0 0;\n",
              "      width: 32px;\n",
              "    }\n",
              "\n",
              "    .colab-df-convert:hover {\n",
              "      background-color: #E2EBFA;\n",
              "      box-shadow: 0px 1px 2px rgba(60, 64, 67, 0.3), 0px 1px 3px 1px rgba(60, 64, 67, 0.15);\n",
              "      fill: #174EA6;\n",
              "    }\n",
              "\n",
              "    .colab-df-buttons div {\n",
              "      margin-bottom: 4px;\n",
              "    }\n",
              "\n",
              "    [theme=dark] .colab-df-convert {\n",
              "      background-color: #3B4455;\n",
              "      fill: #D2E3FC;\n",
              "    }\n",
              "\n",
              "    [theme=dark] .colab-df-convert:hover {\n",
              "      background-color: #434B5C;\n",
              "      box-shadow: 0px 1px 3px 1px rgba(0, 0, 0, 0.15);\n",
              "      filter: drop-shadow(0px 1px 2px rgba(0, 0, 0, 0.3));\n",
              "      fill: #FFFFFF;\n",
              "    }\n",
              "  </style>\n",
              "\n",
              "    <script>\n",
              "      const buttonEl =\n",
              "        document.querySelector('#df-b4571a0a-8fad-4285-8801-549a4cffc9c9 button.colab-df-convert');\n",
              "      buttonEl.style.display =\n",
              "        google.colab.kernel.accessAllowed ? 'block' : 'none';\n",
              "\n",
              "      async function convertToInteractive(key) {\n",
              "        const element = document.querySelector('#df-b4571a0a-8fad-4285-8801-549a4cffc9c9');\n",
              "        const dataTable =\n",
              "          await google.colab.kernel.invokeFunction('convertToInteractive',\n",
              "                                                    [key], {});\n",
              "        if (!dataTable) return;\n",
              "\n",
              "        const docLinkHtml = 'Like what you see? Visit the ' +\n",
              "          '<a target=\"_blank\" href=https://colab.research.google.com/notebooks/data_table.ipynb>data table notebook</a>'\n",
              "          + ' to learn more about interactive tables.';\n",
              "        element.innerHTML = '';\n",
              "        dataTable['output_type'] = 'display_data';\n",
              "        await google.colab.output.renderOutput(dataTable, element);\n",
              "        const docLink = document.createElement('div');\n",
              "        docLink.innerHTML = docLinkHtml;\n",
              "        element.appendChild(docLink);\n",
              "      }\n",
              "    </script>\n",
              "  </div>\n",
              "\n",
              "\n",
              "    <div id=\"df-5bdaabb2-addb-4f45-9d8b-b2d0b8e1fe19\">\n",
              "      <button class=\"colab-df-quickchart\" onclick=\"quickchart('df-5bdaabb2-addb-4f45-9d8b-b2d0b8e1fe19')\"\n",
              "                title=\"Suggest charts\"\n",
              "                style=\"display:none;\">\n",
              "\n",
              "<svg xmlns=\"http://www.w3.org/2000/svg\" height=\"24px\"viewBox=\"0 0 24 24\"\n",
              "     width=\"24px\">\n",
              "    <g>\n",
              "        <path d=\"M19 3H5c-1.1 0-2 .9-2 2v14c0 1.1.9 2 2 2h14c1.1 0 2-.9 2-2V5c0-1.1-.9-2-2-2zM9 17H7v-7h2v7zm4 0h-2V7h2v10zm4 0h-2v-4h2v4z\"/>\n",
              "    </g>\n",
              "</svg>\n",
              "      </button>\n",
              "\n",
              "<style>\n",
              "  .colab-df-quickchart {\n",
              "      --bg-color: #E8F0FE;\n",
              "      --fill-color: #1967D2;\n",
              "      --hover-bg-color: #E2EBFA;\n",
              "      --hover-fill-color: #174EA6;\n",
              "      --disabled-fill-color: #AAA;\n",
              "      --disabled-bg-color: #DDD;\n",
              "  }\n",
              "\n",
              "  [theme=dark] .colab-df-quickchart {\n",
              "      --bg-color: #3B4455;\n",
              "      --fill-color: #D2E3FC;\n",
              "      --hover-bg-color: #434B5C;\n",
              "      --hover-fill-color: #FFFFFF;\n",
              "      --disabled-bg-color: #3B4455;\n",
              "      --disabled-fill-color: #666;\n",
              "  }\n",
              "\n",
              "  .colab-df-quickchart {\n",
              "    background-color: var(--bg-color);\n",
              "    border: none;\n",
              "    border-radius: 50%;\n",
              "    cursor: pointer;\n",
              "    display: none;\n",
              "    fill: var(--fill-color);\n",
              "    height: 32px;\n",
              "    padding: 0;\n",
              "    width: 32px;\n",
              "  }\n",
              "\n",
              "  .colab-df-quickchart:hover {\n",
              "    background-color: var(--hover-bg-color);\n",
              "    box-shadow: 0 1px 2px rgba(60, 64, 67, 0.3), 0 1px 3px 1px rgba(60, 64, 67, 0.15);\n",
              "    fill: var(--button-hover-fill-color);\n",
              "  }\n",
              "\n",
              "  .colab-df-quickchart-complete:disabled,\n",
              "  .colab-df-quickchart-complete:disabled:hover {\n",
              "    background-color: var(--disabled-bg-color);\n",
              "    fill: var(--disabled-fill-color);\n",
              "    box-shadow: none;\n",
              "  }\n",
              "\n",
              "  .colab-df-spinner {\n",
              "    border: 2px solid var(--fill-color);\n",
              "    border-color: transparent;\n",
              "    border-bottom-color: var(--fill-color);\n",
              "    animation:\n",
              "      spin 1s steps(1) infinite;\n",
              "  }\n",
              "\n",
              "  @keyframes spin {\n",
              "    0% {\n",
              "      border-color: transparent;\n",
              "      border-bottom-color: var(--fill-color);\n",
              "      border-left-color: var(--fill-color);\n",
              "    }\n",
              "    20% {\n",
              "      border-color: transparent;\n",
              "      border-left-color: var(--fill-color);\n",
              "      border-top-color: var(--fill-color);\n",
              "    }\n",
              "    30% {\n",
              "      border-color: transparent;\n",
              "      border-left-color: var(--fill-color);\n",
              "      border-top-color: var(--fill-color);\n",
              "      border-right-color: var(--fill-color);\n",
              "    }\n",
              "    40% {\n",
              "      border-color: transparent;\n",
              "      border-right-color: var(--fill-color);\n",
              "      border-top-color: var(--fill-color);\n",
              "    }\n",
              "    60% {\n",
              "      border-color: transparent;\n",
              "      border-right-color: var(--fill-color);\n",
              "    }\n",
              "    80% {\n",
              "      border-color: transparent;\n",
              "      border-right-color: var(--fill-color);\n",
              "      border-bottom-color: var(--fill-color);\n",
              "    }\n",
              "    90% {\n",
              "      border-color: transparent;\n",
              "      border-bottom-color: var(--fill-color);\n",
              "    }\n",
              "  }\n",
              "</style>\n",
              "\n",
              "      <script>\n",
              "        async function quickchart(key) {\n",
              "          const quickchartButtonEl =\n",
              "            document.querySelector('#' + key + ' button');\n",
              "          quickchartButtonEl.disabled = true;  // To prevent multiple clicks.\n",
              "          quickchartButtonEl.classList.add('colab-df-spinner');\n",
              "          try {\n",
              "            const charts = await google.colab.kernel.invokeFunction(\n",
              "                'suggestCharts', [key], {});\n",
              "          } catch (error) {\n",
              "            console.error('Error during call to suggestCharts:', error);\n",
              "          }\n",
              "          quickchartButtonEl.classList.remove('colab-df-spinner');\n",
              "          quickchartButtonEl.classList.add('colab-df-quickchart-complete');\n",
              "        }\n",
              "        (() => {\n",
              "          let quickchartButtonEl =\n",
              "            document.querySelector('#df-5bdaabb2-addb-4f45-9d8b-b2d0b8e1fe19 button');\n",
              "          quickchartButtonEl.style.display =\n",
              "            google.colab.kernel.accessAllowed ? 'block' : 'none';\n",
              "        })();\n",
              "      </script>\n",
              "    </div>\n",
              "\n",
              "    </div>\n",
              "  </div>\n"
            ],
            "application/vnd.google.colaboratory.intrinsic+json": {
              "type": "dataframe",
              "variable_name": "df",
              "summary": "{\n  \"name\": \"df\",\n  \"rows\": 13503,\n  \"fields\": [\n    {\n      \"column\": \"x1\",\n      \"properties\": {\n        \"dtype\": \"number\",\n        \"std\": 13.49982093218257,\n        \"min\": -20.0,\n        \"max\": 20.0,\n        \"num_unique_values\": 5,\n        \"samples\": [\n          20.0,\n          10.0,\n          -20.0\n        ],\n        \"semantic_type\": \"\",\n        \"description\": \"\"\n      }\n    },\n    {\n      \"column\": \"x2\",\n      \"properties\": {\n        \"dtype\": \"number\",\n        \"std\": 13.435365561485417,\n        \"min\": -20.0,\n        \"max\": 20.0,\n        \"num_unique_values\": 5,\n        \"samples\": [\n          -10.0,\n          20.0,\n          10.0\n        ],\n        \"semantic_type\": \"\",\n        \"description\": \"\"\n      }\n    },\n    {\n      \"column\": \"xavg\",\n      \"properties\": {\n        \"dtype\": \"number\",\n        \"std\": 10.330259982732303,\n        \"min\": -20.0,\n        \"max\": 20.0,\n        \"num_unique_values\": 9,\n        \"samples\": [\n          0.0,\n          -10.0,\n          -15.0\n        ],\n        \"semantic_type\": \"\",\n        \"description\": \"\"\n      }\n    },\n    {\n      \"column\": \"estim\",\n      \"properties\": {\n        \"dtype\": \"number\",\n        \"std\": 14.58371657984884,\n        \"min\": -75.1737,\n        \"max\": 110.697,\n        \"num_unique_values\": 13176,\n        \"samples\": [\n          -24.85055,\n          -1.72059999999999,\n          19.760278\n        ],\n        \"semantic_type\": \"\",\n        \"description\": \"\"\n      }\n    },\n    {\n      \"column\": \"subject\",\n      \"properties\": {\n        \"dtype\": \"number\",\n        \"std\": 4.063130533995845,\n        \"min\": 1.0,\n        \"max\": 14.0,\n        \"num_unique_values\": 14,\n        \"samples\": [\n          10.0,\n          12.0,\n          1.0\n        ],\n        \"semantic_type\": \"\",\n        \"description\": \"\"\n      }\n    },\n    {\n      \"column\": \"error\",\n      \"properties\": {\n        \"dtype\": \"number\",\n        \"std\": 14.69566624712254,\n        \"min\": -90.1737,\n        \"max\": 130.697,\n        \"num_unique_values\": 13290,\n        \"samples\": [\n          6.94314,\n          -0.25200000000000067,\n          19.952\n        ],\n        \"semantic_type\": \"\",\n        \"description\": \"\"\n      }\n    }\n  ]\n}"
            }
          },
          "metadata": {},
          "execution_count": 158
        }
      ],
      "source": [
        "df.head()"
      ]
    },
    {
      "cell_type": "markdown",
      "metadata": {
        "id": "ATG2psFjQ9kk"
      },
      "source": [
        "Notice that now we use our dataframe as if it were a \"library\" from which we call functions: `df.fun` means that we apply built-in panda function `fun` to the dataframe `df`. There are tons of functions defined for Pandas dataframes and this is the extraordinary power of this library."
      ]
    },
    {
      "cell_type": "markdown",
      "metadata": {
        "id": "KeT8ratzP3bs"
      },
      "source": [
        "Now, instead of getting error values with `data[:,-1]`, we can use `df['error']`. This is a significant change because our code may add columns inadvertently and then `data[:,-1]` may be addressing something different than \"error\" but `df['error']` is clearly always getting back what we want. In this sense, our code will be clearer and have fewer bugs. Convince yourself that `data[:,-1]` and `df['error']` now give the same list of values:"
      ]
    },
    {
      "cell_type": "code",
      "execution_count": null,
      "metadata": {
        "ExecuteTime": {
          "end_time": "2022-01-17T22:30:57.694108Z",
          "start_time": "2022-01-17T22:30:57.665610Z"
        },
        "id": "7XfvVnK0QJUC",
        "colab": {
          "base_uri": "https://localhost:8080/"
        },
        "outputId": "7d69d354-b16e-432d-e2fa-c4169580dbc0"
      },
      "outputs": [
        {
          "output_type": "execute_result",
          "data": {
            "text/plain": [
              "array([ -0.2122  ,   1.78232 , -32.93416 , ...,  12.234593,   3.8409  ,\n",
              "        19.943002])"
            ]
          },
          "metadata": {},
          "execution_count": 159
        }
      ],
      "source": [
        "data[:,-1]"
      ]
    },
    {
      "cell_type": "code",
      "execution_count": null,
      "metadata": {
        "ExecuteTime": {
          "end_time": "2022-01-17T22:31:01.023764Z",
          "start_time": "2022-01-17T22:31:01.015403Z"
        },
        "colab": {
          "base_uri": "https://localhost:8080/",
          "height": 458
        },
        "id": "WeBYGahHMrBx",
        "outputId": "0daae716-39ff-4a33-e5a5-87a1c5eb497a"
      },
      "outputs": [
        {
          "output_type": "execute_result",
          "data": {
            "text/plain": [
              "0        -0.212200\n",
              "1         1.782320\n",
              "2       -32.934160\n",
              "3        -8.426340\n",
              "4         4.885560\n",
              "           ...    \n",
              "13498    11.049220\n",
              "13499    10.739340\n",
              "13500    12.234593\n",
              "13501     3.840900\n",
              "13502    19.943002\n",
              "Name: error, Length: 13503, dtype: float64"
            ],
            "text/html": [
              "<div>\n",
              "<style scoped>\n",
              "    .dataframe tbody tr th:only-of-type {\n",
              "        vertical-align: middle;\n",
              "    }\n",
              "\n",
              "    .dataframe tbody tr th {\n",
              "        vertical-align: top;\n",
              "    }\n",
              "\n",
              "    .dataframe thead th {\n",
              "        text-align: right;\n",
              "    }\n",
              "</style>\n",
              "<table border=\"1\" class=\"dataframe\">\n",
              "  <thead>\n",
              "    <tr style=\"text-align: right;\">\n",
              "      <th></th>\n",
              "      <th>error</th>\n",
              "    </tr>\n",
              "  </thead>\n",
              "  <tbody>\n",
              "    <tr>\n",
              "      <th>0</th>\n",
              "      <td>-0.212200</td>\n",
              "    </tr>\n",
              "    <tr>\n",
              "      <th>1</th>\n",
              "      <td>1.782320</td>\n",
              "    </tr>\n",
              "    <tr>\n",
              "      <th>2</th>\n",
              "      <td>-32.934160</td>\n",
              "    </tr>\n",
              "    <tr>\n",
              "      <th>3</th>\n",
              "      <td>-8.426340</td>\n",
              "    </tr>\n",
              "    <tr>\n",
              "      <th>4</th>\n",
              "      <td>4.885560</td>\n",
              "    </tr>\n",
              "    <tr>\n",
              "      <th>...</th>\n",
              "      <td>...</td>\n",
              "    </tr>\n",
              "    <tr>\n",
              "      <th>13498</th>\n",
              "      <td>11.049220</td>\n",
              "    </tr>\n",
              "    <tr>\n",
              "      <th>13499</th>\n",
              "      <td>10.739340</td>\n",
              "    </tr>\n",
              "    <tr>\n",
              "      <th>13500</th>\n",
              "      <td>12.234593</td>\n",
              "    </tr>\n",
              "    <tr>\n",
              "      <th>13501</th>\n",
              "      <td>3.840900</td>\n",
              "    </tr>\n",
              "    <tr>\n",
              "      <th>13502</th>\n",
              "      <td>19.943002</td>\n",
              "    </tr>\n",
              "  </tbody>\n",
              "</table>\n",
              "<p>13503 rows × 1 columns</p>\n",
              "</div><br><label><b>dtype:</b> float64</label>"
            ]
          },
          "metadata": {},
          "execution_count": 160
        }
      ],
      "source": [
        "df['error']"
      ]
    },
    {
      "cell_type": "markdown",
      "metadata": {
        "id": "m3Yw6KrWQKhG"
      },
      "source": [
        "As an exercise: **add now one extra column to the dataframe df that contains the circular distance between the columns x1 and x2**. This is much easier than with `column_stack` in plain **numpy**, you just need to assign the new values to a new column name (for instance `df['dist_x1x2']`) Check with `df.head()` that you can see this new column in your table."
      ]
    },
    {
      "cell_type": "code",
      "execution_count": null,
      "metadata": {
        "id": "o58puJs6Qi5B",
        "colab": {
          "base_uri": "https://localhost:8080/",
          "height": 206
        },
        "outputId": "6fe45cd9-e8ab-4006-8948-8186eb2aa542"
      },
      "outputs": [
        {
          "output_type": "execute_result",
          "data": {
            "text/plain": [
              "     x1    x2  xavg     estim  subject     error  dist_x1x2\n",
              "0 -10.0   0.0  -5.0  -5.21220      1.0  -0.21220       10.0\n",
              "1 -10.0 -10.0 -10.0  -8.21768      1.0   1.78232        0.0\n",
              "2  20.0  10.0  15.0 -17.93416      1.0 -32.93416      -10.0\n",
              "3 -20.0  10.0  -5.0 -13.42634      1.0  -8.42634       30.0\n",
              "4  20.0 -10.0   5.0   9.88556      1.0   4.88556      -30.0"
            ],
            "text/html": [
              "\n",
              "  <div id=\"df-22c5c3ea-42f7-47eb-aa50-ed4b42690995\" class=\"colab-df-container\">\n",
              "    <div>\n",
              "<style scoped>\n",
              "    .dataframe tbody tr th:only-of-type {\n",
              "        vertical-align: middle;\n",
              "    }\n",
              "\n",
              "    .dataframe tbody tr th {\n",
              "        vertical-align: top;\n",
              "    }\n",
              "\n",
              "    .dataframe thead th {\n",
              "        text-align: right;\n",
              "    }\n",
              "</style>\n",
              "<table border=\"1\" class=\"dataframe\">\n",
              "  <thead>\n",
              "    <tr style=\"text-align: right;\">\n",
              "      <th></th>\n",
              "      <th>x1</th>\n",
              "      <th>x2</th>\n",
              "      <th>xavg</th>\n",
              "      <th>estim</th>\n",
              "      <th>subject</th>\n",
              "      <th>error</th>\n",
              "      <th>dist_x1x2</th>\n",
              "    </tr>\n",
              "  </thead>\n",
              "  <tbody>\n",
              "    <tr>\n",
              "      <th>0</th>\n",
              "      <td>-10.0</td>\n",
              "      <td>0.0</td>\n",
              "      <td>-5.0</td>\n",
              "      <td>-5.21220</td>\n",
              "      <td>1.0</td>\n",
              "      <td>-0.21220</td>\n",
              "      <td>10.0</td>\n",
              "    </tr>\n",
              "    <tr>\n",
              "      <th>1</th>\n",
              "      <td>-10.0</td>\n",
              "      <td>-10.0</td>\n",
              "      <td>-10.0</td>\n",
              "      <td>-8.21768</td>\n",
              "      <td>1.0</td>\n",
              "      <td>1.78232</td>\n",
              "      <td>0.0</td>\n",
              "    </tr>\n",
              "    <tr>\n",
              "      <th>2</th>\n",
              "      <td>20.0</td>\n",
              "      <td>10.0</td>\n",
              "      <td>15.0</td>\n",
              "      <td>-17.93416</td>\n",
              "      <td>1.0</td>\n",
              "      <td>-32.93416</td>\n",
              "      <td>-10.0</td>\n",
              "    </tr>\n",
              "    <tr>\n",
              "      <th>3</th>\n",
              "      <td>-20.0</td>\n",
              "      <td>10.0</td>\n",
              "      <td>-5.0</td>\n",
              "      <td>-13.42634</td>\n",
              "      <td>1.0</td>\n",
              "      <td>-8.42634</td>\n",
              "      <td>30.0</td>\n",
              "    </tr>\n",
              "    <tr>\n",
              "      <th>4</th>\n",
              "      <td>20.0</td>\n",
              "      <td>-10.0</td>\n",
              "      <td>5.0</td>\n",
              "      <td>9.88556</td>\n",
              "      <td>1.0</td>\n",
              "      <td>4.88556</td>\n",
              "      <td>-30.0</td>\n",
              "    </tr>\n",
              "  </tbody>\n",
              "</table>\n",
              "</div>\n",
              "    <div class=\"colab-df-buttons\">\n",
              "\n",
              "  <div class=\"colab-df-container\">\n",
              "    <button class=\"colab-df-convert\" onclick=\"convertToInteractive('df-22c5c3ea-42f7-47eb-aa50-ed4b42690995')\"\n",
              "            title=\"Convert this dataframe to an interactive table.\"\n",
              "            style=\"display:none;\">\n",
              "\n",
              "  <svg xmlns=\"http://www.w3.org/2000/svg\" height=\"24px\" viewBox=\"0 -960 960 960\">\n",
              "    <path d=\"M120-120v-720h720v720H120Zm60-500h600v-160H180v160Zm220 220h160v-160H400v160Zm0 220h160v-160H400v160ZM180-400h160v-160H180v160Zm440 0h160v-160H620v160ZM180-180h160v-160H180v160Zm440 0h160v-160H620v160Z\"/>\n",
              "  </svg>\n",
              "    </button>\n",
              "\n",
              "  <style>\n",
              "    .colab-df-container {\n",
              "      display:flex;\n",
              "      gap: 12px;\n",
              "    }\n",
              "\n",
              "    .colab-df-convert {\n",
              "      background-color: #E8F0FE;\n",
              "      border: none;\n",
              "      border-radius: 50%;\n",
              "      cursor: pointer;\n",
              "      display: none;\n",
              "      fill: #1967D2;\n",
              "      height: 32px;\n",
              "      padding: 0 0 0 0;\n",
              "      width: 32px;\n",
              "    }\n",
              "\n",
              "    .colab-df-convert:hover {\n",
              "      background-color: #E2EBFA;\n",
              "      box-shadow: 0px 1px 2px rgba(60, 64, 67, 0.3), 0px 1px 3px 1px rgba(60, 64, 67, 0.15);\n",
              "      fill: #174EA6;\n",
              "    }\n",
              "\n",
              "    .colab-df-buttons div {\n",
              "      margin-bottom: 4px;\n",
              "    }\n",
              "\n",
              "    [theme=dark] .colab-df-convert {\n",
              "      background-color: #3B4455;\n",
              "      fill: #D2E3FC;\n",
              "    }\n",
              "\n",
              "    [theme=dark] .colab-df-convert:hover {\n",
              "      background-color: #434B5C;\n",
              "      box-shadow: 0px 1px 3px 1px rgba(0, 0, 0, 0.15);\n",
              "      filter: drop-shadow(0px 1px 2px rgba(0, 0, 0, 0.3));\n",
              "      fill: #FFFFFF;\n",
              "    }\n",
              "  </style>\n",
              "\n",
              "    <script>\n",
              "      const buttonEl =\n",
              "        document.querySelector('#df-22c5c3ea-42f7-47eb-aa50-ed4b42690995 button.colab-df-convert');\n",
              "      buttonEl.style.display =\n",
              "        google.colab.kernel.accessAllowed ? 'block' : 'none';\n",
              "\n",
              "      async function convertToInteractive(key) {\n",
              "        const element = document.querySelector('#df-22c5c3ea-42f7-47eb-aa50-ed4b42690995');\n",
              "        const dataTable =\n",
              "          await google.colab.kernel.invokeFunction('convertToInteractive',\n",
              "                                                    [key], {});\n",
              "        if (!dataTable) return;\n",
              "\n",
              "        const docLinkHtml = 'Like what you see? Visit the ' +\n",
              "          '<a target=\"_blank\" href=https://colab.research.google.com/notebooks/data_table.ipynb>data table notebook</a>'\n",
              "          + ' to learn more about interactive tables.';\n",
              "        element.innerHTML = '';\n",
              "        dataTable['output_type'] = 'display_data';\n",
              "        await google.colab.output.renderOutput(dataTable, element);\n",
              "        const docLink = document.createElement('div');\n",
              "        docLink.innerHTML = docLinkHtml;\n",
              "        element.appendChild(docLink);\n",
              "      }\n",
              "    </script>\n",
              "  </div>\n",
              "\n",
              "\n",
              "    <div id=\"df-d0986870-1e13-4075-b9b9-a664debf69b9\">\n",
              "      <button class=\"colab-df-quickchart\" onclick=\"quickchart('df-d0986870-1e13-4075-b9b9-a664debf69b9')\"\n",
              "                title=\"Suggest charts\"\n",
              "                style=\"display:none;\">\n",
              "\n",
              "<svg xmlns=\"http://www.w3.org/2000/svg\" height=\"24px\"viewBox=\"0 0 24 24\"\n",
              "     width=\"24px\">\n",
              "    <g>\n",
              "        <path d=\"M19 3H5c-1.1 0-2 .9-2 2v14c0 1.1.9 2 2 2h14c1.1 0 2-.9 2-2V5c0-1.1-.9-2-2-2zM9 17H7v-7h2v7zm4 0h-2V7h2v10zm4 0h-2v-4h2v4z\"/>\n",
              "    </g>\n",
              "</svg>\n",
              "      </button>\n",
              "\n",
              "<style>\n",
              "  .colab-df-quickchart {\n",
              "      --bg-color: #E8F0FE;\n",
              "      --fill-color: #1967D2;\n",
              "      --hover-bg-color: #E2EBFA;\n",
              "      --hover-fill-color: #174EA6;\n",
              "      --disabled-fill-color: #AAA;\n",
              "      --disabled-bg-color: #DDD;\n",
              "  }\n",
              "\n",
              "  [theme=dark] .colab-df-quickchart {\n",
              "      --bg-color: #3B4455;\n",
              "      --fill-color: #D2E3FC;\n",
              "      --hover-bg-color: #434B5C;\n",
              "      --hover-fill-color: #FFFFFF;\n",
              "      --disabled-bg-color: #3B4455;\n",
              "      --disabled-fill-color: #666;\n",
              "  }\n",
              "\n",
              "  .colab-df-quickchart {\n",
              "    background-color: var(--bg-color);\n",
              "    border: none;\n",
              "    border-radius: 50%;\n",
              "    cursor: pointer;\n",
              "    display: none;\n",
              "    fill: var(--fill-color);\n",
              "    height: 32px;\n",
              "    padding: 0;\n",
              "    width: 32px;\n",
              "  }\n",
              "\n",
              "  .colab-df-quickchart:hover {\n",
              "    background-color: var(--hover-bg-color);\n",
              "    box-shadow: 0 1px 2px rgba(60, 64, 67, 0.3), 0 1px 3px 1px rgba(60, 64, 67, 0.15);\n",
              "    fill: var(--button-hover-fill-color);\n",
              "  }\n",
              "\n",
              "  .colab-df-quickchart-complete:disabled,\n",
              "  .colab-df-quickchart-complete:disabled:hover {\n",
              "    background-color: var(--disabled-bg-color);\n",
              "    fill: var(--disabled-fill-color);\n",
              "    box-shadow: none;\n",
              "  }\n",
              "\n",
              "  .colab-df-spinner {\n",
              "    border: 2px solid var(--fill-color);\n",
              "    border-color: transparent;\n",
              "    border-bottom-color: var(--fill-color);\n",
              "    animation:\n",
              "      spin 1s steps(1) infinite;\n",
              "  }\n",
              "\n",
              "  @keyframes spin {\n",
              "    0% {\n",
              "      border-color: transparent;\n",
              "      border-bottom-color: var(--fill-color);\n",
              "      border-left-color: var(--fill-color);\n",
              "    }\n",
              "    20% {\n",
              "      border-color: transparent;\n",
              "      border-left-color: var(--fill-color);\n",
              "      border-top-color: var(--fill-color);\n",
              "    }\n",
              "    30% {\n",
              "      border-color: transparent;\n",
              "      border-left-color: var(--fill-color);\n",
              "      border-top-color: var(--fill-color);\n",
              "      border-right-color: var(--fill-color);\n",
              "    }\n",
              "    40% {\n",
              "      border-color: transparent;\n",
              "      border-right-color: var(--fill-color);\n",
              "      border-top-color: var(--fill-color);\n",
              "    }\n",
              "    60% {\n",
              "      border-color: transparent;\n",
              "      border-right-color: var(--fill-color);\n",
              "    }\n",
              "    80% {\n",
              "      border-color: transparent;\n",
              "      border-right-color: var(--fill-color);\n",
              "      border-bottom-color: var(--fill-color);\n",
              "    }\n",
              "    90% {\n",
              "      border-color: transparent;\n",
              "      border-bottom-color: var(--fill-color);\n",
              "    }\n",
              "  }\n",
              "</style>\n",
              "\n",
              "      <script>\n",
              "        async function quickchart(key) {\n",
              "          const quickchartButtonEl =\n",
              "            document.querySelector('#' + key + ' button');\n",
              "          quickchartButtonEl.disabled = true;  // To prevent multiple clicks.\n",
              "          quickchartButtonEl.classList.add('colab-df-spinner');\n",
              "          try {\n",
              "            const charts = await google.colab.kernel.invokeFunction(\n",
              "                'suggestCharts', [key], {});\n",
              "          } catch (error) {\n",
              "            console.error('Error during call to suggestCharts:', error);\n",
              "          }\n",
              "          quickchartButtonEl.classList.remove('colab-df-spinner');\n",
              "          quickchartButtonEl.classList.add('colab-df-quickchart-complete');\n",
              "        }\n",
              "        (() => {\n",
              "          let quickchartButtonEl =\n",
              "            document.querySelector('#df-d0986870-1e13-4075-b9b9-a664debf69b9 button');\n",
              "          quickchartButtonEl.style.display =\n",
              "            google.colab.kernel.accessAllowed ? 'block' : 'none';\n",
              "        })();\n",
              "      </script>\n",
              "    </div>\n",
              "\n",
              "    </div>\n",
              "  </div>\n"
            ],
            "application/vnd.google.colaboratory.intrinsic+json": {
              "type": "dataframe",
              "variable_name": "df",
              "summary": "{\n  \"name\": \"df\",\n  \"rows\": 13503,\n  \"fields\": [\n    {\n      \"column\": \"x1\",\n      \"properties\": {\n        \"dtype\": \"number\",\n        \"std\": 13.49982093218257,\n        \"min\": -20.0,\n        \"max\": 20.0,\n        \"num_unique_values\": 5,\n        \"samples\": [\n          20.0,\n          10.0,\n          -20.0\n        ],\n        \"semantic_type\": \"\",\n        \"description\": \"\"\n      }\n    },\n    {\n      \"column\": \"x2\",\n      \"properties\": {\n        \"dtype\": \"number\",\n        \"std\": 13.435365561485417,\n        \"min\": -20.0,\n        \"max\": 20.0,\n        \"num_unique_values\": 5,\n        \"samples\": [\n          -10.0,\n          20.0,\n          10.0\n        ],\n        \"semantic_type\": \"\",\n        \"description\": \"\"\n      }\n    },\n    {\n      \"column\": \"xavg\",\n      \"properties\": {\n        \"dtype\": \"number\",\n        \"std\": 10.330259982732303,\n        \"min\": -20.0,\n        \"max\": 20.0,\n        \"num_unique_values\": 9,\n        \"samples\": [\n          0.0,\n          -10.0,\n          -15.0\n        ],\n        \"semantic_type\": \"\",\n        \"description\": \"\"\n      }\n    },\n    {\n      \"column\": \"estim\",\n      \"properties\": {\n        \"dtype\": \"number\",\n        \"std\": 14.58371657984884,\n        \"min\": -75.1737,\n        \"max\": 110.697,\n        \"num_unique_values\": 13176,\n        \"samples\": [\n          -24.85055,\n          -1.72059999999999,\n          19.760278\n        ],\n        \"semantic_type\": \"\",\n        \"description\": \"\"\n      }\n    },\n    {\n      \"column\": \"subject\",\n      \"properties\": {\n        \"dtype\": \"number\",\n        \"std\": 4.063130533995845,\n        \"min\": 1.0,\n        \"max\": 14.0,\n        \"num_unique_values\": 14,\n        \"samples\": [\n          10.0,\n          12.0,\n          1.0\n        ],\n        \"semantic_type\": \"\",\n        \"description\": \"\"\n      }\n    },\n    {\n      \"column\": \"error\",\n      \"properties\": {\n        \"dtype\": \"number\",\n        \"std\": 14.69566624712254,\n        \"min\": -90.1737,\n        \"max\": 130.697,\n        \"num_unique_values\": 13290,\n        \"samples\": [\n          6.94314,\n          -0.25200000000000067,\n          19.952\n        ],\n        \"semantic_type\": \"\",\n        \"description\": \"\"\n      }\n    },\n    {\n      \"column\": \"dist_x1x2\",\n      \"properties\": {\n        \"dtype\": \"number\",\n        \"std\": 17.28153178106932,\n        \"min\": -30.0,\n        \"max\": 30.0,\n        \"num_unique_values\": 7,\n        \"samples\": [\n          10.0,\n          0.0,\n          20.0\n        ],\n        \"semantic_type\": \"\",\n        \"description\": \"\"\n      }\n    }\n  ]\n}"
            }
          },
          "metadata": {},
          "execution_count": 161
        }
      ],
      "source": [
        "df['dist_x1x2'] = circdist(df['x1'], df['x2'])\n",
        "df.head()"
      ]
    },
    {
      "cell_type": "markdown",
      "metadata": {
        "id": "8W5MVjntMrBx"
      },
      "source": [
        "Well done! Now compare the simplicity of adding one column to a dataframe to the more cumbersome way to append a column to a numpy array as we did above using `np.column_stack`"
      ]
    },
    {
      "cell_type": "markdown",
      "metadata": {
        "id": "TbJLoq4yQxfY"
      },
      "source": [
        "Now check this:"
      ]
    },
    {
      "cell_type": "code",
      "execution_count": null,
      "metadata": {
        "colab": {
          "base_uri": "https://localhost:8080/",
          "height": 458
        },
        "id": "rL5_0P5TQymx",
        "outputId": "62749b91-ce80-4ff0-987b-4334dade4644"
      },
      "outputs": [
        {
          "output_type": "display_data",
          "data": {
            "text/plain": [
              "<Figure size 640x480 with 16 Axes>"
            ],
            "image/png": "[encoded data removed]"
          },
          "metadata": {}
        }
      ],
      "source": [
        "df.hist(column='error', by='subject');"
      ]
    },
    {
      "cell_type": "markdown",
      "metadata": {
        "id": "_Sd14xUnR-HW"
      },
      "source": [
        "**Neat, eh?** Compare what you had to do with bare **numpy** above!! You can unpack this very compact command [here](https://pandas.pydata.org/pandas-docs/stable/reference/api/pandas.DataFrame.hist.html)."
      ]
    },
    {
      "cell_type": "markdown",
      "metadata": {
        "id": "AJTjv_OqMrBy"
      },
      "source": [
        "It is thus general good practice to organize our datasets in Python using the Pandas library. It not only keeps the code more readable, and prevents many errors, but it also provides very compact functions to deal with data manipulation and plotting. See for instance how you would compute the mean and standard deviation of behavioral errors for each subject:"
      ]
    },
    {
      "cell_type": "code",
      "execution_count": null,
      "metadata": {
        "colab": {
          "base_uri": "https://localhost:8080/",
          "height": 519
        },
        "id": "0u57EUdjMrBy",
        "outputId": "d51ad758-297a-4570-eef0-fab7ec4937b4"
      },
      "outputs": [
        {
          "output_type": "execute_result",
          "data": {
            "text/plain": [
              "              mean        std\n",
              "subject                      \n",
              "1.0      -2.747008  10.382429\n",
              "2.0       3.257358  28.016835\n",
              "3.0      -1.657591  13.202259\n",
              "4.0       0.944210  15.360401\n",
              "5.0      -0.215563  13.307636\n",
              "6.0      -2.835802  15.429018\n",
              "7.0       2.230346   8.501350\n",
              "8.0      -2.851999  10.771592\n",
              "9.0       0.851512   7.155847\n",
              "10.0     11.453458  20.579347\n",
              "11.0     -1.556309   8.873257\n",
              "12.0     -0.943741   9.838508\n",
              "13.0     -1.797562   9.555759\n",
              "14.0      4.695254  14.566496"
            ],
            "text/html": [
              "\n",
              "  <div id=\"df-0e5f4315-7ecd-43ec-a4ac-4f8b29f34826\" class=\"colab-df-container\">\n",
              "    <div>\n",
              "<style scoped>\n",
              "    .dataframe tbody tr th:only-of-type {\n",
              "        vertical-align: middle;\n",
              "    }\n",
              "\n",
              "    .dataframe tbody tr th {\n",
              "        vertical-align: top;\n",
              "    }\n",
              "\n",
              "    .dataframe thead th {\n",
              "        text-align: right;\n",
              "    }\n",
              "</style>\n",
              "<table border=\"1\" class=\"dataframe\">\n",
              "  <thead>\n",
              "    <tr style=\"text-align: right;\">\n",
              "      <th></th>\n",
              "      <th>mean</th>\n",
              "      <th>std</th>\n",
              "    </tr>\n",
              "    <tr>\n",
              "      <th>subject</th>\n",
              "      <th></th>\n",
              "      <th></th>\n",
              "    </tr>\n",
              "  </thead>\n",
              "  <tbody>\n",
              "    <tr>\n",
              "      <th>1.0</th>\n",
              "      <td>-2.747008</td>\n",
              "      <td>10.382429</td>\n",
              "    </tr>\n",
              "    <tr>\n",
              "      <th>2.0</th>\n",
              "      <td>3.257358</td>\n",
              "      <td>28.016835</td>\n",
              "    </tr>\n",
              "    <tr>\n",
              "      <th>3.0</th>\n",
              "      <td>-1.657591</td>\n",
              "      <td>13.202259</td>\n",
              "    </tr>\n",
              "    <tr>\n",
              "      <th>4.0</th>\n",
              "      <td>0.944210</td>\n",
              "      <td>15.360401</td>\n",
              "    </tr>\n",
              "    <tr>\n",
              "      <th>5.0</th>\n",
              "      <td>-0.215563</td>\n",
              "      <td>13.307636</td>\n",
              "    </tr>\n",
              "    <tr>\n",
              "      <th>6.0</th>\n",
              "      <td>-2.835802</td>\n",
              "      <td>15.429018</td>\n",
              "    </tr>\n",
              "    <tr>\n",
              "      <th>7.0</th>\n",
              "      <td>2.230346</td>\n",
              "      <td>8.501350</td>\n",
              "    </tr>\n",
              "    <tr>\n",
              "      <th>8.0</th>\n",
              "      <td>-2.851999</td>\n",
              "      <td>10.771592</td>\n",
              "    </tr>\n",
              "    <tr>\n",
              "      <th>9.0</th>\n",
              "      <td>0.851512</td>\n",
              "      <td>7.155847</td>\n",
              "    </tr>\n",
              "    <tr>\n",
              "      <th>10.0</th>\n",
              "      <td>11.453458</td>\n",
              "      <td>20.579347</td>\n",
              "    </tr>\n",
              "    <tr>\n",
              "      <th>11.0</th>\n",
              "      <td>-1.556309</td>\n",
              "      <td>8.873257</td>\n",
              "    </tr>\n",
              "    <tr>\n",
              "      <th>12.0</th>\n",
              "      <td>-0.943741</td>\n",
              "      <td>9.838508</td>\n",
              "    </tr>\n",
              "    <tr>\n",
              "      <th>13.0</th>\n",
              "      <td>-1.797562</td>\n",
              "      <td>9.555759</td>\n",
              "    </tr>\n",
              "    <tr>\n",
              "      <th>14.0</th>\n",
              "      <td>4.695254</td>\n",
              "      <td>14.566496</td>\n",
              "    </tr>\n",
              "  </tbody>\n",
              "</table>\n",
              "</div>\n",
              "    <div class=\"colab-df-buttons\">\n",
              "\n",
              "  <div class=\"colab-df-container\">\n",
              "    <button class=\"colab-df-convert\" onclick=\"convertToInteractive('df-0e5f4315-7ecd-43ec-a4ac-4f8b29f34826')\"\n",
              "            title=\"Convert this dataframe to an interactive table.\"\n",
              "            style=\"display:none;\">\n",
              "\n",
              "  <svg xmlns=\"http://www.w3.org/2000/svg\" height=\"24px\" viewBox=\"0 -960 960 960\">\n",
              "    <path d=\"M120-120v-720h720v720H120Zm60-500h600v-160H180v160Zm220 220h160v-160H400v160Zm0 220h160v-160H400v160ZM180-400h160v-160H180v160Zm440 0h160v-160H620v160ZM180-180h160v-160H180v160Zm440 0h160v-160H620v160Z\"/>\n",
              "  </svg>\n",
              "    </button>\n",
              "\n",
              "  <style>\n",
              "    .colab-df-container {\n",
              "      display:flex;\n",
              "      gap: 12px;\n",
              "    }\n",
              "\n",
              "    .colab-df-convert {\n",
              "      background-color: #E8F0FE;\n",
              "      border: none;\n",
              "      border-radius: 50%;\n",
              "      cursor: pointer;\n",
              "      display: none;\n",
              "      fill: #1967D2;\n",
              "      height: 32px;\n",
              "      padding: 0 0 0 0;\n",
              "      width: 32px;\n",
              "    }\n",
              "\n",
              "    .colab-df-convert:hover {\n",
              "      background-color: #E2EBFA;\n",
              "      box-shadow: 0px 1px 2px rgba(60, 64, 67, 0.3), 0px 1px 3px 1px rgba(60, 64, 67, 0.15);\n",
              "      fill: #174EA6;\n",
              "    }\n",
              "\n",
              "    .colab-df-buttons div {\n",
              "      margin-bottom: 4px;\n",
              "    }\n",
              "\n",
              "    [theme=dark] .colab-df-convert {\n",
              "      background-color: #3B4455;\n",
              "      fill: #D2E3FC;\n",
              "    }\n",
              "\n",
              "    [theme=dark] .colab-df-convert:hover {\n",
              "      background-color: #434B5C;\n",
              "      box-shadow: 0px 1px 3px 1px rgba(0, 0, 0, 0.15);\n",
              "      filter: drop-shadow(0px 1px 2px rgba(0, 0, 0, 0.3));\n",
              "      fill: #FFFFFF;\n",
              "    }\n",
              "  </style>\n",
              "\n",
              "    <script>\n",
              "      const buttonEl =\n",
              "        document.querySelector('#df-0e5f4315-7ecd-43ec-a4ac-4f8b29f34826 button.colab-df-convert');\n",
              "      buttonEl.style.display =\n",
              "        google.colab.kernel.accessAllowed ? 'block' : 'none';\n",
              "\n",
              "      async function convertToInteractive(key) {\n",
              "        const element = document.querySelector('#df-0e5f4315-7ecd-43ec-a4ac-4f8b29f34826');\n",
              "        const dataTable =\n",
              "          await google.colab.kernel.invokeFunction('convertToInteractive',\n",
              "                                                    [key], {});\n",
              "        if (!dataTable) return;\n",
              "\n",
              "        const docLinkHtml = 'Like what you see? Visit the ' +\n",
              "          '<a target=\"_blank\" href=https://colab.research.google.com/notebooks/data_table.ipynb>data table notebook</a>'\n",
              "          + ' to learn more about interactive tables.';\n",
              "        element.innerHTML = '';\n",
              "        dataTable['output_type'] = 'display_data';\n",
              "        await google.colab.output.renderOutput(dataTable, element);\n",
              "        const docLink = document.createElement('div');\n",
              "        docLink.innerHTML = docLinkHtml;\n",
              "        element.appendChild(docLink);\n",
              "      }\n",
              "    </script>\n",
              "  </div>\n",
              "\n",
              "\n",
              "    <div id=\"df-2dedd3b8-2623-477d-a827-65444ece0ed0\">\n",
              "      <button class=\"colab-df-quickchart\" onclick=\"quickchart('df-2dedd3b8-2623-477d-a827-65444ece0ed0')\"\n",
              "                title=\"Suggest charts\"\n",
              "                style=\"display:none;\">\n",
              "\n",
              "<svg xmlns=\"http://www.w3.org/2000/svg\" height=\"24px\"viewBox=\"0 0 24 24\"\n",
              "     width=\"24px\">\n",
              "    <g>\n",
              "        <path d=\"M19 3H5c-1.1 0-2 .9-2 2v14c0 1.1.9 2 2 2h14c1.1 0 2-.9 2-2V5c0-1.1-.9-2-2-2zM9 17H7v-7h2v7zm4 0h-2V7h2v10zm4 0h-2v-4h2v4z\"/>\n",
              "    </g>\n",
              "</svg>\n",
              "      </button>\n",
              "\n",
              "<style>\n",
              "  .colab-df-quickchart {\n",
              "      --bg-color: #E8F0FE;\n",
              "      --fill-color: #1967D2;\n",
              "      --hover-bg-color: #E2EBFA;\n",
              "      --hover-fill-color: #174EA6;\n",
              "      --disabled-fill-color: #AAA;\n",
              "      --disabled-bg-color: #DDD;\n",
              "  }\n",
              "\n",
              "  [theme=dark] .colab-df-quickchart {\n",
              "      --bg-color: #3B4455;\n",
              "      --fill-color: #D2E3FC;\n",
              "      --hover-bg-color: #434B5C;\n",
              "      --hover-fill-color: #FFFFFF;\n",
              "      --disabled-bg-color: #3B4455;\n",
              "      --disabled-fill-color: #666;\n",
              "  }\n",
              "\n",
              "  .colab-df-quickchart {\n",
              "    background-color: var(--bg-color);\n",
              "    border: none;\n",
              "    border-radius: 50%;\n",
              "    cursor: pointer;\n",
              "    display: none;\n",
              "    fill: var(--fill-color);\n",
              "    height: 32px;\n",
              "    padding: 0;\n",
              "    width: 32px;\n",
              "  }\n",
              "\n",
              "  .colab-df-quickchart:hover {\n",
              "    background-color: var(--hover-bg-color);\n",
              "    box-shadow: 0 1px 2px rgba(60, 64, 67, 0.3), 0 1px 3px 1px rgba(60, 64, 67, 0.15);\n",
              "    fill: var(--button-hover-fill-color);\n",
              "  }\n",
              "\n",
              "  .colab-df-quickchart-complete:disabled,\n",
              "  .colab-df-quickchart-complete:disabled:hover {\n",
              "    background-color: var(--disabled-bg-color);\n",
              "    fill: var(--disabled-fill-color);\n",
              "    box-shadow: none;\n",
              "  }\n",
              "\n",
              "  .colab-df-spinner {\n",
              "    border: 2px solid var(--fill-color);\n",
              "    border-color: transparent;\n",
              "    border-bottom-color: var(--fill-color);\n",
              "    animation:\n",
              "      spin 1s steps(1) infinite;\n",
              "  }\n",
              "\n",
              "  @keyframes spin {\n",
              "    0% {\n",
              "      border-color: transparent;\n",
              "      border-bottom-color: var(--fill-color);\n",
              "      border-left-color: var(--fill-color);\n",
              "    }\n",
              "    20% {\n",
              "      border-color: transparent;\n",
              "      border-left-color: var(--fill-color);\n",
              "      border-top-color: var(--fill-color);\n",
              "    }\n",
              "    30% {\n",
              "      border-color: transparent;\n",
              "      border-left-color: var(--fill-color);\n",
              "      border-top-color: var(--fill-color);\n",
              "      border-right-color: var(--fill-color);\n",
              "    }\n",
              "    40% {\n",
              "      border-color: transparent;\n",
              "      border-right-color: var(--fill-color);\n",
              "      border-top-color: var(--fill-color);\n",
              "    }\n",
              "    60% {\n",
              "      border-color: transparent;\n",
              "      border-right-color: var(--fill-color);\n",
              "    }\n",
              "    80% {\n",
              "      border-color: transparent;\n",
              "      border-right-color: var(--fill-color);\n",
              "      border-bottom-color: var(--fill-color);\n",
              "    }\n",
              "    90% {\n",
              "      border-color: transparent;\n",
              "      border-bottom-color: var(--fill-color);\n",
              "    }\n",
              "  }\n",
              "</style>\n",
              "\n",
              "      <script>\n",
              "        async function quickchart(key) {\n",
              "          const quickchartButtonEl =\n",
              "            document.querySelector('#' + key + ' button');\n",
              "          quickchartButtonEl.disabled = true;  // To prevent multiple clicks.\n",
              "          quickchartButtonEl.classList.add('colab-df-spinner');\n",
              "          try {\n",
              "            const charts = await google.colab.kernel.invokeFunction(\n",
              "                'suggestCharts', [key], {});\n",
              "          } catch (error) {\n",
              "            console.error('Error during call to suggestCharts:', error);\n",
              "          }\n",
              "          quickchartButtonEl.classList.remove('colab-df-spinner');\n",
              "          quickchartButtonEl.classList.add('colab-df-quickchart-complete');\n",
              "        }\n",
              "        (() => {\n",
              "          let quickchartButtonEl =\n",
              "            document.querySelector('#df-2dedd3b8-2623-477d-a827-65444ece0ed0 button');\n",
              "          quickchartButtonEl.style.display =\n",
              "            google.colab.kernel.accessAllowed ? 'block' : 'none';\n",
              "        })();\n",
              "      </script>\n",
              "    </div>\n",
              "\n",
              "    </div>\n",
              "  </div>\n"
            ],
            "application/vnd.google.colaboratory.intrinsic+json": {
              "type": "dataframe",
              "summary": "{\n  \"name\": \"df\",\n  \"rows\": 14,\n  \"fields\": [\n    {\n      \"column\": \"subject\",\n      \"properties\": {\n        \"dtype\": \"number\",\n        \"std\": 4.183300132670378,\n        \"min\": 1.0,\n        \"max\": 14.0,\n        \"num_unique_values\": 14,\n        \"samples\": [\n          10.0,\n          12.0,\n          1.0\n        ],\n        \"semantic_type\": \"\",\n        \"description\": \"\"\n      }\n    },\n    {\n      \"column\": \"mean\",\n      \"properties\": {\n        \"dtype\": \"number\",\n        \"std\": 3.901907185888265,\n        \"min\": -2.8519987308254966,\n        \"max\": 11.4534578201559,\n        \"num_unique_values\": 14,\n        \"samples\": [\n          11.4534578201559,\n          -0.943741144542772,\n          -2.7470081124362893\n        ],\n        \"semantic_type\": \"\",\n        \"description\": \"\"\n      }\n    },\n    {\n      \"column\": \"std\",\n      \"properties\": {\n        \"dtype\": \"number\",\n        \"std\": 5.555418180324484,\n        \"min\": 7.155847458617579,\n        \"max\": 28.01683509414096,\n        \"num_unique_values\": 14,\n        \"samples\": [\n          20.579347153078267,\n          9.838508465894416,\n          10.382428578922857\n        ],\n        \"semantic_type\": \"\",\n        \"description\": \"\"\n      }\n    }\n  ]\n}"
            }
          },
          "metadata": {},
          "execution_count": 163
        }
      ],
      "source": [
        "df.groupby('subject').error.agg(('mean', 'std'))"
      ]
    }
  ],
  "metadata": {
    "colab": {
      "provenance": [],
      "include_colab_link": true
    },
    "hide_input": false,
    "kernelspec": {
      "display_name": "Python 3 (ipykernel)",
      "language": "python",
      "name": "python3"
    },
    "language_info": {
      "codemirror_mode": {
        "name": "ipython",
        "version": 3
      },
      "file_extension": ".py",
      "mimetype": "text/x-python",
      "name": "python",
      "nbconvert_exporter": "python",
      "pygments_lexer": "ipython3",
      "version": "3.10.8"
    },
    "toc": {
      "base_numbering": 1,
      "nav_menu": {},
      "number_sections": true,
      "sideBar": true,
      "skip_h1_title": false,
      "title_cell": "Table of Contents",
      "title_sidebar": "Contents",
      "toc_cell": false,
      "toc_position": {},
      "toc_section_display": true,
      "toc_window_display": false
    },
    "varInspector": {
      "cols": {
        "lenName": 16,
        "lenType": 16,
        "lenVar": 40
      },
      "kernels_config": {
        "python": {
          "delete_cmd_postfix": "",
          "delete_cmd_prefix": "del ",
          "library": "var_list.py",
          "varRefreshCmd": "print(var_dic_list())"
        },
        "r": {
          "delete_cmd_postfix": ") ",
          "delete_cmd_prefix": "rm(",
          "library": "var_list.r",
          "varRefreshCmd": "cat(var_dic_list()) "
        }
      },
      "types_to_exclude": [
        "module",
        "function",
        "builtin_function_or_method",
        "instance",
        "_Feature"
      ],
      "window_display": false
    }
  },
  "nbformat": 4,
  "nbformat_minor": 0
}