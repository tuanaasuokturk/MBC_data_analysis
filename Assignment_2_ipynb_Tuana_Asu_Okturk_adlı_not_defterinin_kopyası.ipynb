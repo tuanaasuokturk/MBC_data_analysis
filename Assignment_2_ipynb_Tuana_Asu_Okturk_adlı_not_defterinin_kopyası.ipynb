{
  "cells": [
    {
      "cell_type": "markdown",
      "metadata": {
        "id": "view-in-github",
        "colab_type": "text"
      },
      "source": [
        "<a href=\"https://colab.research.google.com/github/tuanaasuokturk/MBC_data_analysis/blob/main/Assignment_2_ipynb_Tuana_Asu_Okturk_adl%C4%B1_not_defterinin_kopyas%C4%B1.ipynb\" target=\"_parent\"><img src=\"https://colab.research.google.com/assets/colab-badge.svg\" alt=\"Open In Colab\"/></a>"
      ]
    },
    {
      "cell_type": "markdown",
      "metadata": {
        "id": "pxFPNerzM0Bh"
      },
      "source": [
        "### Assignment 2: Linear regression"
      ]
    },
    {
      "cell_type": "markdown",
      "metadata": {
        "id": "fwhYVyfTKg47"
      },
      "source": [
        "**In this assignment, we will see:**\n",
        "- how to assess the impact of an experimental factor on our experimental measurement using **linear regression**\n",
        "- how to check the validity of linear regression assumptions in a dataset\n",
        "- how to **design regressors** to answer a specific scientific question\n",
        "- how to take into account the hetereogeneity of our sample population using **linear mixed models**"
      ]
    },
    {
      "cell_type": "markdown",
      "metadata": {
        "id": "BzrUM9caKg48"
      },
      "source": [
        "<div class=\"alert alert-block alert-warning\">\n",
        "<b>Preparing for this assignment:</b>\n",
        "\n",
        "The following resources will help you to get ready to complete this assignment.\n",
        "<ul>\n",
        "    <li>Watch <a href=\"https://www.youtube.com/watch?v=KsVBBJRb9TE\" target=\"_blank\">this video</a> and then follow with <a href=\"https://www.youtube.com/watch?v=xIDjj6ZyFuw\" target=\"_blank\">this video</a> to learn the concepts about simple linear regression</li>\n",
        "    <li>For a complementary look on linear regression that put its into the more general framework of model fitting, watch <a href=\"https://www.youtube.com/watch?v=9JfXKmVB6qc\" target=\"_blank\">this video</a> (until 15:10) and then follow with <a href=\"https://www.youtube.com/watch?v=HumajfjJ37E\" target=\"_blank\">this video</a> (linear regression by minimizing squared errors) and <a href=\"https://www.youtube.com/watch?v=8mpNmzLKNfU\" target=\"_blank\">this one</a> (linear regression by maximizing likelihood). These are parts of the material for Model Fitting day from Neuromatch Academy which are accessible <a href=\"https://compneuro.neuromatch.io/tutorials/W1D2_ModelFitting/chapter_title.html\" target=\"_blank\">here</a>. </li>\n",
        "    <li> (Very optional) See <a href=\"https://www.cns.nyu.edu/~eero/NOTES/leastSquares.pdf\" target=\"_blank\">these notes</a> from Eero Simoncelli (NYU) if you want to delve more into the mathematics related to linear regression</li>\n",
        "</ul>\n",
        "</div>"
      ]
    },
    {
      "cell_type": "markdown",
      "metadata": {
        "id": "rMxDHrGdKg4-"
      },
      "source": [
        "## Load the numerical judgment dataset"
      ]
    },
    {
      "cell_type": "markdown",
      "metadata": {
        "id": "upudLU0iKg4_"
      },
      "source": [
        "We will now use the dataset from the other experiment from the article that we used in the previous two tutorials (Talluri et al.,*Current Biology*): the **numerical judgment dataset**. The paradigm is presented in Figure 3 of the [article](https://www.cell.com/action/showPdf?pii=S0960-9822%2818%2930982-5). The structure of each trial is conceptually identical to the orientation judgment task:\n",
        "- first, a stimulus (here a sequence of number)\n",
        "- a discrimination task on this first stimulus (is the mean larger than 50?)\n",
        "- then a second stimulus (another sequence of numbers)\n",
        "- finally, a numerical judgment task (report the mean over the *two* sequences).\n",
        "\n",
        "We will address with linear regression the scientific question under focus in the original article: **is the judgment task corrupted by a confirmatory bias, i.e. a tendency to align their judgment with the intermittent choice?** More specifically, we will ask **whether subjects downweight evidence from the second stimulus if it is at odds with their intermediate choice** (i.e. if their intermediate choice was \">50\" and numbers in the second stimuli are small). The analyses we run will be a simplified version of the analyses in the original article.\n",
        "\n",
        "Load the data as a Pandas dataframe (as in Assignment 1). `x1` now represents the average value of numbers in the first sequence, and correspondingly for `x2`. Note also that this dataframe has one extra column, `binchoice`, which codes for the response of the subject on the classification task after stimulus 1 (-1: \"<50\"; 1: \">50\")."
      ]
    },
    {
      "cell_type": "code",
      "execution_count": null,
      "metadata": {
        "scrolled": true,
        "colab": {
          "base_uri": "https://localhost:8080/",
          "height": 206
        },
        "id": "GM0l1QYnKg4_",
        "outputId": "1c69969f-a850-4930-85d6-64c3e5670bf3"
      },
      "outputs": [
        {
          "output_type": "execute_result",
          "data": {
            "text/plain": [
              "       x1  binchoice      x2     xavg  estim  subj\n",
              "0  45.375         -1  41.625  43.5000     44     1\n",
              "1  47.500          1  38.625  43.0625     41     1\n",
              "2  47.750          1  57.500  52.6250     54     1\n",
              "3  46.625         -1  38.375  42.5000     40     1\n",
              "4  47.250         -1  41.375  44.3125     45     1"
            ],
            "text/html": [
              "\n",
              "  <div id=\"df-ad7ca47d-6714-4f69-8506-366c8d1d3a84\" class=\"colab-df-container\">\n",
              "    <div>\n",
              "<style scoped>\n",
              "    .dataframe tbody tr th:only-of-type {\n",
              "        vertical-align: middle;\n",
              "    }\n",
              "\n",
              "    .dataframe tbody tr th {\n",
              "        vertical-align: top;\n",
              "    }\n",
              "\n",
              "    .dataframe thead th {\n",
              "        text-align: right;\n",
              "    }\n",
              "</style>\n",
              "<table border=\"1\" class=\"dataframe\">\n",
              "  <thead>\n",
              "    <tr style=\"text-align: right;\">\n",
              "      <th></th>\n",
              "      <th>x1</th>\n",
              "      <th>binchoice</th>\n",
              "      <th>x2</th>\n",
              "      <th>xavg</th>\n",
              "      <th>estim</th>\n",
              "      <th>subj</th>\n",
              "    </tr>\n",
              "  </thead>\n",
              "  <tbody>\n",
              "    <tr>\n",
              "      <th>0</th>\n",
              "      <td>45.375</td>\n",
              "      <td>-1</td>\n",
              "      <td>41.625</td>\n",
              "      <td>43.5000</td>\n",
              "      <td>44</td>\n",
              "      <td>1</td>\n",
              "    </tr>\n",
              "    <tr>\n",
              "      <th>1</th>\n",
              "      <td>47.500</td>\n",
              "      <td>1</td>\n",
              "      <td>38.625</td>\n",
              "      <td>43.0625</td>\n",
              "      <td>41</td>\n",
              "      <td>1</td>\n",
              "    </tr>\n",
              "    <tr>\n",
              "      <th>2</th>\n",
              "      <td>47.750</td>\n",
              "      <td>1</td>\n",
              "      <td>57.500</td>\n",
              "      <td>52.6250</td>\n",
              "      <td>54</td>\n",
              "      <td>1</td>\n",
              "    </tr>\n",
              "    <tr>\n",
              "      <th>3</th>\n",
              "      <td>46.625</td>\n",
              "      <td>-1</td>\n",
              "      <td>38.375</td>\n",
              "      <td>42.5000</td>\n",
              "      <td>40</td>\n",
              "      <td>1</td>\n",
              "    </tr>\n",
              "    <tr>\n",
              "      <th>4</th>\n",
              "      <td>47.250</td>\n",
              "      <td>-1</td>\n",
              "      <td>41.375</td>\n",
              "      <td>44.3125</td>\n",
              "      <td>45</td>\n",
              "      <td>1</td>\n",
              "    </tr>\n",
              "  </tbody>\n",
              "</table>\n",
              "</div>\n",
              "    <div class=\"colab-df-buttons\">\n",
              "\n",
              "  <div class=\"colab-df-container\">\n",
              "    <button class=\"colab-df-convert\" onclick=\"convertToInteractive('df-ad7ca47d-6714-4f69-8506-366c8d1d3a84')\"\n",
              "            title=\"Convert this dataframe to an interactive table.\"\n",
              "            style=\"display:none;\">\n",
              "\n",
              "  <svg xmlns=\"http://www.w3.org/2000/svg\" height=\"24px\" viewBox=\"0 -960 960 960\">\n",
              "    <path d=\"M120-120v-720h720v720H120Zm60-500h600v-160H180v160Zm220 220h160v-160H400v160Zm0 220h160v-160H400v160ZM180-400h160v-160H180v160Zm440 0h160v-160H620v160ZM180-180h160v-160H180v160Zm440 0h160v-160H620v160Z\"/>\n",
              "  </svg>\n",
              "    </button>\n",
              "\n",
              "  <style>\n",
              "    .colab-df-container {\n",
              "      display:flex;\n",
              "      gap: 12px;\n",
              "    }\n",
              "\n",
              "    .colab-df-convert {\n",
              "      background-color: #E8F0FE;\n",
              "      border: none;\n",
              "      border-radius: 50%;\n",
              "      cursor: pointer;\n",
              "      display: none;\n",
              "      fill: #1967D2;\n",
              "      height: 32px;\n",
              "      padding: 0 0 0 0;\n",
              "      width: 32px;\n",
              "    }\n",
              "\n",
              "    .colab-df-convert:hover {\n",
              "      background-color: #E2EBFA;\n",
              "      box-shadow: 0px 1px 2px rgba(60, 64, 67, 0.3), 0px 1px 3px 1px rgba(60, 64, 67, 0.15);\n",
              "      fill: #174EA6;\n",
              "    }\n",
              "\n",
              "    .colab-df-buttons div {\n",
              "      margin-bottom: 4px;\n",
              "    }\n",
              "\n",
              "    [theme=dark] .colab-df-convert {\n",
              "      background-color: #3B4455;\n",
              "      fill: #D2E3FC;\n",
              "    }\n",
              "\n",
              "    [theme=dark] .colab-df-convert:hover {\n",
              "      background-color: #434B5C;\n",
              "      box-shadow: 0px 1px 3px 1px rgba(0, 0, 0, 0.15);\n",
              "      filter: drop-shadow(0px 1px 2px rgba(0, 0, 0, 0.3));\n",
              "      fill: #FFFFFF;\n",
              "    }\n",
              "  </style>\n",
              "\n",
              "    <script>\n",
              "      const buttonEl =\n",
              "        document.querySelector('#df-ad7ca47d-6714-4f69-8506-366c8d1d3a84 button.colab-df-convert');\n",
              "      buttonEl.style.display =\n",
              "        google.colab.kernel.accessAllowed ? 'block' : 'none';\n",
              "\n",
              "      async function convertToInteractive(key) {\n",
              "        const element = document.querySelector('#df-ad7ca47d-6714-4f69-8506-366c8d1d3a84');\n",
              "        const dataTable =\n",
              "          await google.colab.kernel.invokeFunction('convertToInteractive',\n",
              "                                                    [key], {});\n",
              "        if (!dataTable) return;\n",
              "\n",
              "        const docLinkHtml = 'Like what you see? Visit the ' +\n",
              "          '<a target=\"_blank\" href=https://colab.research.google.com/notebooks/data_table.ipynb>data table notebook</a>'\n",
              "          + ' to learn more about interactive tables.';\n",
              "        element.innerHTML = '';\n",
              "        dataTable['output_type'] = 'display_data';\n",
              "        await google.colab.output.renderOutput(dataTable, element);\n",
              "        const docLink = document.createElement('div');\n",
              "        docLink.innerHTML = docLinkHtml;\n",
              "        element.appendChild(docLink);\n",
              "      }\n",
              "    </script>\n",
              "  </div>\n",
              "\n",
              "\n",
              "    <div id=\"df-d815e0aa-1bd3-45c2-9e8c-b4efd0b98cee\">\n",
              "      <button class=\"colab-df-quickchart\" onclick=\"quickchart('df-d815e0aa-1bd3-45c2-9e8c-b4efd0b98cee')\"\n",
              "                title=\"Suggest charts\"\n",
              "                style=\"display:none;\">\n",
              "\n",
              "<svg xmlns=\"http://www.w3.org/2000/svg\" height=\"24px\"viewBox=\"0 0 24 24\"\n",
              "     width=\"24px\">\n",
              "    <g>\n",
              "        <path d=\"M19 3H5c-1.1 0-2 .9-2 2v14c0 1.1.9 2 2 2h14c1.1 0 2-.9 2-2V5c0-1.1-.9-2-2-2zM9 17H7v-7h2v7zm4 0h-2V7h2v10zm4 0h-2v-4h2v4z\"/>\n",
              "    </g>\n",
              "</svg>\n",
              "      </button>\n",
              "\n",
              "<style>\n",
              "  .colab-df-quickchart {\n",
              "      --bg-color: #E8F0FE;\n",
              "      --fill-color: #1967D2;\n",
              "      --hover-bg-color: #E2EBFA;\n",
              "      --hover-fill-color: #174EA6;\n",
              "      --disabled-fill-color: #AAA;\n",
              "      --disabled-bg-color: #DDD;\n",
              "  }\n",
              "\n",
              "  [theme=dark] .colab-df-quickchart {\n",
              "      --bg-color: #3B4455;\n",
              "      --fill-color: #D2E3FC;\n",
              "      --hover-bg-color: #434B5C;\n",
              "      --hover-fill-color: #FFFFFF;\n",
              "      --disabled-bg-color: #3B4455;\n",
              "      --disabled-fill-color: #666;\n",
              "  }\n",
              "\n",
              "  .colab-df-quickchart {\n",
              "    background-color: var(--bg-color);\n",
              "    border: none;\n",
              "    border-radius: 50%;\n",
              "    cursor: pointer;\n",
              "    display: none;\n",
              "    fill: var(--fill-color);\n",
              "    height: 32px;\n",
              "    padding: 0;\n",
              "    width: 32px;\n",
              "  }\n",
              "\n",
              "  .colab-df-quickchart:hover {\n",
              "    background-color: var(--hover-bg-color);\n",
              "    box-shadow: 0 1px 2px rgba(60, 64, 67, 0.3), 0 1px 3px 1px rgba(60, 64, 67, 0.15);\n",
              "    fill: var(--button-hover-fill-color);\n",
              "  }\n",
              "\n",
              "  .colab-df-quickchart-complete:disabled,\n",
              "  .colab-df-quickchart-complete:disabled:hover {\n",
              "    background-color: var(--disabled-bg-color);\n",
              "    fill: var(--disabled-fill-color);\n",
              "    box-shadow: none;\n",
              "  }\n",
              "\n",
              "  .colab-df-spinner {\n",
              "    border: 2px solid var(--fill-color);\n",
              "    border-color: transparent;\n",
              "    border-bottom-color: var(--fill-color);\n",
              "    animation:\n",
              "      spin 1s steps(1) infinite;\n",
              "  }\n",
              "\n",
              "  @keyframes spin {\n",
              "    0% {\n",
              "      border-color: transparent;\n",
              "      border-bottom-color: var(--fill-color);\n",
              "      border-left-color: var(--fill-color);\n",
              "    }\n",
              "    20% {\n",
              "      border-color: transparent;\n",
              "      border-left-color: var(--fill-color);\n",
              "      border-top-color: var(--fill-color);\n",
              "    }\n",
              "    30% {\n",
              "      border-color: transparent;\n",
              "      border-left-color: var(--fill-color);\n",
              "      border-top-color: var(--fill-color);\n",
              "      border-right-color: var(--fill-color);\n",
              "    }\n",
              "    40% {\n",
              "      border-color: transparent;\n",
              "      border-right-color: var(--fill-color);\n",
              "      border-top-color: var(--fill-color);\n",
              "    }\n",
              "    60% {\n",
              "      border-color: transparent;\n",
              "      border-right-color: var(--fill-color);\n",
              "    }\n",
              "    80% {\n",
              "      border-color: transparent;\n",
              "      border-right-color: var(--fill-color);\n",
              "      border-bottom-color: var(--fill-color);\n",
              "    }\n",
              "    90% {\n",
              "      border-color: transparent;\n",
              "      border-bottom-color: var(--fill-color);\n",
              "    }\n",
              "  }\n",
              "</style>\n",
              "\n",
              "      <script>\n",
              "        async function quickchart(key) {\n",
              "          const quickchartButtonEl =\n",
              "            document.querySelector('#' + key + ' button');\n",
              "          quickchartButtonEl.disabled = true;  // To prevent multiple clicks.\n",
              "          quickchartButtonEl.classList.add('colab-df-spinner');\n",
              "          try {\n",
              "            const charts = await google.colab.kernel.invokeFunction(\n",
              "                'suggestCharts', [key], {});\n",
              "          } catch (error) {\n",
              "            console.error('Error during call to suggestCharts:', error);\n",
              "          }\n",
              "          quickchartButtonEl.classList.remove('colab-df-spinner');\n",
              "          quickchartButtonEl.classList.add('colab-df-quickchart-complete');\n",
              "        }\n",
              "        (() => {\n",
              "          let quickchartButtonEl =\n",
              "            document.querySelector('#df-d815e0aa-1bd3-45c2-9e8c-b4efd0b98cee button');\n",
              "          quickchartButtonEl.style.display =\n",
              "            google.colab.kernel.accessAllowed ? 'block' : 'none';\n",
              "        })();\n",
              "      </script>\n",
              "    </div>\n",
              "\n",
              "    </div>\n",
              "  </div>\n"
            ],
            "application/vnd.google.colaboratory.intrinsic+json": {
              "type": "dataframe",
              "variable_name": "df",
              "summary": "{\n  \"name\": \"df\",\n  \"rows\": 1738,\n  \"fields\": [\n    {\n      \"column\": \"x1\",\n      \"properties\": {\n        \"dtype\": \"number\",\n        \"std\": 3.5428135338669726,\n        \"min\": 44.25,\n        \"max\": 55.375,\n        \"num_unique_values\": 49,\n        \"samples\": [\n          45.5,\n          47.375,\n          50.5\n        ],\n        \"semantic_type\": \"\",\n        \"description\": \"\"\n      }\n    },\n    {\n      \"column\": \"binchoice\",\n      \"properties\": {\n        \"dtype\": \"number\",\n        \"std\": 0,\n        \"min\": -1,\n        \"max\": 1,\n        \"num_unique_values\": 2,\n        \"samples\": [\n          1,\n          -1\n        ],\n        \"semantic_type\": \"\",\n        \"description\": \"\"\n      }\n    },\n    {\n      \"column\": \"x2\",\n      \"properties\": {\n        \"dtype\": \"number\",\n        \"std\": 7.059139895181619,\n        \"min\": 37.625,\n        \"max\": 62.5,\n        \"num_unique_values\": 77,\n        \"samples\": [\n          41.375,\n          60.625\n        ],\n        \"semantic_type\": \"\",\n        \"description\": \"\"\n      }\n    },\n    {\n      \"column\": \"xavg\",\n      \"properties\": {\n        \"dtype\": \"number\",\n        \"std\": 4.123763788071366,\n        \"min\": 41.0,\n        \"max\": 58.0625,\n        \"num_unique_values\": 71,\n        \"samples\": [\n          51.25,\n          43.5\n        ],\n        \"semantic_type\": \"\",\n        \"description\": \"\"\n      }\n    },\n    {\n      \"column\": \"estim\",\n      \"properties\": {\n        \"dtype\": \"number\",\n        \"std\": 6,\n        \"min\": 27,\n        \"max\": 73,\n        \"num_unique_values\": 42,\n        \"samples\": [\n          38,\n          61\n        ],\n        \"semantic_type\": \"\",\n        \"description\": \"\"\n      }\n    },\n    {\n      \"column\": \"subj\",\n      \"properties\": {\n        \"dtype\": \"number\",\n        \"std\": 6,\n        \"min\": 1,\n        \"max\": 21,\n        \"num_unique_values\": 21,\n        \"samples\": [\n          1,\n          18\n        ],\n        \"semantic_type\": \"\",\n        \"description\": \"\"\n      }\n    }\n  ]\n}"
            }
          },
          "metadata": {},
          "execution_count": 17
        }
      ],
      "source": [
        "# import typical packages\n",
        "import numpy as np\n",
        "import matplotlib.pyplot as plt\n",
        "import pandas as pd\n",
        "\n",
        "# load the data from github\n",
        "df = pd.read_csv(\"https://raw.githubusercontent.com/wimmerlab/MBC_data_analysis/main/A2_LinearRegression/Task_Numerical.csv\",sep=',')\n",
        "\n",
        "# uncomment if you prefer to load the data locally\n",
        "#df = pd.read_csv(\"Task_Numerical.csv\",sep=',')\n",
        "\n",
        "# list of subjects\n",
        "subjects = np.unique(df.subj)\n",
        "\n",
        "df.head()"
      ]
    },
    {
      "cell_type": "markdown",
      "metadata": {
        "id": "lAJ6-s8hKg5D"
      },
      "source": [
        "## 1. Simple linear regression\n",
        "We will start by looking at the relationship between the subject report $y$ (i.e. variable `estim`, the reported mean at the end of the sequence) and a single measure: the mean over the whole sequence ``xavg``. We will assume a linear relationship: $y = \\beta_1 xavg + \\beta_0 + \\text{noise}$, where $\\beta_0$ is the intercept,  $\\beta_1$ is the slope, and the noise is zero-mean gaussian (with constant variance). This is the generative formula for simple linear regression. Our goal here is to estimate the values of the parameters $(\\beta_0,\\beta_1)$ from the data.\n",
        "\n",
        "### 1.1 Naive fitting\n",
        "To start with, we will adopt a naive strategy where we adjust manually the linear curve (i.e. the formula above, without the noise) so it captures the data as good as possible. This should give us more insight about the role of the intercept and slope.\n",
        "\n",
        "**Define a function that captures the linear relationship between xavg and y,  taking the intercept and slope as input.**"
      ]
    },
    {
      "cell_type": "code",
      "execution_count": null,
      "metadata": {
        "id": "p775_pMpKg5E"
      },
      "outputs": [],
      "source": [
        "def linear_function(x, beta0, beta1):\n",
        "    \"\"\"\n",
        "    Computes the linear function\n",
        "    Args:\n",
        "       X (array): value(s) of the regressor\n",
        "       beta0 (float): intercept\n",
        "       beta1 (float): slope\n",
        "    \"\"\"\n",
        "\n",
        "    # use linear relationship\n",
        "    y = beta0 + beta1 * x\n",
        "\n",
        "    # output the result\n",
        "    return y"
      ]
    },
    {
      "cell_type": "markdown",
      "metadata": {
        "id": "hwYZqopGKg5F"
      },
      "source": [
        "Now **complete the code below and run the cell**. It plots the function with have just defined (red line), along with the data points from one subject (each blue point represents a single trial). **Adjust the value of the slides to best capture the relationship between the average stimulus and the report from the data**."
      ]
    },
    {
      "cell_type": "code",
      "execution_count": null,
      "metadata": {
        "colab": {
          "base_uri": "https://localhost:8080/",
          "height": 513,
          "referenced_widgets": [
            "3683c712e1504c828014c9424dc471ed",
            "07c5dc7417494de0b8ccae8840bdb4a7",
            "281cab406b744dfab2efec49e369b7a9",
            "519acf010cab4d5cba0097690de11387",
            "0a00fe25146f49bbac495080367c707d",
            "6592148e3cdc416dbea89d4ed610dd23",
            "fab55679f71747acb4a6dac4f13cd7b0",
            "fb96149707a84f5c8e200811444cae48",
            "8ef1d77962664820882f1cb23c5999ae",
            "f3ad8ba8d17e4dd5bb38934fb6335ea6"
          ]
        },
        "id": "uNGczzPqKg5G",
        "outputId": "170c5734-9f67-444d-9561-b0779272ffe6"
      },
      "outputs": [
        {
          "output_type": "display_data",
          "data": {
            "text/plain": [
              "interactive(children=(FloatSlider(value=20.0, description='beta0', max=50.0), FloatSlider(value=0.1, descripti…"
            ],
            "application/vnd.jupyter.widget-view+json": {
              "version_major": 2,
              "version_minor": 0,
              "model_id": "3683c712e1504c828014c9424dc471ed"
            }
          },
          "metadata": {}
        }
      ],
      "source": [
        "import ipywidgets as widgets       # interactive display\n",
        "#@title\n",
        "\n",
        "#select data from subject 1\n",
        "df1 =  df[df['subj'] == 1].reset_index(drop=True)\n",
        "\n",
        "#@markdown Make sure you execute this cell to enable the widget!\n",
        "\n",
        "@widgets.interact(\n",
        "    beta0 =widgets.FloatSlider(20, min=0, max=50), # default, min and max values for intercept\n",
        "    beta1 =widgets.FloatSlider(0.1, min=0.0, max=1.0)) # defaul, min and max values for slope\n",
        "\n",
        "def plot_data_estimate(beta0, beta1):\n",
        "\n",
        "    # set x-values for your prediction, linearly scaled values (could be just two as we're drawing a line)\n",
        "    x_data = np.linspace(35,65,10)\n",
        "\n",
        "    # given the values in x_data, predict y_data values from our model with given parameters\n",
        "    y_data = linear_function(x_data, beta0, beta1)\n",
        "\n",
        "    # plot\n",
        "    plt.plot(x_data, y_data, 'r') # plot the model prediction with a line\n",
        "    plt.plot(df1['xavg'], df1['estim'], 'bo') # now plot the true data from our dataframe df as dots\n",
        "    plt.xlabel(\"xavg\");\n",
        "    plt.ylabel(\"estim\");\n",
        "\n",
        "    # Add a dotted line indicating the identity line\n",
        "    plt.plot(x_data, x_data, linestyle='--', color='gray');\n",
        "\n",
        "    plt.show(); # needed in Colab"
      ]
    },
    {
      "cell_type": "markdown",
      "metadata": {
        "id": "idk8iCT3Kg5H"
      },
      "source": [
        "This was nice but we ignored the stochastic part of the linear regression model (the added Gaussian noise) which we would like to estimate as well, as it gives us an estimate of how much the model cannot explain about the data. To do so, we now need to simulate the model with noise and compare the distributions of points to the experimental one.\n",
        "First, **write a function that simulates the linear regression model (with noise), given some values of the regressor $xavg$ and parameter values**. Parameters now include the intercept $\\beta_0$, the slope $\\beta_1$ and also $\\sigma$, the standard deviation of the Gaussian noise. A Gaussian random variable can be drawn using `normal` from the `numpy` package."
      ]
    },
    {
      "cell_type": "code",
      "execution_count": null,
      "metadata": {
        "id": "1sJwZv-8Kg5H"
      },
      "outputs": [],
      "source": [
        "#import function\n",
        "from numpy.random import normal\n",
        "\n",
        "# define function that simulates the linear regression model\n",
        "def generate_linear_model(x, intercept, slope, sigma):\n",
        "    \"\"\"\n",
        "    Simulates the simple linear model\n",
        "    Args:\n",
        "       X (array): value(s) of the regressor\n",
        "       beta0 (float): intercept\n",
        "       beta1 (float): slope\n",
        "       sigma (float): standard deviation of noise parameter\n",
        "    \"\"\"\n",
        "\n",
        "    # use linear relationship\n",
        "    y = intercept + slope * x\n",
        "\n",
        "    # add gaussian noise with standard deviation = sigma\n",
        "    n = len(x)\n",
        "    y = y + normal(0.0, sigma, size=n)\n",
        "\n",
        "    # output the result\n",
        "    return y"
      ]
    },
    {
      "cell_type": "markdown",
      "metadata": {
        "id": "l-Oex54sKg5I"
      },
      "source": [
        "Now run the cell below where the black dots represent model simulations while blue dots represent the data. Play with the knobs and **adjust the parameter values to match the two distribution qualitatively**."
      ]
    },
    {
      "cell_type": "code",
      "execution_count": null,
      "metadata": {
        "colab": {
          "base_uri": "https://localhost:8080/",
          "height": 545,
          "referenced_widgets": [
            "3296c12f018b450eb39e9a471fbab5f1",
            "3b794e0f70d84a03a204a1edad04e959",
            "9071a2fb17084c65903b778898a47666",
            "d378e6efdf854809bc0b2a41ae9b8f7d",
            "4900f5e4e24c4e20bb697bdc53b149c2",
            "714514972ba24949a27d9e1775fe03be",
            "6c7ea476f3e644f78737878cdee48711",
            "8fa96644c0a747229dc1270d200d56fd",
            "d03f3bec0a5746c688e1c3dd09334c37",
            "ddb4874b7f1e4de5b3b886ca02d5922e",
            "702a8cd7e63d42b694ffe5c0ca7fb221",
            "aff0e21092904146af989320c43f6697",
            "49265d8ecb2b44269279b88e4c1f237f"
          ]
        },
        "id": "nP9mb7QoKg5I",
        "outputId": "ae71f364-1794-49d6-a223-347b227cc989"
      },
      "outputs": [
        {
          "output_type": "display_data",
          "data": {
            "text/plain": [
              "interactive(children=(FloatSlider(value=20.0, description='beta0', max=50.0), FloatSlider(value=0.1, descripti…"
            ],
            "application/vnd.jupyter.widget-view+json": {
              "version_major": 2,
              "version_minor": 0,
              "model_id": "3296c12f018b450eb39e9a471fbab5f1"
            }
          },
          "metadata": {}
        }
      ],
      "source": [
        "@widgets.interact(\n",
        "    beta0 =widgets.FloatSlider(20, min=0, max=50), # default, min and max values for intercept\n",
        "    beta1 =widgets.FloatSlider(0.1, min=0.0, max=1.0), # defaul, min and max values for slope\n",
        "    sigma = widgets.FloatSlider(1, min=0.0, max=20.0)) # defaul, min and max values for noise\n",
        "\n",
        "def plot_simulated_vs_real_data_estimate(beta0, beta1, sigma):\n",
        "\n",
        "     # set x-values for your prediction, same as original dataset\n",
        "    x_data = df1.xavg\n",
        "\n",
        "     # given the values in x_data, predict y_data values from model with given parameters\n",
        "    y_data = generate_linear_model(x_data, beta0, beta1,sigma)\n",
        "\n",
        "    #plot\n",
        "    plt.plot(x_data, y_data, 'ko') # plot the model prediction with black dots\n",
        "    plt.plot(df1.xavg, df1.estim,'bo') # now plot the true data from our dataframe df as blue dots\n",
        "    plt.xlabel(\"xavg\");\n",
        "    plt.ylabel(\"estim\");\n",
        "\n",
        "    # Add a dotted line indicating the identity line\n",
        "    plt.plot(x_data, x_data, linestyle='--', color='gray');\n",
        "\n",
        "    plt.show(); # needed in Colab"
      ]
    },
    {
      "cell_type": "markdown",
      "metadata": {
        "id": "bT0q1UuGKg5J"
      },
      "source": [
        "### 1.2 Least-square regression\n",
        "\n",
        "We will now use a more principled approach called Ordinary Least-Square (OLS) regression, which minimizes the overall estimation error of the linear model. More precisely, it looks for the parameters $(\\beta_0,\\beta_1)$ that minimizes the sum over trials of the squares of errors.\n",
        "**Run OLS regression for subject 1 and obtain the coefficients of the linear regression that fits the data.**\n",
        "\n",
        " We can run this analysis with the function `ols` in `statsmodel.formula.api`. You just need to specify the formula (the dependent variable on the left, and the regressor(s) on the right) and the dataframe for the corresponding data."
      ]
    },
    {
      "cell_type": "code",
      "execution_count": null,
      "metadata": {
        "ExecuteTime": {
          "end_time": "2022-02-04T22:46:53.929474Z",
          "start_time": "2022-02-04T22:46:53.866909Z"
        },
        "colab": {
          "base_uri": "https://localhost:8080/"
        },
        "id": "dONKI852M0Ed",
        "outputId": "4499d8d5-bc8c-49f1-e316-01cfbcf35cc6",
        "scrolled": true
      },
      "outputs": [
        {
          "output_type": "stream",
          "name": "stdout",
          "text": [
            "Coefficients: Intercept    21.133246\n",
            "xavg          0.658960\n",
            "dtype: float64\n"
          ]
        }
      ],
      "source": [
        "# import OLS from statsmodel package\n",
        "from statsmodels.formula.api import ols\n",
        "\n",
        "# define model formula and database (point to a dataframe)\n",
        "mod = ols(formula='estim ~ xavg', data=df1)\n",
        "\n",
        "# fit the model\n",
        "res = mod.fit()\n",
        "\n",
        "# The coefficients\n",
        "print('Coefficients:', res.params)"
      ]
    },
    {
      "cell_type": "markdown",
      "metadata": {
        "id": "zi9ZE3ozKg5K"
      },
      "source": [
        "You get a more complete summary using the command `summary`, including the $R^2$ (how much variance in the dependent variable does the model explains, from 0 to 1), and the confidence interval for each parameter - very useful if we want to determine if a weight is statistically different from 0 (check also the T-statistic)."
      ]
    },
    {
      "cell_type": "code",
      "execution_count": null,
      "metadata": {
        "scrolled": true,
        "colab": {
          "base_uri": "https://localhost:8080/",
          "height": 444
        },
        "id": "kobHDqnAKg5L",
        "outputId": "14cdaad8-2151-4c19-8f4b-4bd8aa58377a"
      },
      "outputs": [
        {
          "output_type": "execute_result",
          "data": {
            "text/plain": [
              "<class 'statsmodels.iolib.summary.Summary'>\n",
              "\"\"\"\n",
              "                            OLS Regression Results                            \n",
              "==============================================================================\n",
              "Dep. Variable:                  estim   R-squared:                       0.251\n",
              "Model:                            OLS   Adj. R-squared:                  0.241\n",
              "Method:                 Least Squares   F-statistic:                     26.77\n",
              "Date:                Tue, 14 Oct 2025   Prob (F-statistic):           1.66e-06\n",
              "Time:                        15:35:46   Log-Likelihood:                -243.67\n",
              "No. Observations:                  82   AIC:                             491.3\n",
              "Df Residuals:                      80   BIC:                             496.2\n",
              "Df Model:                           1                                         \n",
              "Covariance Type:            nonrobust                                         \n",
              "==============================================================================\n",
              "                 coef    std err          t      P>|t|      [0.025      0.975]\n",
              "------------------------------------------------------------------------------\n",
              "Intercept     21.1332      6.473      3.265      0.002       8.252      34.015\n",
              "xavg           0.6590      0.127      5.174      0.000       0.406       0.912\n",
              "==============================================================================\n",
              "Omnibus:                        0.613   Durbin-Watson:                   1.426\n",
              "Prob(Omnibus):                  0.736   Jarque-Bera (JB):                0.579\n",
              "Skew:                           0.197   Prob(JB):                        0.749\n",
              "Kurtosis:                       2.879   Cond. No.                         623.\n",
              "==============================================================================\n",
              "\n",
              "Notes:\n",
              "[1] Standard Errors assume that the covariance matrix of the errors is correctly specified.\n",
              "\"\"\""
            ],
            "text/html": [
              "<table class=\"simpletable\">\n",
              "<caption>OLS Regression Results</caption>\n",
              "<tr>\n",
              "  <th>Dep. Variable:</th>          <td>estim</td>      <th>  R-squared:         </th> <td>   0.251</td>\n",
              "</tr>\n",
              "<tr>\n",
              "  <th>Model:</th>                   <td>OLS</td>       <th>  Adj. R-squared:    </th> <td>   0.241</td>\n",
              "</tr>\n",
              "<tr>\n",
              "  <th>Method:</th>             <td>Least Squares</td>  <th>  F-statistic:       </th> <td>   26.77</td>\n",
              "</tr>\n",
              "<tr>\n",
              "  <th>Date:</th>             <td>Tue, 14 Oct 2025</td> <th>  Prob (F-statistic):</th> <td>1.66e-06</td>\n",
              "</tr>\n",
              "<tr>\n",
              "  <th>Time:</th>                 <td>15:35:46</td>     <th>  Log-Likelihood:    </th> <td> -243.67</td>\n",
              "</tr>\n",
              "<tr>\n",
              "  <th>No. Observations:</th>      <td>    82</td>      <th>  AIC:               </th> <td>   491.3</td>\n",
              "</tr>\n",
              "<tr>\n",
              "  <th>Df Residuals:</th>          <td>    80</td>      <th>  BIC:               </th> <td>   496.2</td>\n",
              "</tr>\n",
              "<tr>\n",
              "  <th>Df Model:</th>              <td>     1</td>      <th>                     </th>     <td> </td>   \n",
              "</tr>\n",
              "<tr>\n",
              "  <th>Covariance Type:</th>      <td>nonrobust</td>    <th>                     </th>     <td> </td>   \n",
              "</tr>\n",
              "</table>\n",
              "<table class=\"simpletable\">\n",
              "<tr>\n",
              "      <td></td>         <th>coef</th>     <th>std err</th>      <th>t</th>      <th>P>|t|</th>  <th>[0.025</th>    <th>0.975]</th>  \n",
              "</tr>\n",
              "<tr>\n",
              "  <th>Intercept</th> <td>   21.1332</td> <td>    6.473</td> <td>    3.265</td> <td> 0.002</td> <td>    8.252</td> <td>   34.015</td>\n",
              "</tr>\n",
              "<tr>\n",
              "  <th>xavg</th>      <td>    0.6590</td> <td>    0.127</td> <td>    5.174</td> <td> 0.000</td> <td>    0.406</td> <td>    0.912</td>\n",
              "</tr>\n",
              "</table>\n",
              "<table class=\"simpletable\">\n",
              "<tr>\n",
              "  <th>Omnibus:</th>       <td> 0.613</td> <th>  Durbin-Watson:     </th> <td>   1.426</td>\n",
              "</tr>\n",
              "<tr>\n",
              "  <th>Prob(Omnibus):</th> <td> 0.736</td> <th>  Jarque-Bera (JB):  </th> <td>   0.579</td>\n",
              "</tr>\n",
              "<tr>\n",
              "  <th>Skew:</th>          <td> 0.197</td> <th>  Prob(JB):          </th> <td>   0.749</td>\n",
              "</tr>\n",
              "<tr>\n",
              "  <th>Kurtosis:</th>      <td> 2.879</td> <th>  Cond. No.          </th> <td>    623.</td>\n",
              "</tr>\n",
              "</table><br/><br/>Notes:<br/>[1] Standard Errors assume that the covariance matrix of the errors is correctly specified."
            ],
            "text/latex": "\\begin{center}\n\\begin{tabular}{lclc}\n\\toprule\n\\textbf{Dep. Variable:}    &      estim       & \\textbf{  R-squared:         } &     0.251   \\\\\n\\textbf{Model:}            &       OLS        & \\textbf{  Adj. R-squared:    } &     0.241   \\\\\n\\textbf{Method:}           &  Least Squares   & \\textbf{  F-statistic:       } &     26.77   \\\\\n\\textbf{Date:}             & Tue, 14 Oct 2025 & \\textbf{  Prob (F-statistic):} &  1.66e-06   \\\\\n\\textbf{Time:}             &     15:35:46     & \\textbf{  Log-Likelihood:    } &   -243.67   \\\\\n\\textbf{No. Observations:} &          82      & \\textbf{  AIC:               } &     491.3   \\\\\n\\textbf{Df Residuals:}     &          80      & \\textbf{  BIC:               } &     496.2   \\\\\n\\textbf{Df Model:}         &           1      & \\textbf{                     } &             \\\\\n\\textbf{Covariance Type:}  &    nonrobust     & \\textbf{                     } &             \\\\\n\\bottomrule\n\\end{tabular}\n\\begin{tabular}{lcccccc}\n                   & \\textbf{coef} & \\textbf{std err} & \\textbf{t} & \\textbf{P$> |$t$|$} & \\textbf{[0.025} & \\textbf{0.975]}  \\\\\n\\midrule\n\\textbf{Intercept} &      21.1332  &        6.473     &     3.265  &         0.002        &        8.252    &       34.015     \\\\\n\\textbf{xavg}      &       0.6590  &        0.127     &     5.174  &         0.000        &        0.406    &        0.912     \\\\\n\\bottomrule\n\\end{tabular}\n\\begin{tabular}{lclc}\n\\textbf{Omnibus:}       &  0.613 & \\textbf{  Durbin-Watson:     } &    1.426  \\\\\n\\textbf{Prob(Omnibus):} &  0.736 & \\textbf{  Jarque-Bera (JB):  } &    0.579  \\\\\n\\textbf{Skew:}          &  0.197 & \\textbf{  Prob(JB):          } &    0.749  \\\\\n\\textbf{Kurtosis:}      &  2.879 & \\textbf{  Cond. No.          } &     623.  \\\\\n\\bottomrule\n\\end{tabular}\n%\\caption{OLS Regression Results}\n\\end{center}\n\nNotes: \\newline\n [1] Standard Errors assume that the covariance matrix of the errors is correctly specified."
          },
          "metadata": {},
          "execution_count": 25
        }
      ],
      "source": [
        "#print the summary\n",
        "res.summary()"
      ]
    },
    {
      "cell_type": "markdown",
      "metadata": {
        "id": "Nrk3VWHUKg5L"
      },
      "source": [
        "**Interpret the value of $R^2$.**"
      ]
    },
    {
      "cell_type": "markdown",
      "metadata": {
        "id": "c-ODkBfAKg5L"
      },
      "source": [
        "R² = 0.251 (Adj. R² = 0.241) means ≈ 25% of the variability in estim is explained by xavg with this linear model; ≈ 75% remains unexplained (noise/other predictors). The slope is statistically different from 0 (F = 26.77, p ≈ 1.66e-06)."
      ]
    },
    {
      "cell_type": "markdown",
      "metadata": {
        "id": "aeFtnJLrKg5M"
      },
      "source": [
        "**How do the fitted coefficients compare to the ones we adjusted by hand?**"
      ]
    },
    {
      "cell_type": "markdown",
      "metadata": {
        "id": "7K_gnToHKg5M"
      },
      "source": [
        "OLS gives Intercept = 21.133 and slope (xavg) = 0.6590 (SEs 6.473 and 0.127; 95% CI for slope ≈ [0.406, 0.912]). If your manual sliders were around β₀ ≈ 20 and β₁ ≈ 0.65, they’re essentially the same; OLS just pinpoints the least-squares optimum."
      ]
    },
    {
      "cell_type": "markdown",
      "metadata": {
        "id": "fCXclKd3Kg5M"
      },
      "source": [
        "What about the noise parameter $\\sigma$? The estimated value is not provided directly in the table but we can easily compute it as the *root mean square error* (RMSE), i.e. $\\hat \\sigma = \\sqrt {\\frac 1 n \\sum_i e_i^2}$ where $ \\frac 1 n \\sum_i()$ refers to the mean over trials and $e_i$ is the *residual* (or error) for trial $i$, i.e. the difference on each trial between the expected value of the report (following the noiseless linear relationship) and the observed value.\n",
        "The array of residuals can be obtained using `res.resid`.\n",
        "**Compute the root mean square error.**"
      ]
    },
    {
      "cell_type": "code",
      "execution_count": null,
      "metadata": {
        "colab": {
          "base_uri": "https://localhost:8080/"
        },
        "id": "rAdR5yOFKg5M",
        "outputId": "690eeff9-4754-4f5e-9dbb-68637a0e80b6"
      },
      "outputs": [
        {
          "output_type": "stream",
          "name": "stdout",
          "text": [
            "Root Mean Squared Error (RMSE): 4.724205577915148\n"
          ]
        }
      ],
      "source": [
        "# Compute the mean square error\n",
        "mse = np.mean(res.resid**2)\n",
        "\n",
        "# Take the square root\n",
        "rmse = np.sqrt(mse)\n",
        "\n",
        "print(\"Root Mean Squared Error (RMSE):\", rmse)"
      ]
    },
    {
      "cell_type": "markdown",
      "metadata": {
        "id": "Ysyu2RFSKg5N"
      },
      "source": [
        "**Compare to the value of noise adjusted by hand.**"
      ]
    },
    {
      "cell_type": "markdown",
      "metadata": {
        "id": "2YWbgQQnKg5N"
      },
      "source": [
        "I set β₀≈18.5 and β₁≈0.60 because that line best followed the cloud’s center, and I set σ≈5 because the typical vertical miss looked ~5 units; RMSE formalizes that same spread and therefore came out nearly equal."
      ]
    },
    {
      "cell_type": "markdown",
      "metadata": {
        "id": "6nDjj4_EKg5N"
      },
      "source": [
        "### 1.3 Analysis of residuals\n",
        "Should we believe these results?\n",
        "\n",
        "One of the underlying assumption when using linear regression is the **normal distribution of independent residual errors**. It basically means two things:\n",
        "- that the noise in the model should be independent from the value of the regressor (a property that goes by the ugly name of *homoskedasticity*). Sometimes this hypothesis is not met, usually because of outliers, and that can corrupt the result of our analysis. We can check whether this is the case *a posteriori* by looking at the profile of the residuals.  The variability of these residuals should not change depending on the regressor value (here, stimulus average).\n",
        "- That the noise comes a Gaussian distribution. For this, we can check a posterior that distribution the residuals is more or less Gaussian.\n",
        "\n",
        "Watch the [second video on linear regression above](https://youtu.be/xIDjj6ZyFuw?si=QES8GYRwbY4H8Lu0&t=290) to understand these checks.\n",
        "\n",
        "Let's perform the first check . **Check this by plotting a scatter plot of model residuals vs. the value of the regressor**. Note that this is basically equivalent to removing the linear trend from the scatter plot of (stimulus, response)."
      ]
    },
    {
      "cell_type": "code",
      "execution_count": null,
      "metadata": {
        "colab": {
          "base_uri": "https://localhost:8080/",
          "height": 449
        },
        "id": "mWJOpfVwKg5N",
        "outputId": "63271b6d-0420-47a9-b13c-e788acf1f4ae"
      },
      "outputs": [
        {
          "output_type": "display_data",
          "data": {
            "text/plain": [
              "<Figure size 640x480 with 1 Axes>"
            ],
            "image/png": "[encoded data removed]"
          },
          "metadata": {}
        }
      ],
      "source": [
        "plt.figure();\n",
        "\n",
        "# plot the residuals versus the independent variable X in a scatter plot\n",
        "plt.scatter(df1['xavg'], res.resid)\n",
        "plt.ylabel('model residuals');\n",
        "plt.xlabel('models independent variable (Xavg)');"
      ]
    },
    {
      "cell_type": "markdown",
      "metadata": {
        "id": "GWM6zfnhKg5O"
      },
      "source": [
        "**What do we learn from this plot?**"
      ]
    },
    {
      "cell_type": "markdown",
      "metadata": {
        "id": "rbSGIuefKg5O"
      },
      "source": [
        "The simple linear model is not obviously misspecified with respect to Xavg; residual structure doesn’t suggest adding curvature terms purely from this check.\n"
      ]
    },
    {
      "cell_type": "markdown",
      "metadata": {
        "id": "-ycddY6CKg5O"
      },
      "source": [
        "Now let's perform the second check: that the residuals are normally distributed. **Plot the distribution of residuals.**"
      ]
    },
    {
      "cell_type": "code",
      "execution_count": null,
      "metadata": {
        "colab": {
          "base_uri": "https://localhost:8080/",
          "height": 449
        },
        "id": "vghBK_pxKg5P",
        "outputId": "3dacc672-bbef-4484-fb10-b37d6b300706"
      },
      "outputs": [
        {
          "output_type": "display_data",
          "data": {
            "text/plain": [
              "<Figure size 640x480 with 1 Axes>"
            ],
            "image/png": "[encoded data removed]"
          },
          "metadata": {}
        }
      ],
      "source": [
        "plt.figure;\n",
        "plt.hist(res.resid);\n",
        "plt.xlabel('residuals');\n",
        "plt.ylabel('trial count');"
      ]
    },
    {
      "cell_type": "markdown",
      "metadata": {
        "id": "VBfmoDX4Kg5P"
      },
      "source": [
        "**What do you conclude?**"
      ]
    },
    {
      "cell_type": "markdown",
      "metadata": {
        "id": "F4uehom1Kg5Q"
      },
      "source": [
        "The residuals are roughly bell-shaped and centered near 0, so Normality looks plausible. There may be slight right-tail heaviness/outliers, but no strong skew or multimodality is evident. The Gaussian error assumption is reasonable for this subject, with only mild deviations at the tails."
      ]
    },
    {
      "cell_type": "markdown",
      "metadata": {
        "id": "xD3Sk_9QKg5Q"
      },
      "source": [
        "This can be done in a more principled manner using quantile-quantile plots with `probplot` (from the `scipy` package). This is some (nonlinear) rescaling the cumulative histogram of the residuals so that, if the residuals are indeed normally distributed, the curve (marked by blue points) should not depart too far from the (red) diagonal line. As you can see, this is the case (except perhaps the little deviation on the far right which is due to the two errors larger than 10 - those two trials may be outliers)."
      ]
    },
    {
      "cell_type": "code",
      "execution_count": null,
      "metadata": {
        "scrolled": true,
        "colab": {
          "base_uri": "https://localhost:8080/",
          "height": 472
        },
        "id": "pkKazD58Kg5Q",
        "outputId": "68253294-b140-41c9-c357-9bc07d346f7d"
      },
      "outputs": [
        {
          "output_type": "display_data",
          "data": {
            "text/plain": [
              "<Figure size 640x480 with 1 Axes>"
            ],
            "image/png": "[encoded data removed]"
          },
          "metadata": {}
        }
      ],
      "source": [
        "# import the function\n",
        "from scipy.stats import probplot\n",
        "\n",
        "# draw quantile-quantile plot\n",
        "plt.figure;\n",
        "probplot(res.resid, plot=plt);"
      ]
    },
    {
      "cell_type": "markdown",
      "metadata": {
        "id": "sSqwV96KKg5R"
      },
      "source": [
        "**What do you conclude from all these checks?**"
      ]
    },
    {
      "cell_type": "markdown",
      "metadata": {
        "id": "3KLxTQDkKg5R"
      },
      "source": [
        "Linearity / independence: Residuals vs. xavg show no systematic pattern—points scatter around 0 → linear relation is reasonable and errors look independent.\n",
        "\n",
        "Homoscedasticity: Residual spread is fairly constant across xavg (no strong “fan” shape) → heteroscedasticity, if present, is mild.\n",
        "\n",
        "Normality: Residual histogram is bell-shaped and the Q–Q plot lies close to the diagonal with only slight right-tail deviations → Normal error assumption is acceptable with a few possible outliers.\n",
        "\n",
        "Overall: Assumptions for simple OLS are largely met for this subject. The model captures a real trend (slope > 0) but explains only about a quarter of the variance (R² ≈ 0.25), so additional predictors or structure would be needed for higher predictive accuracy."
      ]
    },
    {
      "cell_type": "markdown",
      "metadata": {
        "id": "cRGt_3ArKg5S"
      },
      "source": [
        "## 2. Multiple linear regression\n",
        "Multiple linear regression extends the framework above to **estimate jointly the impact of various regressors** (or *independent variables*) on the dependent variable. For example, the simple linear regression above used only the average of the two stimuli as a regressor, which implicitly assumes that both stimuli have the same impact on participant reports. But there is no reason to assume it, and indeed across many tasks humans and non-human subjects tend to weigh differently different pieces of information when they are provided sequentially. Sometimes they weigh more the earlier stimuli (*primacy effect*), sometimes they weigh more the later stimuli (*recency effect*), sometimes it's more complicated.\n",
        "We can estimate this using multiple linear regression where each stimuli are provided as independent regressors.\n",
        "**Implement this regression analysis, again for subject 1.** You basically just need to update the formula from the single linear model, replacing the single regressor with the sum of the two regressors."
      ]
    },
    {
      "cell_type": "code",
      "execution_count": null,
      "metadata": {
        "colab": {
          "base_uri": "https://localhost:8080/",
          "height": 499
        },
        "id": "ZashBG_jKg5f",
        "outputId": "25ea32d6-130c-4bb1-8d98-f024f48eb5ac"
      },
      "outputs": [
        {
          "output_type": "execute_result",
          "data": {
            "text/plain": [
              "<class 'statsmodels.iolib.summary.Summary'>\n",
              "\"\"\"\n",
              "                            OLS Regression Results                            \n",
              "==============================================================================\n",
              "Dep. Variable:                  estim   R-squared:                       0.281\n",
              "Model:                            OLS   Adj. R-squared:                  0.263\n",
              "Method:                 Least Squares   F-statistic:                     15.46\n",
              "Date:                Tue, 14 Oct 2025   Prob (F-statistic):           2.15e-06\n",
              "Time:                        15:50:49   Log-Likelihood:                -241.96\n",
              "No. Observations:                  82   AIC:                             489.9\n",
              "Df Residuals:                      79   BIC:                             497.1\n",
              "Df Model:                           2                                         \n",
              "Covariance Type:            nonrobust                                         \n",
              "==============================================================================\n",
              "                 coef    std err          t      P>|t|      [0.025      0.975]\n",
              "------------------------------------------------------------------------------\n",
              "Intercept     29.4845      7.837      3.762      0.000      13.886      45.083\n",
              "x1             0.0870      0.146      0.595      0.554      -0.204       0.378\n",
              "x2             0.4005      0.074      5.432      0.000       0.254       0.547\n",
              "==============================================================================\n",
              "Omnibus:                        0.525   Durbin-Watson:                   1.371\n",
              "Prob(Omnibus):                  0.769   Jarque-Bera (JB):                0.669\n",
              "Skew:                           0.153   Prob(JB):                        0.716\n",
              "Kurtosis:                       2.680   Cond. No.                     1.08e+03\n",
              "==============================================================================\n",
              "\n",
              "Notes:\n",
              "[1] Standard Errors assume that the covariance matrix of the errors is correctly specified.\n",
              "[2] The condition number is large, 1.08e+03. This might indicate that there are\n",
              "strong multicollinearity or other numerical problems.\n",
              "\"\"\""
            ],
            "text/html": [
              "<table class=\"simpletable\">\n",
              "<caption>OLS Regression Results</caption>\n",
              "<tr>\n",
              "  <th>Dep. Variable:</th>          <td>estim</td>      <th>  R-squared:         </th> <td>   0.281</td>\n",
              "</tr>\n",
              "<tr>\n",
              "  <th>Model:</th>                   <td>OLS</td>       <th>  Adj. R-squared:    </th> <td>   0.263</td>\n",
              "</tr>\n",
              "<tr>\n",
              "  <th>Method:</th>             <td>Least Squares</td>  <th>  F-statistic:       </th> <td>   15.46</td>\n",
              "</tr>\n",
              "<tr>\n",
              "  <th>Date:</th>             <td>Tue, 14 Oct 2025</td> <th>  Prob (F-statistic):</th> <td>2.15e-06</td>\n",
              "</tr>\n",
              "<tr>\n",
              "  <th>Time:</th>                 <td>15:50:49</td>     <th>  Log-Likelihood:    </th> <td> -241.96</td>\n",
              "</tr>\n",
              "<tr>\n",
              "  <th>No. Observations:</th>      <td>    82</td>      <th>  AIC:               </th> <td>   489.9</td>\n",
              "</tr>\n",
              "<tr>\n",
              "  <th>Df Residuals:</th>          <td>    79</td>      <th>  BIC:               </th> <td>   497.1</td>\n",
              "</tr>\n",
              "<tr>\n",
              "  <th>Df Model:</th>              <td>     2</td>      <th>                     </th>     <td> </td>   \n",
              "</tr>\n",
              "<tr>\n",
              "  <th>Covariance Type:</th>      <td>nonrobust</td>    <th>                     </th>     <td> </td>   \n",
              "</tr>\n",
              "</table>\n",
              "<table class=\"simpletable\">\n",
              "<tr>\n",
              "      <td></td>         <th>coef</th>     <th>std err</th>      <th>t</th>      <th>P>|t|</th>  <th>[0.025</th>    <th>0.975]</th>  \n",
              "</tr>\n",
              "<tr>\n",
              "  <th>Intercept</th> <td>   29.4845</td> <td>    7.837</td> <td>    3.762</td> <td> 0.000</td> <td>   13.886</td> <td>   45.083</td>\n",
              "</tr>\n",
              "<tr>\n",
              "  <th>x1</th>        <td>    0.0870</td> <td>    0.146</td> <td>    0.595</td> <td> 0.554</td> <td>   -0.204</td> <td>    0.378</td>\n",
              "</tr>\n",
              "<tr>\n",
              "  <th>x2</th>        <td>    0.4005</td> <td>    0.074</td> <td>    5.432</td> <td> 0.000</td> <td>    0.254</td> <td>    0.547</td>\n",
              "</tr>\n",
              "</table>\n",
              "<table class=\"simpletable\">\n",
              "<tr>\n",
              "  <th>Omnibus:</th>       <td> 0.525</td> <th>  Durbin-Watson:     </th> <td>   1.371</td>\n",
              "</tr>\n",
              "<tr>\n",
              "  <th>Prob(Omnibus):</th> <td> 0.769</td> <th>  Jarque-Bera (JB):  </th> <td>   0.669</td>\n",
              "</tr>\n",
              "<tr>\n",
              "  <th>Skew:</th>          <td> 0.153</td> <th>  Prob(JB):          </th> <td>   0.716</td>\n",
              "</tr>\n",
              "<tr>\n",
              "  <th>Kurtosis:</th>      <td> 2.680</td> <th>  Cond. No.          </th> <td>1.08e+03</td>\n",
              "</tr>\n",
              "</table><br/><br/>Notes:<br/>[1] Standard Errors assume that the covariance matrix of the errors is correctly specified.<br/>[2] The condition number is large, 1.08e+03. This might indicate that there are<br/>strong multicollinearity or other numerical problems."
            ],
            "text/latex": "\\begin{center}\n\\begin{tabular}{lclc}\n\\toprule\n\\textbf{Dep. Variable:}    &      estim       & \\textbf{  R-squared:         } &     0.281   \\\\\n\\textbf{Model:}            &       OLS        & \\textbf{  Adj. R-squared:    } &     0.263   \\\\\n\\textbf{Method:}           &  Least Squares   & \\textbf{  F-statistic:       } &     15.46   \\\\\n\\textbf{Date:}             & Tue, 14 Oct 2025 & \\textbf{  Prob (F-statistic):} &  2.15e-06   \\\\\n\\textbf{Time:}             &     15:50:49     & \\textbf{  Log-Likelihood:    } &   -241.96   \\\\\n\\textbf{No. Observations:} &          82      & \\textbf{  AIC:               } &     489.9   \\\\\n\\textbf{Df Residuals:}     &          79      & \\textbf{  BIC:               } &     497.1   \\\\\n\\textbf{Df Model:}         &           2      & \\textbf{                     } &             \\\\\n\\textbf{Covariance Type:}  &    nonrobust     & \\textbf{                     } &             \\\\\n\\bottomrule\n\\end{tabular}\n\\begin{tabular}{lcccccc}\n                   & \\textbf{coef} & \\textbf{std err} & \\textbf{t} & \\textbf{P$> |$t$|$} & \\textbf{[0.025} & \\textbf{0.975]}  \\\\\n\\midrule\n\\textbf{Intercept} &      29.4845  &        7.837     &     3.762  &         0.000        &       13.886    &       45.083     \\\\\n\\textbf{x1}        &       0.0870  &        0.146     &     0.595  &         0.554        &       -0.204    &        0.378     \\\\\n\\textbf{x2}        &       0.4005  &        0.074     &     5.432  &         0.000        &        0.254    &        0.547     \\\\\n\\bottomrule\n\\end{tabular}\n\\begin{tabular}{lclc}\n\\textbf{Omnibus:}       &  0.525 & \\textbf{  Durbin-Watson:     } &    1.371  \\\\\n\\textbf{Prob(Omnibus):} &  0.769 & \\textbf{  Jarque-Bera (JB):  } &    0.669  \\\\\n\\textbf{Skew:}          &  0.153 & \\textbf{  Prob(JB):          } &    0.716  \\\\\n\\textbf{Kurtosis:}      &  2.680 & \\textbf{  Cond. No.          } & 1.08e+03  \\\\\n\\bottomrule\n\\end{tabular}\n%\\caption{OLS Regression Results}\n\\end{center}\n\nNotes: \\newline\n [1] Standard Errors assume that the covariance matrix of the errors is correctly specified. \\newline\n [2] The condition number is large, 1.08e+03. This might indicate that there are \\newline\n strong multicollinearity or other numerical problems."
          },
          "metadata": {},
          "execution_count": 31
        }
      ],
      "source": [
        "# define the multiple linear regression model\n",
        "mod = ols(formula='estim ~ x1 + x2', data=df1)\n",
        "\n",
        "# fit to data\n",
        "res = mod.fit()\n",
        "\n",
        "# print the summary\n",
        "res.summary()"
      ]
    },
    {
      "cell_type": "markdown",
      "metadata": {
        "id": "QXuxvf0rKg5g"
      },
      "source": [
        "**Plot the value of the weights for the two stimuli as a bar plot (with standard error as error bars).** The value of the weights (starting with the intercept) can be accessed through `res.params[:]`, while the standard errors are called by `res.bse[:]`,"
      ]
    },
    {
      "cell_type": "code",
      "execution_count": null,
      "metadata": {
        "colab": {
          "base_uri": "https://localhost:8080/",
          "height": 435
        },
        "id": "42_kWLWVKg5h",
        "outputId": "a98e5b61-6660-4ff1-9f96-e80cbe01da74"
      },
      "outputs": [
        {
          "output_type": "display_data",
          "data": {
            "text/plain": [
              "<Figure size 640x480 with 1 Axes>"
            ],
            "image/png": "[encoded data removed]"
          },
          "metadata": {}
        }
      ],
      "source": [
        "#creat figure\n",
        "plt.figure\n",
        "\n",
        "# add bar plot with weights of the first and second stimulus\n",
        "plt.bar(range(2),res.params[1:])\n",
        "\n",
        "# add error bars with standard error of these weights\n",
        "plt.errorbar(range(2), res.params[1:], res.bse[1:], fmt='k', linestyle='None');\n",
        "\n",
        "# add tick and axes labels\n",
        "plt.xticks(range(2), ['first stim', 'second stim']);\n",
        "plt.ylabel('weight');"
      ]
    },
    {
      "cell_type": "markdown",
      "metadata": {
        "id": "fzYkr3F_Kg5h"
      },
      "source": [
        "**What do you conclude?**"
      ]
    },
    {
      "cell_type": "markdown",
      "metadata": {
        "id": "HciA4lhPKg5i"
      },
      "source": [
        "Second stimulus is weighted much more than the first. The bar for the second stim is ~0.4 with a small SE, clearly above 0. First-stim weight is small and statistically uncertain. Its error bar spans 0 → consistent with no reliable weight on the first stim. This subject shows a recency effect (later stimulus drives the estimate)."
      ]
    },
    {
      "cell_type": "markdown",
      "metadata": {
        "id": "zy-DPYubKg5i"
      },
      "source": [
        "At this stage we will make a rapid change in the definition of the variables to ease the following analyses, using 50 as the reference point as it was used in the experiment. We will change $x_1$ to $x_1-50$ so that a positive value indicates evidence towards large mean (>50) and a negative value indicates evidence towards low mean (<50). This is done in the code below. Then we can pass the same analysis again and check that it actually does not change anything to the stimulus weights! (Although it does change the intercept)"
      ]
    },
    {
      "cell_type": "code",
      "execution_count": null,
      "metadata": {
        "colab": {
          "base_uri": "https://localhost:8080/",
          "height": 206
        },
        "id": "LFF0OH5RKg5i",
        "outputId": "85d8aed8-4dc1-41e0-dc2a-5fc9e9cdc670"
      },
      "outputs": [
        {
          "output_type": "execute_result",
          "data": {
            "text/plain": [
              "      x1  binchoice      x2    xavg  estim  subj\n",
              "0 -4.625         -1  -8.375 -6.5000     44     1\n",
              "1 -2.500          1 -11.375 -6.9375     41     1\n",
              "2 -2.250          1   7.500  2.6250     54     1\n",
              "3 -3.375         -1 -11.625 -7.5000     40     1\n",
              "4 -2.750         -1  -8.625 -5.6875     45     1"
            ],
            "text/html": [
              "\n",
              "  <div id=\"df-f8f0066d-640c-4890-b3c0-fc76aa400792\" class=\"colab-df-container\">\n",
              "    <div>\n",
              "<style scoped>\n",
              "    .dataframe tbody tr th:only-of-type {\n",
              "        vertical-align: middle;\n",
              "    }\n",
              "\n",
              "    .dataframe tbody tr th {\n",
              "        vertical-align: top;\n",
              "    }\n",
              "\n",
              "    .dataframe thead th {\n",
              "        text-align: right;\n",
              "    }\n",
              "</style>\n",
              "<table border=\"1\" class=\"dataframe\">\n",
              "  <thead>\n",
              "    <tr style=\"text-align: right;\">\n",
              "      <th></th>\n",
              "      <th>x1</th>\n",
              "      <th>binchoice</th>\n",
              "      <th>x2</th>\n",
              "      <th>xavg</th>\n",
              "      <th>estim</th>\n",
              "      <th>subj</th>\n",
              "    </tr>\n",
              "  </thead>\n",
              "  <tbody>\n",
              "    <tr>\n",
              "      <th>0</th>\n",
              "      <td>-4.625</td>\n",
              "      <td>-1</td>\n",
              "      <td>-8.375</td>\n",
              "      <td>-6.5000</td>\n",
              "      <td>44</td>\n",
              "      <td>1</td>\n",
              "    </tr>\n",
              "    <tr>\n",
              "      <th>1</th>\n",
              "      <td>-2.500</td>\n",
              "      <td>1</td>\n",
              "      <td>-11.375</td>\n",
              "      <td>-6.9375</td>\n",
              "      <td>41</td>\n",
              "      <td>1</td>\n",
              "    </tr>\n",
              "    <tr>\n",
              "      <th>2</th>\n",
              "      <td>-2.250</td>\n",
              "      <td>1</td>\n",
              "      <td>7.500</td>\n",
              "      <td>2.6250</td>\n",
              "      <td>54</td>\n",
              "      <td>1</td>\n",
              "    </tr>\n",
              "    <tr>\n",
              "      <th>3</th>\n",
              "      <td>-3.375</td>\n",
              "      <td>-1</td>\n",
              "      <td>-11.625</td>\n",
              "      <td>-7.5000</td>\n",
              "      <td>40</td>\n",
              "      <td>1</td>\n",
              "    </tr>\n",
              "    <tr>\n",
              "      <th>4</th>\n",
              "      <td>-2.750</td>\n",
              "      <td>-1</td>\n",
              "      <td>-8.625</td>\n",
              "      <td>-5.6875</td>\n",
              "      <td>45</td>\n",
              "      <td>1</td>\n",
              "    </tr>\n",
              "  </tbody>\n",
              "</table>\n",
              "</div>\n",
              "    <div class=\"colab-df-buttons\">\n",
              "\n",
              "  <div class=\"colab-df-container\">\n",
              "    <button class=\"colab-df-convert\" onclick=\"convertToInteractive('df-f8f0066d-640c-4890-b3c0-fc76aa400792')\"\n",
              "            title=\"Convert this dataframe to an interactive table.\"\n",
              "            style=\"display:none;\">\n",
              "\n",
              "  <svg xmlns=\"http://www.w3.org/2000/svg\" height=\"24px\" viewBox=\"0 -960 960 960\">\n",
              "    <path d=\"M120-120v-720h720v720H120Zm60-500h600v-160H180v160Zm220 220h160v-160H400v160Zm0 220h160v-160H400v160ZM180-400h160v-160H180v160Zm440 0h160v-160H620v160ZM180-180h160v-160H180v160Zm440 0h160v-160H620v160Z\"/>\n",
              "  </svg>\n",
              "    </button>\n",
              "\n",
              "  <style>\n",
              "    .colab-df-container {\n",
              "      display:flex;\n",
              "      gap: 12px;\n",
              "    }\n",
              "\n",
              "    .colab-df-convert {\n",
              "      background-color: #E8F0FE;\n",
              "      border: none;\n",
              "      border-radius: 50%;\n",
              "      cursor: pointer;\n",
              "      display: none;\n",
              "      fill: #1967D2;\n",
              "      height: 32px;\n",
              "      padding: 0 0 0 0;\n",
              "      width: 32px;\n",
              "    }\n",
              "\n",
              "    .colab-df-convert:hover {\n",
              "      background-color: #E2EBFA;\n",
              "      box-shadow: 0px 1px 2px rgba(60, 64, 67, 0.3), 0px 1px 3px 1px rgba(60, 64, 67, 0.15);\n",
              "      fill: #174EA6;\n",
              "    }\n",
              "\n",
              "    .colab-df-buttons div {\n",
              "      margin-bottom: 4px;\n",
              "    }\n",
              "\n",
              "    [theme=dark] .colab-df-convert {\n",
              "      background-color: #3B4455;\n",
              "      fill: #D2E3FC;\n",
              "    }\n",
              "\n",
              "    [theme=dark] .colab-df-convert:hover {\n",
              "      background-color: #434B5C;\n",
              "      box-shadow: 0px 1px 3px 1px rgba(0, 0, 0, 0.15);\n",
              "      filter: drop-shadow(0px 1px 2px rgba(0, 0, 0, 0.3));\n",
              "      fill: #FFFFFF;\n",
              "    }\n",
              "  </style>\n",
              "\n",
              "    <script>\n",
              "      const buttonEl =\n",
              "        document.querySelector('#df-f8f0066d-640c-4890-b3c0-fc76aa400792 button.colab-df-convert');\n",
              "      buttonEl.style.display =\n",
              "        google.colab.kernel.accessAllowed ? 'block' : 'none';\n",
              "\n",
              "      async function convertToInteractive(key) {\n",
              "        const element = document.querySelector('#df-f8f0066d-640c-4890-b3c0-fc76aa400792');\n",
              "        const dataTable =\n",
              "          await google.colab.kernel.invokeFunction('convertToInteractive',\n",
              "                                                    [key], {});\n",
              "        if (!dataTable) return;\n",
              "\n",
              "        const docLinkHtml = 'Like what you see? Visit the ' +\n",
              "          '<a target=\"_blank\" href=https://colab.research.google.com/notebooks/data_table.ipynb>data table notebook</a>'\n",
              "          + ' to learn more about interactive tables.';\n",
              "        element.innerHTML = '';\n",
              "        dataTable['output_type'] = 'display_data';\n",
              "        await google.colab.output.renderOutput(dataTable, element);\n",
              "        const docLink = document.createElement('div');\n",
              "        docLink.innerHTML = docLinkHtml;\n",
              "        element.appendChild(docLink);\n",
              "      }\n",
              "    </script>\n",
              "  </div>\n",
              "\n",
              "\n",
              "    <div id=\"df-d0b075cf-6b44-406b-96a5-24c006069f5e\">\n",
              "      <button class=\"colab-df-quickchart\" onclick=\"quickchart('df-d0b075cf-6b44-406b-96a5-24c006069f5e')\"\n",
              "                title=\"Suggest charts\"\n",
              "                style=\"display:none;\">\n",
              "\n",
              "<svg xmlns=\"http://www.w3.org/2000/svg\" height=\"24px\"viewBox=\"0 0 24 24\"\n",
              "     width=\"24px\">\n",
              "    <g>\n",
              "        <path d=\"M19 3H5c-1.1 0-2 .9-2 2v14c0 1.1.9 2 2 2h14c1.1 0 2-.9 2-2V5c0-1.1-.9-2-2-2zM9 17H7v-7h2v7zm4 0h-2V7h2v10zm4 0h-2v-4h2v4z\"/>\n",
              "    </g>\n",
              "</svg>\n",
              "      </button>\n",
              "\n",
              "<style>\n",
              "  .colab-df-quickchart {\n",
              "      --bg-color: #E8F0FE;\n",
              "      --fill-color: #1967D2;\n",
              "      --hover-bg-color: #E2EBFA;\n",
              "      --hover-fill-color: #174EA6;\n",
              "      --disabled-fill-color: #AAA;\n",
              "      --disabled-bg-color: #DDD;\n",
              "  }\n",
              "\n",
              "  [theme=dark] .colab-df-quickchart {\n",
              "      --bg-color: #3B4455;\n",
              "      --fill-color: #D2E3FC;\n",
              "      --hover-bg-color: #434B5C;\n",
              "      --hover-fill-color: #FFFFFF;\n",
              "      --disabled-bg-color: #3B4455;\n",
              "      --disabled-fill-color: #666;\n",
              "  }\n",
              "\n",
              "  .colab-df-quickchart {\n",
              "    background-color: var(--bg-color);\n",
              "    border: none;\n",
              "    border-radius: 50%;\n",
              "    cursor: pointer;\n",
              "    display: none;\n",
              "    fill: var(--fill-color);\n",
              "    height: 32px;\n",
              "    padding: 0;\n",
              "    width: 32px;\n",
              "  }\n",
              "\n",
              "  .colab-df-quickchart:hover {\n",
              "    background-color: var(--hover-bg-color);\n",
              "    box-shadow: 0 1px 2px rgba(60, 64, 67, 0.3), 0 1px 3px 1px rgba(60, 64, 67, 0.15);\n",
              "    fill: var(--button-hover-fill-color);\n",
              "  }\n",
              "\n",
              "  .colab-df-quickchart-complete:disabled,\n",
              "  .colab-df-quickchart-complete:disabled:hover {\n",
              "    background-color: var(--disabled-bg-color);\n",
              "    fill: var(--disabled-fill-color);\n",
              "    box-shadow: none;\n",
              "  }\n",
              "\n",
              "  .colab-df-spinner {\n",
              "    border: 2px solid var(--fill-color);\n",
              "    border-color: transparent;\n",
              "    border-bottom-color: var(--fill-color);\n",
              "    animation:\n",
              "      spin 1s steps(1) infinite;\n",
              "  }\n",
              "\n",
              "  @keyframes spin {\n",
              "    0% {\n",
              "      border-color: transparent;\n",
              "      border-bottom-color: var(--fill-color);\n",
              "      border-left-color: var(--fill-color);\n",
              "    }\n",
              "    20% {\n",
              "      border-color: transparent;\n",
              "      border-left-color: var(--fill-color);\n",
              "      border-top-color: var(--fill-color);\n",
              "    }\n",
              "    30% {\n",
              "      border-color: transparent;\n",
              "      border-left-color: var(--fill-color);\n",
              "      border-top-color: var(--fill-color);\n",
              "      border-right-color: var(--fill-color);\n",
              "    }\n",
              "    40% {\n",
              "      border-color: transparent;\n",
              "      border-right-color: var(--fill-color);\n",
              "      border-top-color: var(--fill-color);\n",
              "    }\n",
              "    60% {\n",
              "      border-color: transparent;\n",
              "      border-right-color: var(--fill-color);\n",
              "    }\n",
              "    80% {\n",
              "      border-color: transparent;\n",
              "      border-right-color: var(--fill-color);\n",
              "      border-bottom-color: var(--fill-color);\n",
              "    }\n",
              "    90% {\n",
              "      border-color: transparent;\n",
              "      border-bottom-color: var(--fill-color);\n",
              "    }\n",
              "  }\n",
              "</style>\n",
              "\n",
              "      <script>\n",
              "        async function quickchart(key) {\n",
              "          const quickchartButtonEl =\n",
              "            document.querySelector('#' + key + ' button');\n",
              "          quickchartButtonEl.disabled = true;  // To prevent multiple clicks.\n",
              "          quickchartButtonEl.classList.add('colab-df-spinner');\n",
              "          try {\n",
              "            const charts = await google.colab.kernel.invokeFunction(\n",
              "                'suggestCharts', [key], {});\n",
              "          } catch (error) {\n",
              "            console.error('Error during call to suggestCharts:', error);\n",
              "          }\n",
              "          quickchartButtonEl.classList.remove('colab-df-spinner');\n",
              "          quickchartButtonEl.classList.add('colab-df-quickchart-complete');\n",
              "        }\n",
              "        (() => {\n",
              "          let quickchartButtonEl =\n",
              "            document.querySelector('#df-d0b075cf-6b44-406b-96a5-24c006069f5e button');\n",
              "          quickchartButtonEl.style.display =\n",
              "            google.colab.kernel.accessAllowed ? 'block' : 'none';\n",
              "        })();\n",
              "      </script>\n",
              "    </div>\n",
              "\n",
              "    </div>\n",
              "  </div>\n"
            ],
            "application/vnd.google.colaboratory.intrinsic+json": {
              "type": "dataframe",
              "variable_name": "df",
              "summary": "{\n  \"name\": \"df\",\n  \"rows\": 1738,\n  \"fields\": [\n    {\n      \"column\": \"x1\",\n      \"properties\": {\n        \"dtype\": \"number\",\n        \"std\": 3.5428135338669704,\n        \"min\": -5.75,\n        \"max\": 5.375,\n        \"num_unique_values\": 49,\n        \"samples\": [\n          -4.5,\n          -2.625,\n          0.5\n        ],\n        \"semantic_type\": \"\",\n        \"description\": \"\"\n      }\n    },\n    {\n      \"column\": \"binchoice\",\n      \"properties\": {\n        \"dtype\": \"number\",\n        \"std\": 0,\n        \"min\": -1,\n        \"max\": 1,\n        \"num_unique_values\": 2,\n        \"samples\": [\n          1,\n          -1\n        ],\n        \"semantic_type\": \"\",\n        \"description\": \"\"\n      }\n    },\n    {\n      \"column\": \"x2\",\n      \"properties\": {\n        \"dtype\": \"number\",\n        \"std\": 7.059139895181619,\n        \"min\": -12.375,\n        \"max\": 12.5,\n        \"num_unique_values\": 77,\n        \"samples\": [\n          -8.625,\n          10.625\n        ],\n        \"semantic_type\": \"\",\n        \"description\": \"\"\n      }\n    },\n    {\n      \"column\": \"xavg\",\n      \"properties\": {\n        \"dtype\": \"number\",\n        \"std\": 4.123763788071366,\n        \"min\": -9.0,\n        \"max\": 8.0625,\n        \"num_unique_values\": 71,\n        \"samples\": [\n          1.25,\n          -6.5\n        ],\n        \"semantic_type\": \"\",\n        \"description\": \"\"\n      }\n    },\n    {\n      \"column\": \"estim\",\n      \"properties\": {\n        \"dtype\": \"number\",\n        \"std\": 6,\n        \"min\": 27,\n        \"max\": 73,\n        \"num_unique_values\": 42,\n        \"samples\": [\n          38,\n          61\n        ],\n        \"semantic_type\": \"\",\n        \"description\": \"\"\n      }\n    },\n    {\n      \"column\": \"subj\",\n      \"properties\": {\n        \"dtype\": \"number\",\n        \"std\": 6,\n        \"min\": 1,\n        \"max\": 21,\n        \"num_unique_values\": 21,\n        \"samples\": [\n          1,\n          18\n        ],\n        \"semantic_type\": \"\",\n        \"description\": \"\"\n      }\n    }\n  ]\n}"
            }
          },
          "metadata": {},
          "execution_count": 34
        }
      ],
      "source": [
        "# use 50 as reference point\n",
        "df.x1 = df.x1 - 50\n",
        "df.x2 = df.x2 - 50\n",
        "df.xavg = df.xavg - 50\n",
        "df.head()"
      ]
    },
    {
      "cell_type": "code",
      "execution_count": null,
      "metadata": {
        "colab": {
          "base_uri": "https://localhost:8080/",
          "height": 465
        },
        "id": "orXq5CCRKg5i",
        "outputId": "537aa07f-9444-410e-954f-b0359a53e831"
      },
      "outputs": [
        {
          "output_type": "execute_result",
          "data": {
            "text/plain": [
              "<class 'statsmodels.iolib.summary.Summary'>\n",
              "\"\"\"\n",
              "                            OLS Regression Results                            \n",
              "==============================================================================\n",
              "Dep. Variable:                  estim   R-squared:                       0.281\n",
              "Model:                            OLS   Adj. R-squared:                  0.263\n",
              "Method:                 Least Squares   F-statistic:                     15.46\n",
              "Date:                Tue, 14 Oct 2025   Prob (F-statistic):           2.15e-06\n",
              "Time:                        16:05:39   Log-Likelihood:                -241.96\n",
              "No. Observations:                  82   AIC:                             489.9\n",
              "Df Residuals:                      79   BIC:                             497.1\n",
              "Df Model:                           2                                         \n",
              "Covariance Type:            nonrobust                                         \n",
              "==============================================================================\n",
              "                 coef    std err          t      P>|t|      [0.025      0.975]\n",
              "------------------------------------------------------------------------------\n",
              "Intercept     53.8585      0.541     99.593      0.000      52.782      54.935\n",
              "x1             0.0870      0.146      0.595      0.554      -0.204       0.378\n",
              "x2             0.4005      0.074      5.432      0.000       0.254       0.547\n",
              "==============================================================================\n",
              "Omnibus:                        0.525   Durbin-Watson:                   1.371\n",
              "Prob(Omnibus):                  0.769   Jarque-Bera (JB):                0.669\n",
              "Skew:                           0.153   Prob(JB):                        0.716\n",
              "Kurtosis:                       2.680   Cond. No.                         7.61\n",
              "==============================================================================\n",
              "\n",
              "Notes:\n",
              "[1] Standard Errors assume that the covariance matrix of the errors is correctly specified.\n",
              "\"\"\""
            ],
            "text/html": [
              "<table class=\"simpletable\">\n",
              "<caption>OLS Regression Results</caption>\n",
              "<tr>\n",
              "  <th>Dep. Variable:</th>          <td>estim</td>      <th>  R-squared:         </th> <td>   0.281</td>\n",
              "</tr>\n",
              "<tr>\n",
              "  <th>Model:</th>                   <td>OLS</td>       <th>  Adj. R-squared:    </th> <td>   0.263</td>\n",
              "</tr>\n",
              "<tr>\n",
              "  <th>Method:</th>             <td>Least Squares</td>  <th>  F-statistic:       </th> <td>   15.46</td>\n",
              "</tr>\n",
              "<tr>\n",
              "  <th>Date:</th>             <td>Tue, 14 Oct 2025</td> <th>  Prob (F-statistic):</th> <td>2.15e-06</td>\n",
              "</tr>\n",
              "<tr>\n",
              "  <th>Time:</th>                 <td>16:05:39</td>     <th>  Log-Likelihood:    </th> <td> -241.96</td>\n",
              "</tr>\n",
              "<tr>\n",
              "  <th>No. Observations:</th>      <td>    82</td>      <th>  AIC:               </th> <td>   489.9</td>\n",
              "</tr>\n",
              "<tr>\n",
              "  <th>Df Residuals:</th>          <td>    79</td>      <th>  BIC:               </th> <td>   497.1</td>\n",
              "</tr>\n",
              "<tr>\n",
              "  <th>Df Model:</th>              <td>     2</td>      <th>                     </th>     <td> </td>   \n",
              "</tr>\n",
              "<tr>\n",
              "  <th>Covariance Type:</th>      <td>nonrobust</td>    <th>                     </th>     <td> </td>   \n",
              "</tr>\n",
              "</table>\n",
              "<table class=\"simpletable\">\n",
              "<tr>\n",
              "      <td></td>         <th>coef</th>     <th>std err</th>      <th>t</th>      <th>P>|t|</th>  <th>[0.025</th>    <th>0.975]</th>  \n",
              "</tr>\n",
              "<tr>\n",
              "  <th>Intercept</th> <td>   53.8585</td> <td>    0.541</td> <td>   99.593</td> <td> 0.000</td> <td>   52.782</td> <td>   54.935</td>\n",
              "</tr>\n",
              "<tr>\n",
              "  <th>x1</th>        <td>    0.0870</td> <td>    0.146</td> <td>    0.595</td> <td> 0.554</td> <td>   -0.204</td> <td>    0.378</td>\n",
              "</tr>\n",
              "<tr>\n",
              "  <th>x2</th>        <td>    0.4005</td> <td>    0.074</td> <td>    5.432</td> <td> 0.000</td> <td>    0.254</td> <td>    0.547</td>\n",
              "</tr>\n",
              "</table>\n",
              "<table class=\"simpletable\">\n",
              "<tr>\n",
              "  <th>Omnibus:</th>       <td> 0.525</td> <th>  Durbin-Watson:     </th> <td>   1.371</td>\n",
              "</tr>\n",
              "<tr>\n",
              "  <th>Prob(Omnibus):</th> <td> 0.769</td> <th>  Jarque-Bera (JB):  </th> <td>   0.669</td>\n",
              "</tr>\n",
              "<tr>\n",
              "  <th>Skew:</th>          <td> 0.153</td> <th>  Prob(JB):          </th> <td>   0.716</td>\n",
              "</tr>\n",
              "<tr>\n",
              "  <th>Kurtosis:</th>      <td> 2.680</td> <th>  Cond. No.          </th> <td>    7.61</td>\n",
              "</tr>\n",
              "</table><br/><br/>Notes:<br/>[1] Standard Errors assume that the covariance matrix of the errors is correctly specified."
            ],
            "text/latex": "\\begin{center}\n\\begin{tabular}{lclc}\n\\toprule\n\\textbf{Dep. Variable:}    &      estim       & \\textbf{  R-squared:         } &     0.281   \\\\\n\\textbf{Model:}            &       OLS        & \\textbf{  Adj. R-squared:    } &     0.263   \\\\\n\\textbf{Method:}           &  Least Squares   & \\textbf{  F-statistic:       } &     15.46   \\\\\n\\textbf{Date:}             & Tue, 14 Oct 2025 & \\textbf{  Prob (F-statistic):} &  2.15e-06   \\\\\n\\textbf{Time:}             &     16:05:39     & \\textbf{  Log-Likelihood:    } &   -241.96   \\\\\n\\textbf{No. Observations:} &          82      & \\textbf{  AIC:               } &     489.9   \\\\\n\\textbf{Df Residuals:}     &          79      & \\textbf{  BIC:               } &     497.1   \\\\\n\\textbf{Df Model:}         &           2      & \\textbf{                     } &             \\\\\n\\textbf{Covariance Type:}  &    nonrobust     & \\textbf{                     } &             \\\\\n\\bottomrule\n\\end{tabular}\n\\begin{tabular}{lcccccc}\n                   & \\textbf{coef} & \\textbf{std err} & \\textbf{t} & \\textbf{P$> |$t$|$} & \\textbf{[0.025} & \\textbf{0.975]}  \\\\\n\\midrule\n\\textbf{Intercept} &      53.8585  &        0.541     &    99.593  &         0.000        &       52.782    &       54.935     \\\\\n\\textbf{x1}        &       0.0870  &        0.146     &     0.595  &         0.554        &       -0.204    &        0.378     \\\\\n\\textbf{x2}        &       0.4005  &        0.074     &     5.432  &         0.000        &        0.254    &        0.547     \\\\\n\\bottomrule\n\\end{tabular}\n\\begin{tabular}{lclc}\n\\textbf{Omnibus:}       &  0.525 & \\textbf{  Durbin-Watson:     } &    1.371  \\\\\n\\textbf{Prob(Omnibus):} &  0.769 & \\textbf{  Jarque-Bera (JB):  } &    0.669  \\\\\n\\textbf{Skew:}          &  0.153 & \\textbf{  Prob(JB):          } &    0.716  \\\\\n\\textbf{Kurtosis:}      &  2.680 & \\textbf{  Cond. No.          } &     7.61  \\\\\n\\bottomrule\n\\end{tabular}\n%\\caption{OLS Regression Results}\n\\end{center}\n\nNotes: \\newline\n [1] Standard Errors assume that the covariance matrix of the errors is correctly specified."
          },
          "metadata": {},
          "execution_count": 35
        }
      ],
      "source": [
        "# dataframe for first subject\n",
        "df1 = df[df.subj==1]\n",
        "\n",
        "# re-define the multiple linear regression model\n",
        "mod = ols(formula = 'estim ~ x1 + x2', data=df1)\n",
        "\n",
        "# fit to data again\n",
        "res = mod.fit()\n",
        "\n",
        "# print the summary\n",
        "res.summary()"
      ]
    },
    {
      "cell_type": "markdown",
      "metadata": {
        "id": "hfe-duN5Kg5j"
      },
      "source": [
        "## 3. Population analysis\n",
        "OK, this was just one subject. When we look for an effect in the general population, we use a two-level analysis:\n",
        "* 1) Fit the linear regression model for each subject, separately\n",
        "* 2) Compare the distribution of weights across subjects (e.g. with t-tests)\n",
        "\n",
        "**Use this two-level approach.** First, fit the same regression analysis for all subjects separately (with the two stimuli as regressors) and store the weights of all subjects. Then, plot the average value (across subjects) of the weights for stimulus 1 and stimulus 2 as a bar plot, with individual lines for the weights of individual subjects."
      ]
    },
    {
      "cell_type": "code",
      "execution_count": null,
      "metadata": {
        "scrolled": true,
        "colab": {
          "base_uri": "https://localhost:8080/",
          "height": 449
        },
        "id": "O6oqSVw0Kg5k",
        "outputId": "79e729cf-7c33-403b-b91d-3ade810ab161"
      },
      "outputs": [
        {
          "output_type": "display_data",
          "data": {
            "text/plain": [
              "<Figure size 640x480 with 1 Axes>"
            ],
            "image/png": "[encoded data removed]"
          },
          "metadata": {}
        }
      ],
      "source": [
        "#define numpy array where we will store the weights for all subjects (how many weights per subject?)\n",
        "pars = np.zeros((len(subjects), 3))\n",
        "\n",
        "# loop through all subjects\n",
        "for i,s in enumerate(subjects):\n",
        "\n",
        "    # dataframe with data only for the corresponding subject\n",
        "    df_subj = df[df['subj'] == s]\n",
        "\n",
        "    # define the corresponding model\n",
        "    mod = ols(formula='estim ~ x1 + x2', data=df_subj)\n",
        "\n",
        "    # fit the model\n",
        "    res = mod.fit()\n",
        "\n",
        "    # add the model weights to the array\n",
        "    pars[i,:] = res.params\n",
        "\n",
        "\n",
        "# compute the mean of all weights across subjects (axis defines if we average over rows or columns)\n",
        "mean_weights = np.mean(pars, axis=0)\n",
        "\n",
        "# create figure\n",
        "plt.figure;\n",
        "\n",
        "# bar plot for mean weights for stimulus 1 and 2\n",
        "plt.bar(range(2), mean_weights[1:]);\n",
        "\n",
        "# add grey lines for weights of individual subjects\n",
        "for i in range(len(subjects)):\n",
        "    plt.plot(range(2), pars[i, 1:], 'grey');\n",
        "\n",
        "# add labels for ticks and axes\n",
        "plt.xticks(range(2), ('first stim', 'second stim'));\n",
        "plt.xlabel(\"stimulus\");\n",
        "plt.ylabel(\"weight\");"
      ]
    },
    {
      "cell_type": "markdown",
      "metadata": {
        "id": "nxFfLOWKKg5l"
      },
      "source": [
        "Now, **test formally whether there is a statistical difference across the population by using a *paired* t-test**. This is paired because for each subject we have a value for both distributions, that of the first and second stimulus weights. Paired t-tests are performed using `stats.ttest_rel`."
      ]
    },
    {
      "cell_type": "code",
      "execution_count": null,
      "metadata": {
        "colab": {
          "base_uri": "https://localhost:8080/"
        },
        "id": "kW7jDhGGKg5l",
        "outputId": "f18bed47-f6cb-4c30-f627-8f988177b9da"
      },
      "outputs": [
        {
          "output_type": "execute_result",
          "data": {
            "text/plain": [
              "TtestResult(statistic=np.float64(-2.1380748970935217), pvalue=np.float64(0.04503993674223998), df=np.int64(20))"
            ]
          },
          "metadata": {},
          "execution_count": 37
        }
      ],
      "source": [
        "# Importing library\n",
        "import scipy.stats as stats\n",
        "\n",
        "# Performing the paired sample t-test\n",
        "stats.ttest_rel(pars[:, 1], pars[:, 2])"
      ]
    },
    {
      "cell_type": "markdown",
      "metadata": {
        "id": "fBhUw3o4Kg5l"
      },
      "source": [
        "**What do you conclude?**"
      ]
    },
    {
      "cell_type": "markdown",
      "metadata": {
        "id": "nBmMeYWXKg5l"
      },
      "source": [
        "The second stimulus gets more weight than the first, on average.\n"
      ]
    },
    {
      "cell_type": "markdown",
      "metadata": {
        "id": "G-PJB53dKg5m"
      },
      "source": [
        "## 3. Testing the confirmation bias\n",
        "We are now finally in a position to test the central hypothesis of the experiment: that the intermediate choice biases the perception of the subsequent stimulus, such that this second stimulus will have a larger weight on the final report if is consistent with the intermediate choice than if it is inconsistent. Take some time to make sure you get this, because now we will want to put this in a (simple) equation.\n",
        "But first, let's **define a boolean array for this consistency and add it to the dataframe**. The value of the array should be true if the sign of `binchoice` is the same as that of $x2$ (i.e. if they are both positive, it means that the subject responded \">50\" at the intermediate choice, and that the mean of the second stimulus is above 50), false otherwise. Check that you did good."
      ]
    },
    {
      "cell_type": "code",
      "execution_count": null,
      "metadata": {
        "scrolled": true,
        "colab": {
          "base_uri": "https://localhost:8080/",
          "height": 206
        },
        "id": "_r3cdJIVKg5n",
        "outputId": "a27b8710-486e-4846-c6aa-143b1c3ac06e"
      },
      "outputs": [
        {
          "output_type": "execute_result",
          "data": {
            "text/plain": [
              "      x1  binchoice      x2    xavg  estim  subj  consistent\n",
              "0 -4.625         -1  -8.375 -6.5000     44     1        True\n",
              "1 -2.500          1 -11.375 -6.9375     41     1       False\n",
              "2 -2.250          1   7.500  2.6250     54     1        True\n",
              "3 -3.375         -1 -11.625 -7.5000     40     1        True\n",
              "4 -2.750         -1  -8.625 -5.6875     45     1        True"
            ],
            "text/html": [
              "\n",
              "  <div id=\"df-47a389ab-fd7d-42e7-8c12-4b1f9f5c6966\" class=\"colab-df-container\">\n",
              "    <div>\n",
              "<style scoped>\n",
              "    .dataframe tbody tr th:only-of-type {\n",
              "        vertical-align: middle;\n",
              "    }\n",
              "\n",
              "    .dataframe tbody tr th {\n",
              "        vertical-align: top;\n",
              "    }\n",
              "\n",
              "    .dataframe thead th {\n",
              "        text-align: right;\n",
              "    }\n",
              "</style>\n",
              "<table border=\"1\" class=\"dataframe\">\n",
              "  <thead>\n",
              "    <tr style=\"text-align: right;\">\n",
              "      <th></th>\n",
              "      <th>x1</th>\n",
              "      <th>binchoice</th>\n",
              "      <th>x2</th>\n",
              "      <th>xavg</th>\n",
              "      <th>estim</th>\n",
              "      <th>subj</th>\n",
              "      <th>consistent</th>\n",
              "    </tr>\n",
              "  </thead>\n",
              "  <tbody>\n",
              "    <tr>\n",
              "      <th>0</th>\n",
              "      <td>-4.625</td>\n",
              "      <td>-1</td>\n",
              "      <td>-8.375</td>\n",
              "      <td>-6.5000</td>\n",
              "      <td>44</td>\n",
              "      <td>1</td>\n",
              "      <td>True</td>\n",
              "    </tr>\n",
              "    <tr>\n",
              "      <th>1</th>\n",
              "      <td>-2.500</td>\n",
              "      <td>1</td>\n",
              "      <td>-11.375</td>\n",
              "      <td>-6.9375</td>\n",
              "      <td>41</td>\n",
              "      <td>1</td>\n",
              "      <td>False</td>\n",
              "    </tr>\n",
              "    <tr>\n",
              "      <th>2</th>\n",
              "      <td>-2.250</td>\n",
              "      <td>1</td>\n",
              "      <td>7.500</td>\n",
              "      <td>2.6250</td>\n",
              "      <td>54</td>\n",
              "      <td>1</td>\n",
              "      <td>True</td>\n",
              "    </tr>\n",
              "    <tr>\n",
              "      <th>3</th>\n",
              "      <td>-3.375</td>\n",
              "      <td>-1</td>\n",
              "      <td>-11.625</td>\n",
              "      <td>-7.5000</td>\n",
              "      <td>40</td>\n",
              "      <td>1</td>\n",
              "      <td>True</td>\n",
              "    </tr>\n",
              "    <tr>\n",
              "      <th>4</th>\n",
              "      <td>-2.750</td>\n",
              "      <td>-1</td>\n",
              "      <td>-8.625</td>\n",
              "      <td>-5.6875</td>\n",
              "      <td>45</td>\n",
              "      <td>1</td>\n",
              "      <td>True</td>\n",
              "    </tr>\n",
              "  </tbody>\n",
              "</table>\n",
              "</div>\n",
              "    <div class=\"colab-df-buttons\">\n",
              "\n",
              "  <div class=\"colab-df-container\">\n",
              "    <button class=\"colab-df-convert\" onclick=\"convertToInteractive('df-47a389ab-fd7d-42e7-8c12-4b1f9f5c6966')\"\n",
              "            title=\"Convert this dataframe to an interactive table.\"\n",
              "            style=\"display:none;\">\n",
              "\n",
              "  <svg xmlns=\"http://www.w3.org/2000/svg\" height=\"24px\" viewBox=\"0 -960 960 960\">\n",
              "    <path d=\"M120-120v-720h720v720H120Zm60-500h600v-160H180v160Zm220 220h160v-160H400v160Zm0 220h160v-160H400v160ZM180-400h160v-160H180v160Zm440 0h160v-160H620v160ZM180-180h160v-160H180v160Zm440 0h160v-160H620v160Z\"/>\n",
              "  </svg>\n",
              "    </button>\n",
              "\n",
              "  <style>\n",
              "    .colab-df-container {\n",
              "      display:flex;\n",
              "      gap: 12px;\n",
              "    }\n",
              "\n",
              "    .colab-df-convert {\n",
              "      background-color: #E8F0FE;\n",
              "      border: none;\n",
              "      border-radius: 50%;\n",
              "      cursor: pointer;\n",
              "      display: none;\n",
              "      fill: #1967D2;\n",
              "      height: 32px;\n",
              "      padding: 0 0 0 0;\n",
              "      width: 32px;\n",
              "    }\n",
              "\n",
              "    .colab-df-convert:hover {\n",
              "      background-color: #E2EBFA;\n",
              "      box-shadow: 0px 1px 2px rgba(60, 64, 67, 0.3), 0px 1px 3px 1px rgba(60, 64, 67, 0.15);\n",
              "      fill: #174EA6;\n",
              "    }\n",
              "\n",
              "    .colab-df-buttons div {\n",
              "      margin-bottom: 4px;\n",
              "    }\n",
              "\n",
              "    [theme=dark] .colab-df-convert {\n",
              "      background-color: #3B4455;\n",
              "      fill: #D2E3FC;\n",
              "    }\n",
              "\n",
              "    [theme=dark] .colab-df-convert:hover {\n",
              "      background-color: #434B5C;\n",
              "      box-shadow: 0px 1px 3px 1px rgba(0, 0, 0, 0.15);\n",
              "      filter: drop-shadow(0px 1px 2px rgba(0, 0, 0, 0.3));\n",
              "      fill: #FFFFFF;\n",
              "    }\n",
              "  </style>\n",
              "\n",
              "    <script>\n",
              "      const buttonEl =\n",
              "        document.querySelector('#df-47a389ab-fd7d-42e7-8c12-4b1f9f5c6966 button.colab-df-convert');\n",
              "      buttonEl.style.display =\n",
              "        google.colab.kernel.accessAllowed ? 'block' : 'none';\n",
              "\n",
              "      async function convertToInteractive(key) {\n",
              "        const element = document.querySelector('#df-47a389ab-fd7d-42e7-8c12-4b1f9f5c6966');\n",
              "        const dataTable =\n",
              "          await google.colab.kernel.invokeFunction('convertToInteractive',\n",
              "                                                    [key], {});\n",
              "        if (!dataTable) return;\n",
              "\n",
              "        const docLinkHtml = 'Like what you see? Visit the ' +\n",
              "          '<a target=\"_blank\" href=https://colab.research.google.com/notebooks/data_table.ipynb>data table notebook</a>'\n",
              "          + ' to learn more about interactive tables.';\n",
              "        element.innerHTML = '';\n",
              "        dataTable['output_type'] = 'display_data';\n",
              "        await google.colab.output.renderOutput(dataTable, element);\n",
              "        const docLink = document.createElement('div');\n",
              "        docLink.innerHTML = docLinkHtml;\n",
              "        element.appendChild(docLink);\n",
              "      }\n",
              "    </script>\n",
              "  </div>\n",
              "\n",
              "\n",
              "    <div id=\"df-3589ace8-fc00-4c64-8ee5-fd535fdffd9b\">\n",
              "      <button class=\"colab-df-quickchart\" onclick=\"quickchart('df-3589ace8-fc00-4c64-8ee5-fd535fdffd9b')\"\n",
              "                title=\"Suggest charts\"\n",
              "                style=\"display:none;\">\n",
              "\n",
              "<svg xmlns=\"http://www.w3.org/2000/svg\" height=\"24px\"viewBox=\"0 0 24 24\"\n",
              "     width=\"24px\">\n",
              "    <g>\n",
              "        <path d=\"M19 3H5c-1.1 0-2 .9-2 2v14c0 1.1.9 2 2 2h14c1.1 0 2-.9 2-2V5c0-1.1-.9-2-2-2zM9 17H7v-7h2v7zm4 0h-2V7h2v10zm4 0h-2v-4h2v4z\"/>\n",
              "    </g>\n",
              "</svg>\n",
              "      </button>\n",
              "\n",
              "<style>\n",
              "  .colab-df-quickchart {\n",
              "      --bg-color: #E8F0FE;\n",
              "      --fill-color: #1967D2;\n",
              "      --hover-bg-color: #E2EBFA;\n",
              "      --hover-fill-color: #174EA6;\n",
              "      --disabled-fill-color: #AAA;\n",
              "      --disabled-bg-color: #DDD;\n",
              "  }\n",
              "\n",
              "  [theme=dark] .colab-df-quickchart {\n",
              "      --bg-color: #3B4455;\n",
              "      --fill-color: #D2E3FC;\n",
              "      --hover-bg-color: #434B5C;\n",
              "      --hover-fill-color: #FFFFFF;\n",
              "      --disabled-bg-color: #3B4455;\n",
              "      --disabled-fill-color: #666;\n",
              "  }\n",
              "\n",
              "  .colab-df-quickchart {\n",
              "    background-color: var(--bg-color);\n",
              "    border: none;\n",
              "    border-radius: 50%;\n",
              "    cursor: pointer;\n",
              "    display: none;\n",
              "    fill: var(--fill-color);\n",
              "    height: 32px;\n",
              "    padding: 0;\n",
              "    width: 32px;\n",
              "  }\n",
              "\n",
              "  .colab-df-quickchart:hover {\n",
              "    background-color: var(--hover-bg-color);\n",
              "    box-shadow: 0 1px 2px rgba(60, 64, 67, 0.3), 0 1px 3px 1px rgba(60, 64, 67, 0.15);\n",
              "    fill: var(--button-hover-fill-color);\n",
              "  }\n",
              "\n",
              "  .colab-df-quickchart-complete:disabled,\n",
              "  .colab-df-quickchart-complete:disabled:hover {\n",
              "    background-color: var(--disabled-bg-color);\n",
              "    fill: var(--disabled-fill-color);\n",
              "    box-shadow: none;\n",
              "  }\n",
              "\n",
              "  .colab-df-spinner {\n",
              "    border: 2px solid var(--fill-color);\n",
              "    border-color: transparent;\n",
              "    border-bottom-color: var(--fill-color);\n",
              "    animation:\n",
              "      spin 1s steps(1) infinite;\n",
              "  }\n",
              "\n",
              "  @keyframes spin {\n",
              "    0% {\n",
              "      border-color: transparent;\n",
              "      border-bottom-color: var(--fill-color);\n",
              "      border-left-color: var(--fill-color);\n",
              "    }\n",
              "    20% {\n",
              "      border-color: transparent;\n",
              "      border-left-color: var(--fill-color);\n",
              "      border-top-color: var(--fill-color);\n",
              "    }\n",
              "    30% {\n",
              "      border-color: transparent;\n",
              "      border-left-color: var(--fill-color);\n",
              "      border-top-color: var(--fill-color);\n",
              "      border-right-color: var(--fill-color);\n",
              "    }\n",
              "    40% {\n",
              "      border-color: transparent;\n",
              "      border-right-color: var(--fill-color);\n",
              "      border-top-color: var(--fill-color);\n",
              "    }\n",
              "    60% {\n",
              "      border-color: transparent;\n",
              "      border-right-color: var(--fill-color);\n",
              "    }\n",
              "    80% {\n",
              "      border-color: transparent;\n",
              "      border-right-color: var(--fill-color);\n",
              "      border-bottom-color: var(--fill-color);\n",
              "    }\n",
              "    90% {\n",
              "      border-color: transparent;\n",
              "      border-bottom-color: var(--fill-color);\n",
              "    }\n",
              "  }\n",
              "</style>\n",
              "\n",
              "      <script>\n",
              "        async function quickchart(key) {\n",
              "          const quickchartButtonEl =\n",
              "            document.querySelector('#' + key + ' button');\n",
              "          quickchartButtonEl.disabled = true;  // To prevent multiple clicks.\n",
              "          quickchartButtonEl.classList.add('colab-df-spinner');\n",
              "          try {\n",
              "            const charts = await google.colab.kernel.invokeFunction(\n",
              "                'suggestCharts', [key], {});\n",
              "          } catch (error) {\n",
              "            console.error('Error during call to suggestCharts:', error);\n",
              "          }\n",
              "          quickchartButtonEl.classList.remove('colab-df-spinner');\n",
              "          quickchartButtonEl.classList.add('colab-df-quickchart-complete');\n",
              "        }\n",
              "        (() => {\n",
              "          let quickchartButtonEl =\n",
              "            document.querySelector('#df-3589ace8-fc00-4c64-8ee5-fd535fdffd9b button');\n",
              "          quickchartButtonEl.style.display =\n",
              "            google.colab.kernel.accessAllowed ? 'block' : 'none';\n",
              "        })();\n",
              "      </script>\n",
              "    </div>\n",
              "\n",
              "    </div>\n",
              "  </div>\n"
            ],
            "application/vnd.google.colaboratory.intrinsic+json": {
              "type": "dataframe",
              "variable_name": "df",
              "summary": "{\n  \"name\": \"df\",\n  \"rows\": 1738,\n  \"fields\": [\n    {\n      \"column\": \"x1\",\n      \"properties\": {\n        \"dtype\": \"number\",\n        \"std\": 3.5428135338669704,\n        \"min\": -5.75,\n        \"max\": 5.375,\n        \"num_unique_values\": 49,\n        \"samples\": [\n          -4.5,\n          -2.625,\n          0.5\n        ],\n        \"semantic_type\": \"\",\n        \"description\": \"\"\n      }\n    },\n    {\n      \"column\": \"binchoice\",\n      \"properties\": {\n        \"dtype\": \"number\",\n        \"std\": 0,\n        \"min\": -1,\n        \"max\": 1,\n        \"num_unique_values\": 2,\n        \"samples\": [\n          1,\n          -1\n        ],\n        \"semantic_type\": \"\",\n        \"description\": \"\"\n      }\n    },\n    {\n      \"column\": \"x2\",\n      \"properties\": {\n        \"dtype\": \"number\",\n        \"std\": 7.059139895181619,\n        \"min\": -12.375,\n        \"max\": 12.5,\n        \"num_unique_values\": 77,\n        \"samples\": [\n          -8.625,\n          10.625\n        ],\n        \"semantic_type\": \"\",\n        \"description\": \"\"\n      }\n    },\n    {\n      \"column\": \"xavg\",\n      \"properties\": {\n        \"dtype\": \"number\",\n        \"std\": 4.123763788071366,\n        \"min\": -9.0,\n        \"max\": 8.0625,\n        \"num_unique_values\": 71,\n        \"samples\": [\n          1.25,\n          -6.5\n        ],\n        \"semantic_type\": \"\",\n        \"description\": \"\"\n      }\n    },\n    {\n      \"column\": \"estim\",\n      \"properties\": {\n        \"dtype\": \"number\",\n        \"std\": 6,\n        \"min\": 27,\n        \"max\": 73,\n        \"num_unique_values\": 42,\n        \"samples\": [\n          38,\n          61\n        ],\n        \"semantic_type\": \"\",\n        \"description\": \"\"\n      }\n    },\n    {\n      \"column\": \"subj\",\n      \"properties\": {\n        \"dtype\": \"number\",\n        \"std\": 6,\n        \"min\": 1,\n        \"max\": 21,\n        \"num_unique_values\": 21,\n        \"samples\": [\n          1,\n          18\n        ],\n        \"semantic_type\": \"\",\n        \"description\": \"\"\n      }\n    },\n    {\n      \"column\": \"consistent\",\n      \"properties\": {\n        \"dtype\": \"boolean\",\n        \"num_unique_values\": 2,\n        \"samples\": [\n          false,\n          true\n        ],\n        \"semantic_type\": \"\",\n        \"description\": \"\"\n      }\n    }\n  ]\n}"
            }
          },
          "metadata": {},
          "execution_count": 38
        }
      ],
      "source": [
        "# sign of x2\n",
        "sgn = np.sign(df['x2'])\n",
        "\n",
        "# define boolean array for consistency\n",
        "consistent = sgn == df['binchoice']\n",
        "\n",
        "# add to dataframe\n",
        "df['consistent'] = consistent\n",
        "df.head()"
      ]
    },
    {
      "cell_type": "markdown",
      "metadata": {
        "id": "cpkw0soKKg5o"
      },
      "source": [
        "The previous model (with no impact of the intermediate binary choice on the judgment) can be written as $y = \\beta_0 + \\beta_1 x_1 + \\beta_2 x_2  + \\text{noise}.$\n",
        "How can we change this model to capture a different impact of the second stimulus depending on consistency with the intermediate choice?\n",
        "**Write the equation below** (or equivalently, the definition of the regressors)."
      ]
    },
    {
      "cell_type": "markdown",
      "metadata": {
        "id": "uV8ukdgPKg5p"
      },
      "source": [
        "y=β0​+β1​x1​+β2​x2​+β3​(x2​⋅consistent)+noise."
      ]
    },
    {
      "cell_type": "markdown",
      "metadata": {
        "id": "9v77JSi8Kg5q"
      },
      "source": [
        "Now **add the two new regressors that you will need in the new regression model as variables to the dataframe.** Again, take some time to make sure on the first lines of the dataframe that the new variables do code what we expect them to code."
      ]
    },
    {
      "cell_type": "code",
      "execution_count": null,
      "metadata": {
        "colab": {
          "base_uri": "https://localhost:8080/",
          "height": 206
        },
        "id": "3ABm0g4bKg5s",
        "outputId": "217e385a-ecd5-4bef-e46b-9ed532d0efb7"
      },
      "outputs": [
        {
          "output_type": "execute_result",
          "data": {
            "text/plain": [
              "      x1  binchoice      x2    xavg  estim  subj  consistent  x2_cons  \\\n",
              "0 -4.625         -1  -8.375 -6.5000     44     1        True   -8.375   \n",
              "1 -2.500          1 -11.375 -6.9375     41     1       False   -0.000   \n",
              "2 -2.250          1   7.500  2.6250     54     1        True    7.500   \n",
              "3 -3.375         -1 -11.625 -7.5000     40     1        True  -11.625   \n",
              "4 -2.750         -1  -8.625 -5.6875     45     1        True   -8.625   \n",
              "\n",
              "   x2_incons  \n",
              "0     -0.000  \n",
              "1    -11.375  \n",
              "2      0.000  \n",
              "3     -0.000  \n",
              "4     -0.000  "
            ],
            "text/html": [
              "\n",
              "  <div id=\"df-dc5437ec-3b58-4725-b60d-9b7919218afa\" class=\"colab-df-container\">\n",
              "    <div>\n",
              "<style scoped>\n",
              "    .dataframe tbody tr th:only-of-type {\n",
              "        vertical-align: middle;\n",
              "    }\n",
              "\n",
              "    .dataframe tbody tr th {\n",
              "        vertical-align: top;\n",
              "    }\n",
              "\n",
              "    .dataframe thead th {\n",
              "        text-align: right;\n",
              "    }\n",
              "</style>\n",
              "<table border=\"1\" class=\"dataframe\">\n",
              "  <thead>\n",
              "    <tr style=\"text-align: right;\">\n",
              "      <th></th>\n",
              "      <th>x1</th>\n",
              "      <th>binchoice</th>\n",
              "      <th>x2</th>\n",
              "      <th>xavg</th>\n",
              "      <th>estim</th>\n",
              "      <th>subj</th>\n",
              "      <th>consistent</th>\n",
              "      <th>x2_cons</th>\n",
              "      <th>x2_incons</th>\n",
              "    </tr>\n",
              "  </thead>\n",
              "  <tbody>\n",
              "    <tr>\n",
              "      <th>0</th>\n",
              "      <td>-4.625</td>\n",
              "      <td>-1</td>\n",
              "      <td>-8.375</td>\n",
              "      <td>-6.5000</td>\n",
              "      <td>44</td>\n",
              "      <td>1</td>\n",
              "      <td>True</td>\n",
              "      <td>-8.375</td>\n",
              "      <td>-0.000</td>\n",
              "    </tr>\n",
              "    <tr>\n",
              "      <th>1</th>\n",
              "      <td>-2.500</td>\n",
              "      <td>1</td>\n",
              "      <td>-11.375</td>\n",
              "      <td>-6.9375</td>\n",
              "      <td>41</td>\n",
              "      <td>1</td>\n",
              "      <td>False</td>\n",
              "      <td>-0.000</td>\n",
              "      <td>-11.375</td>\n",
              "    </tr>\n",
              "    <tr>\n",
              "      <th>2</th>\n",
              "      <td>-2.250</td>\n",
              "      <td>1</td>\n",
              "      <td>7.500</td>\n",
              "      <td>2.6250</td>\n",
              "      <td>54</td>\n",
              "      <td>1</td>\n",
              "      <td>True</td>\n",
              "      <td>7.500</td>\n",
              "      <td>0.000</td>\n",
              "    </tr>\n",
              "    <tr>\n",
              "      <th>3</th>\n",
              "      <td>-3.375</td>\n",
              "      <td>-1</td>\n",
              "      <td>-11.625</td>\n",
              "      <td>-7.5000</td>\n",
              "      <td>40</td>\n",
              "      <td>1</td>\n",
              "      <td>True</td>\n",
              "      <td>-11.625</td>\n",
              "      <td>-0.000</td>\n",
              "    </tr>\n",
              "    <tr>\n",
              "      <th>4</th>\n",
              "      <td>-2.750</td>\n",
              "      <td>-1</td>\n",
              "      <td>-8.625</td>\n",
              "      <td>-5.6875</td>\n",
              "      <td>45</td>\n",
              "      <td>1</td>\n",
              "      <td>True</td>\n",
              "      <td>-8.625</td>\n",
              "      <td>-0.000</td>\n",
              "    </tr>\n",
              "  </tbody>\n",
              "</table>\n",
              "</div>\n",
              "    <div class=\"colab-df-buttons\">\n",
              "\n",
              "  <div class=\"colab-df-container\">\n",
              "    <button class=\"colab-df-convert\" onclick=\"convertToInteractive('df-dc5437ec-3b58-4725-b60d-9b7919218afa')\"\n",
              "            title=\"Convert this dataframe to an interactive table.\"\n",
              "            style=\"display:none;\">\n",
              "\n",
              "  <svg xmlns=\"http://www.w3.org/2000/svg\" height=\"24px\" viewBox=\"0 -960 960 960\">\n",
              "    <path d=\"M120-120v-720h720v720H120Zm60-500h600v-160H180v160Zm220 220h160v-160H400v160Zm0 220h160v-160H400v160ZM180-400h160v-160H180v160Zm440 0h160v-160H620v160ZM180-180h160v-160H180v160Zm440 0h160v-160H620v160Z\"/>\n",
              "  </svg>\n",
              "    </button>\n",
              "\n",
              "  <style>\n",
              "    .colab-df-container {\n",
              "      display:flex;\n",
              "      gap: 12px;\n",
              "    }\n",
              "\n",
              "    .colab-df-convert {\n",
              "      background-color: #E8F0FE;\n",
              "      border: none;\n",
              "      border-radius: 50%;\n",
              "      cursor: pointer;\n",
              "      display: none;\n",
              "      fill: #1967D2;\n",
              "      height: 32px;\n",
              "      padding: 0 0 0 0;\n",
              "      width: 32px;\n",
              "    }\n",
              "\n",
              "    .colab-df-convert:hover {\n",
              "      background-color: #E2EBFA;\n",
              "      box-shadow: 0px 1px 2px rgba(60, 64, 67, 0.3), 0px 1px 3px 1px rgba(60, 64, 67, 0.15);\n",
              "      fill: #174EA6;\n",
              "    }\n",
              "\n",
              "    .colab-df-buttons div {\n",
              "      margin-bottom: 4px;\n",
              "    }\n",
              "\n",
              "    [theme=dark] .colab-df-convert {\n",
              "      background-color: #3B4455;\n",
              "      fill: #D2E3FC;\n",
              "    }\n",
              "\n",
              "    [theme=dark] .colab-df-convert:hover {\n",
              "      background-color: #434B5C;\n",
              "      box-shadow: 0px 1px 3px 1px rgba(0, 0, 0, 0.15);\n",
              "      filter: drop-shadow(0px 1px 2px rgba(0, 0, 0, 0.3));\n",
              "      fill: #FFFFFF;\n",
              "    }\n",
              "  </style>\n",
              "\n",
              "    <script>\n",
              "      const buttonEl =\n",
              "        document.querySelector('#df-dc5437ec-3b58-4725-b60d-9b7919218afa button.colab-df-convert');\n",
              "      buttonEl.style.display =\n",
              "        google.colab.kernel.accessAllowed ? 'block' : 'none';\n",
              "\n",
              "      async function convertToInteractive(key) {\n",
              "        const element = document.querySelector('#df-dc5437ec-3b58-4725-b60d-9b7919218afa');\n",
              "        const dataTable =\n",
              "          await google.colab.kernel.invokeFunction('convertToInteractive',\n",
              "                                                    [key], {});\n",
              "        if (!dataTable) return;\n",
              "\n",
              "        const docLinkHtml = 'Like what you see? Visit the ' +\n",
              "          '<a target=\"_blank\" href=https://colab.research.google.com/notebooks/data_table.ipynb>data table notebook</a>'\n",
              "          + ' to learn more about interactive tables.';\n",
              "        element.innerHTML = '';\n",
              "        dataTable['output_type'] = 'display_data';\n",
              "        await google.colab.output.renderOutput(dataTable, element);\n",
              "        const docLink = document.createElement('div');\n",
              "        docLink.innerHTML = docLinkHtml;\n",
              "        element.appendChild(docLink);\n",
              "      }\n",
              "    </script>\n",
              "  </div>\n",
              "\n",
              "\n",
              "    <div id=\"df-99cfb8f7-75fc-4bf0-9da2-9e833160facb\">\n",
              "      <button class=\"colab-df-quickchart\" onclick=\"quickchart('df-99cfb8f7-75fc-4bf0-9da2-9e833160facb')\"\n",
              "                title=\"Suggest charts\"\n",
              "                style=\"display:none;\">\n",
              "\n",
              "<svg xmlns=\"http://www.w3.org/2000/svg\" height=\"24px\"viewBox=\"0 0 24 24\"\n",
              "     width=\"24px\">\n",
              "    <g>\n",
              "        <path d=\"M19 3H5c-1.1 0-2 .9-2 2v14c0 1.1.9 2 2 2h14c1.1 0 2-.9 2-2V5c0-1.1-.9-2-2-2zM9 17H7v-7h2v7zm4 0h-2V7h2v10zm4 0h-2v-4h2v4z\"/>\n",
              "    </g>\n",
              "</svg>\n",
              "      </button>\n",
              "\n",
              "<style>\n",
              "  .colab-df-quickchart {\n",
              "      --bg-color: #E8F0FE;\n",
              "      --fill-color: #1967D2;\n",
              "      --hover-bg-color: #E2EBFA;\n",
              "      --hover-fill-color: #174EA6;\n",
              "      --disabled-fill-color: #AAA;\n",
              "      --disabled-bg-color: #DDD;\n",
              "  }\n",
              "\n",
              "  [theme=dark] .colab-df-quickchart {\n",
              "      --bg-color: #3B4455;\n",
              "      --fill-color: #D2E3FC;\n",
              "      --hover-bg-color: #434B5C;\n",
              "      --hover-fill-color: #FFFFFF;\n",
              "      --disabled-bg-color: #3B4455;\n",
              "      --disabled-fill-color: #666;\n",
              "  }\n",
              "\n",
              "  .colab-df-quickchart {\n",
              "    background-color: var(--bg-color);\n",
              "    border: none;\n",
              "    border-radius: 50%;\n",
              "    cursor: pointer;\n",
              "    display: none;\n",
              "    fill: var(--fill-color);\n",
              "    height: 32px;\n",
              "    padding: 0;\n",
              "    width: 32px;\n",
              "  }\n",
              "\n",
              "  .colab-df-quickchart:hover {\n",
              "    background-color: var(--hover-bg-color);\n",
              "    box-shadow: 0 1px 2px rgba(60, 64, 67, 0.3), 0 1px 3px 1px rgba(60, 64, 67, 0.15);\n",
              "    fill: var(--button-hover-fill-color);\n",
              "  }\n",
              "\n",
              "  .colab-df-quickchart-complete:disabled,\n",
              "  .colab-df-quickchart-complete:disabled:hover {\n",
              "    background-color: var(--disabled-bg-color);\n",
              "    fill: var(--disabled-fill-color);\n",
              "    box-shadow: none;\n",
              "  }\n",
              "\n",
              "  .colab-df-spinner {\n",
              "    border: 2px solid var(--fill-color);\n",
              "    border-color: transparent;\n",
              "    border-bottom-color: var(--fill-color);\n",
              "    animation:\n",
              "      spin 1s steps(1) infinite;\n",
              "  }\n",
              "\n",
              "  @keyframes spin {\n",
              "    0% {\n",
              "      border-color: transparent;\n",
              "      border-bottom-color: var(--fill-color);\n",
              "      border-left-color: var(--fill-color);\n",
              "    }\n",
              "    20% {\n",
              "      border-color: transparent;\n",
              "      border-left-color: var(--fill-color);\n",
              "      border-top-color: var(--fill-color);\n",
              "    }\n",
              "    30% {\n",
              "      border-color: transparent;\n",
              "      border-left-color: var(--fill-color);\n",
              "      border-top-color: var(--fill-color);\n",
              "      border-right-color: var(--fill-color);\n",
              "    }\n",
              "    40% {\n",
              "      border-color: transparent;\n",
              "      border-right-color: var(--fill-color);\n",
              "      border-top-color: var(--fill-color);\n",
              "    }\n",
              "    60% {\n",
              "      border-color: transparent;\n",
              "      border-right-color: var(--fill-color);\n",
              "    }\n",
              "    80% {\n",
              "      border-color: transparent;\n",
              "      border-right-color: var(--fill-color);\n",
              "      border-bottom-color: var(--fill-color);\n",
              "    }\n",
              "    90% {\n",
              "      border-color: transparent;\n",
              "      border-bottom-color: var(--fill-color);\n",
              "    }\n",
              "  }\n",
              "</style>\n",
              "\n",
              "      <script>\n",
              "        async function quickchart(key) {\n",
              "          const quickchartButtonEl =\n",
              "            document.querySelector('#' + key + ' button');\n",
              "          quickchartButtonEl.disabled = true;  // To prevent multiple clicks.\n",
              "          quickchartButtonEl.classList.add('colab-df-spinner');\n",
              "          try {\n",
              "            const charts = await google.colab.kernel.invokeFunction(\n",
              "                'suggestCharts', [key], {});\n",
              "          } catch (error) {\n",
              "            console.error('Error during call to suggestCharts:', error);\n",
              "          }\n",
              "          quickchartButtonEl.classList.remove('colab-df-spinner');\n",
              "          quickchartButtonEl.classList.add('colab-df-quickchart-complete');\n",
              "        }\n",
              "        (() => {\n",
              "          let quickchartButtonEl =\n",
              "            document.querySelector('#df-99cfb8f7-75fc-4bf0-9da2-9e833160facb button');\n",
              "          quickchartButtonEl.style.display =\n",
              "            google.colab.kernel.accessAllowed ? 'block' : 'none';\n",
              "        })();\n",
              "      </script>\n",
              "    </div>\n",
              "\n",
              "    </div>\n",
              "  </div>\n"
            ],
            "application/vnd.google.colaboratory.intrinsic+json": {
              "type": "dataframe",
              "variable_name": "df",
              "summary": "{\n  \"name\": \"df\",\n  \"rows\": 1738,\n  \"fields\": [\n    {\n      \"column\": \"x1\",\n      \"properties\": {\n        \"dtype\": \"number\",\n        \"std\": 3.5428135338669704,\n        \"min\": -5.75,\n        \"max\": 5.375,\n        \"num_unique_values\": 49,\n        \"samples\": [\n          -4.5,\n          -2.625,\n          0.5\n        ],\n        \"semantic_type\": \"\",\n        \"description\": \"\"\n      }\n    },\n    {\n      \"column\": \"binchoice\",\n      \"properties\": {\n        \"dtype\": \"number\",\n        \"std\": 0,\n        \"min\": -1,\n        \"max\": 1,\n        \"num_unique_values\": 2,\n        \"samples\": [\n          1,\n          -1\n        ],\n        \"semantic_type\": \"\",\n        \"description\": \"\"\n      }\n    },\n    {\n      \"column\": \"x2\",\n      \"properties\": {\n        \"dtype\": \"number\",\n        \"std\": 7.059139895181619,\n        \"min\": -12.375,\n        \"max\": 12.5,\n        \"num_unique_values\": 77,\n        \"samples\": [\n          -8.625,\n          10.625\n        ],\n        \"semantic_type\": \"\",\n        \"description\": \"\"\n      }\n    },\n    {\n      \"column\": \"xavg\",\n      \"properties\": {\n        \"dtype\": \"number\",\n        \"std\": 4.123763788071366,\n        \"min\": -9.0,\n        \"max\": 8.0625,\n        \"num_unique_values\": 71,\n        \"samples\": [\n          1.25,\n          -6.5\n        ],\n        \"semantic_type\": \"\",\n        \"description\": \"\"\n      }\n    },\n    {\n      \"column\": \"estim\",\n      \"properties\": {\n        \"dtype\": \"number\",\n        \"std\": 6,\n        \"min\": 27,\n        \"max\": 73,\n        \"num_unique_values\": 42,\n        \"samples\": [\n          38,\n          61\n        ],\n        \"semantic_type\": \"\",\n        \"description\": \"\"\n      }\n    },\n    {\n      \"column\": \"subj\",\n      \"properties\": {\n        \"dtype\": \"number\",\n        \"std\": 6,\n        \"min\": 1,\n        \"max\": 21,\n        \"num_unique_values\": 21,\n        \"samples\": [\n          1,\n          18\n        ],\n        \"semantic_type\": \"\",\n        \"description\": \"\"\n      }\n    },\n    {\n      \"column\": \"consistent\",\n      \"properties\": {\n        \"dtype\": \"boolean\",\n        \"num_unique_values\": 2,\n        \"samples\": [\n          false,\n          true\n        ],\n        \"semantic_type\": \"\",\n        \"description\": \"\"\n      }\n    },\n    {\n      \"column\": \"x2_cons\",\n      \"properties\": {\n        \"dtype\": \"number\",\n        \"std\": 5.074488341599043,\n        \"min\": -12.375,\n        \"max\": 12.5,\n        \"num_unique_values\": 77,\n        \"samples\": [\n          -8.625,\n          0.125\n        ],\n        \"semantic_type\": \"\",\n        \"description\": \"\"\n      }\n    },\n    {\n      \"column\": \"x2_incons\",\n      \"properties\": {\n        \"dtype\": \"number\",\n        \"std\": 5.030657296038486,\n        \"min\": -12.375,\n        \"max\": 12.5,\n        \"num_unique_values\": 77,\n        \"samples\": [\n          -8.0,\n          10.625\n        ],\n        \"semantic_type\": \"\",\n        \"description\": \"\"\n      }\n    }\n  ]\n}"
            }
          },
          "metadata": {},
          "execution_count": 39
        }
      ],
      "source": [
        "# add as variables in dataframe\n",
        "df['x2_cons'] = df['x2'] * df['consistent']\n",
        "df['x2_incons'] = df['x2'] * (~df['consistent'])\n",
        "\n",
        "df.head()"
      ]
    },
    {
      "cell_type": "markdown",
      "metadata": {
        "id": "JodLZUJlKg5t"
      },
      "source": [
        "Almost there! Now **fit the new regression model on all subjects separately and plot the values of the two types of x2 weights one against another**. Specifically, instead of plotting lines as we did for the previous model, we will represent each pair of weights using a scatter plot, with the value of one weight on the x-axis and of the other weight on the y-axis. This way, systematic differences between the weights will be seen as points lying more on one side or the other of the diagonal."
      ]
    },
    {
      "cell_type": "code",
      "execution_count": null,
      "metadata": {
        "colab": {
          "base_uri": "https://localhost:8080/",
          "height": 466
        },
        "id": "F9ABNK0MKg5t",
        "outputId": "33f66ee7-6be9-4e15-825e-9fe43a67c576"
      },
      "outputs": [
        {
          "output_type": "execute_result",
          "data": {
            "text/plain": [
              "Text(0, 0.5, 'weight or subsequent consistent stimulus')"
            ]
          },
          "metadata": {},
          "execution_count": 44
        },
        {
          "output_type": "display_data",
          "data": {
            "text/plain": [
              "<Figure size 640x480 with 1 Axes>"
            ],
            "image/png": "[encoded data removed]"
          },
          "metadata": {}
        }
      ],
      "source": [
        "# create array for weights for each subject (how many weights per subject?)\n",
        "pars = np.zeros((len(subjects), 4))\n",
        "\n",
        "# loop through all subjects\n",
        "for i,s in enumerate(subjects):\n",
        "\n",
        "    # dataframe for this subject\n",
        "    df_subj = df[df['subj'] == s]\n",
        "\n",
        "    # define and fit regression model\n",
        "    mod = ols(formula='estim ~ x1 + x2_cons + x2_incons', data=df_subj)\n",
        "    res = mod.fit()\n",
        "\n",
        "    # store values of the parameters\n",
        "    pars[i,:] = res.params\n",
        "\n",
        "# compute mean across subjects\n",
        "mean_weights = np.mean(pars, axis=0)\n",
        "\n",
        "# create figure\n",
        "plt.figure;\n",
        "\n",
        "# add scatter plot, with values of one set of weights as X, and of the other set of weights as Y\n",
        "plt.scatter(pars[:, 2], pars[:, 3])\n",
        "\n",
        "# add gray diagonal line\n",
        "plt.plot((0,.8),(0,.8),'gray');\n",
        "\n",
        "# vertical and horizontal lines at 0\n",
        "plt.plot(plt.xlim(),(0,0),'k');\n",
        "plt.plot((0,0),plt.ylim(),'k');\n",
        "\n",
        "# axis labels\n",
        "plt.xlabel('weight for subsequent inconsistent stimulus')\n",
        "plt.ylabel('weight or subsequent consistent stimulus')"
      ]
    },
    {
      "cell_type": "markdown",
      "metadata": {
        "id": "V0ccrMi7Kg5t"
      },
      "source": [
        "**Perform a paired T-test between the two sets of weights.**"
      ]
    },
    {
      "cell_type": "code",
      "execution_count": null,
      "metadata": {
        "scrolled": true,
        "colab": {
          "base_uri": "https://localhost:8080/"
        },
        "id": "1HHt2HUdKg5v",
        "outputId": "72677085-0624-489a-f2c7-548ee99a8442"
      },
      "outputs": [
        {
          "output_type": "execute_result",
          "data": {
            "text/plain": [
              "TtestResult(statistic=np.float64(6.775840240142294), pvalue=np.float64(1.370653896457527e-06), df=np.int64(20))"
            ]
          },
          "metadata": {},
          "execution_count": 46
        }
      ],
      "source": [
        "# Performing the paired sample t-test\n",
        "stats.ttest_rel(pars[:, 2], pars[:, 3])"
      ]
    },
    {
      "cell_type": "markdown",
      "metadata": {
        "id": "FpkbBSEyKg5x"
      },
      "source": [
        "**What do you conclude?**"
      ]
    },
    {
      "cell_type": "markdown",
      "metadata": {
        "id": "dLezKe1GKg51"
      },
      "source": [
        "The consistent x2 weight is larger than the inconsistent weight across x2 weight across subjects.\n"
      ]
    },
    {
      "cell_type": "markdown",
      "metadata": {
        "id": "QotDnSu1Kg53"
      },
      "source": [
        "## 4 Modelling the whole population with a single model\n",
        "\n",
        "### 4.1 Naive approach with categorical variables\n",
        "We have seen above the typical two-level analysis when looking for an effect in a population of subjects: fit one model on each subject separately, and then compare the distribution of weights across participants. We will now explore single-step approaches where we would capture the whole dataset with a single regression model. The challenge is to take into account the variability of effects between different subjects in a single model."
      ]
    },
    {
      "cell_type": "markdown",
      "metadata": {
        "id": "klu1tOD6M0E8"
      },
      "source": [
        "We will start with a naive approach that will illustrate how to use **categorical regressors**.\n",
        "So let's say we want to capture the variability of participant biases, i.e. their idiosyncratic tendency to over- or under-evaluate the stimulus mean in their reports. In the linear model, this is captured by the intercept $\\beta_0$.\n",
        "So what we would like is a different intercept for each subject. This is done by adding subject identity as a categorical regressor in the design of a general linear model, which means simply `C(subj)` to the formula. This will estimate one weight for each subject (except the first subject taken as the reference).\n",
        "Note that this is different from simply adding `subj`, which would introduce a continuous instead of categorical regressor (i.e. it would capture a linear trend for later subjects to over-estimate or under-estimate compared to earlier subjects - this is not what we want!).\n",
        "**Add subject as a categorical variable to the linear regression model with x1 and x2 as regressors, and fit to the whole dataset.**"
      ]
    },
    {
      "cell_type": "code",
      "execution_count": null,
      "metadata": {
        "ExecuteTime": {
          "end_time": "2022-02-04T22:46:54.943241Z",
          "start_time": "2022-02-04T22:46:54.939949Z"
        },
        "colab": {
          "base_uri": "https://localhost:8080/",
          "height": 884
        },
        "id": "4YOiX99PKg55",
        "outputId": "91c750b7-34cb-4d47-839e-5e9dd44e0506"
      },
      "outputs": [
        {
          "output_type": "execute_result",
          "data": {
            "text/plain": [
              "<class 'statsmodels.iolib.summary.Summary'>\n",
              "\"\"\"\n",
              "                            OLS Regression Results                            \n",
              "==============================================================================\n",
              "Dep. Variable:                  estim   R-squared:                       0.302\n",
              "Model:                            OLS   Adj. R-squared:                  0.293\n",
              "Method:                 Least Squares   F-statistic:                     33.74\n",
              "Date:                Tue, 14 Oct 2025   Prob (F-statistic):          4.89e-117\n",
              "Time:                        16:54:01   Log-Likelihood:                -5444.9\n",
              "No. Observations:                1738   AIC:                         1.094e+04\n",
              "Df Residuals:                    1715   BIC:                         1.106e+04\n",
              "Df Model:                          22                                         \n",
              "Covariance Type:            nonrobust                                         \n",
              "=================================================================================\n",
              "                    coef    std err          t      P>|t|      [0.025      0.975]\n",
              "---------------------------------------------------------------------------------\n",
              "Intercept        54.0018      0.618     87.348      0.000      52.789      55.214\n",
              "C(subj)[T.2]     -2.3611      0.867     -2.722      0.007      -4.062      -0.660\n",
              "C(subj)[T.3]     -7.4855      0.870     -8.604      0.000      -9.192      -5.779\n",
              "C(subj)[T.4]     -3.5873      0.867     -4.135      0.000      -5.289      -1.886\n",
              "C(subj)[T.5]     -4.6111      0.867     -5.316      0.000      -6.312      -2.910\n",
              "C(subj)[T.6]     -2.0998      0.870     -2.414      0.016      -3.806      -0.393\n",
              "C(subj)[T.7]     -2.9682      0.867     -3.422      0.001      -4.670      -1.267\n",
              "C(subj)[T.8]     -8.3966      0.875     -9.592      0.000     -10.114      -6.680\n",
              "C(subj)[T.9]     -1.7063      0.867     -1.967      0.049      -3.408      -0.005\n",
              "C(subj)[T.10]    -4.8730      0.867     -5.618      0.000      -6.574      -3.172\n",
              "C(subj)[T.11]    -5.6111      0.867     -6.468      0.000      -7.312      -3.910\n",
              "C(subj)[T.12]    -7.8611      0.867     -9.062      0.000      -9.562      -6.160\n",
              "C(subj)[T.13]    -3.1508      0.870     -3.621      0.000      -4.857      -1.444\n",
              "C(subj)[T.14]    -2.9948      0.870     -3.442      0.001      -4.701      -1.288\n",
              "C(subj)[T.15]    -6.3611      0.867     -7.333      0.000      -8.062      -4.660\n",
              "C(subj)[T.16]    -3.4682      0.867     -3.998      0.000      -5.170      -1.767\n",
              "C(subj)[T.17]    -1.8254      0.867     -2.104      0.035      -3.527      -0.124\n",
              "C(subj)[T.18]    -3.7897      0.867     -4.369      0.000      -5.491      -2.088\n",
              "C(subj)[T.19]    -4.4395      0.875     -5.072      0.000      -6.156      -2.723\n",
              "C(subj)[T.20]    -2.3928      0.873     -2.742      0.006      -4.104      -0.681\n",
              "C(subj)[T.21]    -0.5260      0.903     -0.583      0.560      -2.296       1.244\n",
              "x1                0.2900      0.038      7.615      0.000       0.215       0.365\n",
              "x2                0.3661      0.019     19.149      0.000       0.329       0.404\n",
              "==============================================================================\n",
              "Omnibus:                       13.102   Durbin-Watson:                   1.902\n",
              "Prob(Omnibus):                  0.001   Jarque-Bera (JB):               19.086\n",
              "Skew:                           0.002   Prob(JB):                     7.17e-05\n",
              "Kurtosis:                       3.513   Cond. No.                         156.\n",
              "==============================================================================\n",
              "\n",
              "Notes:\n",
              "[1] Standard Errors assume that the covariance matrix of the errors is correctly specified.\n",
              "\"\"\""
            ],
            "text/html": [
              "<table class=\"simpletable\">\n",
              "<caption>OLS Regression Results</caption>\n",
              "<tr>\n",
              "  <th>Dep. Variable:</th>          <td>estim</td>      <th>  R-squared:         </th> <td>   0.302</td> \n",
              "</tr>\n",
              "<tr>\n",
              "  <th>Model:</th>                   <td>OLS</td>       <th>  Adj. R-squared:    </th> <td>   0.293</td> \n",
              "</tr>\n",
              "<tr>\n",
              "  <th>Method:</th>             <td>Least Squares</td>  <th>  F-statistic:       </th> <td>   33.74</td> \n",
              "</tr>\n",
              "<tr>\n",
              "  <th>Date:</th>             <td>Tue, 14 Oct 2025</td> <th>  Prob (F-statistic):</th> <td>4.89e-117</td>\n",
              "</tr>\n",
              "<tr>\n",
              "  <th>Time:</th>                 <td>16:54:01</td>     <th>  Log-Likelihood:    </th> <td> -5444.9</td> \n",
              "</tr>\n",
              "<tr>\n",
              "  <th>No. Observations:</th>      <td>  1738</td>      <th>  AIC:               </th> <td>1.094e+04</td>\n",
              "</tr>\n",
              "<tr>\n",
              "  <th>Df Residuals:</th>          <td>  1715</td>      <th>  BIC:               </th> <td>1.106e+04</td>\n",
              "</tr>\n",
              "<tr>\n",
              "  <th>Df Model:</th>              <td>    22</td>      <th>                     </th>     <td> </td>    \n",
              "</tr>\n",
              "<tr>\n",
              "  <th>Covariance Type:</th>      <td>nonrobust</td>    <th>                     </th>     <td> </td>    \n",
              "</tr>\n",
              "</table>\n",
              "<table class=\"simpletable\">\n",
              "<tr>\n",
              "        <td></td>           <th>coef</th>     <th>std err</th>      <th>t</th>      <th>P>|t|</th>  <th>[0.025</th>    <th>0.975]</th>  \n",
              "</tr>\n",
              "<tr>\n",
              "  <th>Intercept</th>     <td>   54.0018</td> <td>    0.618</td> <td>   87.348</td> <td> 0.000</td> <td>   52.789</td> <td>   55.214</td>\n",
              "</tr>\n",
              "<tr>\n",
              "  <th>C(subj)[T.2]</th>  <td>   -2.3611</td> <td>    0.867</td> <td>   -2.722</td> <td> 0.007</td> <td>   -4.062</td> <td>   -0.660</td>\n",
              "</tr>\n",
              "<tr>\n",
              "  <th>C(subj)[T.3]</th>  <td>   -7.4855</td> <td>    0.870</td> <td>   -8.604</td> <td> 0.000</td> <td>   -9.192</td> <td>   -5.779</td>\n",
              "</tr>\n",
              "<tr>\n",
              "  <th>C(subj)[T.4]</th>  <td>   -3.5873</td> <td>    0.867</td> <td>   -4.135</td> <td> 0.000</td> <td>   -5.289</td> <td>   -1.886</td>\n",
              "</tr>\n",
              "<tr>\n",
              "  <th>C(subj)[T.5]</th>  <td>   -4.6111</td> <td>    0.867</td> <td>   -5.316</td> <td> 0.000</td> <td>   -6.312</td> <td>   -2.910</td>\n",
              "</tr>\n",
              "<tr>\n",
              "  <th>C(subj)[T.6]</th>  <td>   -2.0998</td> <td>    0.870</td> <td>   -2.414</td> <td> 0.016</td> <td>   -3.806</td> <td>   -0.393</td>\n",
              "</tr>\n",
              "<tr>\n",
              "  <th>C(subj)[T.7]</th>  <td>   -2.9682</td> <td>    0.867</td> <td>   -3.422</td> <td> 0.001</td> <td>   -4.670</td> <td>   -1.267</td>\n",
              "</tr>\n",
              "<tr>\n",
              "  <th>C(subj)[T.8]</th>  <td>   -8.3966</td> <td>    0.875</td> <td>   -9.592</td> <td> 0.000</td> <td>  -10.114</td> <td>   -6.680</td>\n",
              "</tr>\n",
              "<tr>\n",
              "  <th>C(subj)[T.9]</th>  <td>   -1.7063</td> <td>    0.867</td> <td>   -1.967</td> <td> 0.049</td> <td>   -3.408</td> <td>   -0.005</td>\n",
              "</tr>\n",
              "<tr>\n",
              "  <th>C(subj)[T.10]</th> <td>   -4.8730</td> <td>    0.867</td> <td>   -5.618</td> <td> 0.000</td> <td>   -6.574</td> <td>   -3.172</td>\n",
              "</tr>\n",
              "<tr>\n",
              "  <th>C(subj)[T.11]</th> <td>   -5.6111</td> <td>    0.867</td> <td>   -6.468</td> <td> 0.000</td> <td>   -7.312</td> <td>   -3.910</td>\n",
              "</tr>\n",
              "<tr>\n",
              "  <th>C(subj)[T.12]</th> <td>   -7.8611</td> <td>    0.867</td> <td>   -9.062</td> <td> 0.000</td> <td>   -9.562</td> <td>   -6.160</td>\n",
              "</tr>\n",
              "<tr>\n",
              "  <th>C(subj)[T.13]</th> <td>   -3.1508</td> <td>    0.870</td> <td>   -3.621</td> <td> 0.000</td> <td>   -4.857</td> <td>   -1.444</td>\n",
              "</tr>\n",
              "<tr>\n",
              "  <th>C(subj)[T.14]</th> <td>   -2.9948</td> <td>    0.870</td> <td>   -3.442</td> <td> 0.001</td> <td>   -4.701</td> <td>   -1.288</td>\n",
              "</tr>\n",
              "<tr>\n",
              "  <th>C(subj)[T.15]</th> <td>   -6.3611</td> <td>    0.867</td> <td>   -7.333</td> <td> 0.000</td> <td>   -8.062</td> <td>   -4.660</td>\n",
              "</tr>\n",
              "<tr>\n",
              "  <th>C(subj)[T.16]</th> <td>   -3.4682</td> <td>    0.867</td> <td>   -3.998</td> <td> 0.000</td> <td>   -5.170</td> <td>   -1.767</td>\n",
              "</tr>\n",
              "<tr>\n",
              "  <th>C(subj)[T.17]</th> <td>   -1.8254</td> <td>    0.867</td> <td>   -2.104</td> <td> 0.035</td> <td>   -3.527</td> <td>   -0.124</td>\n",
              "</tr>\n",
              "<tr>\n",
              "  <th>C(subj)[T.18]</th> <td>   -3.7897</td> <td>    0.867</td> <td>   -4.369</td> <td> 0.000</td> <td>   -5.491</td> <td>   -2.088</td>\n",
              "</tr>\n",
              "<tr>\n",
              "  <th>C(subj)[T.19]</th> <td>   -4.4395</td> <td>    0.875</td> <td>   -5.072</td> <td> 0.000</td> <td>   -6.156</td> <td>   -2.723</td>\n",
              "</tr>\n",
              "<tr>\n",
              "  <th>C(subj)[T.20]</th> <td>   -2.3928</td> <td>    0.873</td> <td>   -2.742</td> <td> 0.006</td> <td>   -4.104</td> <td>   -0.681</td>\n",
              "</tr>\n",
              "<tr>\n",
              "  <th>C(subj)[T.21]</th> <td>   -0.5260</td> <td>    0.903</td> <td>   -0.583</td> <td> 0.560</td> <td>   -2.296</td> <td>    1.244</td>\n",
              "</tr>\n",
              "<tr>\n",
              "  <th>x1</th>            <td>    0.2900</td> <td>    0.038</td> <td>    7.615</td> <td> 0.000</td> <td>    0.215</td> <td>    0.365</td>\n",
              "</tr>\n",
              "<tr>\n",
              "  <th>x2</th>            <td>    0.3661</td> <td>    0.019</td> <td>   19.149</td> <td> 0.000</td> <td>    0.329</td> <td>    0.404</td>\n",
              "</tr>\n",
              "</table>\n",
              "<table class=\"simpletable\">\n",
              "<tr>\n",
              "  <th>Omnibus:</th>       <td>13.102</td> <th>  Durbin-Watson:     </th> <td>   1.902</td>\n",
              "</tr>\n",
              "<tr>\n",
              "  <th>Prob(Omnibus):</th> <td> 0.001</td> <th>  Jarque-Bera (JB):  </th> <td>  19.086</td>\n",
              "</tr>\n",
              "<tr>\n",
              "  <th>Skew:</th>          <td> 0.002</td> <th>  Prob(JB):          </th> <td>7.17e-05</td>\n",
              "</tr>\n",
              "<tr>\n",
              "  <th>Kurtosis:</th>      <td> 3.513</td> <th>  Cond. No.          </th> <td>    156.</td>\n",
              "</tr>\n",
              "</table><br/><br/>Notes:<br/>[1] Standard Errors assume that the covariance matrix of the errors is correctly specified."
            ],
            "text/latex": "\\begin{center}\n\\begin{tabular}{lclc}\n\\toprule\n\\textbf{Dep. Variable:}    &      estim       & \\textbf{  R-squared:         } &     0.302   \\\\\n\\textbf{Model:}            &       OLS        & \\textbf{  Adj. R-squared:    } &     0.293   \\\\\n\\textbf{Method:}           &  Least Squares   & \\textbf{  F-statistic:       } &     33.74   \\\\\n\\textbf{Date:}             & Tue, 14 Oct 2025 & \\textbf{  Prob (F-statistic):} & 4.89e-117   \\\\\n\\textbf{Time:}             &     16:54:01     & \\textbf{  Log-Likelihood:    } &   -5444.9   \\\\\n\\textbf{No. Observations:} &        1738      & \\textbf{  AIC:               } & 1.094e+04   \\\\\n\\textbf{Df Residuals:}     &        1715      & \\textbf{  BIC:               } & 1.106e+04   \\\\\n\\textbf{Df Model:}         &          22      & \\textbf{                     } &             \\\\\n\\textbf{Covariance Type:}  &    nonrobust     & \\textbf{                     } &             \\\\\n\\bottomrule\n\\end{tabular}\n\\begin{tabular}{lcccccc}\n                       & \\textbf{coef} & \\textbf{std err} & \\textbf{t} & \\textbf{P$> |$t$|$} & \\textbf{[0.025} & \\textbf{0.975]}  \\\\\n\\midrule\n\\textbf{Intercept}     &      54.0018  &        0.618     &    87.348  &         0.000        &       52.789    &       55.214     \\\\\n\\textbf{C(subj)[T.2]}  &      -2.3611  &        0.867     &    -2.722  &         0.007        &       -4.062    &       -0.660     \\\\\n\\textbf{C(subj)[T.3]}  &      -7.4855  &        0.870     &    -8.604  &         0.000        &       -9.192    &       -5.779     \\\\\n\\textbf{C(subj)[T.4]}  &      -3.5873  &        0.867     &    -4.135  &         0.000        &       -5.289    &       -1.886     \\\\\n\\textbf{C(subj)[T.5]}  &      -4.6111  &        0.867     &    -5.316  &         0.000        &       -6.312    &       -2.910     \\\\\n\\textbf{C(subj)[T.6]}  &      -2.0998  &        0.870     &    -2.414  &         0.016        &       -3.806    &       -0.393     \\\\\n\\textbf{C(subj)[T.7]}  &      -2.9682  &        0.867     &    -3.422  &         0.001        &       -4.670    &       -1.267     \\\\\n\\textbf{C(subj)[T.8]}  &      -8.3966  &        0.875     &    -9.592  &         0.000        &      -10.114    &       -6.680     \\\\\n\\textbf{C(subj)[T.9]}  &      -1.7063  &        0.867     &    -1.967  &         0.049        &       -3.408    &       -0.005     \\\\\n\\textbf{C(subj)[T.10]} &      -4.8730  &        0.867     &    -5.618  &         0.000        &       -6.574    &       -3.172     \\\\\n\\textbf{C(subj)[T.11]} &      -5.6111  &        0.867     &    -6.468  &         0.000        &       -7.312    &       -3.910     \\\\\n\\textbf{C(subj)[T.12]} &      -7.8611  &        0.867     &    -9.062  &         0.000        &       -9.562    &       -6.160     \\\\\n\\textbf{C(subj)[T.13]} &      -3.1508  &        0.870     &    -3.621  &         0.000        &       -4.857    &       -1.444     \\\\\n\\textbf{C(subj)[T.14]} &      -2.9948  &        0.870     &    -3.442  &         0.001        &       -4.701    &       -1.288     \\\\\n\\textbf{C(subj)[T.15]} &      -6.3611  &        0.867     &    -7.333  &         0.000        &       -8.062    &       -4.660     \\\\\n\\textbf{C(subj)[T.16]} &      -3.4682  &        0.867     &    -3.998  &         0.000        &       -5.170    &       -1.767     \\\\\n\\textbf{C(subj)[T.17]} &      -1.8254  &        0.867     &    -2.104  &         0.035        &       -3.527    &       -0.124     \\\\\n\\textbf{C(subj)[T.18]} &      -3.7897  &        0.867     &    -4.369  &         0.000        &       -5.491    &       -2.088     \\\\\n\\textbf{C(subj)[T.19]} &      -4.4395  &        0.875     &    -5.072  &         0.000        &       -6.156    &       -2.723     \\\\\n\\textbf{C(subj)[T.20]} &      -2.3928  &        0.873     &    -2.742  &         0.006        &       -4.104    &       -0.681     \\\\\n\\textbf{C(subj)[T.21]} &      -0.5260  &        0.903     &    -0.583  &         0.560        &       -2.296    &        1.244     \\\\\n\\textbf{x1}            &       0.2900  &        0.038     &     7.615  &         0.000        &        0.215    &        0.365     \\\\\n\\textbf{x2}            &       0.3661  &        0.019     &    19.149  &         0.000        &        0.329    &        0.404     \\\\\n\\bottomrule\n\\end{tabular}\n\\begin{tabular}{lclc}\n\\textbf{Omnibus:}       & 13.102 & \\textbf{  Durbin-Watson:     } &    1.902  \\\\\n\\textbf{Prob(Omnibus):} &  0.001 & \\textbf{  Jarque-Bera (JB):  } &   19.086  \\\\\n\\textbf{Skew:}          &  0.002 & \\textbf{  Prob(JB):          } & 7.17e-05  \\\\\n\\textbf{Kurtosis:}      &  3.513 & \\textbf{  Cond. No.          } &     156.  \\\\\n\\bottomrule\n\\end{tabular}\n%\\caption{OLS Regression Results}\n\\end{center}\n\nNotes: \\newline\n [1] Standard Errors assume that the covariance matrix of the errors is correctly specified."
          },
          "metadata": {},
          "execution_count": 47
        }
      ],
      "source": [
        "# define the multiple linear regression model\n",
        "mod = ols(formula='estim ~ x1 + x2 + C(subj)', data=df)\n",
        "\n",
        "# fit to data\n",
        "res = mod.fit()\n",
        "\n",
        "# print the summary\n",
        "res.summary()"
      ]
    },
    {
      "cell_type": "markdown",
      "metadata": {
        "id": "ZXhQYt_ZKg55"
      },
      "source": [
        "**Can you find the weights for the regressor of interest? Why are the other regressors not “of interest”? Why do we include them, then?**"
      ]
    },
    {
      "cell_type": "markdown",
      "metadata": {
        "id": "Puw8GLJ8Kg57"
      },
      "source": [
        "The regressors of interest here are the slopes on x1 and x2 (the experimental stimuli). Their coefficients tell you how much the report changes per unit change in each stimulus, controlling for subject.\n",
        "\n",
        "The other regressors are the subject dummies C(subj). They are not of substantive interest because they don’t test the hypothesis about stimulus weighting; they only capture subject-specific baselines (idiosyncratic over/under-estimation).\n",
        "\n",
        "We include them to control for between-subject bias (fixed effects). This prevents omitted-variable bias and gives cleaner, more precise estimates of the x1/x2 effects."
      ]
    },
    {
      "cell_type": "markdown",
      "metadata": {
        "id": "J2XiO7hoKg58"
      },
      "source": [
        "**How do you interpret subject weights?**"
      ]
    },
    {
      "cell_type": "markdown",
      "metadata": {
        "id": "NILUSbJLKg5-"
      },
      "source": [
        "The printed Intercept is the baseline for the reference subject (the level of subj that’s omitted, e.g., subject 1).\n",
        "\n",
        "Each C(subj)[T.k] is the difference in intercept for subject k relative to the reference subject, holding x1 and x2 constant.\n",
        "\n",
        "Positive value → subject k reports higher overall than the reference.\n",
        "\n",
        "Negative value → subject k reports lower overall.\n",
        "\n",
        "They are intercepts (bias shifts), not slopes; they do not change how strongly x1/x2 affect the outcome—only the subject’s baseline level."
      ]
    },
    {
      "cell_type": "markdown",
      "metadata": {
        "id": "4g2PMaMJKg5-"
      },
      "source": [
        "### 4.2 Linear mixed models\n",
        "Now we will take is a more principled approach to it, *linear mixed models*. In this framework, we consider subjects as *random factors*, i.e. factors that are not of interest per se but that contribute to the variability. Instead of estimating one parameter per subject, these models directly estimate the variance of the weight across the population (assuming, again, Gaussian statistics). In this way, one parameter of variance will take care of the variability across participants. Linear models that include both fixed factors (the baseline effect in the whole population - what we are generally interested in) and random factors (a variance parameter accounting for a family of regressors) are called \"mixed models\". These are usually the way that we should model subjects in our designs. Mixed models in the case of linear regression are called linear mixed models."
      ]
    },
    {
      "cell_type": "markdown",
      "metadata": {
        "id": "pkyKDmvFKg5_"
      },
      "source": [
        "Let us implement a linear mixed model where the random factor for the intercept of each participant. This is very similar to the traditional linear regression model we just defined with subject-specific biases, except that now we directly estimate the distribution of biases across the population, rather than each subject bias."
      ]
    },
    {
      "cell_type": "code",
      "execution_count": null,
      "metadata": {
        "ExecuteTime": {
          "end_time": "2022-02-04T22:46:55.260351Z",
          "start_time": "2022-02-04T22:46:54.971773Z"
        },
        "colab": {
          "base_uri": "https://localhost:8080/",
          "height": 268
        },
        "id": "OawmGQU2M0FF",
        "outputId": "fcfe1de1-b236-4c7d-e36e-0357cf7fca16"
      },
      "outputs": [
        {
          "output_type": "execute_result",
          "data": {
            "text/plain": [
              "<class 'statsmodels.iolib.summary2.Summary'>\n",
              "\"\"\"\n",
              "         Mixed Linear Model Regression Results\n",
              "========================================================\n",
              "Model:            MixedLM Dependent Variable: estim     \n",
              "No. Observations: 1738    Method:             REML      \n",
              "No. Groups:       21      Scale:              31.2233   \n",
              "Min. group size:  72      Log-Likelihood:     -5487.8269\n",
              "Max. group size:  84      Converged:          Yes       \n",
              "Mean group size:  82.8                                  \n",
              "--------------------------------------------------------\n",
              "              Coef.  Std.Err.   z    P>|z| [0.025 0.975]\n",
              "--------------------------------------------------------\n",
              "Intercept     50.166    0.502 99.922 0.000 49.182 51.150\n",
              "x1             0.290    0.038  7.618 0.000  0.215  0.365\n",
              "x2             0.366    0.019 19.152 0.000  0.329  0.404\n",
              "Group Var      4.889    0.300                           \n",
              "========================================================\n",
              "\n",
              "\"\"\""
            ],
            "text/html": [
              "<table class=\"simpletable\">\n",
              "<tr>\n",
              "       <td>Model:</td>       <td>MixedLM</td> <td>Dependent Variable:</td>    <td>estim</td>  \n",
              "</tr>\n",
              "<tr>\n",
              "  <td>No. Observations:</td>  <td>1738</td>         <td>Method:</td>          <td>REML</td>   \n",
              "</tr>\n",
              "<tr>\n",
              "     <td>No. Groups:</td>      <td>21</td>          <td>Scale:</td>          <td>31.2233</td> \n",
              "</tr>\n",
              "<tr>\n",
              "  <td>Min. group size:</td>    <td>72</td>      <td>Log-Likelihood:</td>   <td>-5487.8269</td>\n",
              "</tr>\n",
              "<tr>\n",
              "  <td>Max. group size:</td>    <td>84</td>        <td>Converged:</td>          <td>Yes</td>   \n",
              "</tr>\n",
              "<tr>\n",
              "  <td>Mean group size:</td>   <td>82.8</td>            <td></td>                <td></td>     \n",
              "</tr>\n",
              "</table>\n",
              "<table class=\"simpletable\">\n",
              "<tr>\n",
              "      <td></td>       <th>Coef.</th> <th>Std.Err.</th>    <th>z</th>   <th>P>|z|</th> <th>[0.025</th> <th>0.975]</th>\n",
              "</tr>\n",
              "<tr>\n",
              "  <th>Intercept</th> <td>50.166</td>   <td>0.502</td>  <td>99.922</td> <td>0.000</td> <td>49.182</td> <td>51.150</td>\n",
              "</tr>\n",
              "<tr>\n",
              "  <th>x1</th>         <td>0.290</td>   <td>0.038</td>   <td>7.618</td> <td>0.000</td>  <td>0.215</td>  <td>0.365</td>\n",
              "</tr>\n",
              "<tr>\n",
              "  <th>x2</th>         <td>0.366</td>   <td>0.019</td>  <td>19.152</td> <td>0.000</td>  <td>0.329</td>  <td>0.404</td>\n",
              "</tr>\n",
              "<tr>\n",
              "  <th>Group Var</th>  <td>4.889</td>   <td>0.300</td>     <td></td>      <td></td>       <td></td>       <td></td>   \n",
              "</tr>\n",
              "</table><br/>\n"
            ],
            "text/latex": "\\begin{table}\n\\caption{Mixed Linear Model Regression Results}\n\\label{}\n\\begin{center}\n\\begin{tabular}{llll}\n\\hline\nModel:            & MixedLM & Dependent Variable: & estim       \\\\\nNo. Observations: & 1738    & Method:             & REML        \\\\\nNo. Groups:       & 21      & Scale:              & 31.2233     \\\\\nMin. group size:  & 72      & Log-Likelihood:     & -5487.8269  \\\\\nMax. group size:  & 84      & Converged:          & Yes         \\\\\nMean group size:  & 82.8    &                     &             \\\\\n\\hline\n\\end{tabular}\n\\end{center}\n\n\\begin{center}\n\\begin{tabular}{lrrrrrr}\n\\hline\n          &  Coef. & Std.Err. &      z & P$> |$z$|$ & [0.025 & 0.975]  \\\\\n\\hline\nIntercept & 50.166 &    0.502 & 99.922 &       0.000 & 49.182 & 51.150  \\\\\nx1        &  0.290 &    0.038 &  7.618 &       0.000 &  0.215 &  0.365  \\\\\nx2        &  0.366 &    0.019 & 19.152 &       0.000 &  0.329 &  0.404  \\\\\nGroup Var &  4.889 &    0.300 &        &             &        &         \\\\\n\\hline\n\\end{tabular}\n\\end{center}\n\\end{table}\n\\bigskip\n"
          },
          "metadata": {},
          "execution_count": 48
        }
      ],
      "source": [
        "# import package\n",
        "from statsmodels.formula.api import mixedlm\n",
        "\n",
        "# define model:\n",
        "# - the fixed effects are given in the formula as for ols\n",
        "# - the random factor is defined by 'groups' (variable 'subj')\n",
        "# - the random effects (which weights should vary per subject) is defined by re_formula (here, just the intercept so \"~1\")\n",
        "mod_sub = mixedlm(formula='estim ~ x1 + x2', data=df, groups=df['subj'], re_formula=\"~1\")\n",
        "\n",
        "# fit the model\n",
        "res_sub = mod_sub.fit(maxiter=500,method=\"nm\", reml=\"false\")\n",
        "\n",
        "# show summary\n",
        "res_sub.summary()"
      ]
    },
    {
      "cell_type": "markdown",
      "metadata": {
        "id": "7c16GQOBKg6A"
      },
      "source": [
        "This model gives us a similar result to what we got when we modeled subjects as fixed factors above. But actually subjects will differ not only because of their overall bias, but also because of a different weighting of stimulus information. So a better model will incorporate this variability, by adding the first and second stimuli as random factors."
      ]
    },
    {
      "cell_type": "code",
      "execution_count": null,
      "metadata": {
        "ExecuteTime": {
          "end_time": "2022-02-04T22:46:56.059655Z",
          "start_time": "2022-02-04T22:46:55.261765Z"
        },
        "colab": {
          "base_uri": "https://localhost:8080/",
          "height": 477
        },
        "id": "erjKeS6oKg6A",
        "outputId": "1cd2a621-54d0-4ce1-e8b0-be994dbbb2a1"
      },
      "outputs": [
        {
          "output_type": "stream",
          "name": "stderr",
          "text": [
            "/usr/local/lib/python3.12/dist-packages/statsmodels/base/model.py:607: ConvergenceWarning: Maximum Likelihood optimization failed to converge. Check mle_retvals\n",
            "  warnings.warn(\"Maximum Likelihood optimization failed to \"\n",
            "/usr/local/lib/python3.12/dist-packages/statsmodels/regression/mixed_linear_model.py:2206: ConvergenceWarning: MixedLM optimization failed, trying a different optimizer may help.\n",
            "  warnings.warn(msg, ConvergenceWarning)\n",
            "/usr/local/lib/python3.12/dist-packages/statsmodels/regression/mixed_linear_model.py:2218: ConvergenceWarning: Gradient optimization failed, |grad| = 22.063373\n",
            "  warnings.warn(msg, ConvergenceWarning)\n"
          ]
        },
        {
          "output_type": "execute_result",
          "data": {
            "text/plain": [
              "<class 'statsmodels.iolib.summary2.Summary'>\n",
              "\"\"\"\n",
              "          Mixed Linear Model Regression Results\n",
              "=========================================================\n",
              "Model:             MixedLM Dependent Variable: estim     \n",
              "No. Observations:  1738    Method:             REML      \n",
              "No. Groups:        21      Scale:              30.1139   \n",
              "Min. group size:   72      Log-Likelihood:     -5470.9465\n",
              "Max. group size:   84      Converged:          No        \n",
              "Mean group size:   82.8                                  \n",
              "---------------------------------------------------------\n",
              "               Coef.  Std.Err.   z    P>|z| [0.025 0.975]\n",
              "---------------------------------------------------------\n",
              "Intercept      50.167    0.502 99.912 0.000 49.183 51.151\n",
              "x1              0.289    0.046  6.291 0.000  0.199  0.379\n",
              "x2              0.365    0.034 10.696 0.000  0.298  0.432\n",
              "Group Var       4.904    0.319                           \n",
              "Group x x1 Cov -0.108    0.025                           \n",
              "x1 Var          0.015    0.004                           \n",
              "Group x x2 Cov  0.001    0.015                           \n",
              "x1 x x2 Cov     0.015    0.002                           \n",
              "x2 Var          0.017    0.001                           \n",
              "=========================================================\n",
              "\n",
              "\"\"\""
            ],
            "text/html": [
              "<table class=\"simpletable\">\n",
              "<tr>\n",
              "       <td>Model:</td>       <td>MixedLM</td> <td>Dependent Variable:</td>    <td>estim</td>  \n",
              "</tr>\n",
              "<tr>\n",
              "  <td>No. Observations:</td>  <td>1738</td>         <td>Method:</td>          <td>REML</td>   \n",
              "</tr>\n",
              "<tr>\n",
              "     <td>No. Groups:</td>      <td>21</td>          <td>Scale:</td>          <td>30.1139</td> \n",
              "</tr>\n",
              "<tr>\n",
              "  <td>Min. group size:</td>    <td>72</td>      <td>Log-Likelihood:</td>   <td>-5470.9465</td>\n",
              "</tr>\n",
              "<tr>\n",
              "  <td>Max. group size:</td>    <td>84</td>        <td>Converged:</td>          <td>No</td>    \n",
              "</tr>\n",
              "<tr>\n",
              "  <td>Mean group size:</td>   <td>82.8</td>            <td></td>                <td></td>     \n",
              "</tr>\n",
              "</table>\n",
              "<table class=\"simpletable\">\n",
              "<tr>\n",
              "         <td></td>         <th>Coef.</th> <th>Std.Err.</th>    <th>z</th>   <th>P>|z|</th> <th>[0.025</th> <th>0.975]</th>\n",
              "</tr>\n",
              "<tr>\n",
              "  <th>Intercept</th>      <td>50.167</td>   <td>0.502</td>  <td>99.912</td> <td>0.000</td> <td>49.183</td> <td>51.151</td>\n",
              "</tr>\n",
              "<tr>\n",
              "  <th>x1</th>              <td>0.289</td>   <td>0.046</td>   <td>6.291</td> <td>0.000</td>  <td>0.199</td>  <td>0.379</td>\n",
              "</tr>\n",
              "<tr>\n",
              "  <th>x2</th>              <td>0.365</td>   <td>0.034</td>  <td>10.696</td> <td>0.000</td>  <td>0.298</td>  <td>0.432</td>\n",
              "</tr>\n",
              "<tr>\n",
              "  <th>Group Var</th>       <td>4.904</td>   <td>0.319</td>     <td></td>      <td></td>       <td></td>       <td></td>   \n",
              "</tr>\n",
              "<tr>\n",
              "  <th>Group x x1 Cov</th> <td>-0.108</td>   <td>0.025</td>     <td></td>      <td></td>       <td></td>       <td></td>   \n",
              "</tr>\n",
              "<tr>\n",
              "  <th>x1 Var</th>          <td>0.015</td>   <td>0.004</td>     <td></td>      <td></td>       <td></td>       <td></td>   \n",
              "</tr>\n",
              "<tr>\n",
              "  <th>Group x x2 Cov</th>  <td>0.001</td>   <td>0.015</td>     <td></td>      <td></td>       <td></td>       <td></td>   \n",
              "</tr>\n",
              "<tr>\n",
              "  <th>x1 x x2 Cov</th>     <td>0.015</td>   <td>0.002</td>     <td></td>      <td></td>       <td></td>       <td></td>   \n",
              "</tr>\n",
              "<tr>\n",
              "  <th>x2 Var</th>          <td>0.017</td>   <td>0.001</td>     <td></td>      <td></td>       <td></td>       <td></td>   \n",
              "</tr>\n",
              "</table><br/>\n"
            ],
            "text/latex": "\\begin{table}\n\\caption{Mixed Linear Model Regression Results}\n\\label{}\n\\begin{center}\n\\begin{tabular}{llll}\n\\hline\nModel:            & MixedLM & Dependent Variable: & estim       \\\\\nNo. Observations: & 1738    & Method:             & REML        \\\\\nNo. Groups:       & 21      & Scale:              & 30.1139     \\\\\nMin. group size:  & 72      & Log-Likelihood:     & -5470.9465  \\\\\nMax. group size:  & 84      & Converged:          & No          \\\\\nMean group size:  & 82.8    &                     &             \\\\\n\\hline\n\\end{tabular}\n\\end{center}\n\n\\begin{center}\n\\begin{tabular}{lrrrrrr}\n\\hline\n               &  Coef. & Std.Err. &      z & P$> |$z$|$ & [0.025 & 0.975]  \\\\\n\\hline\nIntercept      & 50.167 &    0.502 & 99.912 &       0.000 & 49.183 & 51.151  \\\\\nx1             &  0.289 &    0.046 &  6.291 &       0.000 &  0.199 &  0.379  \\\\\nx2             &  0.365 &    0.034 & 10.696 &       0.000 &  0.298 &  0.432  \\\\\nGroup Var      &  4.904 &    0.319 &        &             &        &         \\\\\nGroup x x1 Cov & -0.108 &    0.025 &        &             &        &         \\\\\nx1 Var         &  0.015 &    0.004 &        &             &        &         \\\\\nGroup x x2 Cov &  0.001 &    0.015 &        &             &        &         \\\\\nx1 x x2 Cov    &  0.015 &    0.002 &        &             &        &         \\\\\nx2 Var         &  0.017 &    0.001 &        &             &        &         \\\\\n\\hline\n\\end{tabular}\n\\end{center}\n\\end{table}\n\\bigskip\n"
          },
          "metadata": {},
          "execution_count": 49
        }
      ],
      "source": [
        "from statsmodels.formula.api import mixedlm\n",
        "\n",
        "# same as above, but now the random effects include x1 and x2\n",
        "mod_sub = mixedlm(formula='estim ~ x1 + x2', data=df, groups=df['subj'], re_formula=\"~x1+x2\")\n",
        "res_sub = mod_sub.fit(maxiter=500,method=\"nm\", reml=\"false\")\n",
        "\n",
        "res_sub.summary()"
      ]
    }
  ],
  "metadata": {
    "colab": {
      "provenance": [],
      "include_colab_link": true
    },
    "hide_input": false,
    "kernelspec": {
      "display_name": "Python 3 (ipykernel)",
      "language": "python",
      "name": "python3"
    },
    "language_info": {
      "codemirror_mode": {
        "name": "ipython",
        "version": 3
      },
      "file_extension": ".py",
      "mimetype": "text/x-python",
      "name": "python",
      "nbconvert_exporter": "python",
      "pygments_lexer": "ipython3",
      "version": "3.10.8"
    },
    "toc": {
      "base_numbering": 1,
      "nav_menu": {},
      "number_sections": true,
      "sideBar": true,
      "skip_h1_title": false,
      "title_cell": "Table of Contents",
      "title_sidebar": "Contents",
      "toc_cell": false,
      "toc_position": {},
      "toc_section_display": true,
      "toc_window_display": false
    },
    "varInspector": {
      "cols": {
        "lenName": 16,
        "lenType": 16,
        "lenVar": 40
      },
      "kernels_config": {
        "python": {
          "delete_cmd_postfix": "",
          "delete_cmd_prefix": "del ",
          "library": "var_list.py",
          "varRefreshCmd": "print(var_dic_list())"
        },
        "r": {
          "delete_cmd_postfix": ") ",
          "delete_cmd_prefix": "rm(",
          "library": "var_list.r",
          "varRefreshCmd": "cat(var_dic_list()) "
        }
      },
      "types_to_exclude": [
        "module",
        "function",
        "builtin_function_or_method",
        "instance",
        "_Feature"
      ],
      "window_display": false
    },
    "widgets": {
      "application/vnd.jupyter.widget-state+json": {
        "3683c712e1504c828014c9424dc471ed": {
          "model_module": "@jupyter-widgets/controls",
          "model_name": "VBoxModel",
          "model_module_version": "1.5.0",
          "state": {
            "_dom_classes": [
              "widget-interact"
            ],
            "_model_module": "@jupyter-widgets/controls",
            "_model_module_version": "1.5.0",
            "_model_name": "VBoxModel",
            "_view_count": null,
            "_view_module": "@jupyter-widgets/controls",
            "_view_module_version": "1.5.0",
            "_view_name": "VBoxView",
            "box_style": "",
            "children": [
              "IPY_MODEL_07c5dc7417494de0b8ccae8840bdb4a7",
              "IPY_MODEL_281cab406b744dfab2efec49e369b7a9",
              "IPY_MODEL_519acf010cab4d5cba0097690de11387"
            ],
            "layout": "IPY_MODEL_0a00fe25146f49bbac495080367c707d"
          }
        },
        "07c5dc7417494de0b8ccae8840bdb4a7": {
          "model_module": "@jupyter-widgets/controls",
          "model_name": "FloatSliderModel",
          "model_module_version": "1.5.0",
          "state": {
            "_dom_classes": [],
            "_model_module": "@jupyter-widgets/controls",
            "_model_module_version": "1.5.0",
            "_model_name": "FloatSliderModel",
            "_view_count": null,
            "_view_module": "@jupyter-widgets/controls",
            "_view_module_version": "1.5.0",
            "_view_name": "FloatSliderView",
            "continuous_update": true,
            "description": "beta0",
            "description_tooltip": null,
            "disabled": false,
            "layout": "IPY_MODEL_6592148e3cdc416dbea89d4ed610dd23",
            "max": 50,
            "min": 0,
            "orientation": "horizontal",
            "readout": true,
            "readout_format": ".2f",
            "step": 0.1,
            "style": "IPY_MODEL_fab55679f71747acb4a6dac4f13cd7b0",
            "value": 18.5
          }
        },
        "281cab406b744dfab2efec49e369b7a9": {
          "model_module": "@jupyter-widgets/controls",
          "model_name": "FloatSliderModel",
          "model_module_version": "1.5.0",
          "state": {
            "_dom_classes": [],
            "_model_module": "@jupyter-widgets/controls",
            "_model_module_version": "1.5.0",
            "_model_name": "FloatSliderModel",
            "_view_count": null,
            "_view_module": "@jupyter-widgets/controls",
            "_view_module_version": "1.5.0",
            "_view_name": "FloatSliderView",
            "continuous_update": true,
            "description": "beta1",
            "description_tooltip": null,
            "disabled": false,
            "layout": "IPY_MODEL_fb96149707a84f5c8e200811444cae48",
            "max": 1,
            "min": 0,
            "orientation": "horizontal",
            "readout": true,
            "readout_format": ".2f",
            "step": 0.1,
            "style": "IPY_MODEL_8ef1d77962664820882f1cb23c5999ae",
            "value": 0.6
          }
        },
        "519acf010cab4d5cba0097690de11387": {
          "model_module": "@jupyter-widgets/output",
          "model_name": "OutputModel",
          "model_module_version": "1.0.0",
          "state": {
            "_dom_classes": [],
            "_model_module": "@jupyter-widgets/output",
            "_model_module_version": "1.0.0",
            "_model_name": "OutputModel",
            "_view_count": null,
            "_view_module": "@jupyter-widgets/output",
            "_view_module_version": "1.0.0",
            "_view_name": "OutputView",
            "layout": "IPY_MODEL_f3ad8ba8d17e4dd5bb38934fb6335ea6",
            "msg_id": "",
            "outputs": [
              {
                "output_type": "display_data",
                "data": {
                  "text/plain": "<Figure size 640x480 with 1 Axes>",
                  "image/png": "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\n"
                },
                "metadata": {}
              }
            ]
          }
        },
        "0a00fe25146f49bbac495080367c707d": {
          "model_module": "@jupyter-widgets/base",
          "model_name": "LayoutModel",
          "model_module_version": "1.2.0",
          "state": {
            "_model_module": "@jupyter-widgets/base",
            "_model_module_version": "1.2.0",
            "_model_name": "LayoutModel",
            "_view_count": null,
            "_view_module": "@jupyter-widgets/base",
            "_view_module_version": "1.2.0",
            "_view_name": "LayoutView",
            "align_content": null,
            "align_items": null,
            "align_self": null,
            "border": null,
            "bottom": null,
            "display": null,
            "flex": null,
            "flex_flow": null,
            "grid_area": null,
            "grid_auto_columns": null,
            "grid_auto_flow": null,
            "grid_auto_rows": null,
            "grid_column": null,
            "grid_gap": null,
            "grid_row": null,
            "grid_template_areas": null,
            "grid_template_columns": null,
            "grid_template_rows": null,
            "height": null,
            "justify_content": null,
            "justify_items": null,
            "left": null,
            "margin": null,
            "max_height": null,
            "max_width": null,
            "min_height": null,
            "min_width": null,
            "object_fit": null,
            "object_position": null,
            "order": null,
            "overflow": null,
            "overflow_x": null,
            "overflow_y": null,
            "padding": null,
            "right": null,
            "top": null,
            "visibility": null,
            "width": null
          }
        },
        "6592148e3cdc416dbea89d4ed610dd23": {
          "model_module": "@jupyter-widgets/base",
          "model_name": "LayoutModel",
          "model_module_version": "1.2.0",
          "state": {
            "_model_module": "@jupyter-widgets/base",
            "_model_module_version": "1.2.0",
            "_model_name": "LayoutModel",
            "_view_count": null,
            "_view_module": "@jupyter-widgets/base",
            "_view_module_version": "1.2.0",
            "_view_name": "LayoutView",
            "align_content": null,
            "align_items": null,
            "align_self": null,
            "border": null,
            "bottom": null,
            "display": null,
            "flex": null,
            "flex_flow": null,
            "grid_area": null,
            "grid_auto_columns": null,
            "grid_auto_flow": null,
            "grid_auto_rows": null,
            "grid_column": null,
            "grid_gap": null,
            "grid_row": null,
            "grid_template_areas": null,
            "grid_template_columns": null,
            "grid_template_rows": null,
            "height": null,
            "justify_content": null,
            "justify_items": null,
            "left": null,
            "margin": null,
            "max_height": null,
            "max_width": null,
            "min_height": null,
            "min_width": null,
            "object_fit": null,
            "object_position": null,
            "order": null,
            "overflow": null,
            "overflow_x": null,
            "overflow_y": null,
            "padding": null,
            "right": null,
            "top": null,
            "visibility": null,
            "width": null
          }
        },
        "fab55679f71747acb4a6dac4f13cd7b0": {
          "model_module": "@jupyter-widgets/controls",
          "model_name": "SliderStyleModel",
          "model_module_version": "1.5.0",
          "state": {
            "_model_module": "@jupyter-widgets/controls",
            "_model_module_version": "1.5.0",
            "_model_name": "SliderStyleModel",
            "_view_count": null,
            "_view_module": "@jupyter-widgets/base",
            "_view_module_version": "1.2.0",
            "_view_name": "StyleView",
            "description_width": "",
            "handle_color": null
          }
        },
        "fb96149707a84f5c8e200811444cae48": {
          "model_module": "@jupyter-widgets/base",
          "model_name": "LayoutModel",
          "model_module_version": "1.2.0",
          "state": {
            "_model_module": "@jupyter-widgets/base",
            "_model_module_version": "1.2.0",
            "_model_name": "LayoutModel",
            "_view_count": null,
            "_view_module": "@jupyter-widgets/base",
            "_view_module_version": "1.2.0",
            "_view_name": "LayoutView",
            "align_content": null,
            "align_items": null,
            "align_self": null,
            "border": null,
            "bottom": null,
            "display": null,
            "flex": null,
            "flex_flow": null,
            "grid_area": null,
            "grid_auto_columns": null,
            "grid_auto_flow": null,
            "grid_auto_rows": null,
            "grid_column": null,
            "grid_gap": null,
            "grid_row": null,
            "grid_template_areas": null,
            "grid_template_columns": null,
            "grid_template_rows": null,
            "height": null,
            "justify_content": null,
            "justify_items": null,
            "left": null,
            "margin": null,
            "max_height": null,
            "max_width": null,
            "min_height": null,
            "min_width": null,
            "object_fit": null,
            "object_position": null,
            "order": null,
            "overflow": null,
            "overflow_x": null,
            "overflow_y": null,
            "padding": null,
            "right": null,
            "top": null,
            "visibility": null,
            "width": null
          }
        },
        "8ef1d77962664820882f1cb23c5999ae": {
          "model_module": "@jupyter-widgets/controls",
          "model_name": "SliderStyleModel",
          "model_module_version": "1.5.0",
          "state": {
            "_model_module": "@jupyter-widgets/controls",
            "_model_module_version": "1.5.0",
            "_model_name": "SliderStyleModel",
            "_view_count": null,
            "_view_module": "@jupyter-widgets/base",
            "_view_module_version": "1.2.0",
            "_view_name": "StyleView",
            "description_width": "",
            "handle_color": null
          }
        },
        "f3ad8ba8d17e4dd5bb38934fb6335ea6": {
          "model_module": "@jupyter-widgets/base",
          "model_name": "LayoutModel",
          "model_module_version": "1.2.0",
          "state": {
            "_model_module": "@jupyter-widgets/base",
            "_model_module_version": "1.2.0",
            "_model_name": "LayoutModel",
            "_view_count": null,
            "_view_module": "@jupyter-widgets/base",
            "_view_module_version": "1.2.0",
            "_view_name": "LayoutView",
            "align_content": null,
            "align_items": null,
            "align_self": null,
            "border": null,
            "bottom": null,
            "display": null,
            "flex": null,
            "flex_flow": null,
            "grid_area": null,
            "grid_auto_columns": null,
            "grid_auto_flow": null,
            "grid_auto_rows": null,
            "grid_column": null,
            "grid_gap": null,
            "grid_row": null,
            "grid_template_areas": null,
            "grid_template_columns": null,
            "grid_template_rows": null,
            "height": null,
            "justify_content": null,
            "justify_items": null,
            "left": null,
            "margin": null,
            "max_height": null,
            "max_width": null,
            "min_height": null,
            "min_width": null,
            "object_fit": null,
            "object_position": null,
            "order": null,
            "overflow": null,
            "overflow_x": null,
            "overflow_y": null,
            "padding": null,
            "right": null,
            "top": null,
            "visibility": null,
            "width": null
          }
        },
        "3296c12f018b450eb39e9a471fbab5f1": {
          "model_module": "@jupyter-widgets/controls",
          "model_name": "VBoxModel",
          "model_module_version": "1.5.0",
          "state": {
            "_dom_classes": [
              "widget-interact"
            ],
            "_model_module": "@jupyter-widgets/controls",
            "_model_module_version": "1.5.0",
            "_model_name": "VBoxModel",
            "_view_count": null,
            "_view_module": "@jupyter-widgets/controls",
            "_view_module_version": "1.5.0",
            "_view_name": "VBoxView",
            "box_style": "",
            "children": [
              "IPY_MODEL_3b794e0f70d84a03a204a1edad04e959",
              "IPY_MODEL_9071a2fb17084c65903b778898a47666",
              "IPY_MODEL_d378e6efdf854809bc0b2a41ae9b8f7d",
              "IPY_MODEL_4900f5e4e24c4e20bb697bdc53b149c2"
            ],
            "layout": "IPY_MODEL_714514972ba24949a27d9e1775fe03be"
          }
        },
        "3b794e0f70d84a03a204a1edad04e959": {
          "model_module": "@jupyter-widgets/controls",
          "model_name": "FloatSliderModel",
          "model_module_version": "1.5.0",
          "state": {
            "_dom_classes": [],
            "_model_module": "@jupyter-widgets/controls",
            "_model_module_version": "1.5.0",
            "_model_name": "FloatSliderModel",
            "_view_count": null,
            "_view_module": "@jupyter-widgets/controls",
            "_view_module_version": "1.5.0",
            "_view_name": "FloatSliderView",
            "continuous_update": true,
            "description": "beta0",
            "description_tooltip": null,
            "disabled": false,
            "layout": "IPY_MODEL_6c7ea476f3e644f78737878cdee48711",
            "max": 50,
            "min": 0,
            "orientation": "horizontal",
            "readout": true,
            "readout_format": ".2f",
            "step": 0.1,
            "style": "IPY_MODEL_8fa96644c0a747229dc1270d200d56fd",
            "value": 10.2
          }
        },
        "9071a2fb17084c65903b778898a47666": {
          "model_module": "@jupyter-widgets/controls",
          "model_name": "FloatSliderModel",
          "model_module_version": "1.5.0",
          "state": {
            "_dom_classes": [],
            "_model_module": "@jupyter-widgets/controls",
            "_model_module_version": "1.5.0",
            "_model_name": "FloatSliderModel",
            "_view_count": null,
            "_view_module": "@jupyter-widgets/controls",
            "_view_module_version": "1.5.0",
            "_view_name": "FloatSliderView",
            "continuous_update": true,
            "description": "beta1",
            "description_tooltip": null,
            "disabled": false,
            "layout": "IPY_MODEL_d03f3bec0a5746c688e1c3dd09334c37",
            "max": 1,
            "min": 0,
            "orientation": "horizontal",
            "readout": true,
            "readout_format": ".2f",
            "step": 0.1,
            "style": "IPY_MODEL_ddb4874b7f1e4de5b3b886ca02d5922e",
            "value": 0.8
          }
        },
        "d378e6efdf854809bc0b2a41ae9b8f7d": {
          "model_module": "@jupyter-widgets/controls",
          "model_name": "FloatSliderModel",
          "model_module_version": "1.5.0",
          "state": {
            "_dom_classes": [],
            "_model_module": "@jupyter-widgets/controls",
            "_model_module_version": "1.5.0",
            "_model_name": "FloatSliderModel",
            "_view_count": null,
            "_view_module": "@jupyter-widgets/controls",
            "_view_module_version": "1.5.0",
            "_view_name": "FloatSliderView",
            "continuous_update": true,
            "description": "sigma",
            "description_tooltip": null,
            "disabled": false,
            "layout": "IPY_MODEL_702a8cd7e63d42b694ffe5c0ca7fb221",
            "max": 20,
            "min": 0,
            "orientation": "horizontal",
            "readout": true,
            "readout_format": ".2f",
            "step": 0.1,
            "style": "IPY_MODEL_aff0e21092904146af989320c43f6697",
            "value": 0
          }
        },
        "4900f5e4e24c4e20bb697bdc53b149c2": {
          "model_module": "@jupyter-widgets/output",
          "model_name": "OutputModel",
          "model_module_version": "1.0.0",
          "state": {
            "_dom_classes": [],
            "_model_module": "@jupyter-widgets/output",
            "_model_module_version": "1.0.0",
            "_model_name": "OutputModel",
            "_view_count": null,
            "_view_module": "@jupyter-widgets/output",
            "_view_module_version": "1.0.0",
            "_view_name": "OutputView",
            "layout": "IPY_MODEL_49265d8ecb2b44269279b88e4c1f237f",
            "msg_id": "",
            "outputs": [
              {
                "output_type": "display_data",
                "data": {
                  "text/plain": "<Figure size 640x480 with 1 Axes>",
                  "image/png": "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\n"
                },
                "metadata": {}
              }
            ]
          }
        },
        "714514972ba24949a27d9e1775fe03be": {
          "model_module": "@jupyter-widgets/base",
          "model_name": "LayoutModel",
          "model_module_version": "1.2.0",
          "state": {
            "_model_module": "@jupyter-widgets/base",
            "_model_module_version": "1.2.0",
            "_model_name": "LayoutModel",
            "_view_count": null,
            "_view_module": "@jupyter-widgets/base",
            "_view_module_version": "1.2.0",
            "_view_name": "LayoutView",
            "align_content": null,
            "align_items": null,
            "align_self": null,
            "border": null,
            "bottom": null,
            "display": null,
            "flex": null,
            "flex_flow": null,
            "grid_area": null,
            "grid_auto_columns": null,
            "grid_auto_flow": null,
            "grid_auto_rows": null,
            "grid_column": null,
            "grid_gap": null,
            "grid_row": null,
            "grid_template_areas": null,
            "grid_template_columns": null,
            "grid_template_rows": null,
            "height": null,
            "justify_content": null,
            "justify_items": null,
            "left": null,
            "margin": null,
            "max_height": null,
            "max_width": null,
            "min_height": null,
            "min_width": null,
            "object_fit": null,
            "object_position": null,
            "order": null,
            "overflow": null,
            "overflow_x": null,
            "overflow_y": null,
            "padding": null,
            "right": null,
            "top": null,
            "visibility": null,
            "width": null
          }
        },
        "6c7ea476f3e644f78737878cdee48711": {
          "model_module": "@jupyter-widgets/base",
          "model_name": "LayoutModel",
          "model_module_version": "1.2.0",
          "state": {
            "_model_module": "@jupyter-widgets/base",
            "_model_module_version": "1.2.0",
            "_model_name": "LayoutModel",
            "_view_count": null,
            "_view_module": "@jupyter-widgets/base",
            "_view_module_version": "1.2.0",
            "_view_name": "LayoutView",
            "align_content": null,
            "align_items": null,
            "align_self": null,
            "border": null,
            "bottom": null,
            "display": null,
            "flex": null,
            "flex_flow": null,
            "grid_area": null,
            "grid_auto_columns": null,
            "grid_auto_flow": null,
            "grid_auto_rows": null,
            "grid_column": null,
            "grid_gap": null,
            "grid_row": null,
            "grid_template_areas": null,
            "grid_template_columns": null,
            "grid_template_rows": null,
            "height": null,
            "justify_content": null,
            "justify_items": null,
            "left": null,
            "margin": null,
            "max_height": null,
            "max_width": null,
            "min_height": null,
            "min_width": null,
            "object_fit": null,
            "object_position": null,
            "order": null,
            "overflow": null,
            "overflow_x": null,
            "overflow_y": null,
            "padding": null,
            "right": null,
            "top": null,
            "visibility": null,
            "width": null
          }
        },
        "8fa96644c0a747229dc1270d200d56fd": {
          "model_module": "@jupyter-widgets/controls",
          "model_name": "SliderStyleModel",
          "model_module_version": "1.5.0",
          "state": {
            "_model_module": "@jupyter-widgets/controls",
            "_model_module_version": "1.5.0",
            "_model_name": "SliderStyleModel",
            "_view_count": null,
            "_view_module": "@jupyter-widgets/base",
            "_view_module_version": "1.2.0",
            "_view_name": "StyleView",
            "description_width": "",
            "handle_color": null
          }
        },
        "d03f3bec0a5746c688e1c3dd09334c37": {
          "model_module": "@jupyter-widgets/base",
          "model_name": "LayoutModel",
          "model_module_version": "1.2.0",
          "state": {
            "_model_module": "@jupyter-widgets/base",
            "_model_module_version": "1.2.0",
            "_model_name": "LayoutModel",
            "_view_count": null,
            "_view_module": "@jupyter-widgets/base",
            "_view_module_version": "1.2.0",
            "_view_name": "LayoutView",
            "align_content": null,
            "align_items": null,
            "align_self": null,
            "border": null,
            "bottom": null,
            "display": null,
            "flex": null,
            "flex_flow": null,
            "grid_area": null,
            "grid_auto_columns": null,
            "grid_auto_flow": null,
            "grid_auto_rows": null,
            "grid_column": null,
            "grid_gap": null,
            "grid_row": null,
            "grid_template_areas": null,
            "grid_template_columns": null,
            "grid_template_rows": null,
            "height": null,
            "justify_content": null,
            "justify_items": null,
            "left": null,
            "margin": null,
            "max_height": null,
            "max_width": null,
            "min_height": null,
            "min_width": null,
            "object_fit": null,
            "object_position": null,
            "order": null,
            "overflow": null,
            "overflow_x": null,
            "overflow_y": null,
            "padding": null,
            "right": null,
            "top": null,
            "visibility": null,
            "width": null
          }
        },
        "ddb4874b7f1e4de5b3b886ca02d5922e": {
          "model_module": "@jupyter-widgets/controls",
          "model_name": "SliderStyleModel",
          "model_module_version": "1.5.0",
          "state": {
            "_model_module": "@jupyter-widgets/controls",
            "_model_module_version": "1.5.0",
            "_model_name": "SliderStyleModel",
            "_view_count": null,
            "_view_module": "@jupyter-widgets/base",
            "_view_module_version": "1.2.0",
            "_view_name": "StyleView",
            "description_width": "",
            "handle_color": null
          }
        },
        "702a8cd7e63d42b694ffe5c0ca7fb221": {
          "model_module": "@jupyter-widgets/base",
          "model_name": "LayoutModel",
          "model_module_version": "1.2.0",
          "state": {
            "_model_module": "@jupyter-widgets/base",
            "_model_module_version": "1.2.0",
            "_model_name": "LayoutModel",
            "_view_count": null,
            "_view_module": "@jupyter-widgets/base",
            "_view_module_version": "1.2.0",
            "_view_name": "LayoutView",
            "align_content": null,
            "align_items": null,
            "align_self": null,
            "border": null,
            "bottom": null,
            "display": null,
            "flex": null,
            "flex_flow": null,
            "grid_area": null,
            "grid_auto_columns": null,
            "grid_auto_flow": null,
            "grid_auto_rows": null,
            "grid_column": null,
            "grid_gap": null,
            "grid_row": null,
            "grid_template_areas": null,
            "grid_template_columns": null,
            "grid_template_rows": null,
            "height": null,
            "justify_content": null,
            "justify_items": null,
            "left": null,
            "margin": null,
            "max_height": null,
            "max_width": null,
            "min_height": null,
            "min_width": null,
            "object_fit": null,
            "object_position": null,
            "order": null,
            "overflow": null,
            "overflow_x": null,
            "overflow_y": null,
            "padding": null,
            "right": null,
            "top": null,
            "visibility": null,
            "width": null
          }
        },
        "aff0e21092904146af989320c43f6697": {
          "model_module": "@jupyter-widgets/controls",
          "model_name": "SliderStyleModel",
          "model_module_version": "1.5.0",
          "state": {
            "_model_module": "@jupyter-widgets/controls",
            "_model_module_version": "1.5.0",
            "_model_name": "SliderStyleModel",
            "_view_count": null,
            "_view_module": "@jupyter-widgets/base",
            "_view_module_version": "1.2.0",
            "_view_name": "StyleView",
            "description_width": "",
            "handle_color": null
          }
        },
        "49265d8ecb2b44269279b88e4c1f237f": {
          "model_module": "@jupyter-widgets/base",
          "model_name": "LayoutModel",
          "model_module_version": "1.2.0",
          "state": {
            "_model_module": "@jupyter-widgets/base",
            "_model_module_version": "1.2.0",
            "_model_name": "LayoutModel",
            "_view_count": null,
            "_view_module": "@jupyter-widgets/base",
            "_view_module_version": "1.2.0",
            "_view_name": "LayoutView",
            "align_content": null,
            "align_items": null,
            "align_self": null,
            "border": null,
            "bottom": null,
            "display": null,
            "flex": null,
            "flex_flow": null,
            "grid_area": null,
            "grid_auto_columns": null,
            "grid_auto_flow": null,
            "grid_auto_rows": null,
            "grid_column": null,
            "grid_gap": null,
            "grid_row": null,
            "grid_template_areas": null,
            "grid_template_columns": null,
            "grid_template_rows": null,
            "height": null,
            "justify_content": null,
            "justify_items": null,
            "left": null,
            "margin": null,
            "max_height": null,
            "max_width": null,
            "min_height": null,
            "min_width": null,
            "object_fit": null,
            "object_position": null,
            "order": null,
            "overflow": null,
            "overflow_x": null,
            "overflow_y": null,
            "padding": null,
            "right": null,
            "top": null,
            "visibility": null,
            "width": null
          }
        }
      }
    }
  },
  "nbformat": 4,
  "nbformat_minor": 0
}