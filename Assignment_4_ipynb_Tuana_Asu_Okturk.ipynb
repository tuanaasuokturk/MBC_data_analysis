{
  "cells": [
    {
      "cell_type": "markdown",
      "metadata": {
        "id": "view-in-github",
        "colab_type": "text"
      },
      "source": [
        "<a href=\"https://colab.research.google.com/github/tuanaasuokturk/MBC_data_analysis/blob/main/Assignment_4_ipynb_Tuana_Asu_Okturk_adl%C4%B1_not_defterinin_kopyas%C4%B1.ipynb\" target=\"_parent\"><img src=\"https://colab.research.google.com/assets/colab-badge.svg\" alt=\"Open In Colab\"/></a>"
      ]
    },
    {
      "cell_type": "markdown",
      "metadata": {
        "id": "8ibEsfuCyvJE"
      },
      "source": [
        "<h1 style=\"font-size: 2.5em; font-weight: bold; margin-top: 0.5em; margin-bottom: 0.5em;\">\n",
        "Assignment 4: Logistic regression,  interactions and generalized linear mixed models (GLMM)</h1>\n",
        "\n",
        "**In this assignment, we will see how to study binary decisions with multiple factors:**\n",
        "- using **logistic regression** (one form of Generalized Linear Model) to describe how decisions depend on a set of experimental factors (and their interactions)\n",
        "- using **generalized linear mixed models** (GLMM) to capture the heterogeneity of behavior across the population [optional]"
      ]
    },
    {
      "cell_type": "markdown",
      "metadata": {
        "id": "za5yFvk_yvJJ"
      },
      "source": [
        "<div class=\"alert alert-block alert-warning\">\n",
        "<b>Preparing for this assignment:</b>\n",
        "\n",
        "The following resources will help you to get ready to complete this assignment.\n",
        "<ul>\n",
        "    <li>Watch <a href=\"https://www.youtube.com/watch?v=HSHcIHMxhbE\" target=\"_blank\">this video</a> to see a step-by-step construction of a multiple linear model with interaction terms. Make sure you understand the logic of the interaction explained in the last half of the video. Take the exercise at the end of the video by stopping the video while you make your calculations.</li>\n",
        "    <li>Browse <a href=\"https://en.wikipedia.org/wiki/Interaction_(statistics)\" target=\"_blank\">this document</a> about interactions. It focuses a lot on ANOVAs, which we do not plan to address directly, so do not focus too much on that. I suggest reading the introduction, the <i>\"In regression\"</i> subsection and the <i>\"Examples\"</i> subsection. </li>\n",
        "    <li>OPTIONAL: If you were wondering why we skip ANOVAs and are happy just with linear models, ANOVA being such a popular statistical tool, <a href=\"https://eigenfoo.xyz/tests-as-linear/\" target=\"_blank\">here</a> is a more advanced Python document for you to make the point that linear models are a very general framework, which includes many of the classical statistical tests (also ANOVAs). We can run all our tests with linear models!!\n",
        "</ul>\n",
        "</div>"
      ]
    },
    {
      "cell_type": "markdown",
      "metadata": {
        "id": "-Af4ccUrk_2l"
      },
      "source": [
        "We will keep working on the same dataset as in Assignment 3 (psychometric curves).\n",
        "\n",
        "\n",
        "We start by importing the typical libraries, importing the data as a dataframe and adding the `displacement`variable."
      ]
    },
    {
      "cell_type": "code",
      "execution_count": null,
      "metadata": {
        "ExecuteTime": {
          "end_time": "2022-02-09T22:27:37.824993Z",
          "start_time": "2022-02-09T22:27:36.401990Z"
        },
        "id": "2aF-qjnYk_2s"
      },
      "outputs": [],
      "source": [
        "#1. Load the packages that we will need\n",
        "import numpy as np\n",
        "import matplotlib.pyplot as plt\n",
        "import pandas as pd\n",
        "\n",
        "# 2. load the data\n",
        "df = pd.read_csv(\"https://raw.githubusercontent.com/wimmerlab/MBC_data_analysis/main/A3_PsychometricCurves/Experiment1_all_subjects.csv\")\n",
        "\n",
        "# 3. Define a function that takes two angles as input and outputs the angular distance between the two\n",
        "# compute the circular distance between two angles\n",
        "def circdist(angles1, angles2):  # define the name and set the arguments between parentheses\n",
        "    angle_diff = angles1 - angles2  # angle difference\n",
        "    angle_diff = angle_diff  / 180 * np.pi  # convert to radian\n",
        "    output = np.angle(np.exp(1j * angle_diff))  # mathematical operation to get the circular distance\n",
        "    output = output / np.pi * 180   # convert back to degrees\n",
        "    return output  # return the circular distance in degrees\n",
        "\n",
        "# 4. Compute the displacement of the probe from the target and add it as a new column to the dataframe:\n",
        "df['displacement'] = circdist( df['probe'], df['target'] );"
      ]
    },
    {
      "cell_type": "markdown",
      "metadata": {
        "id": "c3WHlkjJk_3C"
      },
      "source": [
        "# Simple logistic regression\n",
        "Logistic regression is one type of a larger family of statistical models called **Generalized Linear Models (or GLMs)** for binary data. Generalized Linear Models are a generalization of linear models (duh!) when the dependent variable is not a continuous variable (remember in Assignment 1 the dependent variable was an angle), for example: **binary data, categorical data, count data**, etc. In these cases, the assumption that observations correspond to the model plus some Gaussian noise does not work. We will see more examples of GLMs when we will anlalyze spiking data in one of the next assignments.\n",
        "\n",
        "We thus model the data using function *glm* from the *statsmodel* package, with a binomial distribution. The binomial distribution simply means that we are observing binary data, and we are modelling the probability that this binary variable is 1 in each trial (observation). \"GLM with binomial distribution\" is almost a synonym for \"logistic regression\" (side note: *probit regression* is another type of \"GLM with binomial distribution\" which is in practice is almost equivalent to logistic regression, as the only thing that changes is the exact shape of the sigmoidal function)."
      ]
    },
    {
      "cell_type": "markdown",
      "metadata": {
        "id": "-U0EvQaVyvJV"
      },
      "source": [
        "## Fitting the simple logistic regression\n",
        "\n",
        "To apply logistic regression (or really any statistical model of binary data) we need the dependent variable response to be a binary variable, i.e. a list of 1's and 0's, not a list of 1's and -1's. We want our model to express the probability for a CCW response $p(CCW)$ so we need to change the convention in the field 'response' of the dataframe so that a CCW response is coded with a 1 (not a -1) and CW response as a 0 (not 1). <br>\n",
        "**Write the code to change the convention of the *response* field, so that CCWs are coded as 1s, and CWs as 0s** - check out the function *replace* in Pandas [here](https://pandas.pydata.org/docs/reference/api/pandas.DataFrame.replace.html)."
      ]
    },
    {
      "cell_type": "code",
      "execution_count": null,
      "metadata": {
        "ExecuteTime": {
          "end_time": "2022-02-09T22:27:37.881420Z",
          "start_time": "2022-02-09T22:27:37.862606Z"
        },
        "colab": {
          "base_uri": "https://localhost:8080/",
          "height": 206
        },
        "id": "F4I0cWgwyvJX",
        "outputId": "d1386a6a-c6ea-47da-d3b4-43b298ecfc13"
      },
      "outputs": [
        {
          "output_type": "execute_result",
          "data": {
            "text/plain": [
              "   subject  load  delay  target  probe  near  response  displacement\n",
              "0        1     3    0.1      24     18    10         1          -6.0\n",
              "1        1     3    0.1     307    311   296         1           4.0\n",
              "2        1     3    0.1     151    147   289         0          -4.0\n",
              "3        1     4    0.1     326    334    32         1           8.0\n",
              "4        1     3    0.1      73     77    60         1           4.0"
            ],
            "text/html": [
              "\n",
              "  <div id=\"df-745adf19-4e5d-44c1-ae2c-6760a87dcaa1\" class=\"colab-df-container\">\n",
              "    <div>\n",
              "<style scoped>\n",
              "    .dataframe tbody tr th:only-of-type {\n",
              "        vertical-align: middle;\n",
              "    }\n",
              "\n",
              "    .dataframe tbody tr th {\n",
              "        vertical-align: top;\n",
              "    }\n",
              "\n",
              "    .dataframe thead th {\n",
              "        text-align: right;\n",
              "    }\n",
              "</style>\n",
              "<table border=\"1\" class=\"dataframe\">\n",
              "  <thead>\n",
              "    <tr style=\"text-align: right;\">\n",
              "      <th></th>\n",
              "      <th>subject</th>\n",
              "      <th>load</th>\n",
              "      <th>delay</th>\n",
              "      <th>target</th>\n",
              "      <th>probe</th>\n",
              "      <th>near</th>\n",
              "      <th>response</th>\n",
              "      <th>displacement</th>\n",
              "    </tr>\n",
              "  </thead>\n",
              "  <tbody>\n",
              "    <tr>\n",
              "      <th>0</th>\n",
              "      <td>1</td>\n",
              "      <td>3</td>\n",
              "      <td>0.1</td>\n",
              "      <td>24</td>\n",
              "      <td>18</td>\n",
              "      <td>10</td>\n",
              "      <td>1</td>\n",
              "      <td>-6.0</td>\n",
              "    </tr>\n",
              "    <tr>\n",
              "      <th>1</th>\n",
              "      <td>1</td>\n",
              "      <td>3</td>\n",
              "      <td>0.1</td>\n",
              "      <td>307</td>\n",
              "      <td>311</td>\n",
              "      <td>296</td>\n",
              "      <td>1</td>\n",
              "      <td>4.0</td>\n",
              "    </tr>\n",
              "    <tr>\n",
              "      <th>2</th>\n",
              "      <td>1</td>\n",
              "      <td>3</td>\n",
              "      <td>0.1</td>\n",
              "      <td>151</td>\n",
              "      <td>147</td>\n",
              "      <td>289</td>\n",
              "      <td>0</td>\n",
              "      <td>-4.0</td>\n",
              "    </tr>\n",
              "    <tr>\n",
              "      <th>3</th>\n",
              "      <td>1</td>\n",
              "      <td>4</td>\n",
              "      <td>0.1</td>\n",
              "      <td>326</td>\n",
              "      <td>334</td>\n",
              "      <td>32</td>\n",
              "      <td>1</td>\n",
              "      <td>8.0</td>\n",
              "    </tr>\n",
              "    <tr>\n",
              "      <th>4</th>\n",
              "      <td>1</td>\n",
              "      <td>3</td>\n",
              "      <td>0.1</td>\n",
              "      <td>73</td>\n",
              "      <td>77</td>\n",
              "      <td>60</td>\n",
              "      <td>1</td>\n",
              "      <td>4.0</td>\n",
              "    </tr>\n",
              "  </tbody>\n",
              "</table>\n",
              "</div>\n",
              "    <div class=\"colab-df-buttons\">\n",
              "\n",
              "  <div class=\"colab-df-container\">\n",
              "    <button class=\"colab-df-convert\" onclick=\"convertToInteractive('df-745adf19-4e5d-44c1-ae2c-6760a87dcaa1')\"\n",
              "            title=\"Convert this dataframe to an interactive table.\"\n",
              "            style=\"display:none;\">\n",
              "\n",
              "  <svg xmlns=\"http://www.w3.org/2000/svg\" height=\"24px\" viewBox=\"0 -960 960 960\">\n",
              "    <path d=\"M120-120v-720h720v720H120Zm60-500h600v-160H180v160Zm220 220h160v-160H400v160Zm0 220h160v-160H400v160ZM180-400h160v-160H180v160Zm440 0h160v-160H620v160ZM180-180h160v-160H180v160Zm440 0h160v-160H620v160Z\"/>\n",
              "  </svg>\n",
              "    </button>\n",
              "\n",
              "  <style>\n",
              "    .colab-df-container {\n",
              "      display:flex;\n",
              "      gap: 12px;\n",
              "    }\n",
              "\n",
              "    .colab-df-convert {\n",
              "      background-color: #E8F0FE;\n",
              "      border: none;\n",
              "      border-radius: 50%;\n",
              "      cursor: pointer;\n",
              "      display: none;\n",
              "      fill: #1967D2;\n",
              "      height: 32px;\n",
              "      padding: 0 0 0 0;\n",
              "      width: 32px;\n",
              "    }\n",
              "\n",
              "    .colab-df-convert:hover {\n",
              "      background-color: #E2EBFA;\n",
              "      box-shadow: 0px 1px 2px rgba(60, 64, 67, 0.3), 0px 1px 3px 1px rgba(60, 64, 67, 0.15);\n",
              "      fill: #174EA6;\n",
              "    }\n",
              "\n",
              "    .colab-df-buttons div {\n",
              "      margin-bottom: 4px;\n",
              "    }\n",
              "\n",
              "    [theme=dark] .colab-df-convert {\n",
              "      background-color: #3B4455;\n",
              "      fill: #D2E3FC;\n",
              "    }\n",
              "\n",
              "    [theme=dark] .colab-df-convert:hover {\n",
              "      background-color: #434B5C;\n",
              "      box-shadow: 0px 1px 3px 1px rgba(0, 0, 0, 0.15);\n",
              "      filter: drop-shadow(0px 1px 2px rgba(0, 0, 0, 0.3));\n",
              "      fill: #FFFFFF;\n",
              "    }\n",
              "  </style>\n",
              "\n",
              "    <script>\n",
              "      const buttonEl =\n",
              "        document.querySelector('#df-745adf19-4e5d-44c1-ae2c-6760a87dcaa1 button.colab-df-convert');\n",
              "      buttonEl.style.display =\n",
              "        google.colab.kernel.accessAllowed ? 'block' : 'none';\n",
              "\n",
              "      async function convertToInteractive(key) {\n",
              "        const element = document.querySelector('#df-745adf19-4e5d-44c1-ae2c-6760a87dcaa1');\n",
              "        const dataTable =\n",
              "          await google.colab.kernel.invokeFunction('convertToInteractive',\n",
              "                                                    [key], {});\n",
              "        if (!dataTable) return;\n",
              "\n",
              "        const docLinkHtml = 'Like what you see? Visit the ' +\n",
              "          '<a target=\"_blank\" href=https://colab.research.google.com/notebooks/data_table.ipynb>data table notebook</a>'\n",
              "          + ' to learn more about interactive tables.';\n",
              "        element.innerHTML = '';\n",
              "        dataTable['output_type'] = 'display_data';\n",
              "        await google.colab.output.renderOutput(dataTable, element);\n",
              "        const docLink = document.createElement('div');\n",
              "        docLink.innerHTML = docLinkHtml;\n",
              "        element.appendChild(docLink);\n",
              "      }\n",
              "    </script>\n",
              "  </div>\n",
              "\n",
              "\n",
              "    <div id=\"df-74e1fb63-55e2-4c28-baaa-7580ecb10210\">\n",
              "      <button class=\"colab-df-quickchart\" onclick=\"quickchart('df-74e1fb63-55e2-4c28-baaa-7580ecb10210')\"\n",
              "                title=\"Suggest charts\"\n",
              "                style=\"display:none;\">\n",
              "\n",
              "<svg xmlns=\"http://www.w3.org/2000/svg\" height=\"24px\"viewBox=\"0 0 24 24\"\n",
              "     width=\"24px\">\n",
              "    <g>\n",
              "        <path d=\"M19 3H5c-1.1 0-2 .9-2 2v14c0 1.1.9 2 2 2h14c1.1 0 2-.9 2-2V5c0-1.1-.9-2-2-2zM9 17H7v-7h2v7zm4 0h-2V7h2v10zm4 0h-2v-4h2v4z\"/>\n",
              "    </g>\n",
              "</svg>\n",
              "      </button>\n",
              "\n",
              "<style>\n",
              "  .colab-df-quickchart {\n",
              "      --bg-color: #E8F0FE;\n",
              "      --fill-color: #1967D2;\n",
              "      --hover-bg-color: #E2EBFA;\n",
              "      --hover-fill-color: #174EA6;\n",
              "      --disabled-fill-color: #AAA;\n",
              "      --disabled-bg-color: #DDD;\n",
              "  }\n",
              "\n",
              "  [theme=dark] .colab-df-quickchart {\n",
              "      --bg-color: #3B4455;\n",
              "      --fill-color: #D2E3FC;\n",
              "      --hover-bg-color: #434B5C;\n",
              "      --hover-fill-color: #FFFFFF;\n",
              "      --disabled-bg-color: #3B4455;\n",
              "      --disabled-fill-color: #666;\n",
              "  }\n",
              "\n",
              "  .colab-df-quickchart {\n",
              "    background-color: var(--bg-color);\n",
              "    border: none;\n",
              "    border-radius: 50%;\n",
              "    cursor: pointer;\n",
              "    display: none;\n",
              "    fill: var(--fill-color);\n",
              "    height: 32px;\n",
              "    padding: 0;\n",
              "    width: 32px;\n",
              "  }\n",
              "\n",
              "  .colab-df-quickchart:hover {\n",
              "    background-color: var(--hover-bg-color);\n",
              "    box-shadow: 0 1px 2px rgba(60, 64, 67, 0.3), 0 1px 3px 1px rgba(60, 64, 67, 0.15);\n",
              "    fill: var(--button-hover-fill-color);\n",
              "  }\n",
              "\n",
              "  .colab-df-quickchart-complete:disabled,\n",
              "  .colab-df-quickchart-complete:disabled:hover {\n",
              "    background-color: var(--disabled-bg-color);\n",
              "    fill: var(--disabled-fill-color);\n",
              "    box-shadow: none;\n",
              "  }\n",
              "\n",
              "  .colab-df-spinner {\n",
              "    border: 2px solid var(--fill-color);\n",
              "    border-color: transparent;\n",
              "    border-bottom-color: var(--fill-color);\n",
              "    animation:\n",
              "      spin 1s steps(1) infinite;\n",
              "  }\n",
              "\n",
              "  @keyframes spin {\n",
              "    0% {\n",
              "      border-color: transparent;\n",
              "      border-bottom-color: var(--fill-color);\n",
              "      border-left-color: var(--fill-color);\n",
              "    }\n",
              "    20% {\n",
              "      border-color: transparent;\n",
              "      border-left-color: var(--fill-color);\n",
              "      border-top-color: var(--fill-color);\n",
              "    }\n",
              "    30% {\n",
              "      border-color: transparent;\n",
              "      border-left-color: var(--fill-color);\n",
              "      border-top-color: var(--fill-color);\n",
              "      border-right-color: var(--fill-color);\n",
              "    }\n",
              "    40% {\n",
              "      border-color: transparent;\n",
              "      border-right-color: var(--fill-color);\n",
              "      border-top-color: var(--fill-color);\n",
              "    }\n",
              "    60% {\n",
              "      border-color: transparent;\n",
              "      border-right-color: var(--fill-color);\n",
              "    }\n",
              "    80% {\n",
              "      border-color: transparent;\n",
              "      border-right-color: var(--fill-color);\n",
              "      border-bottom-color: var(--fill-color);\n",
              "    }\n",
              "    90% {\n",
              "      border-color: transparent;\n",
              "      border-bottom-color: var(--fill-color);\n",
              "    }\n",
              "  }\n",
              "</style>\n",
              "\n",
              "      <script>\n",
              "        async function quickchart(key) {\n",
              "          const quickchartButtonEl =\n",
              "            document.querySelector('#' + key + ' button');\n",
              "          quickchartButtonEl.disabled = true;  // To prevent multiple clicks.\n",
              "          quickchartButtonEl.classList.add('colab-df-spinner');\n",
              "          try {\n",
              "            const charts = await google.colab.kernel.invokeFunction(\n",
              "                'suggestCharts', [key], {});\n",
              "          } catch (error) {\n",
              "            console.error('Error during call to suggestCharts:', error);\n",
              "          }\n",
              "          quickchartButtonEl.classList.remove('colab-df-spinner');\n",
              "          quickchartButtonEl.classList.add('colab-df-quickchart-complete');\n",
              "        }\n",
              "        (() => {\n",
              "          let quickchartButtonEl =\n",
              "            document.querySelector('#df-74e1fb63-55e2-4c28-baaa-7580ecb10210 button');\n",
              "          quickchartButtonEl.style.display =\n",
              "            google.colab.kernel.accessAllowed ? 'block' : 'none';\n",
              "        })();\n",
              "      </script>\n",
              "    </div>\n",
              "\n",
              "    </div>\n",
              "  </div>\n"
            ],
            "application/vnd.google.colaboratory.intrinsic+json": {
              "type": "dataframe",
              "variable_name": "df",
              "summary": "{\n  \"name\": \"df\",\n  \"rows\": 3530,\n  \"fields\": [\n    {\n      \"column\": \"subject\",\n      \"properties\": {\n        \"dtype\": \"number\",\n        \"std\": 2,\n        \"min\": 1,\n        \"max\": 8,\n        \"num_unique_values\": 8,\n        \"samples\": [\n          2,\n          6,\n          1\n        ],\n        \"semantic_type\": \"\",\n        \"description\": \"\"\n      }\n    },\n    {\n      \"column\": \"load\",\n      \"properties\": {\n        \"dtype\": \"number\",\n        \"std\": 0,\n        \"min\": 3,\n        \"max\": 4,\n        \"num_unique_values\": 2,\n        \"samples\": [\n          4,\n          3\n        ],\n        \"semantic_type\": \"\",\n        \"description\": \"\"\n      }\n    },\n    {\n      \"column\": \"delay\",\n      \"properties\": {\n        \"dtype\": \"number\",\n        \"std\": 1.2106491153654364,\n        \"min\": 0.1,\n        \"max\": 3.0,\n        \"num_unique_values\": 3,\n        \"samples\": [\n          0.1,\n          1.0\n        ],\n        \"semantic_type\": \"\",\n        \"description\": \"\"\n      }\n    },\n    {\n      \"column\": \"target\",\n      \"properties\": {\n        \"dtype\": \"number\",\n        \"std\": 104,\n        \"min\": 0,\n        \"max\": 359,\n        \"num_unique_values\": 359,\n        \"samples\": [\n          59,\n          163\n        ],\n        \"semantic_type\": \"\",\n        \"description\": \"\"\n      }\n    },\n    {\n      \"column\": \"probe\",\n      \"properties\": {\n        \"dtype\": \"number\",\n        \"std\": 103,\n        \"min\": 0,\n        \"max\": 359,\n        \"num_unique_values\": 359,\n        \"samples\": [\n          136,\n          167\n        ],\n        \"semantic_type\": \"\",\n        \"description\": \"\"\n      }\n    },\n    {\n      \"column\": \"near\",\n      \"properties\": {\n        \"dtype\": \"number\",\n        \"std\": 104,\n        \"min\": 0,\n        \"max\": 359,\n        \"num_unique_values\": 360,\n        \"samples\": [\n          58,\n          67\n        ],\n        \"semantic_type\": \"\",\n        \"description\": \"\"\n      }\n    },\n    {\n      \"column\": \"response\",\n      \"properties\": {\n        \"dtype\": \"number\",\n        \"std\": 0,\n        \"min\": 0,\n        \"max\": 1,\n        \"num_unique_values\": 2,\n        \"samples\": [\n          0,\n          1\n        ],\n        \"semantic_type\": \"\",\n        \"description\": \"\"\n      }\n    },\n    {\n      \"column\": \"displacement\",\n      \"properties\": {\n        \"dtype\": \"number\",\n        \"std\": 6.236937485410328,\n        \"min\": -8.0,\n        \"max\": 8.0,\n        \"num_unique_values\": 6,\n        \"samples\": [\n          -6.0,\n          4.0\n        ],\n        \"semantic_type\": \"\",\n        \"description\": \"\"\n      }\n    }\n  ]\n}"
            }
          },
          "metadata": {},
          "execution_count": 7
        }
      ],
      "source": [
        "# change the column 'response': all -1's become 1's and 1s become 0's\n",
        "df['response'] = df['response'].replace({-1: 1, 1: 0}).astype(int)\n",
        "df.head()"
      ]
    },
    {
      "cell_type": "code",
      "execution_count": null,
      "metadata": {
        "ExecuteTime": {
          "end_time": "2022-02-09T22:27:37.897912Z",
          "start_time": "2022-02-09T22:27:37.883783Z"
        },
        "id": "2ap_jA-WyvJZ"
      },
      "outputs": [],
      "source": [
        "# this should not output anything...\n",
        "assert df.response.sum()==1821\n",
        "assert np.round(np.sum(np.abs(df.displacement)))==21250"
      ]
    },
    {
      "cell_type": "markdown",
      "metadata": {
        "id": "Jm1FXeU1yvJb"
      },
      "source": [
        "We are now ready to run a simple logistic regression, where we consider the influence onto our binary variable (choices) of a single variable: the displacement of the probe w.r.t the target stimulus (the parameter that controls the difficulty of the trial). This is actually the exact same thing as fitting the psychometric curve as in Assignment 3!\n",
        "\n",
        "We will use the function `glm` in the module `statsmodels`, which uses a very similar syntax as `ols` where we specify the formula and the dataset, except that we also have to specify the observation process (here binomial).\n",
        "Then **fill the code to estimated this simple generalized linear model of choices with the displacement as predictor and the binomial family**."
      ]
    },
    {
      "cell_type": "code",
      "execution_count": null,
      "metadata": {
        "ExecuteTime": {
          "end_time": "2022-02-09T22:27:38.970245Z",
          "start_time": "2022-02-09T22:27:37.900143Z"
        },
        "colab": {
          "base_uri": "https://localhost:8080/"
        },
        "id": "tjkbo6dTk_3F",
        "outputId": "74bafb88-c796-4bc2-989b-dfea672757cc"
      },
      "outputs": [
        {
          "output_type": "stream",
          "name": "stdout",
          "text": [
            "                 Generalized Linear Model Regression Results                  \n",
            "==============================================================================\n",
            "Dep. Variable:               response   No. Observations:                 3530\n",
            "Model:                            GLM   Df Residuals:                     3528\n",
            "Model Family:                Binomial   Df Model:                            1\n",
            "Link Function:                  Logit   Scale:                          1.0000\n",
            "Method:                          IRLS   Log-Likelihood:                -2154.2\n",
            "Date:                Tue, 28 Oct 2025   Deviance:                       4308.4\n",
            "Time:                        16:55:37   Pearson chi2:                 3.53e+03\n",
            "No. Iterations:                     4   Pseudo R-squ. (CS):             0.1519\n",
            "Covariance Type:            nonrobust                                         \n",
            "================================================================================\n",
            "                   coef    std err          z      P>|z|      [0.025      0.975]\n",
            "--------------------------------------------------------------------------------\n",
            "Intercept        0.0761      0.037      2.071      0.038       0.004       0.148\n",
            "displacement     0.1376      0.006     22.834      0.000       0.126       0.149\n",
            "================================================================================\n"
          ]
        }
      ],
      "source": [
        "# import relevant functions from statsmodel package\n",
        "import statsmodels.formula.api as smf\n",
        "import statsmodels.api as sm\n",
        "\n",
        "# declare the logistic regression model\n",
        "mod = smf.glm(formula='response ~ displacement', data=df, family=sm.families.Binomial())\n",
        "\n",
        "# fit the model\n",
        "res = mod.fit()\n",
        "\n",
        "# print results as a summary table\n",
        "print(res.summary())"
      ]
    },
    {
      "cell_type": "markdown",
      "metadata": {
        "id": "Oj7o1xyxyvJg"
      },
      "source": [
        "Interpret the table above. **What do we conclude about the intercept and the weight of the displacement?** <br>"
      ]
    },
    {
      "cell_type": "markdown",
      "metadata": {
        "id": "4LHMG-VIsZ6U"
      },
      "source": [
        "When the probe is right on top of the target (displacement = 0), participants are slightly CCW-biased: the intercept of 0.076 on the log-odds scale corresponds to about 52% CCW choices. That small bias is statistically different from chance.\n",
        "\n",
        "As the probe is moved in the positive direction (larger displacement), CCW choices rise sharply. The slope (0.138) means each additional +1° increases the odds of a CCW response by ~15%. In probabilities: at +5° the model predicts about 68% CCW; at +10° about 81%. Moving the probe in the negative direction flips the pattern: −5° → ~35% CCW, −10° → ~21% CCW.\n",
        "\n",
        "So: a tiny baseline CCW bias at zero and a strong, monotonic, precisely estimated effect of displacement—larger positive displacements push choices decisively toward CCW, and negative displacements toward CW."
      ]
    },
    {
      "cell_type": "markdown",
      "metadata": {
        "id": "GT44AdgfsZ6Z"
      },
      "source": [
        "**Compare the value of the weights and the Log-Likelihood** with the maximum likelihood estimation (in case you have used it) that we performed in Assignment 3."
      ]
    },
    {
      "cell_type": "markdown",
      "metadata": {
        "id": "_pO2slM-yvJh"
      },
      "source": [
        "If I compute the MLE by hand (or with another optimizer) using the same coding and scaling, I should obtain the same coefficients and the same log-likelihood (−2154.2) up to numerical rounding. Any mismatch usually means response coding was flipped, the predictor was rescaled, or regularization was added."
      ]
    },
    {
      "cell_type": "code",
      "execution_count": null,
      "metadata": {
        "ExecuteTime": {
          "end_time": "2022-02-09T22:27:38.976339Z",
          "start_time": "2022-02-09T22:27:38.971803Z"
        },
        "id": "Tf59eYi_yvJi"
      },
      "outputs": [],
      "source": [
        "# this should not output anything...\n",
        "assert np.abs(np.round(1000*res.params.iloc[0]))==76\n",
        "assert np.abs(np.round(1000*res.params.iloc[1]))==138"
      ]
    },
    {
      "cell_type": "markdown",
      "metadata": {
        "id": "5j17XumIk_3R"
      },
      "source": [
        "## Comparing model to data\n",
        "One important step whenever you model your data is to validate the model by assessing whether model captures the important features of your experimental data. Does the model provide a good fit?\n",
        "**Let us first look at the predicted values**, which can be obtained from the results of the model fit *res*."
      ]
    },
    {
      "cell_type": "code",
      "execution_count": null,
      "metadata": {
        "ExecuteTime": {
          "end_time": "2022-02-09T22:27:39.369876Z",
          "start_time": "2022-02-09T22:27:38.979160Z"
        },
        "colab": {
          "base_uri": "https://localhost:8080/",
          "height": 466
        },
        "id": "rE-KyAcfk_3T",
        "outputId": "3e76a025-acf9-4801-c92d-8f9ced380fdb"
      },
      "outputs": [
        {
          "output_type": "execute_result",
          "data": {
            "text/plain": [
              "Text(0, 0.5, 'p(CCW)')"
            ]
          },
          "metadata": {},
          "execution_count": 12
        },
        {
          "output_type": "display_data",
          "data": {
            "text/plain": [
              "<Figure size 640x480 with 1 Axes>"
            ],
            "image/png": "[encoded data removed]"
          },
          "metadata": {}
        }
      ],
      "source": [
        "# predicted value for the model for each trial\n",
        "yfit = res.fittedvalues\n",
        "\n",
        "# plot it as displacement on the X axis, and predicted value (i.e. p(CCW)) on the y-axis\n",
        "plt.scatter(df['displacement'], yfit, s=10, alpha=0.5)\n",
        "\n",
        "# don't forget axes labels!\n",
        "plt.xlabel('displacement (degrees)')\n",
        "plt.ylabel('p(CCW)')"
      ]
    },
    {
      "cell_type": "markdown",
      "metadata": {
        "id": "XPF8lOh4k_3b"
      },
      "source": [
        "However, we would like to recover the full psychometric curve. That is, as in part A of the assignment, our statistical model can also predict the responses for many other displacements beyond the values that were tested. This is the predictive power of the model, what is exploited in machine learning. <br>\n",
        "**Let's plot the fitted psychometric curve**, i.e. the prediction curve for a linearly spaced list of x's (probe-target distances) in the range between -40 and 40 degrees. The fitted model can give you the predicted y's for those x's with the function `res.predict` in the results `res` of our model. Notice that because we defined our model with a formula, `predict` needs to get as argument also a Pandas DataFrame with a column `displacement` that contains the new *x* values on which we want to get predictions."
      ]
    },
    {
      "cell_type": "code",
      "execution_count": null,
      "metadata": {
        "ExecuteTime": {
          "end_time": "2022-02-09T22:27:39.572084Z",
          "start_time": "2022-02-09T22:27:39.372597Z"
        },
        "colab": {
          "base_uri": "https://localhost:8080/",
          "height": 466
        },
        "id": "QrOfY9cNk_3j",
        "outputId": "44e45426-a951-45cb-ce5d-008ae26b4379"
      },
      "outputs": [
        {
          "output_type": "execute_result",
          "data": {
            "text/plain": [
              "Text(0, 0.5, 'p(CCW)')"
            ]
          },
          "metadata": {},
          "execution_count": 13
        },
        {
          "output_type": "display_data",
          "data": {
            "text/plain": [
              "<Figure size 640x480 with 1 Axes>"
            ],
            "image/png": "[encoded data removed]"
          },
          "metadata": {}
        }
      ],
      "source": [
        "# array of linearly space values between -40 and 40 degrees\n",
        "myx = np.linspace(-40, 40, 401)\n",
        "\n",
        "# create a new dataframe of synthetic data with these displacements\n",
        "df_synthetic = pd.DataFrame({'displacement': myx})\n",
        "\n",
        "# use the fitted statistical model to compute p(CCW) for each value in this dataframe\n",
        "yfit = res.predict(df_synthetic)\n",
        "\n",
        "# plot the psychometric curve\n",
        "plt.plot(myx, yfit)\n",
        "\n",
        "# don't forget axes labels!\n",
        "plt.xlabel('displacement (degrees)')\n",
        "plt.ylabel('p(CCW)')"
      ]
    },
    {
      "cell_type": "markdown",
      "metadata": {
        "id": "0dMDcra0k_3w"
      },
      "source": [
        "To check how well the model fits the data, we can now plot on top of this prediction the percent of experimental responses for each possible distance between probe and target.\n",
        "In the previous assignment, we saw how we could plot the psychometric curve for experimental data by looking at the proportion of CCW responses separately for each level of displacement. Now we're going to exploit the full potental of dataframes by computing and plotting this psychometric curve in a single line (see below)! All the operations are computed sequentially in this line: grouping by level of displacement, selecting the response, average (and computing standard error of the mean), plotting."
      ]
    },
    {
      "cell_type": "code",
      "execution_count": null,
      "metadata": {
        "ExecuteTime": {
          "end_time": "2022-02-09T22:27:39.784160Z",
          "start_time": "2022-02-09T22:27:39.574718Z"
        },
        "colab": {
          "base_uri": "https://localhost:8080/",
          "height": 449
        },
        "id": "Y88u23srk_3y",
        "outputId": "40754203-fe4d-4672-d39b-4f2893163343"
      },
      "outputs": [
        {
          "output_type": "display_data",
          "data": {
            "text/plain": [
              "<Figure size 640x480 with 1 Axes>"
            ],
            "image/png": "[encoded data removed]"
          },
          "metadata": {}
        }
      ],
      "source": [
        "# plot model prediction (line)\n",
        "plt.plot(myx, yfit, 'b-')\n",
        "\n",
        "\n",
        "# now adding psychometric curve from participants (in one line!!!)\n",
        "df.groupby('displacement').response.agg(('mean','sem')).plot(yerr='sem', fmt = 'ro', ax=plt.gca());\n",
        "\n",
        "# add legend\n",
        "plt.legend(('model','data'));"
      ]
    },
    {
      "cell_type": "markdown",
      "metadata": {
        "id": "_IKGPXMjyvJl"
      },
      "source": [
        "**Does the model provide a good fit?**"
      ]
    },
    {
      "cell_type": "markdown",
      "metadata": {
        "id": "X7J76VR3moL5"
      },
      "source": [
        "The logistic curve matches the observed psychometric points well; any remaining mismatch is small and plausibly due to individual differences rather than a wrong functional form."
      ]
    },
    {
      "cell_type": "markdown",
      "metadata": {
        "id": "C1sTzPqpk_4D"
      },
      "source": [
        "# Logistic regression with multiple factors\n",
        "## With two factors\n",
        "Let us now include one further predictor, the distance between the target and the nearest non-target stimulus. This now goes in the direction of testing our hypothesis that non-target items kept in memory attract the memory of the target (as we have seen at the end of Assignment 3).\n",
        "\n",
        "**Run again the logistic regression model adding the distance of the nearest distractor as a regressor.**\n"
      ]
    },
    {
      "cell_type": "code",
      "execution_count": null,
      "metadata": {
        "ExecuteTime": {
          "end_time": "2022-02-09T22:27:39.828914Z",
          "start_time": "2022-02-09T22:27:39.792156Z"
        },
        "colab": {
          "base_uri": "https://localhost:8080/"
        },
        "id": "6mdq3DIak_4F",
        "outputId": "e07ad1c7-fb9d-44c5-c4dc-ae3c4ae85b48"
      },
      "outputs": [
        {
          "output_type": "stream",
          "name": "stdout",
          "text": [
            "                 Generalized Linear Model Regression Results                  \n",
            "==============================================================================\n",
            "Dep. Variable:               response   No. Observations:                 3530\n",
            "Model:                            GLM   Df Residuals:                     3527\n",
            "Model Family:                Binomial   Df Model:                            2\n",
            "Link Function:                  Logit   Scale:                          1.0000\n",
            "Method:                          IRLS   Log-Likelihood:                -2154.0\n",
            "Date:                Tue, 28 Oct 2025   Deviance:                       4307.9\n",
            "Time:                        17:33:39   Pearson chi2:                 3.53e+03\n",
            "No. Iterations:                     4   Pseudo R-squ. (CS):             0.1520\n",
            "Covariance Type:            nonrobust                                         \n",
            "===================================================================================\n",
            "                      coef    std err          z      P>|z|      [0.025      0.975]\n",
            "-----------------------------------------------------------------------------------\n",
            "Intercept           0.0763      0.037      2.075      0.038       0.004       0.148\n",
            "displacement        0.1377      0.006     22.839      0.000       0.126       0.149\n",
            "dist_distractor    -0.0003      0.000     -0.699      0.484      -0.001       0.001\n",
            "===================================================================================\n",
            "p-value for the displacement predictor: p=displacement\n",
            "p-value for the dist_distractor predictor: p=dist_distractor\n"
          ]
        }
      ],
      "source": [
        "#Compute the distance between the distractor and the target and add as a new column to the dataframe:\n",
        "df['dist_distractor'] = circdist( df['near'] , df['target'] )\n",
        "\n",
        "# we now run the GLM with two predictors, displacement and dist_distractor\n",
        "mod = smf.glm(formula='response ~ displacement + dist_distractor', data=df, family=sm.families.Binomial())\n",
        "res = mod.fit()\n",
        "\n",
        "# print p-values for each predictor (check res.pvalues)\n",
        "print(res.summary())\n",
        "print(\"p-value for the displacement predictor: p=\" + str('displacement'))\n",
        "print(\"p-value for the dist_distractor predictor: p=\" + str('dist_distractor'))"
      ]
    },
    {
      "cell_type": "code",
      "execution_count": null,
      "metadata": {
        "ExecuteTime": {
          "end_time": "2022-02-09T22:27:39.838188Z",
          "start_time": "2022-02-09T22:27:39.830686Z"
        },
        "id": "478ZGIm6yvJn"
      },
      "outputs": [],
      "source": [
        "assert np.round(np.abs(10000*res.params.iloc[2]))==3"
      ]
    },
    {
      "cell_type": "markdown",
      "metadata": {
        "id": "TOHmPKpwsZ6s"
      },
      "source": [
        "**Does this additional predictor contributes significantly to the model description? How do you interpret this?**\n",
        "\n"
      ]
    },
    {
      "cell_type": "markdown",
      "source": [
        "After accounting for displacement, the distance to the nearest distractor does not explain additional variance in CCW/CW choices in the pooled data. If theory predicts a distractor effect, it may (i) emerge only under certain conditions (e.g., long delays, distractor side), (ii) require interactions (e.g., with sign/side of displacement), or (iii) be masked by between-subject variability—a GLMM with subject random effects could test that."
      ],
      "metadata": {
        "id": "Yv3hpAE45I_P"
      }
    },
    {
      "cell_type": "markdown",
      "metadata": {
        "id": "tyDmsGCvm2NR"
      },
      "source": [
        "## With three factors\n",
        "Including the factor of interest \"distance from nearest non-target to target stimulus\" did not improve our model much, and the p-value for the coefficient of this factor is >0.05, indicating that we cannot reject the null-hypothesis that this coefficient is zero. But haven't we seen an effect of the distractor on the psychometric curve in Assignment 3? Yes, but we were considering the working memory trials with delays of 1 s or 3 s. In other words, the distractor only has an effect in working memory trials. We will now directly test this hypothesis."
      ]
    },
    {
      "cell_type": "markdown",
      "metadata": {
        "id": "JQIMUTFwk_4O"
      },
      "source": [
        "**We will now include one more predictor, indicating whether a trial is a memory trial (delay > 0.5 s) or a perceptual trial. Run again the generalized linear model with this new regressor.**\n"
      ]
    },
    {
      "cell_type": "code",
      "execution_count": null,
      "metadata": {
        "ExecuteTime": {
          "end_time": "2022-02-09T22:27:39.896158Z",
          "start_time": "2022-02-09T22:27:39.840188Z"
        },
        "colab": {
          "base_uri": "https://localhost:8080/"
        },
        "id": "qgwwosnDk_4Q",
        "outputId": "dbe364df-d53a-49f0-e237-09ce2d0e6bb4"
      },
      "outputs": [
        {
          "output_type": "stream",
          "name": "stdout",
          "text": [
            "                 Generalized Linear Model Regression Results                  \n",
            "==============================================================================\n",
            "Dep. Variable:               response   No. Observations:                 3530\n",
            "Model:                            GLM   Df Residuals:                     3526\n",
            "Model Family:                Binomial   Df Model:                            3\n",
            "Link Function:                  Logit   Scale:                          1.0000\n",
            "Method:                          IRLS   Log-Likelihood:                -2153.6\n",
            "Date:                Tue, 28 Oct 2025   Deviance:                       4307.2\n",
            "Time:                        17:41:45   Pearson chi2:                 3.53e+03\n",
            "No. Iterations:                     4   Pseudo R-squ. (CS):             0.1522\n",
            "Covariance Type:            nonrobust                                         \n",
            "===================================================================================\n",
            "                      coef    std err          z      P>|z|      [0.025      0.975]\n",
            "-----------------------------------------------------------------------------------\n",
            "Intercept           0.1199      0.064      1.883      0.060      -0.005       0.245\n",
            "memory             -0.0655      0.078     -0.840      0.401      -0.218       0.087\n",
            "displacement        0.1377      0.006     22.839      0.000       0.126       0.149\n",
            "dist_distractor    -0.0004      0.000     -0.712      0.477      -0.001       0.001\n",
            "===================================================================================\n"
          ]
        }
      ],
      "source": [
        "# add boolean vector that is true for memory trials only (i.e. delay = 1 or 3 seconds)\n",
        "df['memory'] = (df['delay'] > 0.5).astype(int)  # this dichotomizes the delay: 0=no-delay trial, 1=delay trial\n",
        "\n",
        "# we include the predictor *memory* in the GLM\n",
        "mod = smf.glm(formula='response ~ memory + displacement + dist_distractor',\n",
        "              data=df, family=sm.families.Binomial())\n",
        "res = mod.fit()\n",
        "\n",
        "print(res.summary())\n"
      ]
    },
    {
      "cell_type": "code",
      "execution_count": null,
      "metadata": {
        "ExecuteTime": {
          "end_time": "2022-02-09T22:27:39.902264Z",
          "start_time": "2022-02-09T22:27:39.898022Z"
        },
        "id": "yZ0IbCwFyvJq"
      },
      "outputs": [],
      "source": [
        "assert np.round(np.abs(res.params.iloc[2]*10000)) == 1377"
      ]
    },
    {
      "cell_type": "markdown",
      "metadata": {
        "id": "bjhfi_pPsZ6z"
      },
      "source": [
        " **Does this last factor contributes significantly to the model description? What is your interpretation?**"
      ]
    },
    {
      "cell_type": "markdown",
      "metadata": {
        "id": "jZkfZP8YF4uF"
      },
      "source": [
        "After accounting for displacement (and dist_distractor), there is no overall shift in CCW/CW bias between memory and perceptual trials. If theory predicts a memory-specific effect (e.g., distractor influence only during memory), it likely appears via interactions (e.g., memory × dist_distractor, memory × displacement) or at the subject level (consider a GLMM with random effects)."
      ]
    },
    {
      "cell_type": "markdown",
      "metadata": {
        "id": "WZqoE-M7k_4Y"
      },
      "source": [
        "## Logistic regression including interaction of variables!\n",
        "\n",
        "Now notice that the hypothesis of our experiment was that there would be an attraction of behavioral responses toward near non-target memories, but specifically when there was a delay between cue and probe (i.e. this was a memory effect, as opposed to a perceptual effect). None of our analyses so far addressed this “specifically”, “only”, “here but not there” question. We need an interaction! Which one? <br>\n",
        "**Run the generalized linear model again adding the appropriate interaction terms and check if this interaction factor contributes significantly to the model description.**"
      ]
    },
    {
      "cell_type": "code",
      "execution_count": null,
      "metadata": {
        "ExecuteTime": {
          "end_time": "2022-02-09T22:27:39.954296Z",
          "start_time": "2022-02-09T22:27:39.903947Z"
        },
        "colab": {
          "base_uri": "https://localhost:8080/"
        },
        "id": "xEC0Jt25k_4b",
        "outputId": "cd48a8e0-edbd-4bb8-dc3e-38f5caad0f78"
      },
      "outputs": [
        {
          "output_type": "stream",
          "name": "stdout",
          "text": [
            "                 Generalized Linear Model Regression Results                  \n",
            "==============================================================================\n",
            "Dep. Variable:               response   No. Observations:                 3530\n",
            "Model:                            GLM   Df Residuals:                     3525\n",
            "Model Family:                Binomial   Df Model:                            4\n",
            "Link Function:                  Logit   Scale:                          1.0000\n",
            "Method:                          IRLS   Log-Likelihood:                -2150.7\n",
            "Date:                Tue, 28 Oct 2025   Deviance:                       4301.4\n",
            "Time:                        17:55:23   Pearson chi2:                 3.54e+03\n",
            "No. Iterations:                     4   Pseudo R-squ. (CS):             0.1536\n",
            "Covariance Type:            nonrobust                                         \n",
            "==========================================================================================\n",
            "                             coef    std err          z      P>|z|      [0.025      0.975]\n",
            "------------------------------------------------------------------------------------------\n",
            "Intercept                  0.1168      0.064      1.830      0.067      -0.008       0.242\n",
            "displacement               0.1377      0.006     22.817      0.000       0.126       0.149\n",
            "memory                    -0.0626      0.078     -0.801      0.423      -0.216       0.090\n",
            "dist_distractor            0.0013      0.001      1.536      0.125      -0.000       0.003\n",
            "dist_distractor:memory    -0.0025      0.001     -2.398      0.016      -0.005      -0.000\n",
            "==========================================================================================\n"
          ]
        }
      ],
      "source": [
        "#include the interaction of interest\n",
        "mod = smf.glm(formula='response ~ displacement + memory + dist_distractor + dist_distractor: memory',\n",
        "              data=df, family=sm.families.Binomial())\n",
        "res = mod.fit()\n",
        "\n",
        "print(res.summary())\n"
      ]
    },
    {
      "cell_type": "code",
      "execution_count": null,
      "metadata": {
        "ExecuteTime": {
          "end_time": "2022-02-09T22:27:39.961324Z",
          "start_time": "2022-02-09T22:27:39.956133Z"
        },
        "id": "jDxg85o7yvJr"
      },
      "outputs": [],
      "source": [
        "assert np.round(np.abs(10000*res.params.iloc[4]))==25"
      ]
    },
    {
      "cell_type": "markdown",
      "metadata": {
        "id": "XLnB5f9ksZ63"
      },
      "source": [
        "**What is your interpretation now?**"
      ]
    },
    {
      "cell_type": "markdown",
      "metadata": {
        "id": "bPSFJdnSGZn9"
      },
      "source": [
        "The effect of the distractor’s distance depends on whether the trial is a memory trial:\n",
        "\n",
        "In perceptual (no-delay) trials (memory=0), the slope for distance is about +0.0013 (ns).\n",
        "\n",
        "In memory trials (memory=1), the effective slope becomes 0.0013 − 0.0025 ≈ −0.0012: as the distractor gets farther from the target, CCW tendency decreases; equivalently, closer distractors exert a stronger influence on responses during memory.\n",
        "\n",
        "So, consistent with the hypothesis, nearby non-targets bias behavior only when maintenance in working memory is required; there is little to no distance effect without a delay. The effect size is modest but reliable at the population level."
      ]
    },
    {
      "cell_type": "markdown",
      "metadata": {
        "id": "XobqWTQ3k_4o"
      },
      "source": [
        "## Understanding significant interactions\n",
        "Significant interactions can be analyzed by separating by one of the implicated predictors. <br>\n",
        "**Run the model without the interaction factor and without the memory factor (i.e. the model of 2.1) separately on trials with delay 0.1 second (*perceptual trials*), and on trials with delays 1 and 3 seconds (*memory trials*)**. What do you see?\n",
        "\n",
        "Hint: Take special attention not only to the significance of the regressors, but also to the value of the fitted beta parameter (in particular, the sign).\n"
      ]
    },
    {
      "cell_type": "code",
      "execution_count": null,
      "metadata": {
        "ExecuteTime": {
          "end_time": "2022-02-09T22:27:40.033128Z",
          "start_time": "2022-02-09T22:27:39.962921Z"
        },
        "colab": {
          "base_uri": "https://localhost:8080/"
        },
        "id": "G2AgDAdnk_4q",
        "outputId": "3f6553d1-b10f-4c58-8093-fc6357849615"
      },
      "outputs": [
        {
          "output_type": "stream",
          "name": "stdout",
          "text": [
            "LOGISTIC REGRESSION IN PERCEPTUAL TRIALS\n",
            "                 Generalized Linear Model Regression Results                  \n",
            "==============================================================================\n",
            "Dep. Variable:               response   No. Observations:                 1176\n",
            "Model:                            GLM   Df Residuals:                     1173\n",
            "Model Family:                Binomial   Df Model:                            2\n",
            "Link Function:                  Logit   Scale:                          1.0000\n",
            "Method:                          IRLS   Log-Likelihood:                -723.11\n",
            "Date:                Tue, 28 Oct 2025   Deviance:                       1446.2\n",
            "Time:                        17:58:33   Pearson chi2:                 1.18e+03\n",
            "No. Iterations:                     4   Pseudo R-squ. (CS):             0.1427\n",
            "Covariance Type:            nonrobust                                         \n",
            "===================================================================================\n",
            "                      coef    std err          z      P>|z|      [0.025      0.975]\n",
            "-----------------------------------------------------------------------------------\n",
            "Intercept           0.1151      0.063      1.816      0.069      -0.009       0.239\n",
            "displacement        0.1312      0.010     12.664      0.000       0.111       0.152\n",
            "dist_distractor     0.0013      0.001      1.548      0.122      -0.000       0.003\n",
            "===================================================================================\n",
            "\n",
            "\n",
            "\n",
            "LOGISTIC REGRESSION IN MEMORY TRIALS\n",
            "                 Generalized Linear Model Regression Results                  \n",
            "==============================================================================\n",
            "Dep. Variable:               response   No. Observations:                 2354\n",
            "Model:                            GLM   Df Residuals:                     2351\n",
            "Model Family:                Binomial   Df Model:                            2\n",
            "Link Function:                  Logit   Scale:                          1.0000\n",
            "Method:                          IRLS   Log-Likelihood:                -1427.3\n",
            "Date:                Tue, 28 Oct 2025   Deviance:                       2854.6\n",
            "Time:                        17:58:33   Pearson chi2:                 2.36e+03\n",
            "No. Iterations:                     4   Pseudo R-squ. (CS):             0.1590\n",
            "Covariance Type:            nonrobust                                         \n",
            "===================================================================================\n",
            "                      coef    std err          z      P>|z|      [0.025      0.975]\n",
            "-----------------------------------------------------------------------------------\n",
            "Intercept           0.0546      0.045      1.209      0.226      -0.034       0.143\n",
            "displacement        0.1409      0.007     18.986      0.000       0.126       0.155\n",
            "dist_distractor    -0.0012      0.001     -1.982      0.047      -0.002   -1.36e-05\n",
            "===================================================================================\n"
          ]
        }
      ],
      "source": [
        "print('LOGISTIC REGRESSION IN PERCEPTUAL TRIALS')\n",
        "\n",
        "#we build a boolean to select trials with delay 0.1\n",
        "bool_percept = (df['delay'] == 0.1)\n",
        "\n",
        "# we run now the two-regressor model one this subset of data, including only perceptual trials\n",
        "mod = smf.glm(formula='response ~ displacement + dist_distractor',\n",
        "              data=df[bool_percept], family=sm.families.Binomial())\n",
        "res = mod.fit() # fit the model\n",
        "\n",
        "# print summary\n",
        "print(res.summary())\n",
        "\n",
        "########\n",
        "\n",
        "print('')\n",
        "print('')\n",
        "print('')\n",
        "\n",
        "print('LOGISTIC REGRESSION IN MEMORY TRIALS')\n",
        "\n",
        "# copy and adapt the code above\n",
        "bool_memory = df['delay'].isin([1, 3])\n",
        "\n",
        "mod = smf.glm(formula='response ~ displacement + dist_distractor',\n",
        "              data=df[bool_memory], family=sm.families.Binomial())\n",
        "res = mod.fit()\n",
        "print(res.summary())"
      ]
    },
    {
      "cell_type": "code",
      "execution_count": null,
      "metadata": {
        "ExecuteTime": {
          "end_time": "2022-02-09T22:27:40.038753Z",
          "start_time": "2022-02-09T22:27:40.035110Z"
        },
        "id": "Mv4-BtR8yvJs"
      },
      "outputs": [],
      "source": [
        "assert np.round(np.abs(10000*res.params.iloc[2]))==12"
      ]
    },
    {
      "cell_type": "markdown",
      "metadata": {
        "id": "P6W-yjevG57x"
      },
      "source": [
        "Now that we split the data between perceptual trials and memory trials (i.e. short and long delays), we obtain that the two-regressor model now shows a significant main effect for the *dist_distractor* factor, in memory trials only. This was previously non-significant in the full model. If we look closely, we will see that the value of the coefficient for *dist_distractor* is now positive for short delays (0.0013)  and negative for long delays (-0.0012). This is indicating that the bias induced by non-targets may be different for each of these 2 conditions: repulsive for short delays (or non-significant), and attractive for long delays. This is the interaction that we found significant and this would explain that when we run the full model the main factor *dist_distractor* has a vanishing coefficient because attractions and repulsions form the different delay conditions cancel one another.\n",
        "\n",
        "We validate this intuition by plotting the data graphically in a way that will reveal our interpretation. This step is crucial to consolidate our interpretation."
      ]
    },
    {
      "cell_type": "code",
      "execution_count": null,
      "metadata": {
        "ExecuteTime": {
          "end_time": "2022-02-09T22:27:40.615753Z",
          "start_time": "2022-02-09T22:27:40.040452Z"
        },
        "colab": {
          "base_uri": "https://localhost:8080/",
          "height": 489
        },
        "id": "D4tvEM55yvJt",
        "outputId": "7f62a6c4-24ae-49c1-efe9-6cf649abea6a"
      },
      "outputs": [
        {
          "output_type": "execute_result",
          "data": {
            "text/plain": [
              "<matplotlib.legend.Legend at 0x7a5c972c0cb0>"
            ]
          },
          "metadata": {},
          "execution_count": 31
        },
        {
          "output_type": "display_data",
          "data": {
            "text/plain": [
              "<Figure size 640x480 with 2 Axes>"
            ],
            "image/png": "[encoded data removed]"
          },
          "metadata": {}
        }
      ],
      "source": [
        "# create a subplot to the left\n",
        "plt.subplot(1,2,1)\n",
        "\n",
        "# 1. FIRST FIT AND PLOT FOR PERPCETUAL TRIALS WITH CCW DISTRACTORS\n",
        "\n",
        "# boolean that is true for short delay trials with CCW distractors\n",
        "bool_sel = (df['delay'] == 0.1) & (df['dist_distractor'] > 0)\n",
        "\n",
        "# fit single logistic regression (section 1) on these trials only\n",
        "mod = smf.glm(formula='response ~ displacement', data=df[bool_sel], family=sm.families.Binomial())\n",
        "res = mod.fit()\n",
        "\n",
        "# define 100 angle points linearly spaced between -20 and 20 degrees\n",
        "myx = np.linspace(-20, 20, 100)\n",
        "\n",
        "# compute predicted value for each of these values\n",
        "yfit = res.predict(pd.DataFrame({'displacement': myx}))\n",
        "\n",
        "# plot fitted psychometric functions (in blue)\n",
        "plt.plot(myx, yfit, 'b-', label=\"CCW\")\n",
        "\n",
        "#now this adds the psychometric curve for experimental data (in blue)\n",
        "df[bool_sel].groupby('displacement').response.agg(('mean','sem')).plot(yerr='sem', fmt = 'bo', ax=plt.gca(), legend=False);\n",
        "\n",
        "# NOW REPEAT THE SAME FOR SHORT DELAYS TRIALS WITH CW DISTRACTOR\n",
        "\n",
        "bool_sel = (df['delay'] == 0.1) & (df['dist_distractor'] < 0)\n",
        "mod = smf.glm(formula='response ~ displacement', data=df[bool_sel], family=sm.families.Binomial())\n",
        "res = mod.fit()\n",
        "yfit = res.predict(pd.DataFrame({'displacement': myx}))\n",
        "plt.plot(myx, yfit, 'r-', label=\"CW\")\n",
        "df[bool_sel].groupby('displacement').response.agg(('mean','sem')).plot(yerr='sem', fmt='ro', ax=plt.gca(), legend=False)\n",
        "\n",
        "plt.title('Perceptual (0.1 s)')\n",
        "plt.xlabel('displacement')\n",
        "plt.ylabel('p(CCW)')\n",
        "plt.legend()\n",
        "\n",
        "###################### ADD NEW SUBPLOT\n",
        "plt.subplot(1,2,2)\n",
        "\n",
        "# REPEAT THE SAME FOR MEMORY TRIALS (FIRST MEMORY TRIALS WITH CCW DISTRACTOR, THEN MEMORY TRIALS WITH CW DISTRACTOR)\n",
        "# memory + CCW distractor\n",
        "bool_sel = df['delay'].isin([1, 3]) & (df['dist_distractor'] > 0)\n",
        "mod = smf.glm(formula='response ~ displacement', data=df[bool_sel], family=sm.families.Binomial())\n",
        "res = mod.fit()\n",
        "yfit = res.predict(pd.DataFrame({'displacement': myx}))\n",
        "plt.plot(myx, yfit, 'b-', label=\"CCW\")\n",
        "df[bool_sel].groupby('displacement').response.agg(('mean','sem')).plot(yerr='sem', fmt='bo', ax=plt.gca(), legend=False)\n",
        "\n",
        "# memory + CW distractor\n",
        "bool_sel = df['delay'].isin([1, 3]) & (df['dist_distractor'] < 0)\n",
        "mod = smf.glm(formula='response ~ displacement', data=df[bool_sel], family=sm.families.Binomial())\n",
        "res = mod.fit()\n",
        "yfit = res.predict(pd.DataFrame({'displacement': myx}))\n",
        "plt.plot(myx, yfit, 'r-', label=\"CW\")\n",
        "df[bool_sel].groupby('displacement').response.agg(('mean','sem')).plot(yerr='sem', fmt='ro', ax=plt.gca(), legend=False)\n",
        "\n",
        "plt.title('Memory (1 or 3 s)')\n",
        "plt.xlabel('displacement')\n",
        "plt.ylabel('p(CCW)')\n",
        "plt.legend()"
      ]
    },
    {
      "cell_type": "markdown",
      "metadata": {
        "id": "SghVm7sUyvJt"
      },
      "source": [
        "## OPTIONAL:\n",
        "(*In the cell above we repeated a lot of code. We could improve our Notebook by defining a function that plots one curve and data points, given the model and the original data, and then call this function 4 times as you select the various subplots. Go ahead and try this, if you like*)"
      ]
    },
    {
      "cell_type": "code",
      "execution_count": null,
      "metadata": {
        "ExecuteTime": {
          "end_time": "2022-02-09T22:27:40.629922Z",
          "start_time": "2022-02-09T22:27:40.618634Z"
        },
        "id": "Wd_5p4GFyvJu"
      },
      "outputs": [],
      "source": [
        "# Function that takes two arguments (a dataframe and a color, and plot the fitting psychometric curve with experimental datapoints on top)\n",
        "def plotcurve(df, color):\n",
        "    mod = smf.glm(formula='response ~ displacement', data=df, family=sm.families.Binomial())\n",
        "    res = mod.fit()\n",
        "\n",
        "    myx = np.linspace(-20,20,100)\n",
        "    yfit=res.predict(pd.DataFrame({'displacement': myx})) #yfit = res.predict(exog={'probe_target':myx})\n",
        "    plt.plot(myx,yfit,'-', color=color)\n",
        "\n",
        "    df.groupby('displacement').response.agg(('mean','sem')).plot(yerr='sem', color=color, fmt = 'o', ax=plt.gca());"
      ]
    },
    {
      "cell_type": "code",
      "execution_count": null,
      "metadata": {
        "ExecuteTime": {
          "end_time": "2022-02-09T22:27:41.191357Z",
          "start_time": "2022-02-09T22:27:40.632363Z"
        },
        "colab": {
          "base_uri": "https://localhost:8080/",
          "height": 472
        },
        "id": "bh3Ta-_KyvJv",
        "outputId": "5323b2be-a257-4055-9f0a-3aba937d1161"
      },
      "outputs": [
        {
          "output_type": "display_data",
          "data": {
            "text/plain": [
              "<Figure size 640x480 with 2 Axes>"
            ],
            "image/png": "[encoded data removed]"
          },
          "metadata": {}
        }
      ],
      "source": [
        "plt.subplot(1,2,1)\n",
        "\n",
        "# we fit and plot first short delays for CCW trials\n",
        "bool_sel = ~df['memory'] & (df['dist_distractor']>0)\n",
        "plotcurve(df[bool_sel],'b')\n",
        "\n",
        "bool_sel = ~df['memory'] & (df['dist_distractor']<0)\n",
        "plotcurve(df[bool_sel],'r')\n",
        "\n",
        "plt.legend(('CCW distractor','CW distractor'))\n",
        "plt.title('short delays')\n",
        "plt.ylabel('p(CCW)')\n",
        "\n",
        "plt.subplot(1,2,2)\n",
        "\n",
        "# we fit and plot long delays for CCW trials (SAME AS ABOVE BUT FOR MEM, CCW TRIALS)\n",
        "bool_sel = df['memory'] & (df['dist_distractor']>0)\n",
        "plotcurve(df[bool_sel],'b')\n",
        "bool_sel = df['memory'] & (df['dist_distractor']<0)\n",
        "plotcurve(df[bool_sel],'r')\n",
        "\n",
        "plt.legend(('CCW distractor','CW distractor'))\n",
        "plt.title('long delays');"
      ]
    },
    {
      "cell_type": "markdown",
      "metadata": {
        "id": "O_km4lAzk_49"
      },
      "source": [
        "# Population analysis\n",
        "## Adding participant as categorical variable\n",
        "\n",
        "Up to now we have collapsed the data of all subjects. We now want to incorporate the subject factor into our analysis, but notice that now this factor is categorical, not parametric as all other factors previously. In regression models, categorical predictors need special treatment: we use *C(factor)* to specify that *factor* is categorical.\n",
        "\n",
        "Run the **logistic regression model of 2.3 adding subject as an extra regressor**."
      ]
    },
    {
      "cell_type": "code",
      "execution_count": null,
      "metadata": {
        "ExecuteTime": {
          "end_time": "2022-02-09T22:27:41.273808Z",
          "start_time": "2022-02-09T22:27:41.193347Z"
        },
        "colab": {
          "base_uri": "https://localhost:8080/"
        },
        "id": "JmiErUzPyvJw",
        "outputId": "6289508e-5c67-433f-f037-8ae85a6e5e66"
      },
      "outputs": [
        {
          "output_type": "stream",
          "name": "stdout",
          "text": [
            "                 Generalized Linear Model Regression Results                  \n",
            "==============================================================================\n",
            "Dep. Variable:               response   No. Observations:                 3530\n",
            "Model:                            GLM   Df Residuals:                     3518\n",
            "Model Family:                Binomial   Df Model:                           11\n",
            "Link Function:                  Logit   Scale:                          1.0000\n",
            "Method:                          IRLS   Log-Likelihood:                -2145.6\n",
            "Date:                Tue, 28 Oct 2025   Deviance:                       4291.2\n",
            "Time:                        18:11:16   Pearson chi2:                 3.54e+03\n",
            "No. Iterations:                     4   Pseudo R-squ. (CS):             0.1560\n",
            "Covariance Type:            nonrobust                                         \n",
            "==========================================================================================\n",
            "                             coef    std err          z      P>|z|      [0.025      0.975]\n",
            "------------------------------------------------------------------------------------------\n",
            "Intercept                  0.3086      0.116      2.654      0.008       0.081       0.537\n",
            "C(subject)[T.2]           -0.0653      0.147     -0.445      0.656      -0.353       0.223\n",
            "C(subject)[T.3]           -0.3118      0.147     -2.121      0.034      -0.600      -0.024\n",
            "C(subject)[T.4]           -0.3417      0.147     -2.326      0.020      -0.630      -0.054\n",
            "C(subject)[T.5]           -0.1642      0.147     -1.115      0.265      -0.453       0.124\n",
            "C(subject)[T.6]           -0.3286      0.147     -2.232      0.026      -0.617      -0.040\n",
            "C(subject)[T.7]           -0.1763      0.147     -1.200      0.230      -0.464       0.112\n",
            "C(subject)[T.8]           -0.1526      0.147     -1.035      0.301      -0.442       0.136\n",
            "displacement               0.1381      0.006     22.838      0.000       0.126       0.150\n",
            "memory                    -0.0618      0.078     -0.791      0.429      -0.215       0.091\n",
            "dist_distractor            0.0014      0.001      1.579      0.114      -0.000       0.003\n",
            "memory:dist_distractor    -0.0025      0.001     -2.392      0.017      -0.005      -0.000\n",
            "==========================================================================================\n"
          ]
        }
      ],
      "source": [
        "mod = smf.glm(\n",
        "    formula='response ~ displacement + memory + dist_distractor + memory:dist_distractor + C(subject)',\n",
        "    data=df, family=sm.families.Binomial()\n",
        ")\n",
        "res = mod.fit()\n",
        "\n",
        "print(res.summary())"
      ]
    },
    {
      "cell_type": "code",
      "execution_count": null,
      "metadata": {
        "ExecuteTime": {
          "end_time": "2022-02-09T22:27:41.283630Z",
          "start_time": "2022-02-09T22:27:41.279636Z"
        },
        "id": "ZIJlOMbeyvJw"
      },
      "outputs": [],
      "source": [
        "assert np.round(np.abs(1000*res.params.iloc[4]))==164"
      ]
    },
    {
      "cell_type": "markdown",
      "metadata": {
        "id": "H2kJCPF5yvJx"
      },
      "source": [
        "**How do you interpret the weights for each subject?**"
      ]
    },
    {
      "cell_type": "markdown",
      "metadata": {
        "id": "4F7VVWeiyvJx"
      },
      "source": [
        "These subject terms are per-participant intercepts: they capture individual response bias at zero displacement/zero other predictors. Some subjects (e.g., 3 & 4) are less CCW-biased than the reference; others are slightly more CCW-biased, but not significantly. Effects of displacement and the memory×dist_distractor interaction remain population-level (common slopes). If you want subject-specific random intercepts (and possibly random slopes), the next step is a GLMM."
      ]
    },
    {
      "cell_type": "markdown",
      "metadata": {
        "id": "4U_a6AvmyvJy"
      },
      "source": [
        "**Does the fit improve?**"
      ]
    },
    {
      "cell_type": "markdown",
      "metadata": {
        "id": "JOqI0w9AyvJy"
      },
      "source": [
        "Adding per-subject intercepts yields a small increase in raw likelihood but no statistically significant improvement and no better penalized fit; if you want to capture participant heterogeneity more appropriately, move to a GLMM with random intercepts (and maybe slopes)."
      ]
    },
    {
      "cell_type": "markdown",
      "source": [
        "# **Generalized linear mixed model (GLMM) - OPTIONAL**\n",
        "Here, we treated participants as fixed effects of our design, and this is good to make inferences about our sample population. However, to make more general inferences on the larger population that our sample represents, we should treat the subject factor as a random effect. This would then correspond to a Generalized Linear Mixed Model (GLMM). The terms mixed reflects the fact that the model includes both fixed effects (effects that are stable in the population, generally the ones we're interested in) and random effects (effects that vary between individuals). For GLMMS we will use the bambi package which allows to define a wide class of hierarchical and non-hierarchical models. It uses a Bayesian approach which means that it infers posterior distribution over all the weights and hyperparameters (the mean and standard deviation of weights over the population). Inference is done using a sampling algorithm called Markov Chain Monte Carlo, using the pymcpackage (many more models can be defined directly with this package). You can learn about this on your own, it is not part of the assignment, but you can play below to try to run such a model on this data (this is what was done in the orginal article by Almeida et al 2015). See here for a fuller tutorial on GLMM using bambi.\n",
        "\n",
        "If you run the tutorial on colab, uncomment and execute the following line to install bambi in the session. If you run the tutorial locally, install the package by running conda install -c conda-forge bambi (e.g. on Anaconda Prompt)"
      ],
      "metadata": {
        "id": "8O2q9z89BdrL"
      }
    },
    {
      "cell_type": "code",
      "source": [
        "# !pip install git+https://github.com/bambinos/bambi.git"
      ],
      "metadata": {
        "id": "0EKKEhERBgl1"
      },
      "execution_count": null,
      "outputs": []
    },
    {
      "cell_type": "markdown",
      "source": [
        "Let's first define the model."
      ],
      "metadata": {
        "id": "ztFmpPjrB5pj"
      }
    },
    {
      "cell_type": "code",
      "source": [
        "import bambi as bmb\n",
        "import arviz as az # needed for model comparison, plotting results, etc.\n",
        "model_hierarchical = bmb.Model(\"response ~ displacement + dist_distractor*memory + (1|subject)\", df, family=\"bernoulli\")\n",
        "\n",
        "model_hierarchical"
      ],
      "metadata": {
        "id": "0Hg047GvB6pN"
      },
      "execution_count": null,
      "outputs": []
    },
    {
      "cell_type": "markdown",
      "source": [
        "Now we will fit it (this is VERY long, about an hour)."
      ],
      "metadata": {
        "id": "FzAKRK1-B9Ip"
      }
    },
    {
      "cell_type": "code",
      "source": [
        "idata_hierarchical = model_hierarchical.fit(inference_method=\"vi\")"
      ],
      "metadata": {
        "id": "b0l8KYr1B_ZH"
      },
      "execution_count": null,
      "outputs": []
    },
    {
      "cell_type": "code",
      "source": [
        "az.summary(idata_hierarchical)"
      ],
      "metadata": {
        "id": "HnVd16lOCDBb"
      },
      "execution_count": null,
      "outputs": []
    },
    {
      "cell_type": "markdown",
      "source": [
        "Advanced: we can look at the posterior over each weight derived from the MCMC algorithm (left) which is where the confidence intervals are extracted from; as well as the Markov chains where these values are taken from (right)."
      ],
      "metadata": {
        "id": "F_7iNHtdCc1q"
      }
    },
    {
      "cell_type": "code",
      "source": [
        "var_names = [\"Intercept\", \"displacement\", \"dist_distractor*memory\", \"1|subject\"]\n",
        "az.plot_trace(idata_hierarchical, var_names=var_names, compact=False, backend_kwargs={\"layout\": \"constrained\"});"
      ],
      "metadata": {
        "id": "0vwkqoHRCgET"
      },
      "execution_count": null,
      "outputs": []
    },
    {
      "cell_type": "markdown",
      "source": [
        "This model only considered subject-to-subject variability coming from systematic CW/CCW biases in the responses (the term (1|subj) considers variability in the intercept, which determines CW/CCW biases in the responses of individual participants). However, this is maybe not the most intuitive way that we expect our participants to differ from one another. It makes maybe more sense to think that what will really be different from subject to subject is the sensibility in detecting small displacements of the probe. Some people will be very sensitive to small displacements, while others will need longer distances to perceive clearly the shift. In other words, some subjects will discriminate better than others. The sensibility is the maximal slope of the psychometric function, and it is directly related to the logistic regression parameter for the displacement variable. Here is how would you enter this subject-to-subject variability in the model."
      ],
      "metadata": {
        "id": "S_hNys1sDIvh"
      }
    },
    {
      "cell_type": "code",
      "source": [
        "model_hierarchical_2 = bmb.Model(\"response ~ displacement + dist_distractor*memory + (1|subject)\", df, family=\"bernoulli\")\n",
        "idata_hierarchical_2 = model_hierarchical_2.fit(inference_method=\"vi\")\n",
        "az.summary(idata_hierarchical2)"
      ],
      "metadata": {
        "id": "5B-w5GR0DJTo"
      },
      "execution_count": null,
      "outputs": []
    },
    {
      "cell_type": "markdown",
      "source": [
        "This is the proper way of running the analysis. The random factor considers variability between participants in mean responses and in the sensitivity to probe_target, and establishes the pairing between data collected for each participant. This analysis reveals that the dist_NT:delay interaction is significant, with p=0.012."
      ],
      "metadata": {
        "id": "e6H7aN7zDMLR"
      }
    }
  ],
  "metadata": {
    "colab": {
      "provenance": [],
      "include_colab_link": true
    },
    "hide_input": false,
    "kernelspec": {
      "display_name": "Python [conda env:base] *",
      "language": "python",
      "name": "conda-base-py"
    },
    "language_info": {
      "codemirror_mode": {
        "name": "ipython",
        "version": 3
      },
      "file_extension": ".py",
      "mimetype": "text/x-python",
      "name": "python",
      "nbconvert_exporter": "python",
      "pygments_lexer": "ipython3",
      "version": "3.13.5"
    },
    "toc": {
      "base_numbering": 1,
      "nav_menu": {},
      "number_sections": true,
      "sideBar": true,
      "skip_h1_title": false,
      "title_cell": "Table of Contents",
      "title_sidebar": "Contents",
      "toc_cell": false,
      "toc_position": {},
      "toc_section_display": true,
      "toc_window_display": false
    },
    "varInspector": {
      "cols": {
        "lenName": 16,
        "lenType": 16,
        "lenVar": 40
      },
      "kernels_config": {
        "python": {
          "delete_cmd_postfix": "",
          "delete_cmd_prefix": "del ",
          "library": "var_list.py",
          "varRefreshCmd": "print(var_dic_list())"
        },
        "r": {
          "delete_cmd_postfix": ") ",
          "delete_cmd_prefix": "rm(",
          "library": "var_list.r",
          "varRefreshCmd": "cat(var_dic_list()) "
        }
      },
      "types_to_exclude": [
        "module",
        "function",
        "builtin_function_or_method",
        "instance",
        "_Feature"
      ],
      "window_display": false
    }
  },
  "nbformat": 4,
  "nbformat_minor": 0
}
