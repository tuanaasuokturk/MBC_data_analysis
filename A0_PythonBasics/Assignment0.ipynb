{
  "cells": [
    {
      "cell_type": "markdown",
      "metadata": {
        "id": "YioJdUgDvB_A"
      },
      "source": [
        "<h1 style=\"font-size: 2.5em; font-weight: bold; margin-top: 0.5em; margin-bottom: 0.5em;\">\n",
        "First steps into Python\n",
        "</h1>"
      ]
    },
    {
      "cell_type": "markdown",
      "metadata": {
        "id": "YKmNcAmzvntI"
      },
      "source": [
        "<div class=\"alert alert-block alert-warning\">\n",
        "<b>Preparing for this assignment:</b>\n",
        "\n",
        "The following resources will help you to get ready to complete this assignment. If you are comfortable programming Python, you can skip this.\n",
        "<ul>\n",
        "    <li>If you do not have experience programming in Python, here is a good tutorial to get you quickly on track: <a href=\"https://cogs18.github.io/intro.html\" target=\"_blank\">Introduction to Python</a> </li>\n",
        "    <li>If you already know other languages and need a technical view of what is special about Python syntax, try <a href=\"https://en.wikipedia.org/wiki/Python_syntax_and_semantics#Indentation\" target=\"_blank\">this</a></li>\n",
        "</ul>\n",
        "</div>"
      ]
    },
    {
      "cell_type": "markdown",
      "metadata": {
        "id": "bYrPLyirvB_K"
      },
      "source": [
        "There are two ways to run Python: either on the cloud (using Google Colab) or locally on your computer using Notebook. Either way if you are reading this, you are probably set to go. Just in case:\n",
        "- To run code on **Google Colab**, you don't need to install anything on your machine since all the computations take place in the cloud.\n",
        "- To run **Python Notebooks** locally, you either need to install Python 3 using Anaconda following [these](https://jupyter.readthedocs.io/en/latest/install.html) instructions or else use [myapps.upf.edu](https://myapps.upf.edu). You will find more detailed instructions in the [course site](https://github.com/wimmerlab/MBC_data_analysis) in GitHub.\n",
        "\n"
      ]
    },
    {
      "cell_type": "markdown",
      "metadata": {
        "id": "NMgb__W0vB_L"
      },
      "source": [
        "# Getting started\n",
        "## Importing libraries\n",
        "The actions you can do with Python code are limitless, so you do not need all the tools at the same time. If you loaded all Python tools at once you would be taking up all your computer resources! That is why Python works with **libraries**.  \n",
        "\n",
        "One library is a collection of functions that allows you to perform many actions.   \n",
        "In other words, they have snippets of code created and tested by other people that you can quickly reuse, so you do not need to work as much.\n",
        "\n",
        "Every time you start a new project, you will have to **import** the libraries you will use.  \n",
        "The ones we will need for this assignment are:\n",
        "\n",
        "[Numpy](https://en.wikipedia.org/wiki/NumPy) for manipulating numerical data.   \n",
        "[Matplotlib](https://en.wikipedia.org/wiki/Matplotlib) for plotting graphics.\n",
        "\n",
        "These are the default two libraries you will use on basicalle ALL your notebooks. Explore the links if you want to know more about them! :)\n",
        "\n",
        "Let's start importing!\n",
        "\n",
        "PS: remember to **execute** each of the cells with code below by clicking in the cell and press \"Shift + Enter\""
      ]
    },
    {
      "cell_type": "code",
      "execution_count": 34,
      "metadata": {
        "ExecuteTime": {
          "end_time": "2022-01-17T22:28:18.888712Z",
          "start_time": "2022-01-17T22:28:18.630790Z"
        },
        "id": "NA2nT_F-vB_O"
      },
      "outputs": [],
      "source": [
        "import numpy as np  # everytime we want to use a function from numpy, we will put np. before, e.g.: np.array()\n",
        "import matplotlib.pyplot as plt  # same for function from matplotlib.pyplot, we will address them with plt. , e.g.: plt.plot()"
      ]
    },
    {
      "cell_type": "markdown",
      "metadata": {
        "id": "f8KChA8y-x6z"
      },
      "source": [
        "We imported these two libraries, and we gave them shorter names to simplify our code. From now on, we can use the code contained in the library **numpy** by prefixing it with `np.` (for instance `np.pi` will give us the numerical value of the number $\\pi$), and the code of the library **matplotlib.pyplot** with `plt` (for example: `plt.plot`)"
      ]
    },
    {
      "cell_type": "markdown",
      "metadata": {
        "id": "efSDOve8vB_P"
      },
      "source": [
        "Note that, in the first line of the code, there is some text after a `#`?   \n",
        "This is a **comment**. Comments are really useful if someone else has to read your code. In a Python Notebook comments can come either after `#` in *code cells* or directly in a *markdown cell* which is entirely text (see all cells before this first *code cell*)\n",
        "\n",
        "It will be much easier for other readers (and for you after some time) to understand your code if you comment your codes.\n",
        "**Do not be lazy and comment!**.  \n",
        "\n",
        "[Here](https://stackabuse.com/commenting-python-code/) you have some advice to do it wisely.\n"
      ]
    },
    {
      "cell_type": "markdown",
      "metadata": {
        "id": "Gk18S48qvB_R"
      },
      "source": [
        "## Loading the data"
      ]
    },
    {
      "cell_type": "markdown",
      "metadata": {
        "id": "4h_yjenXvB_S"
      },
      "source": [
        "When running data analyses, one of the first things to do is to load the data into our programming environment so we can manipulate it. Data will come in a specific format depending on how it was generated and saved. You will generally need to obtain this information from the person who generated the data.\n",
        "\n",
        "One common format you might get the data in is in a tabular format, with measurements organized in a fixed number of rows and columns (a *matrix*). Let's load one of these datasets.\n",
        "\n",
        "Now, you need to have the file: \"Task_Perceptual_simple.csv\" in the same directory as this file, or else know the exact path to this file. Below, we read the file from the online GitHub repository (using an URL). The line that is commented out shows how to read the file from a local directory.  \n",
        "  \n",
        "**One first question, what is in this file? (Hint: open it in a text editor or in GitHub)**"
      ]
    },
    {
      "cell_type": "code",
      "execution_count": 35,
      "metadata": {
        "ExecuteTime": {
          "end_time": "2022-01-17T22:28:28.542602Z",
          "start_time": "2022-01-17T22:28:28.519042Z"
        },
        "id": "p4QYIVfFvB_S"
      },
      "outputs": [],
      "source": [
        "#load the file from github\n",
        "data = np.genfromtxt(\"https://raw.githubusercontent.com/wimmerlab/MBC_data_analysis/main/A0_PythonBasics/Task_Perceptual_simple.csv\", delimiter=',', skip_header=1)"
      ]
    },
    {
      "cell_type": "markdown",
      "metadata": {
        "id": "gtcmnyGzvB_S"
      },
      "source": [
        "If there are no errors.... congratulations! You have imported the data. Let's take a look!\n",
        "### Inspecting arrays"
      ]
    },
    {
      "cell_type": "code",
      "execution_count": 36,
      "metadata": {
        "ExecuteTime": {
          "end_time": "2022-01-17T22:28:29.826144Z",
          "start_time": "2022-01-17T22:28:29.814946Z"
        },
        "id": "NHAhpYh7vB_T",
        "outputId": "0409aa88-35bd-4075-a960-25a744eed1be",
        "colab": {
          "base_uri": "https://localhost:8080/"
        }
      },
      "outputs": [
        {
          "output_type": "execute_result",
          "data": {
            "text/plain": [
              "array([[-10.      ,   0.      ,  -5.      ,  -5.2122  ,   1.      ],\n",
              "       [-10.      , -10.      , -10.      ,  -8.21768 ,   1.      ],\n",
              "       [ 20.      ,  10.      ,  15.      , -17.93416 ,   1.      ],\n",
              "       ...,\n",
              "       [ 10.      , -10.      ,   0.      ,  12.234593,  14.      ],\n",
              "       [  0.      ,  10.      ,   5.      ,   8.8409  ,  14.      ],\n",
              "       [-20.      ,   0.      , -10.      ,   9.943002,  14.      ]])"
            ]
          },
          "metadata": {},
          "execution_count": 36
        }
      ],
      "source": [
        "data"
      ]
    },
    {
      "cell_type": "markdown",
      "metadata": {
        "id": "FZxw7LyPvB_T"
      },
      "source": [
        "`data` is a matrix, how could you tell its dimensions (number of rows and colums)?\n",
        "(Note: if you edit your code in environments such as Spyder instead of Notebook, you will find tools to explore directly all the variables created in a session)"
      ]
    },
    {
      "cell_type": "markdown",
      "metadata": {
        "id": "3TakLxKWvB_V"
      },
      "source": [
        "Don't worry if you don't know right away... A really important thing you will learn as you are coding is to do \"efficient\" Google searches and to ask ChatGPT for help.\n",
        "Everyone -- including your teachers when creating these templates -- have to search online from time to time when coding.  \n",
        "***Do not get stressed about it!***  \n",
        "At the beginning, it will take a long time to find simple stuff but as you keep coding, you will get used to\n",
        "the language and you will learn what are the keywords you need to use for every search.\n",
        "\n",
        "What if you start by searching: **\"dimensions numpy matrix\"** in Google or ask ChatGPT?\n",
        "\n",
        "Write the command that results from your search in the next cell:"
      ]
    },
    {
      "cell_type": "code",
      "execution_count": 37,
      "metadata": {
        "ExecuteTime": {
          "end_time": "2022-01-17T22:28:31.557408Z",
          "start_time": "2022-01-17T22:28:31.551090Z"
        },
        "id": "NTAMI1gkvB_V",
        "outputId": "744ee29d-da6e-4fef-9384-5b791900f6d4",
        "colab": {
          "base_uri": "https://localhost:8080/"
        }
      },
      "outputs": [
        {
          "output_type": "stream",
          "name": "stdout",
          "text": [
            "(13503, 5)\n"
          ]
        }
      ],
      "source": [
        "print(data.shape)"
      ]
    },
    {
      "cell_type": "markdown",
      "metadata": {
        "id": "0f-NnGEgB6pR"
      },
      "source": [
        "Now let's see if you did it right. The first number should tell you the number of rows, while the second number should tell you the number of columns.\n",
        "\n",
        "Here is a little check that we can have our program do on our data using the command `assert`. This is useful to **debug** our code, when we want to check that things are as we want them to be in the process of developing the code. In our course, we will use this also to give you feedback as to whether you are generating reasonable code or if there is some error to correct. Try it now by replacing the placeholder `???` in the cell below with your answer for getting the matrix dimensions (cell above). Then execute the cell with *Shift + Enter*"
      ]
    },
    {
      "cell_type": "code",
      "execution_count": 38,
      "metadata": {
        "ExecuteTime": {
          "end_time": "2022-01-17T22:28:33.362398Z",
          "start_time": "2022-01-17T22:28:33.357673Z"
        },
        "id": "oxdMgVM7BuL8"
      },
      "outputs": [],
      "source": [
        "assert data.shape[0] == 13503"
      ]
    },
    {
      "cell_type": "markdown",
      "metadata": {
        "id": "s8zvDVUYC4iv"
      },
      "source": [
        "If you did not get any output back, then you are good. If you did get a warning, then your code has some problem."
      ]
    },
    {
      "cell_type": "markdown",
      "metadata": {
        "id": "igld5MVLZRuH"
      },
      "source": [
        "Ok, so now is the good time to tell you about the data! This is the behavioral data from one experiment in an influential paper studying the **confirmation bias in perceptual decisions**, by Talluri and colleagues ([link here](https://www.sciencedirect.com/science/article/pii/S0960982218309825)). The paradigm is illustrated in this [figure](https://ars.els-cdn.com/content/image/1-s2.0-S0960982218309825-gr1_lrg.jpg):\n",
        "Each row of the array correspond to one trial in the dataset (the array concatenantes data from all participants). Each column represents a different variable in the task, respectively: the orientation of the first stimulus, the orientation of the second stimulus, the average orientation over both stimuli, the orientation provided by the subject at the end of the trial and the subject id. Note that the data here corresponds to the subset of trials where an intermediate judgment is provided and the subject was requested to provided the orientation at the end of the trial."
      ]
    },
    {
      "cell_type": "markdown",
      "metadata": {
        "id": "wQj_3D_5vB_V"
      },
      "source": [
        "## Subsetting"
      ]
    },
    {
      "cell_type": "markdown",
      "metadata": {
        "id": "5JqPZPPPDFYU"
      },
      "source": [
        "A fundamental operation we will need to do on our data is to select parts of the data, some rows or some columns, to operate specifically on them. This selection of a subset of our data is what we call *subsetting*."
      ]
    },
    {
      "cell_type": "markdown",
      "metadata": {
        "id": "3Rlwxp8WvB_V"
      },
      "source": [
        "Just to get used to it, ***extract the first 10 rows of the 1st and 2nd column*** of your array **data**.   \n",
        "Be careful, in Python the numbers start at 0, so the first row has the index 0.  \n",
        "You can google by yourself how to do it or use [this](https://jakevdp.github.io/PythonDataScienceHandbook/02.02-the-basics-of-numpy-arrays.html) online handbook.   \n",
        "Write the solution in the next cell.  "
      ]
    },
    {
      "cell_type": "code",
      "execution_count": 39,
      "metadata": {
        "ExecuteTime": {
          "end_time": "2022-01-17T22:28:35.692122Z",
          "start_time": "2022-01-17T22:28:35.682108Z"
        },
        "id": "MiA52d7ZvB_W",
        "outputId": "4bfca010-8103-4c12-f499-64c6fa96f9c3",
        "colab": {
          "base_uri": "https://localhost:8080/"
        }
      },
      "outputs": [
        {
          "output_type": "stream",
          "name": "stdout",
          "text": [
            "[[-10.   0.]\n",
            " [-10. -10.]\n",
            " [ 20.  10.]\n",
            " [-20.  10.]\n",
            " [ 20. -10.]\n",
            " [-20.   0.]\n",
            " [-20. -20.]\n",
            " [  0.  10.]\n",
            " [-20.  10.]\n",
            " [-10. -20.]]\n"
          ]
        }
      ],
      "source": [
        "subset = data[:10, :2]\n",
        "print(subset)"
      ]
    },
    {
      "cell_type": "markdown",
      "metadata": {
        "id": "pEMvi9xuvB_W"
      },
      "source": [
        "But, what are these numbers? Well, you will explore them in depth in the next assignments.   \n",
        "For now, we are just practicing basic skills, so it is enough to know that this is a psychophysics dataset of a perceptual decision making task where subjects have to estimate the average motion direction of two subsequent stimuli.   \n",
        "Each row is one ***trial***, the first column contains the motion direction of the first stimulus ***x1*** and the second column the motion direction of stimulus ***x2***.  \n",
        "Their units are degrees.\n",
        "***What is the range of these values?***  \n",
        "Hint: google for minimum and maximum values\n"
      ]
    },
    {
      "cell_type": "code",
      "execution_count": 40,
      "metadata": {
        "ExecuteTime": {
          "end_time": "2022-01-17T22:28:36.667153Z",
          "start_time": "2022-01-17T22:28:36.660580Z"
        },
        "id": "rs5mqzvVvB_W",
        "outputId": "838bf127-1ba4-4bef-c849-80cf4fb44e1d",
        "colab": {
          "base_uri": "https://localhost:8080/"
        }
      },
      "outputs": [
        {
          "output_type": "stream",
          "name": "stdout",
          "text": [
            "20.0\n",
            "-20.0\n",
            "40.0\n"
          ]
        }
      ],
      "source": [
        "max_value = np.max(subset)\n",
        "min_value = np.min(subset)\n",
        "print(max_value)\n",
        "print(min_value)\n",
        "range = max_value - min_value\n",
        "print(range)\n"
      ]
    },
    {
      "cell_type": "markdown",
      "metadata": {
        "id": "IcFLAfMwZRuI"
      },
      "source": [
        "The third column of the data is the average of x1 and x2, ***xavg***. Check is this is actually true by recomputing the avearage and comparing it to the third column."
      ]
    },
    {
      "cell_type": "code",
      "execution_count": 41,
      "metadata": {
        "id": "tr1DOUdMZRuJ",
        "outputId": "193605f7-5831-4252-e0a1-92490eda373c",
        "colab": {
          "base_uri": "https://localhost:8080/"
        }
      },
      "outputs": [
        {
          "output_type": "stream",
          "name": "stdout",
          "text": [
            "[0. 0. 0. ... 0. 0. 0.]\n",
            "0.0\n"
          ]
        }
      ],
      "source": [
        "# create vector as average of first two columns\n",
        "xavg_recomputed = (data[:, 0] + data[:, 1]) / 2\n",
        "\n",
        "# difference with third column\n",
        "diff = xavg_recomputed - data[:, 2]\n",
        "print(diff)\n",
        "\n",
        "# maximum absolute difference (should be 0 IF AND ONLY IF all differences are zero) - NOTE: we could also use boolean arrays which are introduced below\n",
        "max_abs_diff = np.abs(diff).max()\n",
        "print(max_abs_diff)\n"
      ]
    },
    {
      "cell_type": "markdown",
      "metadata": {
        "id": "yuCnWIATvB_X"
      },
      "source": [
        "## Subsetting with booleans"
      ]
    },
    {
      "cell_type": "markdown",
      "metadata": {
        "id": "xzCi8nVUvB_X"
      },
      "source": [
        "Sometimes it is convenient to use [booleans]().\n",
        "This is typically just another Python array but, instead of containing numbers, it contains `True` and `False`. If you use a boolean to index another array you just get the values of this array that correspond to `True` values in the boolean.  \n",
        "For example:\n",
        "\n",
        "```\n",
        "matrix = np.array([1, 2, 3, 4])\n",
        "boolean = np.array([True, False, True, True])\n",
        "```\n",
        "\n",
        "If you apply the boolean to index the matrix this way\n",
        "```\n",
        "matrix[boolean]\n",
        "```\n",
        "you get a subset of the original array `matrix` only with corresponding `True` values in `boolean`:\n",
        "```\n",
        "array([1, 3, 4])\n",
        "```\n",
        "\n",
        "A boolean is something really simple to create, you just need to specify a [condition](https://www.w3schools.com/python/python_conditions.asp), for instance:\n",
        "\n",
        "```\n",
        "matrix = np.array([1, 1, 2, 2])\n",
        "boolean = matrix==2\n",
        "```\n",
        "(notice the difference between `=`, an assignment, and `==`, a condition)\n",
        "\n",
        "The boolean then will be:\n",
        "\n",
        "```\n",
        "array([False, False,  True,  True])\n",
        "```\n",
        "which indicates in what positions of array **matrix** the condition `==2` is satisfied"
      ]
    },
    {
      "cell_type": "markdown",
      "metadata": {
        "id": "W_qd39GivB_X"
      },
      "source": [
        "Let's now try this hands-on!\n",
        "\n",
        "The 5th column of the matrix contains an integer number that identifies each specific subject that participated in the study. Let's now create a few new [variables](https://realpython.com/python-variables/) :\n",
        "\n",
        "1.   Create the variable `nSubject` with the number of subjects that performed this task (Hint: Google **\"python unique\"**)\n",
        "2.   Create the boolean `bool7` to mark the rows obtained from Subject #7\n",
        "3.   Using `bool7` create the variable `subj7` that includes only the specific data of Subject #7\n"
      ]
    },
    {
      "cell_type": "code",
      "execution_count": 42,
      "metadata": {
        "ExecuteTime": {
          "end_time": "2022-01-17T22:28:39.101299Z",
          "start_time": "2022-01-17T22:28:39.087732Z"
        },
        "id": "hfPeEFKTvB_X",
        "outputId": "c5f342c6-d245-43aa-c4ca-296caa3ed73a",
        "colab": {
          "base_uri": "https://localhost:8080/"
        }
      },
      "outputs": [
        {
          "output_type": "stream",
          "name": "stdout",
          "text": [
            "number of subjects:  14\n"
          ]
        }
      ],
      "source": [
        "# 5th column = subject IDs\n",
        "subject_list = data[:, 4].astype(int)\n",
        "\n",
        "# number of elements in that list (corresponds to the number of subjects)\n",
        "nSubject = np.unique(subject_list).size\n",
        "\n",
        "print(\"number of subjects: \", nSubject)"
      ]
    },
    {
      "cell_type": "code",
      "execution_count": 43,
      "metadata": {
        "id": "03wpdwYsZRuK"
      },
      "outputs": [],
      "source": [
        "# create boolean array that is true for rows corresponding to subject 7\n",
        "bool7 = (subject_list == 7)\n",
        "\n",
        "# select data for subject 7 (i.e corresponding rows)\n",
        "subj7 = data[bool7, :]"
      ]
    },
    {
      "cell_type": "code",
      "execution_count": 44,
      "metadata": {
        "ExecuteTime": {
          "end_time": "2022-01-17T22:28:40.053043Z",
          "start_time": "2022-01-17T22:28:40.044544Z"
        },
        "id": "8eh-v97LZRuK",
        "outputId": "adf39c5e-8e5e-44ae-b41a-3eac469d17af",
        "colab": {
          "base_uri": "https://localhost:8080/"
        }
      },
      "outputs": [
        {
          "output_type": "execute_result",
          "data": {
            "text/plain": [
              "(1000, 5)"
            ]
          },
          "metadata": {},
          "execution_count": 44
        }
      ],
      "source": [
        "subj7.shape"
      ]
    },
    {
      "cell_type": "code",
      "execution_count": 45,
      "metadata": {
        "ExecuteTime": {
          "end_time": "2022-01-17T22:28:40.854177Z",
          "start_time": "2022-01-17T22:28:40.844388Z"
        },
        "id": "KLRDlnxMEser",
        "outputId": "1d735438-8ddf-43ae-d649-1d9f4e02aa91",
        "colab": {
          "base_uri": "https://localhost:8080/"
        }
      },
      "outputs": [
        {
          "output_type": "stream",
          "name": "stdout",
          "text": [
            "1000\n"
          ]
        }
      ],
      "source": [
        "assert nSubject == 14, \"nSubject is incorrect\"\n",
        "assert np.sum(bool7) == 1000\n",
        "assert np.shape(subj7)[0] == sum(bool7)\n",
        "assert np.shape(subj7)[1] == 5\n",
        "print(np.sum(bool7))"
      ]
    },
    {
      "cell_type": "markdown",
      "metadata": {
        "id": "fikWivJPGpGX"
      },
      "source": [
        "If you ran the previous cell and it did not complain, you did a great job! If not, try running the different ```assert``` commands separately to debug more specifically your problem. **Remember that by preceding a whole sentence with a # you turn it into a comment and it is not executed as code!**"
      ]
    },
    {
      "cell_type": "markdown",
      "metadata": {
        "id": "QyXVjvdCH7fi"
      },
      "source": [
        "By the way, what is ```np.sum(bool7)```?\n",
        "\n"
      ]
    },
    {
      "cell_type": "markdown",
      "metadata": {
        "id": "Yvun4i0FZRuL"
      },
      "source": [
        "*italik metin*<u>Answer</u>: 1000"
      ]
    },
    {
      "cell_type": "markdown",
      "metadata": {
        "id": "RHBuyA_JvB_X"
      },
      "source": [
        "# Functions"
      ]
    },
    {
      "cell_type": "markdown",
      "metadata": {
        "id": "3HeDtvLovB_Y"
      },
      "source": [
        "Sometimes, in the libraries that we are using we do not have the specific function that we need.  \n",
        "When that is the case, we have to create it by ourselves.  \n",
        "Suppose, for instance, that we want to calculate the distance between the stimulus average (the third column of our data) and the response of the participant (stored in the forth column of our data) to get a measure of error. Distances can often be calculated as a mere difference, but here we are dealing with angles on a circle so that we have to take into account that the circle wraps around. We need a specific function to deal with this.\n",
        "The function will be called ***circdist***.  "
      ]
    },
    {
      "cell_type": "code",
      "execution_count": 46,
      "metadata": {
        "ExecuteTime": {
          "end_time": "2022-01-17T22:28:43.825927Z",
          "start_time": "2022-01-17T22:28:43.820702Z"
        },
        "id": "1FBwZTEEvB_Z"
      },
      "outputs": [],
      "source": [
        "def circdist(angles1, angles2): # define the name and set the arguments between parentheses\n",
        "    \"\"\"\n",
        "    Calculate the circular distance between two angles.\n",
        "\n",
        "    Parameters:\n",
        "        angles1 (float): First angle. Scalar or array.\n",
        "        angles2 (float): First angle. Scalar or array.\n",
        "\n",
        "    Returns:\n",
        "        float: Angle difference(s).\n",
        "    \"\"\"\n",
        "    angle_diff = angles1 - angles2 # angle difference\n",
        "    angle_diff = angle_diff  / 180 * np.pi # convert to radian\n",
        "    output = np.angle(np.exp(1j * angle_diff))  # mathematical operation to get the circular distance\n",
        "    output = output / np.pi * 180   # convert back to degrees\n",
        "    return output  # return the circular distance in radians"
      ]
    },
    {
      "cell_type": "markdown",
      "metadata": {
        "id": "DsmyFLvLvB_Z"
      },
      "source": [
        "In this case, the operation we are performing in the function is quite complex but the structure of the code is very simple. Check it up carefully: the command **def**, the name of the function with arguments within parenthesis, the colon at the end of the line, the indentation for all commands that define the function and finally the **return** command with the result that the function returns. You can learn [here](https://www.tutorialspoint.com/python/python_functions.htm) more about functions in Python.\n",
        "\n",
        "**Now use the circdist function to get the circular distance between the stimulus average and the response of the subject**. We will call this **error** as participants were supposed to respond the exact value of the target so any deviation from target is an \"error\".\n",
        "Hint: use the link above and apply the \"calling a function\" to this specific case."
      ]
    },
    {
      "cell_type": "code",
      "execution_count": 47,
      "metadata": {
        "id": "R1yDOK_UZRuU",
        "outputId": "c87ca826-6eb5-4990-f21a-e2d0593bac47",
        "colab": {
          "base_uri": "https://localhost:8080/"
        }
      },
      "outputs": [
        {
          "output_type": "stream",
          "name": "stdout",
          "text": [
            "0.2122000000000002\n"
          ]
        }
      ],
      "source": [
        "err = circdist(data[:, 2], data[:, 3])\n",
        "err_first = err[0]\n",
        "print(err_first)"
      ]
    },
    {
      "cell_type": "code",
      "execution_count": 48,
      "metadata": {
        "ExecuteTime": {
          "end_time": "2022-01-17T22:28:44.715661Z",
          "start_time": "2022-01-17T22:28:44.694283Z"
        },
        "id": "naypCp2DvB_a",
        "outputId": "f436de77-b52b-4403-f6ee-2b31b46f4705",
        "colab": {
          "base_uri": "https://localhost:8080/"
        }
      },
      "outputs": [
        {
          "output_type": "stream",
          "name": "stdout",
          "text": [
            "[  0.2122    -1.78232   32.93416  ... -12.234593  -3.8409   -19.943002]\n"
          ]
        }
      ],
      "source": [
        "# array representing the distance between stimulus average and response for all trials\n",
        "err = circdist(data[:, 2], data[:, 3])\n",
        "print(err)"
      ]
    },
    {
      "cell_type": "markdown",
      "metadata": {
        "id": "LyxsN_yIvB_a"
      },
      "source": [
        "The circular distance between the target and the response (error) could be a really useful measure to add to our matrix, right? That way we do not need to calculate it everytime.  \n",
        "\n",
        "**Now try to add it as an extra column to the matrix**  *data* using the command `np.column_stack`.\n",
        "You already have the tools to start flying alone (copilot, chatgpt, google, matrix subsetting, intuition...)!   \n",
        "Do not be afraid! Try things!  \n",
        "Let the \"I am going to mess it up fear\" go away! If, by any weird chance, you \"destroy\" your matrix, you just have to go to the top of this page and run everyting again, it will just take 1 second! Try it now."
      ]
    },
    {
      "cell_type": "code",
      "execution_count": 49,
      "metadata": {
        "ExecuteTime": {
          "end_time": "2022-01-17T22:28:46.531503Z",
          "start_time": "2022-01-17T22:28:46.525933Z"
        },
        "id": "7fyFSs88vB_b"
      },
      "outputs": [],
      "source": [
        "data = np.column_stack((data, err))"
      ]
    },
    {
      "cell_type": "code",
      "execution_count": 50,
      "metadata": {
        "ExecuteTime": {
          "end_time": "2022-01-17T22:28:47.196004Z",
          "start_time": "2022-01-17T22:28:47.190695Z"
        },
        "id": "iLbTrFi7KXgX"
      },
      "outputs": [],
      "source": [
        "assert data.shape[1] == 6"
      ]
    },
    {
      "cell_type": "markdown",
      "metadata": {
        "id": "1PROUGyuvB_b"
      },
      "source": [
        "Great! Now you have one more column in your data array, which contains the angular error of responses in each trial. This is the last column of your array, and you can address that with the index \"-1\" in Python, so now `data[:,-1]` contains the values in **error**"
      ]
    },
    {
      "cell_type": "markdown",
      "metadata": {
        "id": "Okm4wLQdvB_b"
      },
      "source": [
        "# Plotting"
      ]
    },
    {
      "cell_type": "markdown",
      "metadata": {
        "id": "EeIatp-BvB_b"
      },
      "source": [
        "Let's see how the errors look like!  \n",
        "According to the literature they should follow a [Gaussian](https://en.wikipedia.org/wiki/Normal_distribution) distribution around 0.  \n",
        "The visualization tool that best fits what we need is a [histogram](https://en.wikipedia.org/wiki/Histogram).  \n",
        "Use matplotlib to plot a [histogram](https://matplotlib.org/3.3.3/api/_as_gen/matplotlib.pyplot.hist.html) of the new column of your matrix.\n",
        "It would be nice if you could also plot a red vertical line at the mean value of errors and see if the results are in line with the assumption.  \n",
        "\n"
      ]
    },
    {
      "cell_type": "code",
      "execution_count": 51,
      "metadata": {
        "ExecuteTime": {
          "end_time": "2022-01-17T22:28:50.223890Z",
          "start_time": "2022-01-17T22:28:49.943220Z"
        },
        "id": "dXzDQOelvB_b",
        "scrolled": true,
        "outputId": "3afa99c2-79d2-4f31-e5f9-a14c1fd5e8a0",
        "colab": {
          "base_uri": "https://localhost:8080/",
          "height": 106
        }
      },
      "outputs": [
        {
          "output_type": "error",
          "ename": "SyntaxError",
          "evalue": "invalid syntax (ipython-input-2148296828.py, line 4)",
          "traceback": [
            "\u001b[0;36m  File \u001b[0;32m\"/tmp/ipython-input-2148296828.py\"\u001b[0;36m, line \u001b[0;32m4\u001b[0m\n\u001b[0;31m    mean_error = ???\u001b[0m\n\u001b[0m                 ^\u001b[0m\n\u001b[0;31mSyntaxError\u001b[0m\u001b[0;31m:\u001b[0m invalid syntax\n"
          ]
        }
      ],
      "source": [
        "# plot histogram with 100 bin counts\n",
        "???\n",
        "# add a red vertical line at the mean error (null error)\n",
        "mean_error = ???\n",
        "plt.axvline(???, color='red');\n",
        "\n",
        "# add axis labels\n",
        "plt.xlabel('behavioral error');\n",
        "plt.ylabel('trial count');"
      ]
    },
    {
      "cell_type": "markdown",
      "metadata": {
        "id": "FSE3w4qZvB_b"
      },
      "source": [
        "# For loop"
      ]
    },
    {
      "cell_type": "markdown",
      "metadata": {
        "id": "DttBppekvB_c"
      },
      "source": [
        "Now you will learn a really powerful tool: the ***for loop***.   \n",
        "This tool allows you to make iterations, so you can run the same commands, over and over again without\n",
        "having to write new code for each iteration.  \n",
        "\n",
        "Check out the next two cells to understand why this is so useful:"
      ]
    },
    {
      "cell_type": "code",
      "execution_count": null,
      "metadata": {
        "ExecuteTime": {
          "end_time": "2022-01-17T22:29:10.998292Z",
          "start_time": "2022-01-17T22:29:10.989789Z"
        },
        "id": "zCLZsWkfvB_d"
      },
      "outputs": [],
      "source": [
        "# print all the values in a list without using a for loop\n",
        "fruits=['orange', 'apple', 'banana', 'tomato', 'lime', 'lemon']\n",
        "print(fruits[0])\n",
        "print(fruits[1])\n",
        "print(fruits[2])\n",
        "print(fruits[3])\n",
        "print(fruits[4])\n",
        "print(fruits[5])"
      ]
    },
    {
      "cell_type": "code",
      "execution_count": null,
      "metadata": {
        "ExecuteTime": {
          "end_time": "2022-01-17T22:29:11.918130Z",
          "start_time": "2022-01-17T22:29:11.911799Z"
        },
        "id": "9eX6eSnGvB_d"
      },
      "outputs": [],
      "source": [
        "# print all the values in a list using a for loop\n",
        "for f in fruits:\n",
        "    print(f)"
      ]
    },
    {
      "cell_type": "markdown",
      "metadata": {
        "id": "-BjPdVHzvB_f"
      },
      "source": [
        "You can easily see that **the second cell is a much more efficient way to code**. It is not only shorter, but it is less error-prone. Errors in the code (**bugs**) are the worst nightmare of a data analyst. Again, note the **indentation** of the line containing `print(f)`. Try removing the indenting spaces. Can you then run that cell?\n",
        "\n",
        "In this case one only needs to write 6 lines of code for the first cell to get all the fruits, but what if we had 1,000 fruits?... Then we would have had to write 1,000 lines!.\n",
        "On the other hand, in the second cell we just needed two lines of code, both for 6 and 1,000 fruits.\n",
        "Everytime you see yourself repeating the same code just to change a small detail, remember you can use [for loops](https://www.w3schools.com/python/python_for_loops.asp)\n"
      ]
    },
    {
      "cell_type": "markdown",
      "metadata": {
        "id": "VfdtkB30vB_f"
      },
      "source": [
        "Let's use the foor loop in our dataset!\n",
        "***Make the error histogram for each subject***  \n",
        "\n",
        "Hint 1: Take advantage of the code you used before to get the data of Subject #7, and now generalize to all other subjects.  \n",
        "\n",
        "Hint 2: To iterate through subjects you need to get the list of indexes for the subjects. To get that list you can use [`np.unique()`](https://docs.scipy.org/doc/numpy/reference/generated/numpy.unique.html) if you are not sure about how many subjects there are, or else use [`np.arange()`](https://docs.scipy.org/doc/numpy/reference/generated/numpy.arange.html) to get a range of values. Now you are ready to start your for loop.\n",
        "\n",
        "Hint 3: write: `plt.figure()` at the beginning of every iteration so you generate one histogram for each subject.\n",
        "\n",
        "Hint 4: Remember to enter 4 indenting spaces in front of the commands within the for loop!\n"
      ]
    },
    {
      "cell_type": "code",
      "execution_count": null,
      "metadata": {
        "ExecuteTime": {
          "end_time": "2022-01-17T22:29:20.328831Z",
          "start_time": "2022-01-17T22:29:19.476080Z"
        },
        "id": "ndyDfBR2vB_f"
      },
      "outputs": [],
      "source": [
        "# create plot with one subplot per subject\n",
        "nColumns = 3\n",
        "nRows = int(np.ceil(nSubject/nColumns))\n",
        "fig, ax = plt.subplots(nRows, nColumns, figsize=(14, 16))\n",
        "\n",
        "# loop through subjects\n",
        "for sb in ???:\n",
        "\n",
        "    # define boolean array that is true for rows corresponding to this subject\n",
        "    trials = ???\n",
        "\n",
        "    # subplot counter (integer starting at 0, could also be done better using enumerate)\n",
        "    i = int(sb-1)\n",
        "    iCol = i % nColumns # corresponding column\n",
        "    iRow = i// nColumns # corresponding row\n",
        "\n",
        "    # add histogram for this subject\n",
        "    ax[iRow,iCol].???;\n",
        "\n",
        "    # add vertical line\n",
        "    mean_error = ??? # mean error for this subject\n",
        "    ax[iRow,iCol].axvline(mean_error, color='red');\n",
        "\n",
        "    # add label and title\n",
        "    ax[iRow,iCol].set_xlim((-100,100))\n",
        "    ax[iRow,iCol].set_ylabel('trial count')\n",
        "    ax[iRow,iCol].set_title(f'Subject: {int(sb)}')"
      ]
    },
    {
      "cell_type": "markdown",
      "metadata": {
        "id": "phqVma93MnvJ"
      },
      "source": [
        "# Panda DataFrames"
      ]
    },
    {
      "cell_type": "markdown",
      "metadata": {
        "id": "rwI2fbUxMria"
      },
      "source": [
        "You are now ready to do manipulations and graphical representations on your data, using the basic features of the **numpy** and **matplotplib** packages.\n",
        "\n",
        "However, in modern data analyses with Python it is common to use another library to organize better the data and provide more robust and intuitive subsetting and manipulation of the data. This is the [pandas](https://pandas.pydata.org/docs/getting_started/index.html#getting-started) library, and it introduces the concept of **DataFrame**.\n",
        "\n",
        "Dataframes also organize the data in rows and columns, but they naturally index them with names, rather than index numbers. Each row will generally correspond to one observation (here, on trial), and each column corresponds to one variable (stimulus, response, subject identity, etc.). This way, we can write our code referring to column `'error'` instead of column `5` and this makes debugging much easier. In addition, they come equipped with many in-built functions for compact data manipulation that make it a very powerful tool - we will only scratch the surfance of all the possibilities offered by dataframes."
      ]
    },
    {
      "cell_type": "markdown",
      "metadata": {
        "id": "2dfK4elXOzFb"
      },
      "source": [
        "So, to start using Pandas, we need to import the library:"
      ]
    },
    {
      "cell_type": "code",
      "execution_count": null,
      "metadata": {
        "ExecuteTime": {
          "end_time": "2022-01-17T22:30:04.596385Z",
          "start_time": "2022-01-17T22:30:04.277586Z"
        },
        "id": "ErTN1TOcvB_f"
      },
      "outputs": [],
      "source": [
        "import pandas as pd"
      ]
    },
    {
      "cell_type": "markdown",
      "metadata": {
        "id": "E5UnVvYtO6Sa"
      },
      "source": [
        "and now we need to build our DataFrame. Since we already have a matrix with our data, we can just generate the DataFrame from this matrix by specifying the names of each column:"
      ]
    },
    {
      "cell_type": "code",
      "execution_count": null,
      "metadata": {
        "ExecuteTime": {
          "end_time": "2022-01-17T22:30:12.909131Z",
          "start_time": "2022-01-17T22:30:12.901490Z"
        },
        "id": "61r0lvudO4UW"
      },
      "outputs": [],
      "source": [
        "df = pd.DataFrame(data, columns=['x1', 'x2', 'xavg', 'estim', 'subject', 'error'])"
      ]
    },
    {
      "cell_type": "markdown",
      "metadata": {
        "id": "rWoaOryOPw3a"
      },
      "source": [
        "Note that we could also directly load the data in a DataFrame from a CSV file, using the command below.\n",
        "The benefits of importing directly is that we also direct get the columns names from the CSV, we do have to specify them.\n",
        "(Of course we would also need to add the Error column)"
      ]
    },
    {
      "cell_type": "code",
      "execution_count": null,
      "metadata": {
        "id": "6J-IV91sZRud"
      },
      "outputs": [],
      "source": [
        "#df = pd.read_csv(\"Task_Perceptual_simple.csv\",sep=',')"
      ]
    },
    {
      "cell_type": "markdown",
      "metadata": {
        "id": "gjFDNppoZRue"
      },
      "source": [
        "You can now see the first rows of this dataframe using the command `head`:"
      ]
    },
    {
      "cell_type": "code",
      "execution_count": null,
      "metadata": {
        "ExecuteTime": {
          "end_time": "2022-01-17T22:30:19.498145Z",
          "start_time": "2022-01-17T22:30:19.473335Z"
        },
        "id": "HtGLWR4gP1GQ"
      },
      "outputs": [],
      "source": [
        "df.head()"
      ]
    },
    {
      "cell_type": "markdown",
      "metadata": {
        "id": "ATG2psFjQ9kk"
      },
      "source": [
        "Notice that now we use our dataframe as if it were a \"library\" from which we call functions: `df.fun` means that we apply built-in panda function `fun` to the dataframe `df`. There are tons of functions defined for Pandas dataframes and this is the extraordinary power of this library."
      ]
    },
    {
      "cell_type": "markdown",
      "metadata": {
        "id": "KeT8ratzP3bs"
      },
      "source": [
        "Now, instead of getting error values with `data[:,-1]`, we can use `df['error']`. This is a significant change because our code may add columns inadvertently and then `data[:,-1]` may be addressing something different than \"error\" but `df['error']` is clearly always getting back what we want. In this sense, our code will be clearer and have fewer bugs. Convince yourself that `data[:,-1]` and `df['error']` now give the same list of values:"
      ]
    },
    {
      "cell_type": "code",
      "execution_count": null,
      "metadata": {
        "ExecuteTime": {
          "end_time": "2022-01-17T22:30:57.694108Z",
          "start_time": "2022-01-17T22:30:57.665610Z"
        },
        "id": "7XfvVnK0QJUC"
      },
      "outputs": [],
      "source": [
        "???"
      ]
    },
    {
      "cell_type": "code",
      "execution_count": null,
      "metadata": {
        "ExecuteTime": {
          "end_time": "2022-01-17T22:31:01.023764Z",
          "start_time": "2022-01-17T22:31:01.015403Z"
        },
        "id": "fYZupXDQZRug"
      },
      "outputs": [],
      "source": [
        "???"
      ]
    },
    {
      "cell_type": "markdown",
      "metadata": {
        "id": "m3Yw6KrWQKhG"
      },
      "source": [
        "As an exercise: **add now one extra column to the dataframe df that contains the circular distance between the columns x1 and x2**. This is much easier than with `column_stack` in plain **numpy**, you just need to assign the new values to a new column name (for instance `df['dist_x1x2']`) Check with `df.head()` that you can see this new column in your table."
      ]
    },
    {
      "cell_type": "code",
      "execution_count": null,
      "metadata": {
        "id": "o58puJs6Qi5B"
      },
      "outputs": [],
      "source": [
        "???\n",
        "df.head()"
      ]
    },
    {
      "cell_type": "markdown",
      "metadata": {
        "id": "BWegW8bbZRuh"
      },
      "source": [
        "Well done! Now compare the simplicity of adding one column to a dataframe to the more cumbersome way to append a column to a numpy array as we did above using `np.column_stack`"
      ]
    },
    {
      "cell_type": "markdown",
      "metadata": {
        "id": "TbJLoq4yQxfY"
      },
      "source": [
        "Now check this:"
      ]
    },
    {
      "cell_type": "code",
      "execution_count": null,
      "metadata": {
        "id": "rL5_0P5TQymx"
      },
      "outputs": [],
      "source": [
        "df.hist(column='error', by='subject');"
      ]
    },
    {
      "cell_type": "markdown",
      "metadata": {
        "id": "_Sd14xUnR-HW"
      },
      "source": [
        "**Neat, eh?** Compare what you had to do with bare **numpy** above!! You can unpack this very compact command [here](https://pandas.pydata.org/pandas-docs/stable/reference/api/pandas.DataFrame.hist.html)."
      ]
    },
    {
      "cell_type": "markdown",
      "metadata": {
        "id": "8gWBP2cSZRuk"
      },
      "source": [
        "It is thus general good practice to organize our datasets in Python using the Pandas library. It not only keeps the code more readable, and prevents many errors, but it also provides very compact functions to deal with data manipulation and plotting. See for instance how you would compute the mean and standard deviation of behavioral errors for each subject:"
      ]
    },
    {
      "cell_type": "code",
      "execution_count": null,
      "metadata": {
        "id": "xl5hh_95ZRul"
      },
      "outputs": [],
      "source": [
        "df.groupby('subject').error.agg(('mean', 'std'))"
      ]
    }
  ],
  "metadata": {
    "colab": {
      "name": "Assignment 0.ipynb",
      "provenance": []
    },
    "hide_input": false,
    "kernelspec": {
      "display_name": "Python [conda env:base] *",
      "language": "python",
      "name": "conda-base-py"
    },
    "language_info": {
      "codemirror_mode": {
        "name": "ipython",
        "version": 3
      },
      "file_extension": ".py",
      "mimetype": "text/x-python",
      "name": "python",
      "nbconvert_exporter": "python",
      "pygments_lexer": "ipython3",
      "version": "3.13.5"
    },
    "toc": {
      "base_numbering": 1,
      "nav_menu": {},
      "number_sections": true,
      "sideBar": true,
      "skip_h1_title": false,
      "title_cell": "Table of Contents",
      "title_sidebar": "Contents",
      "toc_cell": false,
      "toc_position": {},
      "toc_section_display": true,
      "toc_window_display": false
    },
    "varInspector": {
      "cols": {
        "lenName": 16,
        "lenType": 16,
        "lenVar": 40
      },
      "kernels_config": {
        "python": {
          "delete_cmd_postfix": "",
          "delete_cmd_prefix": "del ",
          "library": "var_list.py",
          "varRefreshCmd": "print(var_dic_list())"
        },
        "r": {
          "delete_cmd_postfix": ") ",
          "delete_cmd_prefix": "rm(",
          "library": "var_list.r",
          "varRefreshCmd": "cat(var_dic_list()) "
        }
      },
      "types_to_exclude": [
        "module",
        "function",
        "builtin_function_or_method",
        "instance",
        "_Feature"
      ],
      "window_display": false
    }
  },
  "nbformat": 4,
  "nbformat_minor": 0
}