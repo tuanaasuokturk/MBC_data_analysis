{
  "cells": [
    {
      "cell_type": "markdown",
      "metadata": {
        "id": "view-in-github",
        "colab_type": "text"
      },
      "source": [
        "<a href=\"https://colab.research.google.com/github/tuanaasuokturk/MBC_data_analysis/blob/main/A1_Statistics/Assignment1.ipynb\" target=\"_parent\"><img src=\"https://colab.research.google.com/assets/colab-badge.svg\" alt=\"Open In Colab\"/></a>"
      ]
    },
    {
      "cell_type": "markdown",
      "metadata": {
        "id": "pxFPNerzM0Bh"
      },
      "source": [
        "### Assignment 1\n",
        "\n",
        "##### Descriptive statistics and statistical hypothesis testing\n",
        "\n",
        "\n"
      ]
    },
    {
      "cell_type": "markdown",
      "metadata": {
        "id": "pTYlhd-qWYKL"
      },
      "source": [
        "**In this assignment, we will see:**\n",
        "- how to **visually inspect** experimental data\n",
        "- how to characterize experimental data using **descriptive statistics**\n",
        "- how to perform a simple statistic test using either a **parametric (t-test) or non-parametric (shuffling) method**\n"
      ]
    },
    {
      "cell_type": "markdown",
      "metadata": {
        "id": "yHWsKf1xWYKM"
      },
      "source": [
        "<div class=\"alert alert-block alert-warning\">\n",
        "<b>Preparing for this assignment:</b>\n",
        "\n",
        "The following resources will help you to get ready to complete this assignment.\n",
        "<ul>\n",
        "    <li>Watch <a href=\"http://youtu.be/5q-Ws4y8JE4\" target=\"_blank\">this video</a> (here the <a href=\"https://www.cmrr.umn.edu/~kendrick/statsmatlab/StatsLecture2Slides_Hypothesis.pdf\" target=\"_blank\">slides</a>) only until time stamp 23:08 (stop right after permutation tests) in order to learn about:</li>\n",
        "    <ul>\n",
        "        <li>the logic of t-tests to test the hypothesis that two samples have the same mean</li>\n",
        "        <li>the non-parametric equivalent in permutation tests. Make sure you understand this logic</li>\n",
        "    </ul>\n",
        "    <li>Have a look at <a href=\"https://doi.org/10.1016/j.cub.2018.07.052\" target=\"_blank\">this paper</a> (focussing on Figure 1 and the description of the experimental task) to understand the logic of the experimental data that we will analyze.</li>\n",
        "</ul>\n",
        "</div>"
      ]
    },
    {
      "cell_type": "markdown",
      "metadata": {
        "id": "OsKRrVYkWYKN"
      },
      "source": [
        "## About the dataset\n",
        "\n",
        "In this Assignment, we will use a dataset from a psychophysical experiment in which subjects have to report the mean motion direction of two random dot motion stimuli.\n",
        "\n",
        "The aim of the paper was to investigate the confirmation bias in a perceptual decision making experiment. Confirmation bias is a phenomenon in which our own decisions bias subsequent judgements. The underlying neural mechanisms are difficult to study in real-life settings but if similar phenemena were observed in lab experiments, it would be more feasable to study these mechanisms.\n",
        "\n",
        "In any case, in this assignment we will not analyze the confirmation bias, but more basic aspects of the perceptual decision making task presented in the paper. In particular, we will analyze the data from the perceputal estimation task and use descriptive statistics and basic hypothesis tests to establish whether the perceptual reports of the subjects are biased in a systematic way.\n"
      ]
    },
    {
      "cell_type": "markdown",
      "metadata": {
        "id": "jIBSI5Q2WYKO"
      },
      "source": [
        "***Load the data and organize it in a Pandas dataframe (as in Assignment 0).***\n",
        "**Note that the data is the same as in Assignment 0 but it contains more trials.**"
      ]
    },
    {
      "cell_type": "code",
      "execution_count": 43,
      "metadata": {
        "ExecuteTime": {
          "end_time": "2022-02-04T22:46:45.526840Z",
          "start_time": "2022-02-04T22:46:44.697115Z"
        },
        "colab": {
          "base_uri": "https://localhost:8080/",
          "height": 206
        },
        "id": "a-LweZWJM0B8",
        "outputId": "72c04aa5-ef19-48fe-b71e-cbd4b314d20a"
      },
      "outputs": [
        {
          "output_type": "execute_result",
          "data": {
            "text/plain": [
              "   x1  x2  xavg     estim  subj\n",
              "0 -10   0    -5  -5.21220     1\n",
              "1 -10 -10   -10  -8.21768     1\n",
              "2  20  10    15 -17.93416     1\n",
              "3 -20  10    -5 -13.42634     1\n",
              "4  20 -10     5   9.88556     1"
            ],
            "text/html": [
              "\n",
              "  <div id=\"df-603b7204-4fc4-494b-85db-35ebbf8d2210\" class=\"colab-df-container\">\n",
              "    <div>\n",
              "<style scoped>\n",
              "    .dataframe tbody tr th:only-of-type {\n",
              "        vertical-align: middle;\n",
              "    }\n",
              "\n",
              "    .dataframe tbody tr th {\n",
              "        vertical-align: top;\n",
              "    }\n",
              "\n",
              "    .dataframe thead th {\n",
              "        text-align: right;\n",
              "    }\n",
              "</style>\n",
              "<table border=\"1\" class=\"dataframe\">\n",
              "  <thead>\n",
              "    <tr style=\"text-align: right;\">\n",
              "      <th></th>\n",
              "      <th>x1</th>\n",
              "      <th>x2</th>\n",
              "      <th>xavg</th>\n",
              "      <th>estim</th>\n",
              "      <th>subj</th>\n",
              "    </tr>\n",
              "  </thead>\n",
              "  <tbody>\n",
              "    <tr>\n",
              "      <th>0</th>\n",
              "      <td>-10</td>\n",
              "      <td>0</td>\n",
              "      <td>-5</td>\n",
              "      <td>-5.21220</td>\n",
              "      <td>1</td>\n",
              "    </tr>\n",
              "    <tr>\n",
              "      <th>1</th>\n",
              "      <td>-10</td>\n",
              "      <td>-10</td>\n",
              "      <td>-10</td>\n",
              "      <td>-8.21768</td>\n",
              "      <td>1</td>\n",
              "    </tr>\n",
              "    <tr>\n",
              "      <th>2</th>\n",
              "      <td>20</td>\n",
              "      <td>10</td>\n",
              "      <td>15</td>\n",
              "      <td>-17.93416</td>\n",
              "      <td>1</td>\n",
              "    </tr>\n",
              "    <tr>\n",
              "      <th>3</th>\n",
              "      <td>-20</td>\n",
              "      <td>10</td>\n",
              "      <td>-5</td>\n",
              "      <td>-13.42634</td>\n",
              "      <td>1</td>\n",
              "    </tr>\n",
              "    <tr>\n",
              "      <th>4</th>\n",
              "      <td>20</td>\n",
              "      <td>-10</td>\n",
              "      <td>5</td>\n",
              "      <td>9.88556</td>\n",
              "      <td>1</td>\n",
              "    </tr>\n",
              "  </tbody>\n",
              "</table>\n",
              "</div>\n",
              "    <div class=\"colab-df-buttons\">\n",
              "\n",
              "  <div class=\"colab-df-container\">\n",
              "    <button class=\"colab-df-convert\" onclick=\"convertToInteractive('df-603b7204-4fc4-494b-85db-35ebbf8d2210')\"\n",
              "            title=\"Convert this dataframe to an interactive table.\"\n",
              "            style=\"display:none;\">\n",
              "\n",
              "  <svg xmlns=\"http://www.w3.org/2000/svg\" height=\"24px\" viewBox=\"0 -960 960 960\">\n",
              "    <path d=\"M120-120v-720h720v720H120Zm60-500h600v-160H180v160Zm220 220h160v-160H400v160Zm0 220h160v-160H400v160ZM180-400h160v-160H180v160Zm440 0h160v-160H620v160ZM180-180h160v-160H180v160Zm440 0h160v-160H620v160Z\"/>\n",
              "  </svg>\n",
              "    </button>\n",
              "\n",
              "  <style>\n",
              "    .colab-df-container {\n",
              "      display:flex;\n",
              "      gap: 12px;\n",
              "    }\n",
              "\n",
              "    .colab-df-convert {\n",
              "      background-color: #E8F0FE;\n",
              "      border: none;\n",
              "      border-radius: 50%;\n",
              "      cursor: pointer;\n",
              "      display: none;\n",
              "      fill: #1967D2;\n",
              "      height: 32px;\n",
              "      padding: 0 0 0 0;\n",
              "      width: 32px;\n",
              "    }\n",
              "\n",
              "    .colab-df-convert:hover {\n",
              "      background-color: #E2EBFA;\n",
              "      box-shadow: 0px 1px 2px rgba(60, 64, 67, 0.3), 0px 1px 3px 1px rgba(60, 64, 67, 0.15);\n",
              "      fill: #174EA6;\n",
              "    }\n",
              "\n",
              "    .colab-df-buttons div {\n",
              "      margin-bottom: 4px;\n",
              "    }\n",
              "\n",
              "    [theme=dark] .colab-df-convert {\n",
              "      background-color: #3B4455;\n",
              "      fill: #D2E3FC;\n",
              "    }\n",
              "\n",
              "    [theme=dark] .colab-df-convert:hover {\n",
              "      background-color: #434B5C;\n",
              "      box-shadow: 0px 1px 3px 1px rgba(0, 0, 0, 0.15);\n",
              "      filter: drop-shadow(0px 1px 2px rgba(0, 0, 0, 0.3));\n",
              "      fill: #FFFFFF;\n",
              "    }\n",
              "  </style>\n",
              "\n",
              "    <script>\n",
              "      const buttonEl =\n",
              "        document.querySelector('#df-603b7204-4fc4-494b-85db-35ebbf8d2210 button.colab-df-convert');\n",
              "      buttonEl.style.display =\n",
              "        google.colab.kernel.accessAllowed ? 'block' : 'none';\n",
              "\n",
              "      async function convertToInteractive(key) {\n",
              "        const element = document.querySelector('#df-603b7204-4fc4-494b-85db-35ebbf8d2210');\n",
              "        const dataTable =\n",
              "          await google.colab.kernel.invokeFunction('convertToInteractive',\n",
              "                                                    [key], {});\n",
              "        if (!dataTable) return;\n",
              "\n",
              "        const docLinkHtml = 'Like what you see? Visit the ' +\n",
              "          '<a target=\"_blank\" href=https://colab.research.google.com/notebooks/data_table.ipynb>data table notebook</a>'\n",
              "          + ' to learn more about interactive tables.';\n",
              "        element.innerHTML = '';\n",
              "        dataTable['output_type'] = 'display_data';\n",
              "        await google.colab.output.renderOutput(dataTable, element);\n",
              "        const docLink = document.createElement('div');\n",
              "        docLink.innerHTML = docLinkHtml;\n",
              "        element.appendChild(docLink);\n",
              "      }\n",
              "    </script>\n",
              "  </div>\n",
              "\n",
              "\n",
              "    <div id=\"df-1b215998-1b6e-478e-bd4b-e53638b1ba1e\">\n",
              "      <button class=\"colab-df-quickchart\" onclick=\"quickchart('df-1b215998-1b6e-478e-bd4b-e53638b1ba1e')\"\n",
              "                title=\"Suggest charts\"\n",
              "                style=\"display:none;\">\n",
              "\n",
              "<svg xmlns=\"http://www.w3.org/2000/svg\" height=\"24px\"viewBox=\"0 0 24 24\"\n",
              "     width=\"24px\">\n",
              "    <g>\n",
              "        <path d=\"M19 3H5c-1.1 0-2 .9-2 2v14c0 1.1.9 2 2 2h14c1.1 0 2-.9 2-2V5c0-1.1-.9-2-2-2zM9 17H7v-7h2v7zm4 0h-2V7h2v10zm4 0h-2v-4h2v4z\"/>\n",
              "    </g>\n",
              "</svg>\n",
              "      </button>\n",
              "\n",
              "<style>\n",
              "  .colab-df-quickchart {\n",
              "      --bg-color: #E8F0FE;\n",
              "      --fill-color: #1967D2;\n",
              "      --hover-bg-color: #E2EBFA;\n",
              "      --hover-fill-color: #174EA6;\n",
              "      --disabled-fill-color: #AAA;\n",
              "      --disabled-bg-color: #DDD;\n",
              "  }\n",
              "\n",
              "  [theme=dark] .colab-df-quickchart {\n",
              "      --bg-color: #3B4455;\n",
              "      --fill-color: #D2E3FC;\n",
              "      --hover-bg-color: #434B5C;\n",
              "      --hover-fill-color: #FFFFFF;\n",
              "      --disabled-bg-color: #3B4455;\n",
              "      --disabled-fill-color: #666;\n",
              "  }\n",
              "\n",
              "  .colab-df-quickchart {\n",
              "    background-color: var(--bg-color);\n",
              "    border: none;\n",
              "    border-radius: 50%;\n",
              "    cursor: pointer;\n",
              "    display: none;\n",
              "    fill: var(--fill-color);\n",
              "    height: 32px;\n",
              "    padding: 0;\n",
              "    width: 32px;\n",
              "  }\n",
              "\n",
              "  .colab-df-quickchart:hover {\n",
              "    background-color: var(--hover-bg-color);\n",
              "    box-shadow: 0 1px 2px rgba(60, 64, 67, 0.3), 0 1px 3px 1px rgba(60, 64, 67, 0.15);\n",
              "    fill: var(--button-hover-fill-color);\n",
              "  }\n",
              "\n",
              "  .colab-df-quickchart-complete:disabled,\n",
              "  .colab-df-quickchart-complete:disabled:hover {\n",
              "    background-color: var(--disabled-bg-color);\n",
              "    fill: var(--disabled-fill-color);\n",
              "    box-shadow: none;\n",
              "  }\n",
              "\n",
              "  .colab-df-spinner {\n",
              "    border: 2px solid var(--fill-color);\n",
              "    border-color: transparent;\n",
              "    border-bottom-color: var(--fill-color);\n",
              "    animation:\n",
              "      spin 1s steps(1) infinite;\n",
              "  }\n",
              "\n",
              "  @keyframes spin {\n",
              "    0% {\n",
              "      border-color: transparent;\n",
              "      border-bottom-color: var(--fill-color);\n",
              "      border-left-color: var(--fill-color);\n",
              "    }\n",
              "    20% {\n",
              "      border-color: transparent;\n",
              "      border-left-color: var(--fill-color);\n",
              "      border-top-color: var(--fill-color);\n",
              "    }\n",
              "    30% {\n",
              "      border-color: transparent;\n",
              "      border-left-color: var(--fill-color);\n",
              "      border-top-color: var(--fill-color);\n",
              "      border-right-color: var(--fill-color);\n",
              "    }\n",
              "    40% {\n",
              "      border-color: transparent;\n",
              "      border-right-color: var(--fill-color);\n",
              "      border-top-color: var(--fill-color);\n",
              "    }\n",
              "    60% {\n",
              "      border-color: transparent;\n",
              "      border-right-color: var(--fill-color);\n",
              "    }\n",
              "    80% {\n",
              "      border-color: transparent;\n",
              "      border-right-color: var(--fill-color);\n",
              "      border-bottom-color: var(--fill-color);\n",
              "    }\n",
              "    90% {\n",
              "      border-color: transparent;\n",
              "      border-bottom-color: var(--fill-color);\n",
              "    }\n",
              "  }\n",
              "</style>\n",
              "\n",
              "      <script>\n",
              "        async function quickchart(key) {\n",
              "          const quickchartButtonEl =\n",
              "            document.querySelector('#' + key + ' button');\n",
              "          quickchartButtonEl.disabled = true;  // To prevent multiple clicks.\n",
              "          quickchartButtonEl.classList.add('colab-df-spinner');\n",
              "          try {\n",
              "            const charts = await google.colab.kernel.invokeFunction(\n",
              "                'suggestCharts', [key], {});\n",
              "          } catch (error) {\n",
              "            console.error('Error during call to suggestCharts:', error);\n",
              "          }\n",
              "          quickchartButtonEl.classList.remove('colab-df-spinner');\n",
              "          quickchartButtonEl.classList.add('colab-df-quickchart-complete');\n",
              "        }\n",
              "        (() => {\n",
              "          let quickchartButtonEl =\n",
              "            document.querySelector('#df-1b215998-1b6e-478e-bd4b-e53638b1ba1e button');\n",
              "          quickchartButtonEl.style.display =\n",
              "            google.colab.kernel.accessAllowed ? 'block' : 'none';\n",
              "        })();\n",
              "      </script>\n",
              "    </div>\n",
              "\n",
              "    </div>\n",
              "  </div>\n"
            ],
            "application/vnd.google.colaboratory.intrinsic+json": {
              "type": "dataframe",
              "variable_name": "df",
              "summary": "{\n  \"name\": \"df\",\n  \"rows\": 14418,\n  \"fields\": [\n    {\n      \"column\": \"x1\",\n      \"properties\": {\n        \"dtype\": \"number\",\n        \"std\": 13,\n        \"min\": -20,\n        \"max\": 20,\n        \"num_unique_values\": 5,\n        \"samples\": [\n          20,\n          10,\n          -20\n        ],\n        \"semantic_type\": \"\",\n        \"description\": \"\"\n      }\n    },\n    {\n      \"column\": \"x2\",\n      \"properties\": {\n        \"dtype\": \"number\",\n        \"std\": 13,\n        \"min\": -20,\n        \"max\": 20,\n        \"num_unique_values\": 5,\n        \"samples\": [\n          -10,\n          20,\n          10\n        ],\n        \"semantic_type\": \"\",\n        \"description\": \"\"\n      }\n    },\n    {\n      \"column\": \"xavg\",\n      \"properties\": {\n        \"dtype\": \"number\",\n        \"std\": 10,\n        \"min\": -20,\n        \"max\": 20,\n        \"num_unique_values\": 9,\n        \"samples\": [\n          0,\n          -10,\n          -15\n        ],\n        \"semantic_type\": \"\",\n        \"description\": \"\"\n      }\n    },\n    {\n      \"column\": \"estim\",\n      \"properties\": {\n        \"dtype\": \"number\",\n        \"std\": 23.444307504078967,\n        \"min\": -179.2723,\n        \"max\": 191.25586,\n        \"num_unique_values\": 14080,\n        \"samples\": [\n          7.431603,\n          -5.65897999999999,\n          -7.25657000000001\n        ],\n        \"semantic_type\": \"\",\n        \"description\": \"\"\n      }\n    },\n    {\n      \"column\": \"subj\",\n      \"properties\": {\n        \"dtype\": \"number\",\n        \"std\": 4,\n        \"min\": 1,\n        \"max\": 14,\n        \"num_unique_values\": 14,\n        \"samples\": [\n          10,\n          12,\n          1\n        ],\n        \"semantic_type\": \"\",\n        \"description\": \"\"\n      }\n    }\n  ]\n}"
            }
          },
          "metadata": {},
          "execution_count": 43
        }
      ],
      "source": [
        "import numpy as np\n",
        "import matplotlib.pyplot as plt\n",
        "import pandas as pd\n",
        "\n",
        "# load the data from github\n",
        "df = pd.read_csv(\"https://raw.githubusercontent.com/wimmerlab/MBC_data_analysis/main/A1_Statistics/Rawdata_Perceptual_simple.csv\",sep=',')\n",
        "\n",
        "# list of subjects\n",
        "subjects = np.unique(df.subj)\n",
        "\n",
        "df.head()\n"
      ]
    },
    {
      "cell_type": "markdown",
      "metadata": {
        "id": "Xht4YGj1WYKR"
      },
      "source": [
        "We first want to familiarize ourselves with the experimental task. We already know that the subjects have to report the average angle of two random dot motion stimuli. We want to check whether the experiment is well balanced, i.e. whether different average directions are more likely than others. One way to visualize this is to ***plot a histogram which shows us the distribution of mean directions across trials***. Here, we will consider all trials of all subjects but of course you could inspect the histrograms for individual subjects as well."
      ]
    },
    {
      "cell_type": "code",
      "execution_count": 44,
      "metadata": {
        "id": "8d_dpaOMWYKS",
        "outputId": "f7b6bcf5-15d0-4af5-cee6-c8eef240f24f",
        "colab": {
          "base_uri": "https://localhost:8080/",
          "height": 449
        }
      },
      "outputs": [
        {
          "output_type": "display_data",
          "data": {
            "text/plain": [
              "<Figure size 640x480 with 1 Axes>"
            ],
            "image/png": "[encoded data removed]"
          },
          "metadata": {}
        }
      ],
      "source": [
        "# number of trials for each condition (across all subjects)\n",
        "\n",
        "xavg = np.unique(df.xavg)\n",
        "\n",
        "# distribution of xavg\n",
        "plt.hist(df.xavg,bins = range(-25,25));\n",
        "\n",
        "# Add axis labels\n",
        "plt.xlabel('Stimulus average (deg)')\n",
        "plt.ylabel('Count')\n",
        "plt.show()\n"
      ]
    },
    {
      "cell_type": "markdown",
      "metadata": {
        "id": "RaTLV_8bM0C4"
      },
      "source": [
        "***Interpret the result.***"
      ]
    },
    {
      "cell_type": "markdown",
      "metadata": {
        "id": "wDlgmnjMWYKT"
      },
      "source": [
        "The histogram shows a symmetric but non-uniform distribution of average motion directions across trials. Most stimuli have mean directions near 0°, while extreme angles (±20°) are less frequent. This suggests that the experiment was well balanced in terms of direction polarity (left vs right) but not uniform across the range of possible averages, which should be considered in later analyses of response bias or accuracy."
      ]
    },
    {
      "cell_type": "markdown",
      "metadata": {
        "id": "T78jKOWAWYKT"
      },
      "source": [
        "***Now add an additional column to the dataframe: the error defined as the difference of the subject's estimation and the average of the stimulus.***\n",
        "\n",
        "Hint: use the function `circdist` from Assignment 0."
      ]
    },
    {
      "cell_type": "code",
      "execution_count": 45,
      "metadata": {
        "ExecuteTime": {
          "end_time": "2022-02-04T22:46:45.579384Z",
          "start_time": "2022-02-04T22:46:45.571146Z"
        },
        "colab": {
          "base_uri": "https://localhost:8080/",
          "height": 206
        },
        "id": "BalrNc8IM0Dh",
        "outputId": "67b4b5a8-b501-4ba7-9a38-07ef492782dc"
      },
      "outputs": [
        {
          "output_type": "execute_result",
          "data": {
            "text/plain": [
              "   x1  x2  xavg     estim  subj     error\n",
              "0 -10   0    -5  -5.21220     1  -0.21220\n",
              "1 -10 -10   -10  -8.21768     1   1.78232\n",
              "2  20  10    15 -17.93416     1 -32.93416\n",
              "3 -20  10    -5 -13.42634     1  -8.42634\n",
              "4  20 -10     5   9.88556     1   4.88556"
            ],
            "text/html": [
              "\n",
              "  <div id=\"df-d3179740-5bda-4591-97b8-ed1df6196b2b\" class=\"colab-df-container\">\n",
              "    <div>\n",
              "<style scoped>\n",
              "    .dataframe tbody tr th:only-of-type {\n",
              "        vertical-align: middle;\n",
              "    }\n",
              "\n",
              "    .dataframe tbody tr th {\n",
              "        vertical-align: top;\n",
              "    }\n",
              "\n",
              "    .dataframe thead th {\n",
              "        text-align: right;\n",
              "    }\n",
              "</style>\n",
              "<table border=\"1\" class=\"dataframe\">\n",
              "  <thead>\n",
              "    <tr style=\"text-align: right;\">\n",
              "      <th></th>\n",
              "      <th>x1</th>\n",
              "      <th>x2</th>\n",
              "      <th>xavg</th>\n",
              "      <th>estim</th>\n",
              "      <th>subj</th>\n",
              "      <th>error</th>\n",
              "    </tr>\n",
              "  </thead>\n",
              "  <tbody>\n",
              "    <tr>\n",
              "      <th>0</th>\n",
              "      <td>-10</td>\n",
              "      <td>0</td>\n",
              "      <td>-5</td>\n",
              "      <td>-5.21220</td>\n",
              "      <td>1</td>\n",
              "      <td>-0.21220</td>\n",
              "    </tr>\n",
              "    <tr>\n",
              "      <th>1</th>\n",
              "      <td>-10</td>\n",
              "      <td>-10</td>\n",
              "      <td>-10</td>\n",
              "      <td>-8.21768</td>\n",
              "      <td>1</td>\n",
              "      <td>1.78232</td>\n",
              "    </tr>\n",
              "    <tr>\n",
              "      <th>2</th>\n",
              "      <td>20</td>\n",
              "      <td>10</td>\n",
              "      <td>15</td>\n",
              "      <td>-17.93416</td>\n",
              "      <td>1</td>\n",
              "      <td>-32.93416</td>\n",
              "    </tr>\n",
              "    <tr>\n",
              "      <th>3</th>\n",
              "      <td>-20</td>\n",
              "      <td>10</td>\n",
              "      <td>-5</td>\n",
              "      <td>-13.42634</td>\n",
              "      <td>1</td>\n",
              "      <td>-8.42634</td>\n",
              "    </tr>\n",
              "    <tr>\n",
              "      <th>4</th>\n",
              "      <td>20</td>\n",
              "      <td>-10</td>\n",
              "      <td>5</td>\n",
              "      <td>9.88556</td>\n",
              "      <td>1</td>\n",
              "      <td>4.88556</td>\n",
              "    </tr>\n",
              "  </tbody>\n",
              "</table>\n",
              "</div>\n",
              "    <div class=\"colab-df-buttons\">\n",
              "\n",
              "  <div class=\"colab-df-container\">\n",
              "    <button class=\"colab-df-convert\" onclick=\"convertToInteractive('df-d3179740-5bda-4591-97b8-ed1df6196b2b')\"\n",
              "            title=\"Convert this dataframe to an interactive table.\"\n",
              "            style=\"display:none;\">\n",
              "\n",
              "  <svg xmlns=\"http://www.w3.org/2000/svg\" height=\"24px\" viewBox=\"0 -960 960 960\">\n",
              "    <path d=\"M120-120v-720h720v720H120Zm60-500h600v-160H180v160Zm220 220h160v-160H400v160Zm0 220h160v-160H400v160ZM180-400h160v-160H180v160Zm440 0h160v-160H620v160ZM180-180h160v-160H180v160Zm440 0h160v-160H620v160Z\"/>\n",
              "  </svg>\n",
              "    </button>\n",
              "\n",
              "  <style>\n",
              "    .colab-df-container {\n",
              "      display:flex;\n",
              "      gap: 12px;\n",
              "    }\n",
              "\n",
              "    .colab-df-convert {\n",
              "      background-color: #E8F0FE;\n",
              "      border: none;\n",
              "      border-radius: 50%;\n",
              "      cursor: pointer;\n",
              "      display: none;\n",
              "      fill: #1967D2;\n",
              "      height: 32px;\n",
              "      padding: 0 0 0 0;\n",
              "      width: 32px;\n",
              "    }\n",
              "\n",
              "    .colab-df-convert:hover {\n",
              "      background-color: #E2EBFA;\n",
              "      box-shadow: 0px 1px 2px rgba(60, 64, 67, 0.3), 0px 1px 3px 1px rgba(60, 64, 67, 0.15);\n",
              "      fill: #174EA6;\n",
              "    }\n",
              "\n",
              "    .colab-df-buttons div {\n",
              "      margin-bottom: 4px;\n",
              "    }\n",
              "\n",
              "    [theme=dark] .colab-df-convert {\n",
              "      background-color: #3B4455;\n",
              "      fill: #D2E3FC;\n",
              "    }\n",
              "\n",
              "    [theme=dark] .colab-df-convert:hover {\n",
              "      background-color: #434B5C;\n",
              "      box-shadow: 0px 1px 3px 1px rgba(0, 0, 0, 0.15);\n",
              "      filter: drop-shadow(0px 1px 2px rgba(0, 0, 0, 0.3));\n",
              "      fill: #FFFFFF;\n",
              "    }\n",
              "  </style>\n",
              "\n",
              "    <script>\n",
              "      const buttonEl =\n",
              "        document.querySelector('#df-d3179740-5bda-4591-97b8-ed1df6196b2b button.colab-df-convert');\n",
              "      buttonEl.style.display =\n",
              "        google.colab.kernel.accessAllowed ? 'block' : 'none';\n",
              "\n",
              "      async function convertToInteractive(key) {\n",
              "        const element = document.querySelector('#df-d3179740-5bda-4591-97b8-ed1df6196b2b');\n",
              "        const dataTable =\n",
              "          await google.colab.kernel.invokeFunction('convertToInteractive',\n",
              "                                                    [key], {});\n",
              "        if (!dataTable) return;\n",
              "\n",
              "        const docLinkHtml = 'Like what you see? Visit the ' +\n",
              "          '<a target=\"_blank\" href=https://colab.research.google.com/notebooks/data_table.ipynb>data table notebook</a>'\n",
              "          + ' to learn more about interactive tables.';\n",
              "        element.innerHTML = '';\n",
              "        dataTable['output_type'] = 'display_data';\n",
              "        await google.colab.output.renderOutput(dataTable, element);\n",
              "        const docLink = document.createElement('div');\n",
              "        docLink.innerHTML = docLinkHtml;\n",
              "        element.appendChild(docLink);\n",
              "      }\n",
              "    </script>\n",
              "  </div>\n",
              "\n",
              "\n",
              "    <div id=\"df-4de815d0-b6cb-4c39-b787-c007ef8b55d9\">\n",
              "      <button class=\"colab-df-quickchart\" onclick=\"quickchart('df-4de815d0-b6cb-4c39-b787-c007ef8b55d9')\"\n",
              "                title=\"Suggest charts\"\n",
              "                style=\"display:none;\">\n",
              "\n",
              "<svg xmlns=\"http://www.w3.org/2000/svg\" height=\"24px\"viewBox=\"0 0 24 24\"\n",
              "     width=\"24px\">\n",
              "    <g>\n",
              "        <path d=\"M19 3H5c-1.1 0-2 .9-2 2v14c0 1.1.9 2 2 2h14c1.1 0 2-.9 2-2V5c0-1.1-.9-2-2-2zM9 17H7v-7h2v7zm4 0h-2V7h2v10zm4 0h-2v-4h2v4z\"/>\n",
              "    </g>\n",
              "</svg>\n",
              "      </button>\n",
              "\n",
              "<style>\n",
              "  .colab-df-quickchart {\n",
              "      --bg-color: #E8F0FE;\n",
              "      --fill-color: #1967D2;\n",
              "      --hover-bg-color: #E2EBFA;\n",
              "      --hover-fill-color: #174EA6;\n",
              "      --disabled-fill-color: #AAA;\n",
              "      --disabled-bg-color: #DDD;\n",
              "  }\n",
              "\n",
              "  [theme=dark] .colab-df-quickchart {\n",
              "      --bg-color: #3B4455;\n",
              "      --fill-color: #D2E3FC;\n",
              "      --hover-bg-color: #434B5C;\n",
              "      --hover-fill-color: #FFFFFF;\n",
              "      --disabled-bg-color: #3B4455;\n",
              "      --disabled-fill-color: #666;\n",
              "  }\n",
              "\n",
              "  .colab-df-quickchart {\n",
              "    background-color: var(--bg-color);\n",
              "    border: none;\n",
              "    border-radius: 50%;\n",
              "    cursor: pointer;\n",
              "    display: none;\n",
              "    fill: var(--fill-color);\n",
              "    height: 32px;\n",
              "    padding: 0;\n",
              "    width: 32px;\n",
              "  }\n",
              "\n",
              "  .colab-df-quickchart:hover {\n",
              "    background-color: var(--hover-bg-color);\n",
              "    box-shadow: 0 1px 2px rgba(60, 64, 67, 0.3), 0 1px 3px 1px rgba(60, 64, 67, 0.15);\n",
              "    fill: var(--button-hover-fill-color);\n",
              "  }\n",
              "\n",
              "  .colab-df-quickchart-complete:disabled,\n",
              "  .colab-df-quickchart-complete:disabled:hover {\n",
              "    background-color: var(--disabled-bg-color);\n",
              "    fill: var(--disabled-fill-color);\n",
              "    box-shadow: none;\n",
              "  }\n",
              "\n",
              "  .colab-df-spinner {\n",
              "    border: 2px solid var(--fill-color);\n",
              "    border-color: transparent;\n",
              "    border-bottom-color: var(--fill-color);\n",
              "    animation:\n",
              "      spin 1s steps(1) infinite;\n",
              "  }\n",
              "\n",
              "  @keyframes spin {\n",
              "    0% {\n",
              "      border-color: transparent;\n",
              "      border-bottom-color: var(--fill-color);\n",
              "      border-left-color: var(--fill-color);\n",
              "    }\n",
              "    20% {\n",
              "      border-color: transparent;\n",
              "      border-left-color: var(--fill-color);\n",
              "      border-top-color: var(--fill-color);\n",
              "    }\n",
              "    30% {\n",
              "      border-color: transparent;\n",
              "      border-left-color: var(--fill-color);\n",
              "      border-top-color: var(--fill-color);\n",
              "      border-right-color: var(--fill-color);\n",
              "    }\n",
              "    40% {\n",
              "      border-color: transparent;\n",
              "      border-right-color: var(--fill-color);\n",
              "      border-top-color: var(--fill-color);\n",
              "    }\n",
              "    60% {\n",
              "      border-color: transparent;\n",
              "      border-right-color: var(--fill-color);\n",
              "    }\n",
              "    80% {\n",
              "      border-color: transparent;\n",
              "      border-right-color: var(--fill-color);\n",
              "      border-bottom-color: var(--fill-color);\n",
              "    }\n",
              "    90% {\n",
              "      border-color: transparent;\n",
              "      border-bottom-color: var(--fill-color);\n",
              "    }\n",
              "  }\n",
              "</style>\n",
              "\n",
              "      <script>\n",
              "        async function quickchart(key) {\n",
              "          const quickchartButtonEl =\n",
              "            document.querySelector('#' + key + ' button');\n",
              "          quickchartButtonEl.disabled = true;  // To prevent multiple clicks.\n",
              "          quickchartButtonEl.classList.add('colab-df-spinner');\n",
              "          try {\n",
              "            const charts = await google.colab.kernel.invokeFunction(\n",
              "                'suggestCharts', [key], {});\n",
              "          } catch (error) {\n",
              "            console.error('Error during call to suggestCharts:', error);\n",
              "          }\n",
              "          quickchartButtonEl.classList.remove('colab-df-spinner');\n",
              "          quickchartButtonEl.classList.add('colab-df-quickchart-complete');\n",
              "        }\n",
              "        (() => {\n",
              "          let quickchartButtonEl =\n",
              "            document.querySelector('#df-4de815d0-b6cb-4c39-b787-c007ef8b55d9 button');\n",
              "          quickchartButtonEl.style.display =\n",
              "            google.colab.kernel.accessAllowed ? 'block' : 'none';\n",
              "        })();\n",
              "      </script>\n",
              "    </div>\n",
              "\n",
              "    </div>\n",
              "  </div>\n"
            ],
            "application/vnd.google.colaboratory.intrinsic+json": {
              "type": "dataframe",
              "variable_name": "df",
              "summary": "{\n  \"name\": \"df\",\n  \"rows\": 14418,\n  \"fields\": [\n    {\n      \"column\": \"x1\",\n      \"properties\": {\n        \"dtype\": \"number\",\n        \"std\": 13,\n        \"min\": -20,\n        \"max\": 20,\n        \"num_unique_values\": 5,\n        \"samples\": [\n          20,\n          10,\n          -20\n        ],\n        \"semantic_type\": \"\",\n        \"description\": \"\"\n      }\n    },\n    {\n      \"column\": \"x2\",\n      \"properties\": {\n        \"dtype\": \"number\",\n        \"std\": 13,\n        \"min\": -20,\n        \"max\": 20,\n        \"num_unique_values\": 5,\n        \"samples\": [\n          -10,\n          20,\n          10\n        ],\n        \"semantic_type\": \"\",\n        \"description\": \"\"\n      }\n    },\n    {\n      \"column\": \"xavg\",\n      \"properties\": {\n        \"dtype\": \"number\",\n        \"std\": 10,\n        \"min\": -20,\n        \"max\": 20,\n        \"num_unique_values\": 9,\n        \"samples\": [\n          0,\n          -10,\n          -15\n        ],\n        \"semantic_type\": \"\",\n        \"description\": \"\"\n      }\n    },\n    {\n      \"column\": \"estim\",\n      \"properties\": {\n        \"dtype\": \"number\",\n        \"std\": 23.444307504078967,\n        \"min\": -179.2723,\n        \"max\": 191.25586,\n        \"num_unique_values\": 14080,\n        \"samples\": [\n          7.431603,\n          -5.65897999999999,\n          -7.25657000000001\n        ],\n        \"semantic_type\": \"\",\n        \"description\": \"\"\n      }\n    },\n    {\n      \"column\": \"subj\",\n      \"properties\": {\n        \"dtype\": \"number\",\n        \"std\": 4,\n        \"min\": 1,\n        \"max\": 14,\n        \"num_unique_values\": 14,\n        \"samples\": [\n          10,\n          12,\n          1\n        ],\n        \"semantic_type\": \"\",\n        \"description\": \"\"\n      }\n    },\n    {\n      \"column\": \"error\",\n      \"properties\": {\n        \"dtype\": \"number\",\n        \"std\": 23.73779170367212,\n        \"min\": -179.83959000000002,\n        \"max\": 179.11447000000004,\n        \"num_unique_values\": 14204,\n        \"samples\": [\n          13.9179,\n          28.961399999999998,\n          4.315319999999989\n        ],\n        \"semantic_type\": \"\",\n        \"description\": \"\"\n      }\n    }\n  ]\n}"
            }
          },
          "metadata": {},
          "execution_count": 45
        }
      ],
      "source": [
        "def circdist(angles1, angles2): # define the name and set the arguments between parentheses\n",
        "    \"\"\"\n",
        "    Calculate the circular distance between two angles.\n",
        "\n",
        "    Parameters:\n",
        "        angles1 (float): First angle. Scalar or array.\n",
        "        angles2 (float): First angle. Scalar or array.\n",
        "\n",
        "    Returns:\n",
        "        float: Angle difference(s).\n",
        "    \"\"\"\n",
        "    angle_diff = angles1 - angles2 # angle difference\n",
        "    angle_diff = angle_diff  / 180 * np.pi # convert to radian\n",
        "    output = np.angle(np.exp(1j * angle_diff))  # mathematical operation to get the circular distance\n",
        "    output = output / np.pi * 180   # convert back to degrees\n",
        "    return output  # return the circular distance in radians\n",
        "\n",
        "df[\"error\"] = circdist(df[\"estim\"], df[\"xavg\"])\n",
        "\n",
        "df.head()\n"
      ]
    },
    {
      "cell_type": "markdown",
      "metadata": {
        "id": "pb8L3c-7M0Dq"
      },
      "source": [
        "## 1. Data cleaning\n",
        "\n",
        "Let's have a look at the distribution of the subject's errors. For simplicity, let's consider again the aggragate data of all subjects. ***Plot the histogram of errors.***\n",
        "\n",
        "\n",
        "\n"
      ]
    },
    {
      "cell_type": "code",
      "execution_count": 46,
      "metadata": {
        "id": "8Aeq3G19WYKU",
        "outputId": "ef3558fe-b34d-46d7-deb9-71613679c95e",
        "colab": {
          "base_uri": "https://localhost:8080/",
          "height": 449
        }
      },
      "outputs": [
        {
          "output_type": "display_data",
          "data": {
            "text/plain": [
              "<Figure size 640x480 with 1 Axes>"
            ],
            "image/png": "[encoded data removed]"
          },
          "metadata": {}
        }
      ],
      "source": [
        "plt.hist(df.error,50)\n",
        "\n",
        "# Add axis labels\n",
        "plt.xlabel('Error (deg)')\n",
        "plt.ylabel('Count');\n"
      ]
    },
    {
      "cell_type": "markdown",
      "metadata": {
        "id": "YVkdhXDyWYKV"
      },
      "source": [
        "Observe that the estimation errors are usally below 50 degree (which already may seem quite surprisingly large) but in some trials the estimation errors are exceptionally large. Such **estimation outliers** may have a huge impact on subsequent analyses and one may want to remove them. Whether to remove outliers or no can be a tricky question. In this particular experiment, we suspect that in trials with very large errors the subjects were actually not paying attention and responded just randomly. It is important to remember is that we need to report the criteria was used to clean the data (for an example see the methods section of Talluri et al. (2018) for their exact data exclusion criterion)."
      ]
    },
    {
      "cell_type": "markdown",
      "metadata": {
        "id": "evrCwTdiWYKV"
      },
      "source": [
        "How can we remove outliers? Here, we will use the `zscore` function to identify outliers. Google about it to learn its meaning. A typical threshold for outliers is 3 standard deviations from the mean, in either direction."
      ]
    },
    {
      "cell_type": "markdown",
      "metadata": {
        "id": "QSOHekdjWYKV"
      },
      "source": [
        "Hint: here we will need to subset the rows of a Pandas dataframe, and this can be tricky. By default, the Pandas dataframe keeps the row indices of the original full dataframe, so the new subset dataframe will lack a series of row indices. In order to force a re-numbering of rows in the subset, we need to invoke `reset_index()`. Still, Pandas will consider that we still want to keep the connection with the parent dataset so it will add by default a new column (called 'index') with the row indices in the parent dataset. If we do not want this column added, then we will invoke `reset_index(drop=True)`. Another possibility is to use `iloc`."
      ]
    },
    {
      "cell_type": "code",
      "execution_count": 47,
      "metadata": {
        "id": "fmNh1FJKWYKV",
        "outputId": "108824c1-637a-4bf4-ef02-dbdcac889981",
        "colab": {
          "base_uri": "https://localhost:8080/",
          "height": 484
        }
      },
      "outputs": [
        {
          "output_type": "stream",
          "name": "stdout",
          "text": [
            "Number of Upper outliers : 170\n",
            "Number of Lower outliers : 138\n"
          ]
        },
        {
          "output_type": "display_data",
          "data": {
            "text/plain": [
              "<Figure size 640x480 with 1 Axes>"
            ],
            "image/png": "[encoded data removed]"
          },
          "metadata": {}
        }
      ],
      "source": [
        "from scipy.stats import zscore\n",
        "import matplotlib.pyplot as plt\n",
        "\n",
        "# compute z-scores of the error column\n",
        "z = zscore(df[\"error\"])\n",
        "\n",
        "# get the number of upper outliers\n",
        "upp_out = sum(z > 3)\n",
        "print('Number of Upper outliers : ' + str(upp_out))\n",
        "\n",
        "# get the number of lower outliers\n",
        "low_out = sum(z < -3)\n",
        "print('Number of Lower outliers : ' + str(low_out))\n",
        "\n",
        "# now get the dataset excluding outliers\n",
        "rem_out = abs(zscore(df.error)) < 3. # boolean for the non-outlier data rows\n",
        "df = df[rem_out].reset_index(drop=True) # data without outliers\n",
        "\n",
        "# and plot again the histogram\n",
        "plt.hist(df.error,50)\n",
        "plt.xlabel('Error (deg)')\n",
        "plt.ylabel('Count');\n"
      ]
    },
    {
      "cell_type": "markdown",
      "metadata": {
        "id": "1lPgrrxiWYKW"
      },
      "source": [
        "## 2. Characterizing data: descriptive statistics"
      ]
    },
    {
      "cell_type": "markdown",
      "metadata": {
        "id": "Eew8ZUg6WYKW"
      },
      "source": [
        "In general, plotting the data and characterizing it with a few summarizing statistics that give a good succint description of the data is the first thing that one should do. Understanding what the data is like is fundamental to design meaningful analyses.\n",
        "\n",
        "One very basic property of our data is that we expect that the estimations reported by the subjects should depend on the stimulus average. A simple way of visualizing this is to ***compute the average estimate for each possible stimulus average and plot this average values in a figure***."
      ]
    },
    {
      "cell_type": "code",
      "execution_count": 48,
      "metadata": {
        "id": "EG3h8JLzWYKW",
        "outputId": "9a49d0e5-3465-414b-f599-6ea861c7a864",
        "colab": {
          "base_uri": "https://localhost:8080/",
          "height": 449
        }
      },
      "outputs": [
        {
          "output_type": "display_data",
          "data": {
            "text/plain": [
              "<Figure size 640x480 with 1 Axes>"
            ],
            "image/png": "[encoded data removed]"
          },
          "metadata": {}
        }
      ],
      "source": [
        "\n",
        "mean_values = []  # start with an empty list of mean values\n",
        "\n",
        "for xavg_value in xavg:\n",
        "\n",
        "    # Get all trials with a particular value of the stimulus average\n",
        "    subset = df[df[\"xavg\"] == xavg_value]\n",
        "\n",
        "    # Calculate mean of the subjects estimation for this stimulus average\n",
        "    mean_value = subset[\"estim\"].mean()\n",
        "\n",
        "    # Append the mean to list\n",
        "    mean_values.append(mean_value)\n",
        "\n",
        "# Plot mean values with dots for data points\n",
        "plt.plot(xavg, mean_values, marker='o', linestyle='-', color='blue')\n",
        "\n",
        "# Add axis labels\n",
        "plt.xlabel('Stimulus average (deg)')\n",
        "plt.ylabel('Estimate (deg)')\n",
        "\n",
        "# Add a dotted line indicating the identity line\n",
        "plt.plot(xavg, xavg, linestyle='--', color='gray');\n"
      ]
    },
    {
      "cell_type": "markdown",
      "metadata": {
        "id": "47UrSq-2WYKW"
      },
      "source": [
        "***Interpret the result.***"
      ]
    },
    {
      "cell_type": "markdown",
      "metadata": {
        "id": "avfg5fpFWYKW"
      },
      "source": [
        "The data show that participants could correctly estimate the direction of motion averages but systematically biased their estimates toward the center (0°). This underweighting of extreme values is consistent with perceptual averaging models where noisy sensory evidence is combined with a prior expectation favoring small deviations.\n"
      ]
    },
    {
      "cell_type": "markdown",
      "metadata": {
        "id": "gsRlvk5qWYKX"
      },
      "source": [
        "A more compact way of computing the same result is to use `groupby`. Try to understand the following code. Note that in addition to the mean, here we also computed the standard deviation and plot an errorbar for each value of the stimulus average. This indicates the large trial-to-trial variability in the estimates for all values of the stimulus average."
      ]
    },
    {
      "cell_type": "code",
      "execution_count": 49,
      "metadata": {
        "id": "TKZjZwxFWYKX",
        "outputId": "2b56ce24-729e-4bd7-d7ec-8b0c55b5959b",
        "colab": {
          "base_uri": "https://localhost:8080/",
          "height": 449
        }
      },
      "outputs": [
        {
          "output_type": "display_data",
          "data": {
            "text/plain": [
              "<Figure size 640x480 with 1 Axes>"
            ],
            "image/png": "[encoded data removed]"
          },
          "metadata": {}
        }
      ],
      "source": [
        "# Calculate mean and standard deviation using groupby\n",
        "grouped_data = df.groupby('xavg')['estim'].agg(['mean','std']).reset_index()\n",
        "\n",
        "# Plot mean values with dots for data points\n",
        "plt.plot(grouped_data['xavg'], grouped_data['mean'], marker='o', linestyle='-', color='blue');\n",
        "\n",
        "# add error bars with standard deviation\n",
        "plt.errorbar(grouped_data['xavg'], grouped_data['mean'], yerr=grouped_data['std'], linestyle='None', color='blue', capsize=5, label='Error Bars')\n",
        "\n",
        "plt.plot(xavg, xavg, linestyle='--', color='gray')\n",
        "\n",
        "plt.xlabel('Stimulus average (deg)')\n",
        "plt.ylabel('Estimate (deg)');\n"
      ]
    },
    {
      "cell_type": "markdown",
      "metadata": {
        "id": "G4ItbsWCWYKX"
      },
      "source": [
        "## 3. Statistical hypothesis testing"
      ]
    },
    {
      "cell_type": "markdown",
      "metadata": {
        "id": "z3rOC8fRWYKX"
      },
      "source": [
        "We have seen that the estimates of the subjecst seem biased towards zero (i.e., the reports are on average smaller than the true stimulus average). However, we have observed this by combining all trials of all subjects and not all subjects may show this tendency. Moreover, we have also seen a large variability from trial and we would now like to do some quantitive statistical analysis to test whether there are significant differences in the subject's errors depending on the stimulus average.\n",
        "Note that the apparent \"bias to the mean\", or *central tendency bias*, or *contraction bias*, is a common phenomenon where the judgment of the magnitude of items held in working memory appears to be biased towards the average of past observations."
      ]
    },
    {
      "cell_type": "markdown",
      "metadata": {
        "id": "2Bk1jSpQWYKX"
      },
      "source": [
        "### 3.1 Parametric methods"
      ]
    },
    {
      "cell_type": "markdown",
      "metadata": {
        "id": "ZsFBC41sM0D_"
      },
      "source": [
        "As a simple example, we would like to test whether the errors of subject number 8 differ for the stimulus average 0 deg and the stimulus average 15 deg. The simplest way to test this is by using a *t*-test.\n",
        "\n",
        "Before we run the statistical test, let's plot this data. Let's plot in different ***histograms the errors when the stimulus average was 0 deg and the error when the stimulus average was 15 deg***."
      ]
    },
    {
      "cell_type": "code",
      "execution_count": 51,
      "metadata": {
        "ExecuteTime": {
          "end_time": "2022-02-04T22:46:46.627035Z",
          "start_time": "2022-02-04T22:46:46.336557Z"
        },
        "id": "xf0uBVY2WYKY",
        "outputId": "f21c6585-132d-4836-e003-72c973f782c9",
        "colab": {
          "base_uri": "https://localhost:8080/",
          "height": 449
        }
      },
      "outputs": [
        {
          "output_type": "display_data",
          "data": {
            "text/plain": [
              "<Figure size 640x480 with 1 Axes>"
            ],
            "image/png": "[encoded data removed]"
          },
          "metadata": {}
        }
      ],
      "source": [
        "plt.figure()\n",
        "\n",
        "bool_s = df['subj'] == 8  # we construct a boolean to select rows correspondint to participant *subject*\n",
        "ds = df[bool_s]   # we subset the full dataframe df to select trials of participant *subject*\n",
        "\n",
        "bool_0 = ds['xavg'] == 0  # get a boolean for 0 deg trials\n",
        "bool_15 = ds['xavg'] == 15 # get a boolean for 15 deg trials\n",
        "\n",
        "plt.hist(ds[bool_0].error, alpha=0.5, bins=range(-20, 22, 2), label=\"0 deg\", density=True) # plot histogram of 0 deg trials\n",
        "plt.hist(ds[bool_15].error, alpha=0.5, bins=range(-20, 22, 2),label=\"15 deg\", density=True) # plot histogram of 15 deg trials\n",
        "\n",
        "plt.legend(); # draw legend\n",
        "plt.xlabel('Error')\n",
        "plt.ylabel('Frequency');\n"
      ]
    },
    {
      "cell_type": "code",
      "execution_count": 52,
      "metadata": {
        "ExecuteTime": {
          "end_time": "2022-02-04T22:46:46.632424Z",
          "start_time": "2022-02-04T22:46:46.628533Z"
        },
        "id": "wsW-OJTPWYKY"
      },
      "outputs": [],
      "source": [
        "assert np.sum(bool_0) == 135\n",
        "assert np.sum(bool_15) == 89"
      ]
    },
    {
      "cell_type": "markdown",
      "metadata": {
        "id": "tOvSuG8vWYKZ"
      },
      "source": [
        "In the histogram plots above, we used the arguments `alpha=0.5` and `density=True`. Play with those arguments to see what they do. You can vary `alpha` between 0 and 1, and you can switch on and off `density`. You can also read about them [here](https://matplotlib.org/3.3.1/api/_as_gen/matplotlib.pyplot.hist.html)."
      ]
    },
    {
      "cell_type": "markdown",
      "metadata": {
        "id": "bP3ZrPojWYKZ"
      },
      "source": [
        "Now, plot similar histograms for each subject. Remember this is as easy as embedding the code of the two histograms above within a for loop, and subsetting the dataframe to consider only the trials for one given subject (remember `reset_index()` when subsetting rows of a dataframe!).\n",
        "\n",
        "As a new thing, instead of plotting one new figure for each subject with `plt.figure()`, we will now plot each subject histograms on separate subplots of one single figure. This is accomplished with the `plt.subplot` command. Google it to figure out how to use it. Here we will be using an array of 4x4 subplots."
      ]
    },
    {
      "cell_type": "code",
      "execution_count": 53,
      "metadata": {
        "ExecuteTime": {
          "end_time": "2022-02-04T22:46:47.408140Z",
          "start_time": "2022-02-04T22:46:46.634713Z"
        },
        "colab": {
          "base_uri": "https://localhost:8080/",
          "height": 486
        },
        "id": "5L5erckpM0ED",
        "outputId": "ddfd6a09-e51e-4fcc-fd85-a7fbc3ec1c67"
      },
      "outputs": [
        {
          "output_type": "display_data",
          "data": {
            "text/plain": [
              "<Figure size 640x480 with 14 Axes>"
            ],
            "image/png": "[encoded data removed]"
          },
          "metadata": {}
        }
      ],
      "source": [
        "\n",
        "plt.figure() # we generate a new figure outside the for loop, so not a new figure for each subject\n",
        "\n",
        "for subject in subjects:  # we cycle through the 9 subjects. We know that they are numbered 0 through 8 in column 'subject'\n",
        "\n",
        "    plt.subplot(4,4,subject) # we now select the subplot where we want to plot the histograms for *subject*\n",
        "\n",
        "\n",
        "    # Subset dataframe for the current subject\n",
        "    bool_s = df['subj'] == subject\n",
        "    ds = df[bool_s].reset_index(drop=True)\n",
        "\n",
        "    # Booleans for 0° and 15° stimulus averages\n",
        "    bool_0 = ds['xavg'] == 0\n",
        "    bool_15 = ds['xavg'] == 15\n",
        "\n",
        "    # Plot overlapping histograms of error for both conditions\n",
        "    plt.hist(ds[bool_0].error, alpha=0.5, bins=range(-20, 22, 2),\n",
        "             label='0°', density=True, color='blue')\n",
        "    plt.hist(ds[bool_15].error, alpha=0.5, bins=range(-20, 22, 2),\n",
        "             label='15°', density=True, color='orange')\n",
        "\n",
        "\n",
        "\n",
        "plt.tight_layout()"
      ]
    },
    {
      "cell_type": "markdown",
      "metadata": {
        "id": "v3i-KpLPWYKZ"
      },
      "source": [
        "Here is a more consice version of the same code:"
      ]
    },
    {
      "cell_type": "code",
      "execution_count": 54,
      "metadata": {
        "id": "P2IoNptRWYKa",
        "outputId": "d07f6950-8fdc-420e-fb91-a62bf3723f43",
        "colab": {
          "base_uri": "https://localhost:8080/",
          "height": 487
        }
      },
      "outputs": [
        {
          "output_type": "display_data",
          "data": {
            "text/plain": [
              "<Figure size 640x480 with 14 Axes>"
            ],
            "image/png": "[encoded data removed]"
          },
          "metadata": {}
        }
      ],
      "source": [
        "plt.figure()\n",
        "for subject in subjects:\n",
        "    plt.subplot(4,4,subject)\n",
        "    plt.hist(df[(df.subj == subject) & (df.xavg == 0)].error, alpha=0.5, density=True)\n",
        "    plt.hist(df[(df.subj == subject) & (df.xavg == 15)].error, alpha=0.5, density=True)\n",
        "    plt.title(str(subject))\n",
        "plt.tight_layout()"
      ]
    },
    {
      "cell_type": "markdown",
      "metadata": {
        "id": "KnpDvDGxWYKa"
      },
      "source": [
        "\n",
        "***Test if there is a difference between the errors for 0 deg and 15 deg for each subject. We will use the t-test as implemented in the scipy library (you can Google *ttest_ind*)***\n",
        "\n",
        "Are the subjects overestimating or underestimating the stimulus average? How do you know?"
      ]
    },
    {
      "cell_type": "code",
      "execution_count": 56,
      "metadata": {
        "id": "12vt48xUWYKa",
        "outputId": "f1227c8f-266b-400b-f704-259249f5ef9c",
        "colab": {
          "base_uri": "https://localhost:8080/"
        }
      },
      "outputs": [
        {
          "output_type": "stream",
          "name": "stdout",
          "text": [
            "Subject 1 underestimates the stimulus average\n",
            "Subject 2 underestimates the stimulus average\n",
            "Subject 3 overestimates the stimulus average\n",
            "Subject 6 underestimates the stimulus average\n",
            "Subject 7 underestimates the stimulus average\n",
            "Subject 8 underestimates the stimulus average\n",
            "Subject 9 underestimates the stimulus average\n",
            "Subject 10 underestimates the stimulus average\n",
            "Subject 11 underestimates the stimulus average\n",
            "Subject 12 underestimates the stimulus average\n",
            "Subject 13 underestimates the stimulus average\n",
            "Subject 14 underestimates the stimulus average\n"
          ]
        }
      ],
      "source": [
        "from scipy.stats import ttest_ind\n",
        "# Run a t-test for each subject separately\n",
        "\n",
        "for subject in subjects:  # loop through subjects\n",
        "\n",
        "    bool_s = df['subj'] == subject # boolean for rows corresponding to subject *subject*\n",
        "    ds = df[bool_s].reset_index() # subset dataframe for subject *subject* (remember 'reset_index()' ! )\n",
        "\n",
        "    bool_0 = ds['xavg'] == 0 # get a boolean for 0 deg trials\n",
        "    bool_15 = ds['xavg'] == 15 # get a boolean for 15 deg trials\n",
        "\n",
        "    t, p_val = ttest_ind(ds[bool_0].error, ds[bool_15].error) # t-test comparing mean error in 0 deg and 15 deg trials for subject *subjec*\n",
        "\n",
        "    if p_val < 0.05:\n",
        "        # Determine direction of bias\n",
        "        if ds[bool_15].error.mean() > ds[bool_0].error.mean():\n",
        "            print('Subject', subject, 'overestimates the stimulus average')\n",
        "        if ds[bool_15].error.mean() < ds[bool_0].error.mean():\n",
        "            print('Subject', subject, 'underestimates the stimulus average')"
      ]
    },
    {
      "cell_type": "markdown",
      "metadata": {
        "id": "Rz5igReKWYKa"
      },
      "source": [
        "### 3.2 Non-parametric methods (shuffling)"
      ]
    },
    {
      "cell_type": "markdown",
      "metadata": {
        "id": "SPk3UqWHM0EI"
      },
      "source": [
        "We can instead avoid the Gaussian hypothesis by using permutation tests. Here, for each subject one would randomly shuffle the stimulus average label of each trial by keeping the total number in each class fixed. This resampled distribution of trials in two classes then represents one valid representative sample consistent with your null hypothesis (which is your null hypothesis, by the way?). You compute the distance between medians in your resampled classes, and save that statistic. Then you resample again and repeat the process 1,000 times. Finally you compare the actual statistic from your real class separation to the distribution of statistics in samples that are consistent with your null hypothesis and from there derive a p-value for the probability of your null hypothesis being true. Check the video provided in the supporting material above for a step-by-step explanation of this *resampling* or *permutation test*.\n"
      ]
    },
    {
      "cell_type": "markdown",
      "metadata": {
        "id": "Fm9lUiCMWYKg"
      },
      "source": [
        "First, write in the next cell, using a \"Markdown\" cell, your null hypothesis in **boldface**-"
      ]
    },
    {
      "cell_type": "markdown",
      "metadata": {
        "id": "4Akmnc9aWYKh"
      },
      "source": [
        "**H0**: ......"
      ]
    },
    {
      "cell_type": "markdown",
      "metadata": {
        "id": "hSjAjuNvWYKh"
      },
      "source": [
        "Now use the permutation test for the 4th subject.\n",
        "Do you get similar results with the *t*-test?"
      ]
    },
    {
      "cell_type": "code",
      "execution_count": null,
      "metadata": {
        "ExecuteTime": {
          "end_time": "2022-02-04T22:46:48.359291Z",
          "start_time": "2022-02-04T22:46:47.820724Z"
        },
        "id": "4xOp90InWYKh"
      },
      "outputs": [],
      "source": [
        "# first we select the data for the 4th subject in the new dataset ds\n",
        "bool_s = ???\n",
        "ds = ???\n",
        "\n",
        "# we form booleans for the 0 deg and 15 deg trials\n",
        "bool_0 = ??? # get a boolean for 0 deg trials\n",
        "bool_15 = ??? # get a boolean for 15 deg trials\n",
        "\n",
        "# first let's compute the t-test with the true selection of trials and save this for later\n",
        "t, p_val = ttest_ind(???)\n",
        "\n",
        "# Now we start the permutation test\n",
        "# we define our statistic of interest as the difference in medians of the two lists of errors.\n",
        "statistic = np.median( ??? ) - np.median( ??? );\n",
        "\n",
        "# we now generate the resampled data for the permutation test\n",
        "n_perm = 1000 # number of permutations desired\n",
        "stat_perm = []  # notice this trick in Python. We generate an empty list like this, and then we will append successively with *append* in the for loop, after the loop we make a numpy array of this list\n",
        "for _ in range(n_perm):  # we now run our permutations. Since we will not need to know the number of the permutation in the loop, we use this _ symbol\n",
        "    np.random.shuffle(bool_0.values)  # shuffle randomly the True/False entries in the array bool_0\n",
        "    bool_15 = np.invert(bool_0) # invert the reshuffled booleans to get the list of random 15 deg trials\n",
        "    stat_perm.append( ) # compute the statistic from our permuted classes, and save it in the list stat_perm\n",
        "\n",
        "stat_perm = np.array(stat_perm) # now turn the Python list into a Numpy array for mathematical calculations\n",
        "\n",
        "# Here is the p-value of our permutation test. The number of times that our statistic exceeded the statistic of the\n",
        "# shuffles divided by the number of shuffles. We take this as the probability that we had obtained a statistic at\n",
        "# least as extreme as our true data if our null hypothesis was true.\n",
        "p_value = np.mean( abs(stat_perm) > abs(???));\n",
        "print('Subject 4, p_value permutat_test: ' +str(p_value))\n",
        "\n",
        "#plot the t-test result for comparison\n",
        "print('Subject 4, p_value t-test: ' +str(p_val))\n"
      ]
    },
    {
      "cell_type": "markdown",
      "metadata": {
        "id": "PiAhxe1AWYKi"
      },
      "source": [
        "Now to understand the result of the permutation test, plot a histogram of your resampled statistics in *stat_perm* and mark the statistic that you obtain in your true data on the x-axis."
      ]
    },
    {
      "cell_type": "code",
      "execution_count": null,
      "metadata": {
        "ExecuteTime": {
          "end_time": "2022-02-04T22:46:48.535125Z",
          "start_time": "2022-02-04T22:46:48.360937Z"
        },
        "id": "7aKtbh7hWYKi"
      },
      "outputs": [],
      "source": [
        "plt.hist(stat_perm, bins=50) # histogram of the resampled statistic\n",
        "plt.axvline(x=statistic, color='red'); # red vertical line marking the true statistic"
      ]
    },
    {
      "cell_type": "markdown",
      "metadata": {
        "id": "DZZefCctWYKi"
      },
      "source": [
        "Now interpret what the p-value means. Write your answer as a Markdown cell below (Insert it with \"Insert\"> \"Insert Cell Below\" in the top menu)"
      ]
    },
    {
      "cell_type": "markdown",
      "metadata": {
        "id": "adWkXUykWYKi"
      },
      "source": [
        "**p-value is the proportion of resampled statistics that are at least as extreme as the observed statistic. Because resampled statistics are obtained under the assumption ot H0, the p-value is the probability that one would get the result obtained if the null hypothesis H0 was true.**"
      ]
    },
    {
      "cell_type": "markdown",
      "metadata": {
        "id": "JZaqHyYCWYKi"
      },
      "source": [
        "Now do this together for all subjects in a for loop: compute permutation test, t-test, and plot histograms for all subjects iterating what we did before for one single subject"
      ]
    },
    {
      "cell_type": "code",
      "execution_count": null,
      "metadata": {
        "ExecuteTime": {
          "end_time": "2022-02-04T22:46:53.711757Z",
          "start_time": "2022-02-04T22:46:48.536651Z"
        },
        "id": "60LhwJUQM0EK"
      },
      "outputs": [],
      "source": [
        "plt.figure()\n",
        "for subject in subjects:\n",
        "    # first we select the data for subject subj\n",
        "    bool_s = df['subj'] == subject\n",
        "    ds = df[bool_s].reset_index()\n",
        "\n",
        "    # we form booleans for 0 deg and 15 deg trials\n",
        "    bool_0 = ds['xavg'] == 0 # get a boolean for 0 deg trials\n",
        "    bool_15 = ds['xavg'] == 15 # get a boolean for 15 deg trials\n",
        "\n",
        "    # we define our statistic of interest as the difference in medians of the two lists of errors, for 0 deg and 15 deg trials.\n",
        "    statistic = ???;\n",
        "\n",
        "    # t-test\n",
        "    t, p_val_t = ttest_ind(???)\n",
        "\n",
        "\n",
        "\n",
        "    ???\n",
        "\n",
        "\n",
        "\n",
        "    #here is the p-value of our permutation test. The number of times that our statistic exceeded the statistic of the\n",
        "    #shuffles divided by the number of shuffles. We take this as the probability that we had obtained a statistic at\n",
        "    #least as extreme as our true data if our null hypothesis was true.\n",
        "    p_val_perm = np.mean( abs(stat_perm) > abs(???));\n",
        "\n",
        "    print('Subject ' +str(subject ) +' p-value permutatation test: ' +str(p_val_perm) +', p-value t-test: ' +str(p_val_t))\n",
        "\n",
        "    plt.subplot(4,4,subject)\n",
        "    plt.hist(stat_perm)\n",
        "    plt.axvline(x=statistic, color='red')\n",
        "    plt.title(str(subject))\n",
        "\n",
        "#\n",
        "plt.tight_layout()\n"
      ]
    },
    {
      "cell_type": "code",
      "execution_count": null,
      "metadata": {
        "id": "IzbYd0gcWYKj"
      },
      "outputs": [],
      "source": []
    }
  ],
  "metadata": {
    "colab": {
      "name": "assignment_4-full.ipynb",
      "provenance": [],
      "include_colab_link": true
    },
    "hide_input": false,
    "kernelspec": {
      "display_name": "Python 3 (ipykernel)",
      "language": "python",
      "name": "python3"
    },
    "language_info": {
      "codemirror_mode": {
        "name": "ipython",
        "version": 3
      },
      "file_extension": ".py",
      "mimetype": "text/x-python",
      "name": "python",
      "nbconvert_exporter": "python",
      "pygments_lexer": "ipython3",
      "version": "3.10.8"
    },
    "toc": {
      "base_numbering": 1,
      "nav_menu": {},
      "number_sections": true,
      "sideBar": true,
      "skip_h1_title": false,
      "title_cell": "Table of Contents",
      "title_sidebar": "Contents",
      "toc_cell": false,
      "toc_position": {},
      "toc_section_display": true,
      "toc_window_display": false
    },
    "varInspector": {
      "cols": {
        "lenName": 16,
        "lenType": 16,
        "lenVar": 40
      },
      "kernels_config": {
        "python": {
          "delete_cmd_postfix": "",
          "delete_cmd_prefix": "del ",
          "library": "var_list.py",
          "varRefreshCmd": "print(var_dic_list())"
        },
        "r": {
          "delete_cmd_postfix": ") ",
          "delete_cmd_prefix": "rm(",
          "library": "var_list.r",
          "varRefreshCmd": "cat(var_dic_list()) "
        }
      },
      "types_to_exclude": [
        "module",
        "function",
        "builtin_function_or_method",
        "instance",
        "_Feature"
      ],
      "window_display": false
    }
  },
  "nbformat": 4,
  "nbformat_minor": 0
}