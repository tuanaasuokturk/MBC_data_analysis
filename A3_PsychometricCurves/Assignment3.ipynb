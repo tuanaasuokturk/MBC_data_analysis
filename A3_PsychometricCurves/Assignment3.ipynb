{
  "cells": [
    {
      "cell_type": "markdown",
      "metadata": {
        "id": "view-in-github",
        "colab_type": "text"
      },
      "source": [
        "<a href=\"https://colab.research.google.com/github/tuanaasuokturk/MBC_data_analysis/blob/main/A3_PsychometricCurves/Assignment3.ipynb\" target=\"_parent\"><img src=\"https://colab.research.google.com/assets/colab-badge.svg\" alt=\"Open In Colab\"/></a>"
      ]
    },
    {
      "cell_type": "markdown",
      "metadata": {
        "id": "sz23w5uKcC-R"
      },
      "source": [
        "# Assignment 3 - Psychometric curves and maximum likelihood estimation\n",
        "**In this assignment, we will see how to study binary decisions:**\n",
        "- using the **psychometric curve** to describe how decisions depend on a single stimulus feature\n",
        "- define the **psychometric model** as a simple statistical model that links one property of the stimulus with participant choices\n",
        "- learn about the generic concept of **maximum likelihood estimation** to fit a statistical model to experimental data\n"
      ]
    },
    {
      "cell_type": "markdown",
      "metadata": {
        "id": "5F3tkY9ScC-X"
      },
      "source": [
        "<div class=\"alert alert-block alert-warning\">\n",
        "<b>Preparing for this assignment:</b>\n",
        "\n",
        "The following resources will help you to get ready to complete this assignment.\n",
        "<ul>\n",
        "    <li>Watch <a href=\"https://www.youtube.com/watch?v=yIYKR4sgzI8\" target=\"_blank\">this video</a> to have a quick overview of linear and logistic regression, a form of generalized linear regression, and how they compare. You should learn: </li>\n",
        "    <ul>\n",
        "        <li>what type of data is appropriate for logistic regression modeling</li>\n",
        "        <li>how we can decide among candidate predictors using regression</li>\n",
        "        <li>regression fit methods: least-squares versus maximum likelihood</li>\n",
        "    </ul>\n",
        "    <li>Watch <a href=\"https://www.youtube.com/watch?v=vN5cNN2-HWE\" target=\"_blank\">this video</a> in order to understand the parameters of a logistic regression:</li>\n",
        "    <ul>\n",
        "        <li>concept of link function (<b>logit</b> for logistic regression)</li>\n",
        "        <li>how to interpret the intercept and slope parameters of predictors in a logistic regression</li>\n",
        "    </ul>\n",
        "</ul>\n",
        "</div>"
      ]
    },
    {
      "cell_type": "markdown",
      "metadata": {
        "id": "-Af4ccUrk_2l"
      },
      "source": [
        "### Experiment, scientific question and objectives\n",
        "In this assignment and in assignment 4, we will investigate data from a working memory [study](https://journals.physiology.org/doi/full/10.1152/jn.00362.2015) focusing  on the **binary response** experiment (Experiment 1, 8 participants, see Figure 3). In brief, participants were faced with circular arrays of stimuli (3 or 4 colored dots) while fixating. Following the delay period (delays were variable and could be 0.1, 1 or 3 seconds) a colored probe stimulus appeared slightly displaced relative to the color-matching cue stimulus (with an **angular displacement of 4°,6° or 8° either clockwise or counter-clockwise**). Participants had to **indicate with a button press whether this displacement was in the clockwise (CW, response 1) or counter-clockwise (CCW, response -1) direction**. (See figure below taken from Figure 3 of the article)\n",
        "\n",
        "Apart from the angular displacement of the target w.r.t. the probe, there are **three other experimental variables** that vary from trial to trial: **memory load** (3 or 4 items), **delay duration** (0.1, 1 or 3 s), and whether the **nearest distractor is located CW or CCW to the target**.\n",
        "\n",
        "We want to understand how these factors of interest impact the behavior, which will help us draw some conclusions about the properties of visual working memory. Specifically, we want to **test whether distractor stimuli have an attracting effect on the item represented in working memory**. By addressing this real research question, we will learn the main concepts and associated methods to analyze binary choice datasets:\n",
        " - psychometric curve, to relate the performance to a single factor of interest\n",
        " - logistic regression, to relate the performance to multiple factors of interest\n",
        " - interactions (to identify possible interactions of these factors)"
      ]
    },
    {
      "cell_type": "markdown",
      "metadata": {
        "id": "ljb3tecVcC-Z"
      },
      "source": [
        "![Task](https://raw.githubusercontent.com/wimmerlab/MBC_data_analysis/main/A3_PsychometricCurves/almeida2015_fig3.png)"
      ]
    },
    {
      "cell_type": "markdown",
      "metadata": {
        "id": "OtspvTc8cC-d"
      },
      "source": [
        " Let's start by importing the typical libraries (Numpy for basic data operation, Matplotlib for plotting, Pandas to deal with dataframes)."
      ]
    },
    {
      "cell_type": "code",
      "execution_count": 56,
      "metadata": {
        "ExecuteTime": {
          "end_time": "2022-02-09T22:27:37.824993Z",
          "start_time": "2022-02-09T22:27:36.401990Z"
        },
        "id": "2aF-qjnYk_2s"
      },
      "outputs": [],
      "source": [
        "#we first load packages that we will need\n",
        "import numpy as np\n",
        "import matplotlib.pyplot as plt\n",
        "import pandas as pd"
      ]
    },
    {
      "cell_type": "markdown",
      "metadata": {
        "id": "c9v-j3dxk_24"
      },
      "source": [
        "### Importing the data\n",
        "First thing first, let's import the data. Now that you're familiar with Pandas, we will directly import the data (stored as a CSV file) into a dataframe using the function `pd.read_csv`. As for previous assignments, each row in the table correspond to a trial. The columns contain the experimental variables for the corresponding trial: subject response (1=CW, -1=CCW); angle of the probe stimulus (\"probe\"); angle of the target (\"target\"); angle of nearest non-target (\"near\"); subject number; trial load (3 items/4 items, \"load\"); delay duration (0.1/1/3 seconds, \"delay\"). Here, all angles are expressed in degrees (not radians)!\n"
      ]
    },
    {
      "cell_type": "code",
      "execution_count": 57,
      "metadata": {
        "ExecuteTime": {
          "end_time": "2022-02-09T22:27:37.860441Z",
          "start_time": "2022-02-09T22:27:37.826969Z"
        },
        "colab": {
          "base_uri": "https://localhost:8080/",
          "height": 363
        },
        "id": "58d_freak_27",
        "outputId": "4dd5bf8b-5179-41b3-a704-e1c22b8825e6"
      },
      "outputs": [
        {
          "output_type": "execute_result",
          "data": {
            "text/plain": [
              "   subject  load  delay  target  probe  near  response\n",
              "0        1     3    0.1      24     18    10        -1\n",
              "1        1     3    0.1     307    311   296        -1\n",
              "2        1     3    0.1     151    147   289         1\n",
              "3        1     4    0.1     326    334    32        -1\n",
              "4        1     3    0.1      73     77    60        -1\n",
              "5        1     3    0.1      85     79    70         1\n",
              "6        1     4    0.1     213    219   226        -1\n",
              "7        1     4    0.1     250    258   301        -1\n",
              "8        1     4    0.1     102    108   114         1\n",
              "9        1     3    0.1     232    238   133        -1"
            ],
            "text/html": [
              "\n",
              "  <div id=\"df-cb0f9123-40bf-449e-9fbf-bc164f517f20\" class=\"colab-df-container\">\n",
              "    <div>\n",
              "<style scoped>\n",
              "    .dataframe tbody tr th:only-of-type {\n",
              "        vertical-align: middle;\n",
              "    }\n",
              "\n",
              "    .dataframe tbody tr th {\n",
              "        vertical-align: top;\n",
              "    }\n",
              "\n",
              "    .dataframe thead th {\n",
              "        text-align: right;\n",
              "    }\n",
              "</style>\n",
              "<table border=\"1\" class=\"dataframe\">\n",
              "  <thead>\n",
              "    <tr style=\"text-align: right;\">\n",
              "      <th></th>\n",
              "      <th>subject</th>\n",
              "      <th>load</th>\n",
              "      <th>delay</th>\n",
              "      <th>target</th>\n",
              "      <th>probe</th>\n",
              "      <th>near</th>\n",
              "      <th>response</th>\n",
              "    </tr>\n",
              "  </thead>\n",
              "  <tbody>\n",
              "    <tr>\n",
              "      <th>0</th>\n",
              "      <td>1</td>\n",
              "      <td>3</td>\n",
              "      <td>0.1</td>\n",
              "      <td>24</td>\n",
              "      <td>18</td>\n",
              "      <td>10</td>\n",
              "      <td>-1</td>\n",
              "    </tr>\n",
              "    <tr>\n",
              "      <th>1</th>\n",
              "      <td>1</td>\n",
              "      <td>3</td>\n",
              "      <td>0.1</td>\n",
              "      <td>307</td>\n",
              "      <td>311</td>\n",
              "      <td>296</td>\n",
              "      <td>-1</td>\n",
              "    </tr>\n",
              "    <tr>\n",
              "      <th>2</th>\n",
              "      <td>1</td>\n",
              "      <td>3</td>\n",
              "      <td>0.1</td>\n",
              "      <td>151</td>\n",
              "      <td>147</td>\n",
              "      <td>289</td>\n",
              "      <td>1</td>\n",
              "    </tr>\n",
              "    <tr>\n",
              "      <th>3</th>\n",
              "      <td>1</td>\n",
              "      <td>4</td>\n",
              "      <td>0.1</td>\n",
              "      <td>326</td>\n",
              "      <td>334</td>\n",
              "      <td>32</td>\n",
              "      <td>-1</td>\n",
              "    </tr>\n",
              "    <tr>\n",
              "      <th>4</th>\n",
              "      <td>1</td>\n",
              "      <td>3</td>\n",
              "      <td>0.1</td>\n",
              "      <td>73</td>\n",
              "      <td>77</td>\n",
              "      <td>60</td>\n",
              "      <td>-1</td>\n",
              "    </tr>\n",
              "    <tr>\n",
              "      <th>5</th>\n",
              "      <td>1</td>\n",
              "      <td>3</td>\n",
              "      <td>0.1</td>\n",
              "      <td>85</td>\n",
              "      <td>79</td>\n",
              "      <td>70</td>\n",
              "      <td>1</td>\n",
              "    </tr>\n",
              "    <tr>\n",
              "      <th>6</th>\n",
              "      <td>1</td>\n",
              "      <td>4</td>\n",
              "      <td>0.1</td>\n",
              "      <td>213</td>\n",
              "      <td>219</td>\n",
              "      <td>226</td>\n",
              "      <td>-1</td>\n",
              "    </tr>\n",
              "    <tr>\n",
              "      <th>7</th>\n",
              "      <td>1</td>\n",
              "      <td>4</td>\n",
              "      <td>0.1</td>\n",
              "      <td>250</td>\n",
              "      <td>258</td>\n",
              "      <td>301</td>\n",
              "      <td>-1</td>\n",
              "    </tr>\n",
              "    <tr>\n",
              "      <th>8</th>\n",
              "      <td>1</td>\n",
              "      <td>4</td>\n",
              "      <td>0.1</td>\n",
              "      <td>102</td>\n",
              "      <td>108</td>\n",
              "      <td>114</td>\n",
              "      <td>1</td>\n",
              "    </tr>\n",
              "    <tr>\n",
              "      <th>9</th>\n",
              "      <td>1</td>\n",
              "      <td>3</td>\n",
              "      <td>0.1</td>\n",
              "      <td>232</td>\n",
              "      <td>238</td>\n",
              "      <td>133</td>\n",
              "      <td>-1</td>\n",
              "    </tr>\n",
              "  </tbody>\n",
              "</table>\n",
              "</div>\n",
              "    <div class=\"colab-df-buttons\">\n",
              "\n",
              "  <div class=\"colab-df-container\">\n",
              "    <button class=\"colab-df-convert\" onclick=\"convertToInteractive('df-cb0f9123-40bf-449e-9fbf-bc164f517f20')\"\n",
              "            title=\"Convert this dataframe to an interactive table.\"\n",
              "            style=\"display:none;\">\n",
              "\n",
              "  <svg xmlns=\"http://www.w3.org/2000/svg\" height=\"24px\" viewBox=\"0 -960 960 960\">\n",
              "    <path d=\"M120-120v-720h720v720H120Zm60-500h600v-160H180v160Zm220 220h160v-160H400v160Zm0 220h160v-160H400v160ZM180-400h160v-160H180v160Zm440 0h160v-160H620v160ZM180-180h160v-160H180v160Zm440 0h160v-160H620v160Z\"/>\n",
              "  </svg>\n",
              "    </button>\n",
              "\n",
              "  <style>\n",
              "    .colab-df-container {\n",
              "      display:flex;\n",
              "      gap: 12px;\n",
              "    }\n",
              "\n",
              "    .colab-df-convert {\n",
              "      background-color: #E8F0FE;\n",
              "      border: none;\n",
              "      border-radius: 50%;\n",
              "      cursor: pointer;\n",
              "      display: none;\n",
              "      fill: #1967D2;\n",
              "      height: 32px;\n",
              "      padding: 0 0 0 0;\n",
              "      width: 32px;\n",
              "    }\n",
              "\n",
              "    .colab-df-convert:hover {\n",
              "      background-color: #E2EBFA;\n",
              "      box-shadow: 0px 1px 2px rgba(60, 64, 67, 0.3), 0px 1px 3px 1px rgba(60, 64, 67, 0.15);\n",
              "      fill: #174EA6;\n",
              "    }\n",
              "\n",
              "    .colab-df-buttons div {\n",
              "      margin-bottom: 4px;\n",
              "    }\n",
              "\n",
              "    [theme=dark] .colab-df-convert {\n",
              "      background-color: #3B4455;\n",
              "      fill: #D2E3FC;\n",
              "    }\n",
              "\n",
              "    [theme=dark] .colab-df-convert:hover {\n",
              "      background-color: #434B5C;\n",
              "      box-shadow: 0px 1px 3px 1px rgba(0, 0, 0, 0.15);\n",
              "      filter: drop-shadow(0px 1px 2px rgba(0, 0, 0, 0.3));\n",
              "      fill: #FFFFFF;\n",
              "    }\n",
              "  </style>\n",
              "\n",
              "    <script>\n",
              "      const buttonEl =\n",
              "        document.querySelector('#df-cb0f9123-40bf-449e-9fbf-bc164f517f20 button.colab-df-convert');\n",
              "      buttonEl.style.display =\n",
              "        google.colab.kernel.accessAllowed ? 'block' : 'none';\n",
              "\n",
              "      async function convertToInteractive(key) {\n",
              "        const element = document.querySelector('#df-cb0f9123-40bf-449e-9fbf-bc164f517f20');\n",
              "        const dataTable =\n",
              "          await google.colab.kernel.invokeFunction('convertToInteractive',\n",
              "                                                    [key], {});\n",
              "        if (!dataTable) return;\n",
              "\n",
              "        const docLinkHtml = 'Like what you see? Visit the ' +\n",
              "          '<a target=\"_blank\" href=https://colab.research.google.com/notebooks/data_table.ipynb>data table notebook</a>'\n",
              "          + ' to learn more about interactive tables.';\n",
              "        element.innerHTML = '';\n",
              "        dataTable['output_type'] = 'display_data';\n",
              "        await google.colab.output.renderOutput(dataTable, element);\n",
              "        const docLink = document.createElement('div');\n",
              "        docLink.innerHTML = docLinkHtml;\n",
              "        element.appendChild(docLink);\n",
              "      }\n",
              "    </script>\n",
              "  </div>\n",
              "\n",
              "\n",
              "    <div id=\"df-f9043031-7b26-477f-a9cb-ab8baa1bc090\">\n",
              "      <button class=\"colab-df-quickchart\" onclick=\"quickchart('df-f9043031-7b26-477f-a9cb-ab8baa1bc090')\"\n",
              "                title=\"Suggest charts\"\n",
              "                style=\"display:none;\">\n",
              "\n",
              "<svg xmlns=\"http://www.w3.org/2000/svg\" height=\"24px\"viewBox=\"0 0 24 24\"\n",
              "     width=\"24px\">\n",
              "    <g>\n",
              "        <path d=\"M19 3H5c-1.1 0-2 .9-2 2v14c0 1.1.9 2 2 2h14c1.1 0 2-.9 2-2V5c0-1.1-.9-2-2-2zM9 17H7v-7h2v7zm4 0h-2V7h2v10zm4 0h-2v-4h2v4z\"/>\n",
              "    </g>\n",
              "</svg>\n",
              "      </button>\n",
              "\n",
              "<style>\n",
              "  .colab-df-quickchart {\n",
              "      --bg-color: #E8F0FE;\n",
              "      --fill-color: #1967D2;\n",
              "      --hover-bg-color: #E2EBFA;\n",
              "      --hover-fill-color: #174EA6;\n",
              "      --disabled-fill-color: #AAA;\n",
              "      --disabled-bg-color: #DDD;\n",
              "  }\n",
              "\n",
              "  [theme=dark] .colab-df-quickchart {\n",
              "      --bg-color: #3B4455;\n",
              "      --fill-color: #D2E3FC;\n",
              "      --hover-bg-color: #434B5C;\n",
              "      --hover-fill-color: #FFFFFF;\n",
              "      --disabled-bg-color: #3B4455;\n",
              "      --disabled-fill-color: #666;\n",
              "  }\n",
              "\n",
              "  .colab-df-quickchart {\n",
              "    background-color: var(--bg-color);\n",
              "    border: none;\n",
              "    border-radius: 50%;\n",
              "    cursor: pointer;\n",
              "    display: none;\n",
              "    fill: var(--fill-color);\n",
              "    height: 32px;\n",
              "    padding: 0;\n",
              "    width: 32px;\n",
              "  }\n",
              "\n",
              "  .colab-df-quickchart:hover {\n",
              "    background-color: var(--hover-bg-color);\n",
              "    box-shadow: 0 1px 2px rgba(60, 64, 67, 0.3), 0 1px 3px 1px rgba(60, 64, 67, 0.15);\n",
              "    fill: var(--button-hover-fill-color);\n",
              "  }\n",
              "\n",
              "  .colab-df-quickchart-complete:disabled,\n",
              "  .colab-df-quickchart-complete:disabled:hover {\n",
              "    background-color: var(--disabled-bg-color);\n",
              "    fill: var(--disabled-fill-color);\n",
              "    box-shadow: none;\n",
              "  }\n",
              "\n",
              "  .colab-df-spinner {\n",
              "    border: 2px solid var(--fill-color);\n",
              "    border-color: transparent;\n",
              "    border-bottom-color: var(--fill-color);\n",
              "    animation:\n",
              "      spin 1s steps(1) infinite;\n",
              "  }\n",
              "\n",
              "  @keyframes spin {\n",
              "    0% {\n",
              "      border-color: transparent;\n",
              "      border-bottom-color: var(--fill-color);\n",
              "      border-left-color: var(--fill-color);\n",
              "    }\n",
              "    20% {\n",
              "      border-color: transparent;\n",
              "      border-left-color: var(--fill-color);\n",
              "      border-top-color: var(--fill-color);\n",
              "    }\n",
              "    30% {\n",
              "      border-color: transparent;\n",
              "      border-left-color: var(--fill-color);\n",
              "      border-top-color: var(--fill-color);\n",
              "      border-right-color: var(--fill-color);\n",
              "    }\n",
              "    40% {\n",
              "      border-color: transparent;\n",
              "      border-right-color: var(--fill-color);\n",
              "      border-top-color: var(--fill-color);\n",
              "    }\n",
              "    60% {\n",
              "      border-color: transparent;\n",
              "      border-right-color: var(--fill-color);\n",
              "    }\n",
              "    80% {\n",
              "      border-color: transparent;\n",
              "      border-right-color: var(--fill-color);\n",
              "      border-bottom-color: var(--fill-color);\n",
              "    }\n",
              "    90% {\n",
              "      border-color: transparent;\n",
              "      border-bottom-color: var(--fill-color);\n",
              "    }\n",
              "  }\n",
              "</style>\n",
              "\n",
              "      <script>\n",
              "        async function quickchart(key) {\n",
              "          const quickchartButtonEl =\n",
              "            document.querySelector('#' + key + ' button');\n",
              "          quickchartButtonEl.disabled = true;  // To prevent multiple clicks.\n",
              "          quickchartButtonEl.classList.add('colab-df-spinner');\n",
              "          try {\n",
              "            const charts = await google.colab.kernel.invokeFunction(\n",
              "                'suggestCharts', [key], {});\n",
              "          } catch (error) {\n",
              "            console.error('Error during call to suggestCharts:', error);\n",
              "          }\n",
              "          quickchartButtonEl.classList.remove('colab-df-spinner');\n",
              "          quickchartButtonEl.classList.add('colab-df-quickchart-complete');\n",
              "        }\n",
              "        (() => {\n",
              "          let quickchartButtonEl =\n",
              "            document.querySelector('#df-f9043031-7b26-477f-a9cb-ab8baa1bc090 button');\n",
              "          quickchartButtonEl.style.display =\n",
              "            google.colab.kernel.accessAllowed ? 'block' : 'none';\n",
              "        })();\n",
              "      </script>\n",
              "    </div>\n",
              "\n",
              "    </div>\n",
              "  </div>\n"
            ],
            "application/vnd.google.colaboratory.intrinsic+json": {
              "type": "dataframe",
              "variable_name": "df",
              "summary": "{\n  \"name\": \"df\",\n  \"rows\": 3530,\n  \"fields\": [\n    {\n      \"column\": \"subject\",\n      \"properties\": {\n        \"dtype\": \"number\",\n        \"std\": 2,\n        \"min\": 1,\n        \"max\": 8,\n        \"num_unique_values\": 8,\n        \"samples\": [\n          2,\n          6,\n          1\n        ],\n        \"semantic_type\": \"\",\n        \"description\": \"\"\n      }\n    },\n    {\n      \"column\": \"load\",\n      \"properties\": {\n        \"dtype\": \"number\",\n        \"std\": 0,\n        \"min\": 3,\n        \"max\": 4,\n        \"num_unique_values\": 2,\n        \"samples\": [\n          4,\n          3\n        ],\n        \"semantic_type\": \"\",\n        \"description\": \"\"\n      }\n    },\n    {\n      \"column\": \"delay\",\n      \"properties\": {\n        \"dtype\": \"number\",\n        \"std\": 1.2106491153654364,\n        \"min\": 0.1,\n        \"max\": 3.0,\n        \"num_unique_values\": 3,\n        \"samples\": [\n          0.1,\n          1.0\n        ],\n        \"semantic_type\": \"\",\n        \"description\": \"\"\n      }\n    },\n    {\n      \"column\": \"target\",\n      \"properties\": {\n        \"dtype\": \"number\",\n        \"std\": 104,\n        \"min\": 0,\n        \"max\": 359,\n        \"num_unique_values\": 359,\n        \"samples\": [\n          59,\n          163\n        ],\n        \"semantic_type\": \"\",\n        \"description\": \"\"\n      }\n    },\n    {\n      \"column\": \"probe\",\n      \"properties\": {\n        \"dtype\": \"number\",\n        \"std\": 103,\n        \"min\": 0,\n        \"max\": 359,\n        \"num_unique_values\": 359,\n        \"samples\": [\n          136,\n          167\n        ],\n        \"semantic_type\": \"\",\n        \"description\": \"\"\n      }\n    },\n    {\n      \"column\": \"near\",\n      \"properties\": {\n        \"dtype\": \"number\",\n        \"std\": 104,\n        \"min\": 0,\n        \"max\": 359,\n        \"num_unique_values\": 360,\n        \"samples\": [\n          58,\n          67\n        ],\n        \"semantic_type\": \"\",\n        \"description\": \"\"\n      }\n    },\n    {\n      \"column\": \"response\",\n      \"properties\": {\n        \"dtype\": \"number\",\n        \"std\": 0,\n        \"min\": -1,\n        \"max\": 1,\n        \"num_unique_values\": 3,\n        \"samples\": [\n          -1,\n          1\n        ],\n        \"semantic_type\": \"\",\n        \"description\": \"\"\n      }\n    }\n  ]\n}"
            }
          },
          "metadata": {},
          "execution_count": 57
        }
      ],
      "source": [
        "# load the data\n",
        "df = pd.read_csv(\"https://raw.githubusercontent.com/wimmerlab/MBC_data_analysis/main/A3_PsychometricCurves/Experiment1_all_subjects.csv\",sep=',')\n",
        "\n",
        "# visualize the first 10 rows\n",
        "df.head(10)"
      ]
    },
    {
      "cell_type": "markdown",
      "metadata": {
        "id": "c3WHlkjJk_3C"
      },
      "source": [
        "## 1. Plotting the psychometric curve\n",
        "\n",
        "In this experiment the relevant property that determines the choice of the subject (CW/CCW) is the angular displacement between the probe stimulus and the target stimulus. Let us first compute this displacement and add it to the dataframe. We will use the function `circdist` to compte the distance between two angles, as in previous assignments."
      ]
    },
    {
      "cell_type": "code",
      "execution_count": 58,
      "metadata": {
        "id": "cMlz5ORCcC-l",
        "outputId": "8684d62c-99d6-43a5-da9e-203071a24329",
        "colab": {
          "base_uri": "https://localhost:8080/",
          "height": 363
        }
      },
      "outputs": [
        {
          "output_type": "execute_result",
          "data": {
            "text/plain": [
              "   subject  load  delay  target  probe  near  response  displacement\n",
              "0        1     3    0.1      24     18    10        -1          -6.0\n",
              "1        1     3    0.1     307    311   296        -1           4.0\n",
              "2        1     3    0.1     151    147   289         1          -4.0\n",
              "3        1     4    0.1     326    334    32        -1           8.0\n",
              "4        1     3    0.1      73     77    60        -1           4.0\n",
              "5        1     3    0.1      85     79    70         1          -6.0\n",
              "6        1     4    0.1     213    219   226        -1           6.0\n",
              "7        1     4    0.1     250    258   301        -1           8.0\n",
              "8        1     4    0.1     102    108   114         1           6.0\n",
              "9        1     3    0.1     232    238   133        -1           6.0"
            ],
            "text/html": [
              "\n",
              "  <div id=\"df-391c93a5-e838-426c-819f-41d78aad179c\" class=\"colab-df-container\">\n",
              "    <div>\n",
              "<style scoped>\n",
              "    .dataframe tbody tr th:only-of-type {\n",
              "        vertical-align: middle;\n",
              "    }\n",
              "\n",
              "    .dataframe tbody tr th {\n",
              "        vertical-align: top;\n",
              "    }\n",
              "\n",
              "    .dataframe thead th {\n",
              "        text-align: right;\n",
              "    }\n",
              "</style>\n",
              "<table border=\"1\" class=\"dataframe\">\n",
              "  <thead>\n",
              "    <tr style=\"text-align: right;\">\n",
              "      <th></th>\n",
              "      <th>subject</th>\n",
              "      <th>load</th>\n",
              "      <th>delay</th>\n",
              "      <th>target</th>\n",
              "      <th>probe</th>\n",
              "      <th>near</th>\n",
              "      <th>response</th>\n",
              "      <th>displacement</th>\n",
              "    </tr>\n",
              "  </thead>\n",
              "  <tbody>\n",
              "    <tr>\n",
              "      <th>0</th>\n",
              "      <td>1</td>\n",
              "      <td>3</td>\n",
              "      <td>0.1</td>\n",
              "      <td>24</td>\n",
              "      <td>18</td>\n",
              "      <td>10</td>\n",
              "      <td>-1</td>\n",
              "      <td>-6.0</td>\n",
              "    </tr>\n",
              "    <tr>\n",
              "      <th>1</th>\n",
              "      <td>1</td>\n",
              "      <td>3</td>\n",
              "      <td>0.1</td>\n",
              "      <td>307</td>\n",
              "      <td>311</td>\n",
              "      <td>296</td>\n",
              "      <td>-1</td>\n",
              "      <td>4.0</td>\n",
              "    </tr>\n",
              "    <tr>\n",
              "      <th>2</th>\n",
              "      <td>1</td>\n",
              "      <td>3</td>\n",
              "      <td>0.1</td>\n",
              "      <td>151</td>\n",
              "      <td>147</td>\n",
              "      <td>289</td>\n",
              "      <td>1</td>\n",
              "      <td>-4.0</td>\n",
              "    </tr>\n",
              "    <tr>\n",
              "      <th>3</th>\n",
              "      <td>1</td>\n",
              "      <td>4</td>\n",
              "      <td>0.1</td>\n",
              "      <td>326</td>\n",
              "      <td>334</td>\n",
              "      <td>32</td>\n",
              "      <td>-1</td>\n",
              "      <td>8.0</td>\n",
              "    </tr>\n",
              "    <tr>\n",
              "      <th>4</th>\n",
              "      <td>1</td>\n",
              "      <td>3</td>\n",
              "      <td>0.1</td>\n",
              "      <td>73</td>\n",
              "      <td>77</td>\n",
              "      <td>60</td>\n",
              "      <td>-1</td>\n",
              "      <td>4.0</td>\n",
              "    </tr>\n",
              "    <tr>\n",
              "      <th>5</th>\n",
              "      <td>1</td>\n",
              "      <td>3</td>\n",
              "      <td>0.1</td>\n",
              "      <td>85</td>\n",
              "      <td>79</td>\n",
              "      <td>70</td>\n",
              "      <td>1</td>\n",
              "      <td>-6.0</td>\n",
              "    </tr>\n",
              "    <tr>\n",
              "      <th>6</th>\n",
              "      <td>1</td>\n",
              "      <td>4</td>\n",
              "      <td>0.1</td>\n",
              "      <td>213</td>\n",
              "      <td>219</td>\n",
              "      <td>226</td>\n",
              "      <td>-1</td>\n",
              "      <td>6.0</td>\n",
              "    </tr>\n",
              "    <tr>\n",
              "      <th>7</th>\n",
              "      <td>1</td>\n",
              "      <td>4</td>\n",
              "      <td>0.1</td>\n",
              "      <td>250</td>\n",
              "      <td>258</td>\n",
              "      <td>301</td>\n",
              "      <td>-1</td>\n",
              "      <td>8.0</td>\n",
              "    </tr>\n",
              "    <tr>\n",
              "      <th>8</th>\n",
              "      <td>1</td>\n",
              "      <td>4</td>\n",
              "      <td>0.1</td>\n",
              "      <td>102</td>\n",
              "      <td>108</td>\n",
              "      <td>114</td>\n",
              "      <td>1</td>\n",
              "      <td>6.0</td>\n",
              "    </tr>\n",
              "    <tr>\n",
              "      <th>9</th>\n",
              "      <td>1</td>\n",
              "      <td>3</td>\n",
              "      <td>0.1</td>\n",
              "      <td>232</td>\n",
              "      <td>238</td>\n",
              "      <td>133</td>\n",
              "      <td>-1</td>\n",
              "      <td>6.0</td>\n",
              "    </tr>\n",
              "  </tbody>\n",
              "</table>\n",
              "</div>\n",
              "    <div class=\"colab-df-buttons\">\n",
              "\n",
              "  <div class=\"colab-df-container\">\n",
              "    <button class=\"colab-df-convert\" onclick=\"convertToInteractive('df-391c93a5-e838-426c-819f-41d78aad179c')\"\n",
              "            title=\"Convert this dataframe to an interactive table.\"\n",
              "            style=\"display:none;\">\n",
              "\n",
              "  <svg xmlns=\"http://www.w3.org/2000/svg\" height=\"24px\" viewBox=\"0 -960 960 960\">\n",
              "    <path d=\"M120-120v-720h720v720H120Zm60-500h600v-160H180v160Zm220 220h160v-160H400v160Zm0 220h160v-160H400v160ZM180-400h160v-160H180v160Zm440 0h160v-160H620v160ZM180-180h160v-160H180v160Zm440 0h160v-160H620v160Z\"/>\n",
              "  </svg>\n",
              "    </button>\n",
              "\n",
              "  <style>\n",
              "    .colab-df-container {\n",
              "      display:flex;\n",
              "      gap: 12px;\n",
              "    }\n",
              "\n",
              "    .colab-df-convert {\n",
              "      background-color: #E8F0FE;\n",
              "      border: none;\n",
              "      border-radius: 50%;\n",
              "      cursor: pointer;\n",
              "      display: none;\n",
              "      fill: #1967D2;\n",
              "      height: 32px;\n",
              "      padding: 0 0 0 0;\n",
              "      width: 32px;\n",
              "    }\n",
              "\n",
              "    .colab-df-convert:hover {\n",
              "      background-color: #E2EBFA;\n",
              "      box-shadow: 0px 1px 2px rgba(60, 64, 67, 0.3), 0px 1px 3px 1px rgba(60, 64, 67, 0.15);\n",
              "      fill: #174EA6;\n",
              "    }\n",
              "\n",
              "    .colab-df-buttons div {\n",
              "      margin-bottom: 4px;\n",
              "    }\n",
              "\n",
              "    [theme=dark] .colab-df-convert {\n",
              "      background-color: #3B4455;\n",
              "      fill: #D2E3FC;\n",
              "    }\n",
              "\n",
              "    [theme=dark] .colab-df-convert:hover {\n",
              "      background-color: #434B5C;\n",
              "      box-shadow: 0px 1px 3px 1px rgba(0, 0, 0, 0.15);\n",
              "      filter: drop-shadow(0px 1px 2px rgba(0, 0, 0, 0.3));\n",
              "      fill: #FFFFFF;\n",
              "    }\n",
              "  </style>\n",
              "\n",
              "    <script>\n",
              "      const buttonEl =\n",
              "        document.querySelector('#df-391c93a5-e838-426c-819f-41d78aad179c button.colab-df-convert');\n",
              "      buttonEl.style.display =\n",
              "        google.colab.kernel.accessAllowed ? 'block' : 'none';\n",
              "\n",
              "      async function convertToInteractive(key) {\n",
              "        const element = document.querySelector('#df-391c93a5-e838-426c-819f-41d78aad179c');\n",
              "        const dataTable =\n",
              "          await google.colab.kernel.invokeFunction('convertToInteractive',\n",
              "                                                    [key], {});\n",
              "        if (!dataTable) return;\n",
              "\n",
              "        const docLinkHtml = 'Like what you see? Visit the ' +\n",
              "          '<a target=\"_blank\" href=https://colab.research.google.com/notebooks/data_table.ipynb>data table notebook</a>'\n",
              "          + ' to learn more about interactive tables.';\n",
              "        element.innerHTML = '';\n",
              "        dataTable['output_type'] = 'display_data';\n",
              "        await google.colab.output.renderOutput(dataTable, element);\n",
              "        const docLink = document.createElement('div');\n",
              "        docLink.innerHTML = docLinkHtml;\n",
              "        element.appendChild(docLink);\n",
              "      }\n",
              "    </script>\n",
              "  </div>\n",
              "\n",
              "\n",
              "    <div id=\"df-a94b0837-a3ac-412a-8bcc-e173a32581fc\">\n",
              "      <button class=\"colab-df-quickchart\" onclick=\"quickchart('df-a94b0837-a3ac-412a-8bcc-e173a32581fc')\"\n",
              "                title=\"Suggest charts\"\n",
              "                style=\"display:none;\">\n",
              "\n",
              "<svg xmlns=\"http://www.w3.org/2000/svg\" height=\"24px\"viewBox=\"0 0 24 24\"\n",
              "     width=\"24px\">\n",
              "    <g>\n",
              "        <path d=\"M19 3H5c-1.1 0-2 .9-2 2v14c0 1.1.9 2 2 2h14c1.1 0 2-.9 2-2V5c0-1.1-.9-2-2-2zM9 17H7v-7h2v7zm4 0h-2V7h2v10zm4 0h-2v-4h2v4z\"/>\n",
              "    </g>\n",
              "</svg>\n",
              "      </button>\n",
              "\n",
              "<style>\n",
              "  .colab-df-quickchart {\n",
              "      --bg-color: #E8F0FE;\n",
              "      --fill-color: #1967D2;\n",
              "      --hover-bg-color: #E2EBFA;\n",
              "      --hover-fill-color: #174EA6;\n",
              "      --disabled-fill-color: #AAA;\n",
              "      --disabled-bg-color: #DDD;\n",
              "  }\n",
              "\n",
              "  [theme=dark] .colab-df-quickchart {\n",
              "      --bg-color: #3B4455;\n",
              "      --fill-color: #D2E3FC;\n",
              "      --hover-bg-color: #434B5C;\n",
              "      --hover-fill-color: #FFFFFF;\n",
              "      --disabled-bg-color: #3B4455;\n",
              "      --disabled-fill-color: #666;\n",
              "  }\n",
              "\n",
              "  .colab-df-quickchart {\n",
              "    background-color: var(--bg-color);\n",
              "    border: none;\n",
              "    border-radius: 50%;\n",
              "    cursor: pointer;\n",
              "    display: none;\n",
              "    fill: var(--fill-color);\n",
              "    height: 32px;\n",
              "    padding: 0;\n",
              "    width: 32px;\n",
              "  }\n",
              "\n",
              "  .colab-df-quickchart:hover {\n",
              "    background-color: var(--hover-bg-color);\n",
              "    box-shadow: 0 1px 2px rgba(60, 64, 67, 0.3), 0 1px 3px 1px rgba(60, 64, 67, 0.15);\n",
              "    fill: var(--button-hover-fill-color);\n",
              "  }\n",
              "\n",
              "  .colab-df-quickchart-complete:disabled,\n",
              "  .colab-df-quickchart-complete:disabled:hover {\n",
              "    background-color: var(--disabled-bg-color);\n",
              "    fill: var(--disabled-fill-color);\n",
              "    box-shadow: none;\n",
              "  }\n",
              "\n",
              "  .colab-df-spinner {\n",
              "    border: 2px solid var(--fill-color);\n",
              "    border-color: transparent;\n",
              "    border-bottom-color: var(--fill-color);\n",
              "    animation:\n",
              "      spin 1s steps(1) infinite;\n",
              "  }\n",
              "\n",
              "  @keyframes spin {\n",
              "    0% {\n",
              "      border-color: transparent;\n",
              "      border-bottom-color: var(--fill-color);\n",
              "      border-left-color: var(--fill-color);\n",
              "    }\n",
              "    20% {\n",
              "      border-color: transparent;\n",
              "      border-left-color: var(--fill-color);\n",
              "      border-top-color: var(--fill-color);\n",
              "    }\n",
              "    30% {\n",
              "      border-color: transparent;\n",
              "      border-left-color: var(--fill-color);\n",
              "      border-top-color: var(--fill-color);\n",
              "      border-right-color: var(--fill-color);\n",
              "    }\n",
              "    40% {\n",
              "      border-color: transparent;\n",
              "      border-right-color: var(--fill-color);\n",
              "      border-top-color: var(--fill-color);\n",
              "    }\n",
              "    60% {\n",
              "      border-color: transparent;\n",
              "      border-right-color: var(--fill-color);\n",
              "    }\n",
              "    80% {\n",
              "      border-color: transparent;\n",
              "      border-right-color: var(--fill-color);\n",
              "      border-bottom-color: var(--fill-color);\n",
              "    }\n",
              "    90% {\n",
              "      border-color: transparent;\n",
              "      border-bottom-color: var(--fill-color);\n",
              "    }\n",
              "  }\n",
              "</style>\n",
              "\n",
              "      <script>\n",
              "        async function quickchart(key) {\n",
              "          const quickchartButtonEl =\n",
              "            document.querySelector('#' + key + ' button');\n",
              "          quickchartButtonEl.disabled = true;  // To prevent multiple clicks.\n",
              "          quickchartButtonEl.classList.add('colab-df-spinner');\n",
              "          try {\n",
              "            const charts = await google.colab.kernel.invokeFunction(\n",
              "                'suggestCharts', [key], {});\n",
              "          } catch (error) {\n",
              "            console.error('Error during call to suggestCharts:', error);\n",
              "          }\n",
              "          quickchartButtonEl.classList.remove('colab-df-spinner');\n",
              "          quickchartButtonEl.classList.add('colab-df-quickchart-complete');\n",
              "        }\n",
              "        (() => {\n",
              "          let quickchartButtonEl =\n",
              "            document.querySelector('#df-a94b0837-a3ac-412a-8bcc-e173a32581fc button');\n",
              "          quickchartButtonEl.style.display =\n",
              "            google.colab.kernel.accessAllowed ? 'block' : 'none';\n",
              "        })();\n",
              "      </script>\n",
              "    </div>\n",
              "\n",
              "    </div>\n",
              "  </div>\n"
            ],
            "application/vnd.google.colaboratory.intrinsic+json": {
              "type": "dataframe",
              "variable_name": "df",
              "summary": "{\n  \"name\": \"df\",\n  \"rows\": 3530,\n  \"fields\": [\n    {\n      \"column\": \"subject\",\n      \"properties\": {\n        \"dtype\": \"number\",\n        \"std\": 2,\n        \"min\": 1,\n        \"max\": 8,\n        \"num_unique_values\": 8,\n        \"samples\": [\n          2,\n          6,\n          1\n        ],\n        \"semantic_type\": \"\",\n        \"description\": \"\"\n      }\n    },\n    {\n      \"column\": \"load\",\n      \"properties\": {\n        \"dtype\": \"number\",\n        \"std\": 0,\n        \"min\": 3,\n        \"max\": 4,\n        \"num_unique_values\": 2,\n        \"samples\": [\n          4,\n          3\n        ],\n        \"semantic_type\": \"\",\n        \"description\": \"\"\n      }\n    },\n    {\n      \"column\": \"delay\",\n      \"properties\": {\n        \"dtype\": \"number\",\n        \"std\": 1.2106491153654364,\n        \"min\": 0.1,\n        \"max\": 3.0,\n        \"num_unique_values\": 3,\n        \"samples\": [\n          0.1,\n          1.0\n        ],\n        \"semantic_type\": \"\",\n        \"description\": \"\"\n      }\n    },\n    {\n      \"column\": \"target\",\n      \"properties\": {\n        \"dtype\": \"number\",\n        \"std\": 104,\n        \"min\": 0,\n        \"max\": 359,\n        \"num_unique_values\": 359,\n        \"samples\": [\n          59,\n          163\n        ],\n        \"semantic_type\": \"\",\n        \"description\": \"\"\n      }\n    },\n    {\n      \"column\": \"probe\",\n      \"properties\": {\n        \"dtype\": \"number\",\n        \"std\": 103,\n        \"min\": 0,\n        \"max\": 359,\n        \"num_unique_values\": 359,\n        \"samples\": [\n          136,\n          167\n        ],\n        \"semantic_type\": \"\",\n        \"description\": \"\"\n      }\n    },\n    {\n      \"column\": \"near\",\n      \"properties\": {\n        \"dtype\": \"number\",\n        \"std\": 104,\n        \"min\": 0,\n        \"max\": 359,\n        \"num_unique_values\": 360,\n        \"samples\": [\n          58,\n          67\n        ],\n        \"semantic_type\": \"\",\n        \"description\": \"\"\n      }\n    },\n    {\n      \"column\": \"response\",\n      \"properties\": {\n        \"dtype\": \"number\",\n        \"std\": 0,\n        \"min\": -1,\n        \"max\": 1,\n        \"num_unique_values\": 3,\n        \"samples\": [\n          -1,\n          1\n        ],\n        \"semantic_type\": \"\",\n        \"description\": \"\"\n      }\n    },\n    {\n      \"column\": \"displacement\",\n      \"properties\": {\n        \"dtype\": \"number\",\n        \"std\": 6.236937485410328,\n        \"min\": -8.0,\n        \"max\": 8.0,\n        \"num_unique_values\": 6,\n        \"samples\": [\n          -6.0,\n          4.0\n        ],\n        \"semantic_type\": \"\",\n        \"description\": \"\"\n      }\n    }\n  ]\n}"
            }
          },
          "metadata": {},
          "execution_count": 58
        }
      ],
      "source": [
        "# 1. Define a function that takes two angles as input and outputs the angular distance between the two\n",
        "# compute the circular distance between two angles\n",
        "def circdist(angles1, angles2):  # define the name and set the arguments between parentheses\n",
        "    angle_diff = angles1 - angles2  # angle difference\n",
        "    angle_diff = angle_diff  / 180 * np.pi  # convert to radian\n",
        "    output = np.angle(np.exp(1j * angle_diff))  # mathematical operation to get the circular distance\n",
        "    output = output / np.pi * 180   # convert back to degrees\n",
        "    return output  # return the circular distance in degrees\n",
        "\n",
        "# 2. Compute the displacement of the probe from the target and add it as a new column to the dataframe:\n",
        "df['displacement'] = circdist(df['probe'], df['target'])\n",
        "\n",
        "# 3. Check that what we did makes sense (positive values should indicate CCW displacements of the probe)\n",
        "df.head(10)"
      ]
    },
    {
      "cell_type": "markdown",
      "metadata": {
        "id": "7oMBD-D5cC-l"
      },
      "source": [
        "With the psychometric curve we want to capture **how the proportion of CW/CCW choices depend on the displacement of the probe w.r.t the target**. To do so, we want to group trials for each possible value of the angular displacement and compute the proportion of CW/CCW responses for each group separately.<br>\n",
        "First let us check **how many different values the *displacement* measure takes**. Write the code below (reminder: we computed something similar in Assignment 0)."
      ]
    },
    {
      "cell_type": "code",
      "execution_count": 59,
      "metadata": {
        "id": "Qr_fD3-bcC-m",
        "outputId": "f72472e7-7c7a-4c84-86c1-4882e9cdc311",
        "colab": {
          "base_uri": "https://localhost:8080/"
        }
      },
      "outputs": [
        {
          "output_type": "stream",
          "name": "stdout",
          "text": [
            "6\n"
          ]
        }
      ],
      "source": [
        "# compute the number of different values\n",
        "Displacement = df['displacement'].nunique()\n",
        "print(Displacement)"
      ]
    },
    {
      "cell_type": "markdown",
      "metadata": {
        "id": "m7qNBlR3cC-m"
      },
      "source": [
        "**Is this the number you expected? Why?** Check the experimental design."
      ]
    },
    {
      "cell_type": "markdown",
      "metadata": {
        "id": "nay2wGQvcC-m"
      },
      "source": [
        "By design the probe–target offset takes three magnitudes (4°, 6°, 8°) and two directions (CW/CCW → negative/positive after circdist). That gives the signed set {−8, −6, −4, 4, 6, 8} ⇒ 3 × 2 = 6 distinct displacement values.\n"
      ]
    },
    {
      "cell_type": "markdown",
      "metadata": {
        "id": "WlwGsUKOcC-n"
      },
      "source": [
        "Ok so now let's focus on one value of the angular displacement (say +4º). **Compute the proportion of CCW responses for all trials where the angular displacement is of +4 degrees**."
      ]
    },
    {
      "cell_type": "code",
      "execution_count": 60,
      "metadata": {
        "id": "Th2b0aa1cC-n",
        "outputId": "3b1c2283-4fb5-42df-cd7d-c15c72c76c7c",
        "colab": {
          "base_uri": "https://localhost:8080/"
        }
      },
      "outputs": [
        {
          "output_type": "stream",
          "name": "stdout",
          "text": [
            "0.6909722222222222\n"
          ]
        }
      ],
      "source": [
        "# first we create a boolean array where value is TRUE if the angular distance is 4 degrees\n",
        "meetConditions = np.isclose(df['displacement'], 4.0)\n",
        "\n",
        "# select array of responses for all corresponding trial\n",
        "response_displacement4 =  df.loc[meetConditions, 'response'].values\n",
        "\n",
        "# now compute the proportion of CCW responses for these trials\n",
        "prop_ccw_4 = (response_displacement4 == -1).mean()\n",
        "print(prop_ccw_4)"
      ]
    },
    {
      "cell_type": "markdown",
      "metadata": {
        "id": "lJ4EZHbscC-n"
      },
      "source": [
        "We also want some idea of the reliability of this measure. For binary measures, we do not use the standard error of the mean but the following error function:"
      ]
    },
    {
      "cell_type": "code",
      "execution_count": 61,
      "metadata": {
        "id": "6bMc2ZphcC-n"
      },
      "outputs": [],
      "source": [
        "# this function takes a vector of binary variable as input and outputs the error about the mean\n",
        "def binary_error(X):\n",
        "    m = np.mean(X) # mean value\n",
        "    err = np.sqrt(m*(1-m)/len(X)) # error: sqrt( mean*(1-mean)/nSamples)\n",
        "    return err"
      ]
    },
    {
      "cell_type": "markdown",
      "metadata": {
        "id": "1AI1Mh9ncC-o"
      },
      "source": [
        "**Use this function to compute the standard error for the mean proportion of CCW responses (in trial with distance = 4 degrees).**"
      ]
    },
    {
      "cell_type": "code",
      "execution_count": 62,
      "metadata": {
        "id": "0qFRmPSMcC-o",
        "outputId": "b36fa9be-7265-41b3-f652-fd9ec54624c9",
        "colab": {
          "base_uri": "https://localhost:8080/"
        }
      },
      "outputs": [
        {
          "output_type": "execute_result",
          "data": {
            "text/plain": [
              "np.float64(0.01925386010808333)"
            ]
          },
          "metadata": {},
          "execution_count": 62
        }
      ],
      "source": [
        "binary_error(response_displacement4 == -1)"
      ]
    },
    {
      "cell_type": "markdown",
      "metadata": {
        "id": "B4gy7PYvcC-o"
      },
      "source": [
        "Good. Now we want to repeat this **for** all possible values of the displacement, which is why we're going to use a *for* loop. Fill in the code below to compute the mean and standard error for all values. Another option is to adapt the function `plot_data_psychometric` from the tutorial."
      ]
    },
    {
      "cell_type": "code",
      "execution_count": 63,
      "metadata": {
        "id": "iPJnyhFhcC-p"
      },
      "outputs": [],
      "source": [
        "def plot_data_psychometric(displacements, mean_ccw, err_ccw):\n",
        "    plt.figure()\n",
        "    plt.errorbar(displacements, mean_ccw, yerr=err_ccw, fmt='o-', capsize=5)\n",
        "    plt.axhline(0.5, color='gray', linestyle='--')  # chance level\n",
        "    plt.xlabel('Probe displacement (°)')\n",
        "    plt.ylabel('Proportion of CCW responses')\n",
        "    plt.title('Psychometric curve')\n",
        "plt.show()"
      ]
    },
    {
      "cell_type": "markdown",
      "metadata": {
        "id": "AaWuGlypcC-p"
      },
      "source": [
        "Now, let's plot the psychometric curve. If you have used `plot_data_psychometric` you have probably already plotted it. If not, check `plot_data_psychometric` how to do the plotting. Do not forget to **add labels on the axes**!"
      ]
    },
    {
      "cell_type": "code",
      "execution_count": 64,
      "metadata": {
        "id": "3-XR59yVcC-p",
        "outputId": "72021e96-1fb1-42d9-9906-7f86cd0d2e76",
        "colab": {
          "base_uri": "https://localhost:8080/",
          "height": 452
        }
      },
      "outputs": [
        {
          "output_type": "display_data",
          "data": {
            "text/plain": [
              "<Figure size 640x480 with 1 Axes>"
            ],
            "image/png": "[encoded data removed]"
          },
          "metadata": {}
        }
      ],
      "source": [
        "import numpy as np\n",
        "import matplotlib.pyplot as plt\n",
        "\n",
        "# helper: binomial standard error for a vector of 0/1\n",
        "def binary_error(vec01):\n",
        "    m = vec01.mean()\n",
        "    return np.sqrt(m*(1-m)/len(vec01))\n",
        "\n",
        "# 1) x-axis values: all displacement levels (sorted)\n",
        "displacements = np.sort(df['displacement'].unique())\n",
        "\n",
        "# 2) compute mean CCW proportion and error for each level\n",
        "mean_ccw, err_ccw = [], []\n",
        "for d in displacements:\n",
        "    r = (df.loc[df['displacement']==d, 'response'] == -1).astype(int)  # 1=CCW, 0=else\n",
        "    mean_ccw.append(r.mean())\n",
        "    err_ccw.append(binary_error(r))\n",
        "\n",
        "# 3) plot the psychometric curve\n",
        "plt.figure()\n",
        "plt.errorbar(displacements, mean_ccw, yerr=err_ccw, fmt='o-', capsize=5)\n",
        "plt.xlabel('Target displacement (°)')\n",
        "plt.ylabel('Proportion of CCW responses')\n",
        "plt.axvline(0, color='k', linestyle='--')   # zero displacement\n",
        "plt.axhline(0.5, color='k', linestyle='--') # chance level\n",
        "plt.show()"
      ]
    },
    {
      "cell_type": "markdown",
      "metadata": {
        "id": "GqCXCIHLcC-p"
      },
      "source": [
        "**Interpret the plot**."
      ]
    },
    {
      "cell_type": "markdown",
      "metadata": {
        "id": "X04EX8AncC-q"
      },
      "source": [
        "The curve shows behavior that’s exactly what we expect from a clean binary discrimination task. When the probe sits clockwise from the target (negative displacement), participants mostly press CW; as the probe moves counter-clockwise (positive displacement), CCW responses rise smoothly, giving a monotonic S-shape. The 50% crossing lies very close to 0°, hinting at, at most, a tiny CCW bias in the point of subjective equality. Around small offsets (≈±4°) the curve is steep, which implies good sensitivity to small angular differences. At the largest offsets (±8°) performance approaches—but does not quite reach—0 or 1, suggesting a small lapse rate or occasional guessing. The function looks roughly symmetric, though the positive side may plateau slightly; a logistic fit would be needed to confirm any asymmetry or quantify thresholds and bias. To address the main research question about distractor attraction, the next step is to split (or model) the curve by nearest-distractor side and test an angle × distractor interaction."
      ]
    },
    {
      "cell_type": "markdown",
      "metadata": {
        "id": "pt22ohVjcC-q"
      },
      "source": [
        "## 2. The psychometric function\n",
        "We now want to fit this data by the same psychometric function as used in the tutorial:\n",
        "\n",
        "<br>$p(CCW) = \\sigma(w_0 + w_1 d) = \\frac{1}{1+ e^{-(w_0 + w_1 d)}}$, where $\\sigma(x)$ is the logistic function\n",
        "\n",
        "**Copy the necessary parts of the code from the tutorial.**"
      ]
    },
    {
      "cell_type": "code",
      "execution_count": 64,
      "metadata": {
        "id": "_-hHboE6cC-q"
      },
      "outputs": [],
      "source": [
        "\n"
      ]
    },
    {
      "cell_type": "markdown",
      "metadata": {
        "id": "BNXgwr-CcC-q"
      },
      "source": [
        "**Interpret the role of these two parameters in the model** (Hint: compare with simple linear regression)"
      ]
    },
    {
      "cell_type": "markdown",
      "metadata": {
        "id": "26xbtCsqcC-r"
      },
      "source": [
        "\n"
      ]
    },
    {
      "cell_type": "markdown",
      "metadata": {
        "id": "g9yYNNANcC-r"
      },
      "source": [
        "### Fitting the psychometric curves\n",
        "\n",
        "**Now plot the psychometric curve (that data) and the psychometric function (the model) in the same plot.**\n",
        "\n",
        "**Either adjust the parameters of the model, w0 and w1, by hand, or use the optimization technique from the tutorial (optional).**\n",
        "\n",
        "In the next Assignment, we will see how to run maximum-likelihood estimation for the psychometric model efficiently, using the framework of *logistic regression*.\n"
      ]
    },
    {
      "cell_type": "code",
      "execution_count": 64,
      "metadata": {
        "id": "eo8u04bHcC-r"
      },
      "outputs": [],
      "source": [
        "\n",
        "\n"
      ]
    },
    {
      "cell_type": "markdown",
      "metadata": {
        "id": "0YnYPKA9cC-s"
      },
      "source": [
        "## 3. Assessing the influence of the distractors\n",
        "Let's go back to our research question. So far what we have done is computing the proportion of CCW responses as a function of the angular displacement between the probe and the stimulus, and then fitting a statistical model that captures this relationship (the psychometric model). But all that really told us is that subjects seem to be the task appropriately, and the easier it is (the further away are the probe and the stimulus), the better they do. Reassuring, but perhaps not enough to make headlines... <br>\n",
        "Really, what we are interested in is the influence of distractor on the behavior. More specifically, our hypothesis is that the nearest distractor may have an attractive effect on the representation stored in working memory. In other words, if the distractor is located CW to the target, the memory of the target should drift towards CW, and so by contrast the probe will look more displaced to CCW than it actually is, which should increase the probability of CCW responses. Conversely, if it is located CCW to the target, it should decrase this probability (go back to the figure of the paradigm if you don't get this). Let's explore this idea using the tools of psychometric curves. <br>\n",
        "First, we need to define the angular distance between the target and the nearest distractor (to see whether it is located CW or CCW).\n",
        "**Add a column called *'dist_distractor'* to the dataframe that computes this angular distance.**\n",
        "(As always, we will try to use the functions that we have defined previously)\n",
        "**Check that the value is positive if the distractor is located CCW to the target, negative otherwise.**"
      ]
    },
    {
      "cell_type": "code",
      "execution_count": 65,
      "metadata": {
        "id": "YrPT_NREcC-s",
        "outputId": "168d63ea-dcd5-4a89-b13e-f38f093d901a",
        "colab": {
          "base_uri": "https://localhost:8080/",
          "height": 106
        }
      },
      "outputs": [
        {
          "output_type": "error",
          "ename": "SyntaxError",
          "evalue": "invalid syntax (ipython-input-1600022422.py, line 1)",
          "traceback": [
            "\u001b[0;36m  File \u001b[0;32m\"/tmp/ipython-input-1600022422.py\"\u001b[0;36m, line \u001b[0;32m1\u001b[0m\n\u001b[0;31m    df['dist_distractor'] = ???\u001b[0m\n\u001b[0m                            ^\u001b[0m\n\u001b[0;31mSyntaxError\u001b[0m\u001b[0;31m:\u001b[0m invalid syntax\n"
          ]
        }
      ],
      "source": [
        "df['dist_distractor'] = ???\n",
        "df.head(10)"
      ]
    },
    {
      "cell_type": "markdown",
      "metadata": {
        "id": "w-QvrWIXcC-s"
      },
      "source": [
        "Now **plot two psychometric curves** on the same figure:\n",
        "- one corresponding to all trials where the nearest distractor was located CW to the target\n",
        "- one corresponding to all trials where the nearest distractor was located CCW to the target\n",
        "Because we expect the effect of the distractor to be larger for longer delays, **restrict your analysis to long delays** (either 1 or 3 s).\n",
        "\n",
        "We will use the function *psycho_curve* defined below which computes the relevant values of the psychometric curves (displacements and corresponding mean and s.e.m. of CCW responses) from any arrays of displacement and responses. This way we compute the psychometric curve for a certain condition by providing as input to this function the arrays for trials in this condition. Take some time to understand how this function works, which variable it takes as input and which variable it outputs."
      ]
    },
    {
      "cell_type": "code",
      "execution_count": null,
      "metadata": {
        "id": "M6PkKS_kcC-s"
      },
      "outputs": [],
      "source": [
        "# function that computes (but does not plot) the psychometric curve for a sequence of trials\n",
        "def psycho_curve(resp, target_dist):\n",
        "    #the unique values of different probe_target distances shown\n",
        "    target_dist_unique = np.unique(target_dist)\n",
        "\n",
        "    #proportion of CCW responses\n",
        "    mean_resp =[np.mean(resp[target_dist==x]==-1) for x in target_dist_unique]\n",
        "\n",
        "    #sem of CCW proportion, for each different probe_target distance\n",
        "    sem_resp =[binary_error(resp[target_dist==x]==-1) for x in target_dist_unique]\n",
        "\n",
        "    # output the mean, sem and corresponding distance values\n",
        "    return mean_resp, sem_resp, target_dist_unique\n",
        "\n",
        "\n",
        "#array with the responses of the experiment (all trials)\n",
        "resp = df['response']\n",
        "\n",
        "#array with the target displacement (all trials)\n",
        "target_dist = df['displacement']\n",
        "\n",
        "# 1. Psychometric curve for trials with distractor located CW (and long delays)\n",
        "\n",
        "# create a boolean array that is true iff the nearest distractor is located CW to the target\n",
        "is_distractor_CW = ???\n",
        "\n",
        "# create a boolean array that is true iff the delay is long (1s or 3s, i.e. longer than 0.5 s)\n",
        "is_long_delay = ???\n",
        "\n",
        "# create a boolean array that is true if both conditions above are met\n",
        "# (what boolean operation is this?)\n",
        "is_both = ??? & ???\n",
        "\n",
        "#select the responses and target distances for trials that match both conditions\n",
        "resp_CW_longdelay = resp[is_both]\n",
        "target_dist_CW_longdelay = target_dist[is_both]\n",
        "\n",
        "#use the function we defined above to compute the psychometric curve for this set of trials\n",
        "mean_resp_CW, sem_resp_CW, target_dist_unique = psycho_curve(resp_CW_longdelay, target_dist_CW_longdelay)\n",
        "\n",
        "# 2. repeat the same operations for trials with CCW distractor (and again long delays)\n",
        "\n",
        "# create a boolean array that is true iff the nearest distractor is located CW to the target\n",
        "is_distractor_CCW = ???\n",
        "\n",
        "# create a boolean array that is true iff the delay is long (1s or 3s, i.e. longer than 0.5 s)\n",
        "is_long_delay = ???\n",
        "\n",
        "# create a boolean array that is true if both conditions above are met\n",
        "# (what boolean operation is this?)\n",
        "is_both = ???\n",
        "\n",
        "#select the responses and target distances for trials that match both conditions\n",
        "resp_CCW_longdelay = resp[is_both]\n",
        "target_dist_CCW_longdelay = target_dist[is_both]\n",
        "\n",
        "#use the function we defined above to compute the psychometric curve for this set of trials\n",
        "mean_resp_CCW, sem_resp_CCW, target_dist_unique = psycho_curve(resp_CCW_longdelay, target_dist_CCW_longdelay)\n",
        "\n",
        "\n",
        "# 3. plot everything  (use option 'label=' to define a label for the legend)\n",
        "\n",
        "plt.errorbar(dist_unique ,mean_resp_CW, yerr=sem_resp_CW, fmt=\"bo\", label=\"clockwise\");\n",
        "plt.errorbar(dist_unique ,mean_resp_CCW, yerr=sem_resp_CCW, fmt=\"ro\", label=\"counter-clockwise\");\n",
        "\n",
        "# we add a vertical line at d=0 (i.e. when the target is at the same angle as the probe)\n",
        "plt.axvline(x = 0, color = 'k', linestyle = '--')\n",
        "\n",
        "#and horizontal line a pCCW = 0.5 (i.e. equal probability of CW and CCW responses)\n",
        "plt.axhline(y = 0.5, color = 'k', linestyle = '--')\n",
        "\n",
        "plt.xlabel('target displacement (degrees)');\n",
        "plt.ylabel('proportion of CCW responses');\n",
        "plt.legend();"
      ]
    },
    {
      "cell_type": "markdown",
      "metadata": {
        "id": "xazeHLA4cC-t"
      },
      "source": [
        "**How do you interpret the figure?**"
      ]
    },
    {
      "cell_type": "markdown",
      "metadata": {
        "id": "bL_TWdctcC-t"
      },
      "source": []
    }
  ],
  "metadata": {
    "colab": {
      "name": "assignment5.ipynb",
      "provenance": [],
      "include_colab_link": true
    },
    "hide_input": false,
    "kernelspec": {
      "display_name": "Python 3 (ipykernel)",
      "language": "python",
      "name": "python3"
    },
    "language_info": {
      "codemirror_mode": {
        "name": "ipython",
        "version": 3
      },
      "file_extension": ".py",
      "mimetype": "text/x-python",
      "name": "python",
      "nbconvert_exporter": "python",
      "pygments_lexer": "ipython3",
      "version": "3.9.13"
    },
    "toc": {
      "base_numbering": 1,
      "nav_menu": {},
      "number_sections": true,
      "sideBar": true,
      "skip_h1_title": false,
      "title_cell": "Table of Contents",
      "title_sidebar": "Contents",
      "toc_cell": false,
      "toc_position": {},
      "toc_section_display": true,
      "toc_window_display": false
    },
    "varInspector": {
      "cols": {
        "lenName": 16,
        "lenType": 16,
        "lenVar": 40
      },
      "kernels_config": {
        "python": {
          "delete_cmd_postfix": "",
          "delete_cmd_prefix": "del ",
          "library": "var_list.py",
          "varRefreshCmd": "print(var_dic_list())"
        },
        "r": {
          "delete_cmd_postfix": ") ",
          "delete_cmd_prefix": "rm(",
          "library": "var_list.r",
          "varRefreshCmd": "cat(var_dic_list()) "
        }
      },
      "types_to_exclude": [
        "module",
        "function",
        "builtin_function_or_method",
        "instance",
        "_Feature"
      ],
      "window_display": false
    }
  },
  "nbformat": 4,
  "nbformat_minor": 0
}